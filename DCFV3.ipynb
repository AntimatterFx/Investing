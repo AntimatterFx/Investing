{
 "metadata": {
  "language_info": {
   "codemirror_mode": {
    "name": "ipython",
    "version": 3
   },
   "file_extension": ".py",
   "mimetype": "text/x-python",
   "name": "python",
   "nbconvert_exporter": "python",
   "pygments_lexer": "ipython3",
   "version": "3.8.8-final"
  },
  "orig_nbformat": 2,
  "kernelspec": {
   "name": "python3",
   "display_name": "Python 3.8.8 64-bit",
   "metadata": {
    "interpreter": {
     "hash": "fbd840525ca11af6562217ecf553d364857e653ef9cda8a3da522300be785858"
    }
   }
  }
 },
 "nbformat": 4,
 "nbformat_minor": 2,
 "cells": [
  {
   "cell_type": "code",
   "execution_count": 360,
   "metadata": {},
   "outputs": [],
   "source": [
    "import pandas as pd\n",
    "#import yfinance as yf\n",
    "from yahoofinancials import YahooFinancials as yfs\n",
    "import json\n",
    "import pandas as pd\n",
    "import requests\n",
    "import numpy as np"
   ]
  },
  {
   "cell_type": "code",
   "execution_count": 361,
   "metadata": {},
   "outputs": [],
   "source": [
    "ticker = 'AAPL'"
   ]
  },
  {
   "cell_type": "code",
   "execution_count": 362,
   "metadata": {},
   "outputs": [],
   "source": [
    "def Balance(ticker):\n",
    "    df = pd.read_html('https://www.marketwatch.com/investing/stock/{}/financials/balance-sheet/annual'.format(ticker))\n",
    "    df1 =  pd.concat([df[4],df[5]])\n",
    "    maindf = df1\n",
    "    maindf = maindf.set_index('{}'.format(maindf.columns[0])) #Makes first column the index \n",
    "    maindf = maindf.drop(columns = maindf.columns[len(maindf.columns)-1]) # Gets rid of last colsumn \n",
    "    maindf = maindf.replace('-',0)\n",
    "    \n",
    "    for i in maindf.columns:\n",
    "        #maindf[i] = maindf[i].replace('B','e9')\n",
    "        #print(i)\n",
    "        maindf['{}'.format(i)] = maindf['{}'.format(i)].str.replace('K','e3')\n",
    "        maindf['{}'.format(i)] = maindf['{}'.format(i)].str.replace('M','e6')\n",
    "        maindf['{}'.format(i)] = maindf['{}'.format(i)].str.replace('B','e9')\n",
    "        maindf['{}'.format(i)] = maindf['{}'.format(i)].str.replace('(','-')\n",
    "        maindf['{}'.format(i)] = maindf['{}'.format(i)].str.replace(')','')\n",
    "        maindf['{}'.format(i)] = maindf['{}'.format(i)].str.replace('%','')\n",
    "        maindf['{}'.format(i)] = maindf['{}'.format(i)].str.replace(',','')\n",
    "    \n",
    "    for i in maindf.columns: #converts everything to float \n",
    "        try:\n",
    "            maindf['{}'.format(i)] = maindf['{}'.format(i)].astype(float)\n",
    "        except:\n",
    "            print(i)\n",
    "\n",
    "    return maindf "
   ]
  },
  {
   "cell_type": "code",
   "execution_count": 363,
   "metadata": {},
   "outputs": [],
   "source": [
    "def Income(ticker):\n",
    "    #income\n",
    "    df = pd.read_html('https://www.marketwatch.com/investing/stock/{}/financials'.format(ticker))\n",
    "    df = df[4]\n",
    "    maindf = df\n",
    "    maindf = maindf.set_index('{}'.format(maindf.columns[0])) #Makes first column the index \n",
    "    maindf = maindf.drop(columns = maindf.columns[len(maindf.columns)-1]) # Gets rid of last colsumn \n",
    "    maindf = maindf.replace('-',0)\n",
    "\n",
    "    for i in maindf.columns:\n",
    "        #maindf[i] = maindf[i].replace('B','e9')\n",
    "        #print(i)\n",
    "        maindf['{}'.format(i)] = maindf['{}'.format(i)].str.replace('K','e3')\n",
    "        maindf['{}'.format(i)] = maindf['{}'.format(i)].str.replace('M','e6')\n",
    "        maindf['{}'.format(i)] = maindf['{}'.format(i)].str.replace('B','e9')\n",
    "        maindf['{}'.format(i)] = maindf['{}'.format(i)].str.replace('(','-')\n",
    "        maindf['{}'.format(i)] = maindf['{}'.format(i)].str.replace(')','')\n",
    "        maindf['{}'.format(i)] = maindf['{}'.format(i)].str.replace('%','')\n",
    "        maindf['{}'.format(i)] = maindf['{}'.format(i)].str.replace(',','')\n",
    "    \n",
    "    for i in maindf.columns: #converts everything to float \n",
    "        try:\n",
    "            maindf['{}'.format(i)] = maindf['{}'.format(i)].astype(float)\n",
    "        except:\n",
    "            print(i)\n",
    "    return(maindf) "
   ]
  },
  {
   "cell_type": "code",
   "execution_count": 378,
   "metadata": {},
   "outputs": [],
   "source": [
    "#cashflow\n",
    "def cash(ticker):\n",
    "    df = pd.read_html('https://www.marketwatch.com/investing/stock/{}/financials/cash-flow/annual'.format(ticker))\n",
    "    df1 =  pd.concat([df[4],df[5],df[6]])\n",
    "    maindf = df1\n",
    "    maindf = maindf.set_index('{}'.format(maindf.columns[0])) #Makes first column the index \n",
    "    maindf = maindf.drop(columns = maindf.columns[len(maindf.columns)-1]) # Gets rid of last colsumn \n",
    "    maindf = maindf.replace('-',0)\n",
    "    \n",
    "    for i in maindf.columns:\n",
    "        #maindf[i] = maindf[i].replace('B','e9')\n",
    "        #print(i)\n",
    "        maindf['{}'.format(i)] = maindf['{}'.format(i)].str.replace('K','e3')\n",
    "        maindf['{}'.format(i)] = maindf['{}'.format(i)].str.replace('M','e6')\n",
    "        maindf['{}'.format(i)] = maindf['{}'.format(i)].str.replace('B','e9')\n",
    "        maindf['{}'.format(i)] = maindf['{}'.format(i)].str.replace('(','-')\n",
    "        maindf['{}'.format(i)] = maindf['{}'.format(i)].str.replace(')','')\n",
    "        maindf['{}'.format(i)] = maindf['{}'.format(i)].str.replace('%','')\n",
    "        maindf['{}'.format(i)] = maindf['{}'.format(i)].str.replace(',','')\n",
    "    \n",
    "    for i in maindf.columns: #converts everything to float \n",
    "        try:\n",
    "            maindf['{}'.format(i)] = maindf['{}'.format(i)].astype(float)\n",
    "        except:\n",
    "            print(i)\n",
    "\n",
    "    return maindf "
   ]
  },
  {
   "cell_type": "code",
   "execution_count": 377,
   "metadata": {},
   "outputs": [
    {
     "output_type": "execute_result",
     "data": {
      "text/plain": [
       "Index(['Net Income before Extraordinaries  Net Income before Extraordinaries',\n",
       "       'Net Income Growth  Net Income Growth',\n",
       "       'Depreciation, Depletion & Amortization  Depreciation, Depletion & Amortization',\n",
       "       'Depreciation and Depletion  Depreciation and Depletion',\n",
       "       'Amortization of Intangible Assets  Amortization of Intangible Assets',\n",
       "       'Deferred Taxes & Investment Tax Credit  Deferred Taxes & Investment Tax Credit',\n",
       "       'Deferred Taxes  Deferred Taxes',\n",
       "       'Investment Tax Credit  Investment Tax Credit',\n",
       "       'Other Funds  Other Funds',\n",
       "       'Funds from Operations  Funds from Operations',\n",
       "       'Extraordinaries  Extraordinaries',\n",
       "       'Changes in Working Capital  Changes in Working Capital',\n",
       "       'Receivables  Receivables', 'Accounts Payable  Accounts Payable',\n",
       "       'Other Assets/Liabilities  Other Assets/Liabilities',\n",
       "       'Net Operating Cash Flow  Net Operating Cash Flow',\n",
       "       'Net Operating Cash Flow Growth  Net Operating Cash Flow Growth',\n",
       "       'Net Operating Cash Flow / Sales  Net Operating Cash Flow / Sales',\n",
       "       'Capital Expenditures  Capital Expenditures',\n",
       "       'Capital Expenditures Growth  Capital Expenditures Growth',\n",
       "       'Capital Expenditures / Sales  Capital Expenditures / Sales',\n",
       "       'Capital Expenditures (Fixed Assets)  Capital Expenditures (Fixed Assets)',\n",
       "       'Capital Expenditures (Other Assets)  Capital Expenditures (Other Assets)',\n",
       "       'Net Assets from Acquisitions  Net Assets from Acquisitions',\n",
       "       'Sale of Fixed Assets & Businesses  Sale of Fixed Assets & Businesses',\n",
       "       'Purchase/Sale of Investments  Purchase/Sale of Investments',\n",
       "       'Purchase of Investments  Purchase of Investments',\n",
       "       'Sale/Maturity of Investments  Sale/Maturity of Investments',\n",
       "       'Other Uses  Other Uses', 'Other Sources  Other Sources',\n",
       "       'Net Investing Cash Flow  Net Investing Cash Flow',\n",
       "       'Net Investing Cash Flow Growth  Net Investing Cash Flow Growth',\n",
       "       'Net Investing Cash Flow / Sales  Net Investing Cash Flow / Sales'],\n",
       "      dtype='object', name='Item  Item')"
      ]
     },
     "metadata": {},
     "execution_count": 377
    }
   ],
   "source": [
    "z.index"
   ]
  },
  {
   "cell_type": "code",
   "execution_count": 380,
   "metadata": {},
   "outputs": [
    {
     "output_type": "execute_result",
     "data": {
      "text/plain": [
       "               FCF    Net Income\n",
       "2016  5.309000e+10  4.569000e+10\n",
       "2017  5.115000e+10  4.835000e+10\n",
       "2018  6.412000e+10  5.953000e+10\n",
       "2019  5.890000e+10  5.526000e+10\n",
       "2020  7.337000e+10  5.741000e+10"
      ],
      "text/html": "<div>\n<style scoped>\n    .dataframe tbody tr th:only-of-type {\n        vertical-align: middle;\n    }\n\n    .dataframe tbody tr th {\n        vertical-align: top;\n    }\n\n    .dataframe thead th {\n        text-align: right;\n    }\n</style>\n<table border=\"1\" class=\"dataframe\">\n  <thead>\n    <tr style=\"text-align: right;\">\n      <th></th>\n      <th>FCF</th>\n      <th>Net Income</th>\n    </tr>\n  </thead>\n  <tbody>\n    <tr>\n      <th>2016</th>\n      <td>5.309000e+10</td>\n      <td>4.569000e+10</td>\n    </tr>\n    <tr>\n      <th>2017</th>\n      <td>5.115000e+10</td>\n      <td>4.835000e+10</td>\n    </tr>\n    <tr>\n      <th>2018</th>\n      <td>6.412000e+10</td>\n      <td>5.953000e+10</td>\n    </tr>\n    <tr>\n      <th>2019</th>\n      <td>5.890000e+10</td>\n      <td>5.526000e+10</td>\n    </tr>\n    <tr>\n      <th>2020</th>\n      <td>7.337000e+10</td>\n      <td>5.741000e+10</td>\n    </tr>\n  </tbody>\n</table>\n</div>"
     },
     "metadata": {},
     "execution_count": 380
    }
   ],
   "source": [
    "z = cash(ticker)\n",
    "\n",
    "#Free CashFlow\n",
    "FCF = z.loc[['Net Income before Extraordinaries  Net Income before Extraordinaries','Capital Expenditures  Capital Expenditures','Funds from Operations  Funds from Operations','Free Cash Flow  Free Cash Flow']]\n",
    "df = pd.DataFrame()\n",
    "df['FCF'] = FCF.loc['Free Cash Flow  Free Cash Flow'] \n",
    "df['Net Income'] = FCF.loc['Net Income before Extraordinaries  Net Income before Extraordinaries']\n",
    "minimum = (df['FCF']/df['Net Income']).min()\n",
    "df"
   ]
  },
  {
   "cell_type": "code",
   "execution_count": 366,
   "metadata": {},
   "outputs": [
    {
     "output_type": "execute_result",
     "data": {
      "text/plain": [
       "                                            2016          2017          2018  \\\n",
       "Item  Item                                                                     \n",
       "Net Income  Net Income              4.569000e+10  4.835000e+10  5.953000e+10   \n",
       "Sales/Revenue  Sales/Revenue        2.142300e+11  2.285700e+11  2.658100e+11   \n",
       "Pretax Income  Pretax Income        6.137000e+10  6.409000e+10  7.290000e+10   \n",
       "Income Tax  Income Tax              1.569000e+10  1.574000e+10  1.337000e+10   \n",
       "Interest Expense  Interest Expense  1.460000e+09  2.320000e+09  3.240000e+09   \n",
       "\n",
       "                                            2019          2020  \n",
       "Item  Item                                                      \n",
       "Net Income  Net Income              5.526000e+10  5.741000e+10  \n",
       "Sales/Revenue  Sales/Revenue        2.599700e+11  2.741500e+11  \n",
       "Pretax Income  Pretax Income        6.574000e+10  6.709000e+10  \n",
       "Income Tax  Income Tax              1.048000e+10  9.680000e+09  \n",
       "Interest Expense  Interest Expense  3.580000e+09  2.870000e+09  "
      ],
      "text/html": "<div>\n<style scoped>\n    .dataframe tbody tr th:only-of-type {\n        vertical-align: middle;\n    }\n\n    .dataframe tbody tr th {\n        vertical-align: top;\n    }\n\n    .dataframe thead th {\n        text-align: right;\n    }\n</style>\n<table border=\"1\" class=\"dataframe\">\n  <thead>\n    <tr style=\"text-align: right;\">\n      <th></th>\n      <th>2016</th>\n      <th>2017</th>\n      <th>2018</th>\n      <th>2019</th>\n      <th>2020</th>\n    </tr>\n    <tr>\n      <th>Item  Item</th>\n      <th></th>\n      <th></th>\n      <th></th>\n      <th></th>\n      <th></th>\n    </tr>\n  </thead>\n  <tbody>\n    <tr>\n      <th>Net Income  Net Income</th>\n      <td>4.569000e+10</td>\n      <td>4.835000e+10</td>\n      <td>5.953000e+10</td>\n      <td>5.526000e+10</td>\n      <td>5.741000e+10</td>\n    </tr>\n    <tr>\n      <th>Sales/Revenue  Sales/Revenue</th>\n      <td>2.142300e+11</td>\n      <td>2.285700e+11</td>\n      <td>2.658100e+11</td>\n      <td>2.599700e+11</td>\n      <td>2.741500e+11</td>\n    </tr>\n    <tr>\n      <th>Pretax Income  Pretax Income</th>\n      <td>6.137000e+10</td>\n      <td>6.409000e+10</td>\n      <td>7.290000e+10</td>\n      <td>6.574000e+10</td>\n      <td>6.709000e+10</td>\n    </tr>\n    <tr>\n      <th>Income Tax  Income Tax</th>\n      <td>1.569000e+10</td>\n      <td>1.574000e+10</td>\n      <td>1.337000e+10</td>\n      <td>1.048000e+10</td>\n      <td>9.680000e+09</td>\n    </tr>\n    <tr>\n      <th>Interest Expense  Interest Expense</th>\n      <td>1.460000e+09</td>\n      <td>2.320000e+09</td>\n      <td>3.240000e+09</td>\n      <td>3.580000e+09</td>\n      <td>2.870000e+09</td>\n    </tr>\n  </tbody>\n</table>\n</div>"
     },
     "metadata": {},
     "execution_count": 366
    }
   ],
   "source": [
    "x = Income(ticker)\n",
    "#income\n",
    "df1 = x.loc[['Net Income  Net Income','Sales/Revenue  Sales/Revenue','Pretax Income  Pretax Income','Income Tax  Income Tax','Interest Expense  Interest Expense']]\n",
    "df1"
   ]
  },
  {
   "cell_type": "code",
   "execution_count": 367,
   "metadata": {},
   "outputs": [],
   "source": [
    "#WACC = Wd * Rd * (1 - t) + We + Re\n",
    "INCOME2 = x.loc[['Pretax Income  Pretax Income','Income Tax  Income Tax']]\n",
    "t = x.loc['Pretax Income  Pretax Income']/ x.loc['Income Tax  Income Tax']\n",
    "t = t[-1]/ 100 \n",
    "\n",
    "\n",
    "bond = pd.read_html('https://finance.yahoo.com/bonds')\n",
    "Rf = float(bond[0]['Last Price'][2])\n",
    "try: \n",
    "    beta = float(yahoo_financials.get_beta())\n",
    "except:\n",
    "    beta = 0\n",
    "Rm = float(10.0)\n",
    "Ra = Rf + beta * (Rm - Rf)"
   ]
  },
  {
   "cell_type": "code",
   "execution_count": 368,
   "metadata": {},
   "outputs": [],
   "source": [
    "y = Balance(ticker)\n",
    "Balance2 = y.loc[['Long-Term Debt  Long-Term Debt','Short Term Debt  Short Term Debt']]\n",
    "Total_debt = Balance2.sum()[-1] \n",
    "Balance2 =   -(x.loc['Interest Expense  Interest Expense'][-1]) / Total_debt\n",
    "Rd = (1-Balance2) * t #  Rd * (1 - t)"
   ]
  },
  {
   "cell_type": "code",
   "execution_count": 369,
   "metadata": {},
   "outputs": [
    {
     "output_type": "execute_result",
     "data": {
      "text/plain": [
       "0.22191181367549667"
      ]
     },
     "metadata": {},
     "execution_count": 369
    }
   ],
   "source": [
    "\n",
    "yahoo_financials = yfs(ticker)\n",
    "stock = yahoo_financials.get_key_statistics_data()[ticker]\n",
    "Market_Cap = yahoo_financials.get_market_cap() # MarketCap\n",
    "Total =  Total_debt + Market_Cap \n",
    "Wd = Total_debt/ Total \n",
    "We = Market_Cap/ Total \n",
    "Re = Ra\n",
    "Required_Rate = (Wd * Rd + We * Re)/100\n",
    "Required_Rate"
   ]
  },
  {
   "cell_type": "code",
   "execution_count": 373,
   "metadata": {},
   "outputs": [
    {
     "output_type": "stream",
     "name": "stdout",
     "text": [
      "[82758994317.08072, 101212518699.19608, 123780792963.56133, 151381320251.73807]\nAAPL\n36.76087026031092\n121.03\n0.49437258525113387\n0.22191181367549667\n"
     ]
    }
   ],
   "source": [
    "def DCF_VALUE():\n",
    "    outstanding_shares = stock['sharesOutstanding']\n",
    "\n",
    "    Required_rate = Required_Rate\n",
    "    Pre_rate = .025\n",
    "    Cashflowgrowthrate = minimum\n",
    "\n",
    "    years = [1,2,3,4]\n",
    "    freecash_flow = df['FCF'].values\n",
    "\n",
    "    terminalvalue = freecash_flow[-1] * (1+Pre_rate)/(Required_rate - Pre_rate)\n",
    "\n",
    "    futurefreecashflow = []\n",
    "    discountfactor = []\n",
    "    discountfuturefreecashflow = []\n",
    "    for  year in years:\n",
    "        cashflow = freecash_flow[-1] * (1+ Cashflowgrowthrate) ** year \n",
    "        futurefreecashflow.append(cashflow)\n",
    "        discountfactor.append((1+ Required_rate)**year)\n",
    "\n",
    "\n",
    "    for i in range(0,len(years)):\n",
    "        discountfuturefreecashflow.append(futurefreecashflow[i]/discountfactor[i])\n",
    "\n",
    "    print(discountfuturefreecashflow)\n",
    "    dis = terminalvalue/(1+Required_rate)**len(years)\n",
    "    discountfuturefreecashflow.append(dis)\n",
    "    value = sum(discountfuturefreecashflow)\n",
    "    fairvalue = value/outstanding_shares\n",
    "\n",
    "    print(ticker)\n",
    "    print(fairvalue)\n",
    "    print(yahoo_financials.get_current_price())\n",
    "\n",
    "    print(Cashflowgrowthrate)\n",
    "    print(Required_Rate)\n",
    "#print(stock.get_current_price())\n",
    "DCF_VALUE()"
   ]
  },
  {
   "cell_type": "code",
   "execution_count": 371,
   "metadata": {},
   "outputs": [],
   "source": [
    "#df = pd.read_html('https://www.marketwatch.com/investing/stock/sq/financials/balance-sheet/annual')"
   ]
  },
  {
   "cell_type": "code",
   "execution_count": 372,
   "metadata": {},
   "outputs": [
    {
     "output_type": "execute_result",
     "data": {
      "text/plain": [
       "               FCF    Net Income\n",
       "2016  5.179000e+10  4.569000e+10\n",
       "2017  5.635000e+10  4.835000e+10\n",
       "2018  2.943000e+10  5.953000e+10\n",
       "2019  6.238000e+10  5.526000e+10\n",
       "2020  6.767000e+10  5.741000e+10"
      ],
      "text/html": "<div>\n<style scoped>\n    .dataframe tbody tr th:only-of-type {\n        vertical-align: middle;\n    }\n\n    .dataframe tbody tr th {\n        vertical-align: top;\n    }\n\n    .dataframe thead th {\n        text-align: right;\n    }\n</style>\n<table border=\"1\" class=\"dataframe\">\n  <thead>\n    <tr style=\"text-align: right;\">\n      <th></th>\n      <th>FCF</th>\n      <th>Net Income</th>\n    </tr>\n  </thead>\n  <tbody>\n    <tr>\n      <th>2016</th>\n      <td>5.179000e+10</td>\n      <td>4.569000e+10</td>\n    </tr>\n    <tr>\n      <th>2017</th>\n      <td>5.635000e+10</td>\n      <td>4.835000e+10</td>\n    </tr>\n    <tr>\n      <th>2018</th>\n      <td>2.943000e+10</td>\n      <td>5.953000e+10</td>\n    </tr>\n    <tr>\n      <th>2019</th>\n      <td>6.238000e+10</td>\n      <td>5.526000e+10</td>\n    </tr>\n    <tr>\n      <th>2020</th>\n      <td>6.767000e+10</td>\n      <td>5.741000e+10</td>\n    </tr>\n  </tbody>\n</table>\n</div>"
     },
     "metadata": {},
     "execution_count": 372
    }
   ],
   "source": [
    "df"
   ]
  },
  {
   "cell_type": "code",
   "execution_count": null,
   "metadata": {},
   "outputs": [],
   "source": []
  }
 ]
}