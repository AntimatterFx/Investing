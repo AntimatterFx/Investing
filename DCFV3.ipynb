{
 "metadata": {
  "language_info": {
   "codemirror_mode": {
    "name": "ipython",
    "version": 3
   },
   "file_extension": ".py",
   "mimetype": "text/x-python",
   "name": "python",
   "nbconvert_exporter": "python",
   "pygments_lexer": "ipython3",
   "version": "3.8.8-final"
  },
  "orig_nbformat": 2,
  "kernelspec": {
   "name": "python3",
   "display_name": "Python 3.8.8 64-bit",
   "metadata": {
    "interpreter": {
     "hash": "fbd840525ca11af6562217ecf553d364857e653ef9cda8a3da522300be785858"
    }
   }
  }
 },
 "nbformat": 4,
 "nbformat_minor": 2,
 "cells": [
  {
   "cell_type": "code",
   "execution_count": 567,
   "metadata": {},
   "outputs": [],
   "source": [
    "import pandas as pd\n",
    "#import yfinance as yf\n",
    "from yahoofinancials import YahooFinancials as yfs\n",
    "import json\n",
    "import pandas as pd\n",
    "import requests\n",
    "import numpy as np"
   ]
  },
  {
   "cell_type": "code",
   "execution_count": 568,
   "metadata": {},
   "outputs": [],
   "source": [
    "ticker = 'JPM'"
   ]
  },
  {
   "cell_type": "code",
   "execution_count": 569,
   "metadata": {},
   "outputs": [],
   "source": [
    "def Balance(ticker):\n",
    "    df = pd.read_html('https://www.marketwatch.com/investing/stock/{}/financials/balance-sheet'.format(ticker))\n",
    "    df1 =  pd.concat([df[4],df[5]])\n",
    "    maindf = df1\n",
    "    maindf = maindf.set_index('{}'.format(maindf.columns[0])) #Makes first column the index \n",
    "    maindf = maindf.drop(columns = maindf.columns[len(maindf.columns)-1]) # Gets rid of last colsumn \n",
    "    maindf = maindf.replace('-',0)\n",
    "    \n",
    "    for i in maindf.columns:\n",
    "        #maindf[i] = maindf[i].replace('B','e9')\n",
    "        #print(i)\n",
    "        maindf['{}'.format(i)] = maindf['{}'.format(i)].str.replace('K','e3')\n",
    "        maindf['{}'.format(i)] = maindf['{}'.format(i)].str.replace('M','e6')\n",
    "        maindf['{}'.format(i)] = maindf['{}'.format(i)].str.replace('B','e9')\n",
    "        maindf['{}'.format(i)] = maindf['{}'.format(i)].str.replace('(','-')\n",
    "        maindf['{}'.format(i)] = maindf['{}'.format(i)].str.replace(')','')\n",
    "        maindf['{}'.format(i)] = maindf['{}'.format(i)].str.replace('%','')\n",
    "        maindf['{}'.format(i)] = maindf['{}'.format(i)].str.replace(',','')\n",
    "    \n",
    "    for i in maindf.columns: #converts everything to float \n",
    "        try:\n",
    "            maindf['{}'.format(i)] = maindf['{}'.format(i)].astype(float)\n",
    "        except:\n",
    "            print(i)\n",
    "\n",
    "    return maindf "
   ]
  },
  {
   "cell_type": "code",
   "execution_count": 570,
   "metadata": {},
   "outputs": [],
   "source": [
    "def Income(ticker):\n",
    "    #income\n",
    "    df = pd.read_html('https://www.marketwatch.com/investing/stock/{}/financials'.format(ticker))\n",
    "    df = df[4]\n",
    "    maindf = df\n",
    "    maindf = maindf.set_index('{}'.format(maindf.columns[0])) #Makes first column the index \n",
    "    maindf = maindf.drop(columns = maindf.columns[len(maindf.columns)-1]) # Gets rid of last colsumn \n",
    "    maindf = maindf.replace('-',0)\n",
    "\n",
    "    for i in maindf.columns:\n",
    "        #maindf[i] = maindf[i].replace('B','e9')\n",
    "        #print(i)\n",
    "        maindf['{}'.format(i)] = maindf['{}'.format(i)].str.replace('K','e3')\n",
    "        maindf['{}'.format(i)] = maindf['{}'.format(i)].str.replace('M','e6')\n",
    "        maindf['{}'.format(i)] = maindf['{}'.format(i)].str.replace('B','e9')\n",
    "        maindf['{}'.format(i)] = maindf['{}'.format(i)].str.replace('(','-')\n",
    "        maindf['{}'.format(i)] = maindf['{}'.format(i)].str.replace(')','')\n",
    "        maindf['{}'.format(i)] = maindf['{}'.format(i)].str.replace('%','')\n",
    "        maindf['{}'.format(i)] = maindf['{}'.format(i)].str.replace(',','')\n",
    "    \n",
    "    for i in maindf.columns: #converts everything to float \n",
    "        try:\n",
    "            maindf['{}'.format(i)] = maindf['{}'.format(i)].astype(float)\n",
    "        except:\n",
    "            print(i)\n",
    "    return(maindf) "
   ]
  },
  {
   "cell_type": "code",
   "execution_count": 571,
   "metadata": {},
   "outputs": [],
   "source": [
    "#cashflow\n",
    "def cash(ticker):\n",
    "    df = pd.read_html('https://www.marketwatch.com/investing/stock/{}/financials/cash-flow'.format(ticker))\n",
    "    df1 =  pd.concat([df[4],df[5],df[6]])\n",
    "    maindf = df1\n",
    "    maindf = maindf.set_index('{}'.format(maindf.columns[0])) #Makes first column the index \n",
    "    maindf = maindf.drop(columns = maindf.columns[len(maindf.columns)-1]) # Gets rid of last colsumn \n",
    "    maindf = maindf.replace('-',0)\n",
    "    \n",
    "    for i in maindf.columns:\n",
    "        #maindf[i] = maindf[i].replace('B','e9')\n",
    "        #print(i)\n",
    "        maindf['{}'.format(i)] = maindf['{}'.format(i)].str.replace('K','e3')\n",
    "        maindf['{}'.format(i)] = maindf['{}'.format(i)].str.replace('M','e6')\n",
    "        maindf['{}'.format(i)] = maindf['{}'.format(i)].str.replace('B','e9')\n",
    "        maindf['{}'.format(i)] = maindf['{}'.format(i)].str.replace('(','-')\n",
    "        maindf['{}'.format(i)] = maindf['{}'.format(i)].str.replace(')','')\n",
    "        maindf['{}'.format(i)] = maindf['{}'.format(i)].str.replace('%','')\n",
    "        maindf['{}'.format(i)] = maindf['{}'.format(i)].str.replace(',','')\n",
    "    \n",
    "    for i in maindf.columns: #converts everything to float \n",
    "        try:\n",
    "            maindf['{}'.format(i)] = maindf['{}'.format(i)].astype(float)\n",
    "        except:\n",
    "            print(i)\n",
    "\n",
    "    return maindf "
   ]
  },
  {
   "cell_type": "code",
   "execution_count": 572,
   "metadata": {},
   "outputs": [],
   "source": [
    "z = cash(ticker)\n",
    "\n",
    "#Free CashFlow\n",
    "#FCF = z.loc[['Net Income before Extraordinaries  Net Income before Extraordinaries','Capital Expenditures  Capital Expenditures','Funds from Operations  Funds from Operations','Free Cash Flow  Free Cash Flow']]\n",
    "df = pd.DataFrame()\n",
    "df['FCF'] = FCF.loc['Free Cash Flow  Free Cash Flow'] \n",
    "df['Net Income'] = FCF.loc['Net Income before Extraordinaries  Net Income before Extraordinaries']\n",
    "minimum = (df['FCF']/df['Net Income']).min()\n",
    "#df"
   ]
  },
  {
   "cell_type": "code",
   "execution_count": 573,
   "metadata": {},
   "outputs": [
    {
     "output_type": "error",
     "ename": "KeyError",
     "evalue": "\"Passing list-likes to .loc or [] with any missing labels is no longer supported. The following labels were missing: Index(['Income Tax  Income Tax'], dtype='object', name='Item  Item'). See https://pandas.pydata.org/pandas-docs/stable/user_guide/indexing.html#deprecate-loc-reindex-listlike\"",
     "traceback": [
      "\u001b[1;31m---------------------------------------------------------------------------\u001b[0m",
      "\u001b[1;31mKeyError\u001b[0m                                  Traceback (most recent call last)",
      "\u001b[1;32m<ipython-input-573-88186a5be161>\u001b[0m in \u001b[0;36m<module>\u001b[1;34m\u001b[0m\n\u001b[0;32m      1\u001b[0m \u001b[1;31m#WACC = Wd * Rd * (1 - t) + We + Re\u001b[0m\u001b[1;33m\u001b[0m\u001b[1;33m\u001b[0m\u001b[1;33m\u001b[0m\u001b[0m\n\u001b[0;32m      2\u001b[0m \u001b[0mx\u001b[0m \u001b[1;33m=\u001b[0m \u001b[0mIncome\u001b[0m\u001b[1;33m(\u001b[0m\u001b[0mticker\u001b[0m\u001b[1;33m)\u001b[0m\u001b[1;33m\u001b[0m\u001b[1;33m\u001b[0m\u001b[0m\n\u001b[1;32m----> 3\u001b[1;33m \u001b[0mINCOME2\u001b[0m \u001b[1;33m=\u001b[0m \u001b[0mx\u001b[0m\u001b[1;33m.\u001b[0m\u001b[0mloc\u001b[0m\u001b[1;33m[\u001b[0m\u001b[1;33m[\u001b[0m\u001b[1;34m'Pretax Income  Pretax Income'\u001b[0m\u001b[1;33m,\u001b[0m\u001b[1;34m'Income Tax  Income Tax'\u001b[0m\u001b[1;33m]\u001b[0m\u001b[1;33m]\u001b[0m\u001b[1;33m\u001b[0m\u001b[1;33m\u001b[0m\u001b[0m\n\u001b[0m\u001b[0;32m      4\u001b[0m \u001b[0mt\u001b[0m \u001b[1;33m=\u001b[0m \u001b[0mx\u001b[0m\u001b[1;33m.\u001b[0m\u001b[0mloc\u001b[0m\u001b[1;33m[\u001b[0m\u001b[1;34m'Pretax Income  Pretax Income'\u001b[0m\u001b[1;33m]\u001b[0m\u001b[1;33m/\u001b[0m \u001b[0mx\u001b[0m\u001b[1;33m.\u001b[0m\u001b[0mloc\u001b[0m\u001b[1;33m[\u001b[0m\u001b[1;34m'Income Tax  Income Tax'\u001b[0m\u001b[1;33m]\u001b[0m\u001b[1;33m\u001b[0m\u001b[1;33m\u001b[0m\u001b[0m\n\u001b[0;32m      5\u001b[0m \u001b[0mt\u001b[0m \u001b[1;33m=\u001b[0m \u001b[0mt\u001b[0m\u001b[1;33m[\u001b[0m\u001b[1;33m-\u001b[0m\u001b[1;36m1\u001b[0m\u001b[1;33m]\u001b[0m\u001b[1;33m/\u001b[0m \u001b[1;36m100\u001b[0m\u001b[1;33m\u001b[0m\u001b[1;33m\u001b[0m\u001b[0m\n",
      "\u001b[1;32m~\\AppData\\Local\\Packages\\PythonSoftwareFoundation.Python.3.8_qbz5n2kfra8p0\\LocalCache\\local-packages\\Python38\\site-packages\\pandas\\core\\indexing.py\u001b[0m in \u001b[0;36m__getitem__\u001b[1;34m(self, key)\u001b[0m\n\u001b[0;32m    893\u001b[0m \u001b[1;33m\u001b[0m\u001b[0m\n\u001b[0;32m    894\u001b[0m             \u001b[0mmaybe_callable\u001b[0m \u001b[1;33m=\u001b[0m \u001b[0mcom\u001b[0m\u001b[1;33m.\u001b[0m\u001b[0mapply_if_callable\u001b[0m\u001b[1;33m(\u001b[0m\u001b[0mkey\u001b[0m\u001b[1;33m,\u001b[0m \u001b[0mself\u001b[0m\u001b[1;33m.\u001b[0m\u001b[0mobj\u001b[0m\u001b[1;33m)\u001b[0m\u001b[1;33m\u001b[0m\u001b[1;33m\u001b[0m\u001b[0m\n\u001b[1;32m--> 895\u001b[1;33m             \u001b[1;32mreturn\u001b[0m \u001b[0mself\u001b[0m\u001b[1;33m.\u001b[0m\u001b[0m_getitem_axis\u001b[0m\u001b[1;33m(\u001b[0m\u001b[0mmaybe_callable\u001b[0m\u001b[1;33m,\u001b[0m \u001b[0maxis\u001b[0m\u001b[1;33m=\u001b[0m\u001b[0maxis\u001b[0m\u001b[1;33m)\u001b[0m\u001b[1;33m\u001b[0m\u001b[1;33m\u001b[0m\u001b[0m\n\u001b[0m\u001b[0;32m    896\u001b[0m \u001b[1;33m\u001b[0m\u001b[0m\n\u001b[0;32m    897\u001b[0m     \u001b[1;32mdef\u001b[0m \u001b[0m_is_scalar_access\u001b[0m\u001b[1;33m(\u001b[0m\u001b[0mself\u001b[0m\u001b[1;33m,\u001b[0m \u001b[0mkey\u001b[0m\u001b[1;33m:\u001b[0m \u001b[0mTuple\u001b[0m\u001b[1;33m)\u001b[0m\u001b[1;33m:\u001b[0m\u001b[1;33m\u001b[0m\u001b[1;33m\u001b[0m\u001b[0m\n",
      "\u001b[1;32m~\\AppData\\Local\\Packages\\PythonSoftwareFoundation.Python.3.8_qbz5n2kfra8p0\\LocalCache\\local-packages\\Python38\\site-packages\\pandas\\core\\indexing.py\u001b[0m in \u001b[0;36m_getitem_axis\u001b[1;34m(self, key, axis)\u001b[0m\n\u001b[0;32m   1111\u001b[0m                     \u001b[1;32mraise\u001b[0m \u001b[0mValueError\u001b[0m\u001b[1;33m(\u001b[0m\u001b[1;34m\"Cannot index with multidimensional key\"\u001b[0m\u001b[1;33m)\u001b[0m\u001b[1;33m\u001b[0m\u001b[1;33m\u001b[0m\u001b[0m\n\u001b[0;32m   1112\u001b[0m \u001b[1;33m\u001b[0m\u001b[0m\n\u001b[1;32m-> 1113\u001b[1;33m                 \u001b[1;32mreturn\u001b[0m \u001b[0mself\u001b[0m\u001b[1;33m.\u001b[0m\u001b[0m_getitem_iterable\u001b[0m\u001b[1;33m(\u001b[0m\u001b[0mkey\u001b[0m\u001b[1;33m,\u001b[0m \u001b[0maxis\u001b[0m\u001b[1;33m=\u001b[0m\u001b[0maxis\u001b[0m\u001b[1;33m)\u001b[0m\u001b[1;33m\u001b[0m\u001b[1;33m\u001b[0m\u001b[0m\n\u001b[0m\u001b[0;32m   1114\u001b[0m \u001b[1;33m\u001b[0m\u001b[0m\n\u001b[0;32m   1115\u001b[0m             \u001b[1;31m# nested tuple slicing\u001b[0m\u001b[1;33m\u001b[0m\u001b[1;33m\u001b[0m\u001b[1;33m\u001b[0m\u001b[0m\n",
      "\u001b[1;32m~\\AppData\\Local\\Packages\\PythonSoftwareFoundation.Python.3.8_qbz5n2kfra8p0\\LocalCache\\local-packages\\Python38\\site-packages\\pandas\\core\\indexing.py\u001b[0m in \u001b[0;36m_getitem_iterable\u001b[1;34m(self, key, axis)\u001b[0m\n\u001b[0;32m   1051\u001b[0m \u001b[1;33m\u001b[0m\u001b[0m\n\u001b[0;32m   1052\u001b[0m         \u001b[1;31m# A collection of keys\u001b[0m\u001b[1;33m\u001b[0m\u001b[1;33m\u001b[0m\u001b[1;33m\u001b[0m\u001b[0m\n\u001b[1;32m-> 1053\u001b[1;33m         \u001b[0mkeyarr\u001b[0m\u001b[1;33m,\u001b[0m \u001b[0mindexer\u001b[0m \u001b[1;33m=\u001b[0m \u001b[0mself\u001b[0m\u001b[1;33m.\u001b[0m\u001b[0m_get_listlike_indexer\u001b[0m\u001b[1;33m(\u001b[0m\u001b[0mkey\u001b[0m\u001b[1;33m,\u001b[0m \u001b[0maxis\u001b[0m\u001b[1;33m,\u001b[0m \u001b[0mraise_missing\u001b[0m\u001b[1;33m=\u001b[0m\u001b[1;32mFalse\u001b[0m\u001b[1;33m)\u001b[0m\u001b[1;33m\u001b[0m\u001b[1;33m\u001b[0m\u001b[0m\n\u001b[0m\u001b[0;32m   1054\u001b[0m         return self.obj._reindex_with_indexers(\n\u001b[0;32m   1055\u001b[0m             \u001b[1;33m{\u001b[0m\u001b[0maxis\u001b[0m\u001b[1;33m:\u001b[0m \u001b[1;33m[\u001b[0m\u001b[0mkeyarr\u001b[0m\u001b[1;33m,\u001b[0m \u001b[0mindexer\u001b[0m\u001b[1;33m]\u001b[0m\u001b[1;33m}\u001b[0m\u001b[1;33m,\u001b[0m \u001b[0mcopy\u001b[0m\u001b[1;33m=\u001b[0m\u001b[1;32mTrue\u001b[0m\u001b[1;33m,\u001b[0m \u001b[0mallow_dups\u001b[0m\u001b[1;33m=\u001b[0m\u001b[1;32mTrue\u001b[0m\u001b[1;33m\u001b[0m\u001b[1;33m\u001b[0m\u001b[0m\n",
      "\u001b[1;32m~\\AppData\\Local\\Packages\\PythonSoftwareFoundation.Python.3.8_qbz5n2kfra8p0\\LocalCache\\local-packages\\Python38\\site-packages\\pandas\\core\\indexing.py\u001b[0m in \u001b[0;36m_get_listlike_indexer\u001b[1;34m(self, key, axis, raise_missing)\u001b[0m\n\u001b[0;32m   1264\u001b[0m             \u001b[0mkeyarr\u001b[0m\u001b[1;33m,\u001b[0m \u001b[0mindexer\u001b[0m\u001b[1;33m,\u001b[0m \u001b[0mnew_indexer\u001b[0m \u001b[1;33m=\u001b[0m \u001b[0max\u001b[0m\u001b[1;33m.\u001b[0m\u001b[0m_reindex_non_unique\u001b[0m\u001b[1;33m(\u001b[0m\u001b[0mkeyarr\u001b[0m\u001b[1;33m)\u001b[0m\u001b[1;33m\u001b[0m\u001b[1;33m\u001b[0m\u001b[0m\n\u001b[0;32m   1265\u001b[0m \u001b[1;33m\u001b[0m\u001b[0m\n\u001b[1;32m-> 1266\u001b[1;33m         \u001b[0mself\u001b[0m\u001b[1;33m.\u001b[0m\u001b[0m_validate_read_indexer\u001b[0m\u001b[1;33m(\u001b[0m\u001b[0mkeyarr\u001b[0m\u001b[1;33m,\u001b[0m \u001b[0mindexer\u001b[0m\u001b[1;33m,\u001b[0m \u001b[0maxis\u001b[0m\u001b[1;33m,\u001b[0m \u001b[0mraise_missing\u001b[0m\u001b[1;33m=\u001b[0m\u001b[0mraise_missing\u001b[0m\u001b[1;33m)\u001b[0m\u001b[1;33m\u001b[0m\u001b[1;33m\u001b[0m\u001b[0m\n\u001b[0m\u001b[0;32m   1267\u001b[0m         \u001b[1;32mreturn\u001b[0m \u001b[0mkeyarr\u001b[0m\u001b[1;33m,\u001b[0m \u001b[0mindexer\u001b[0m\u001b[1;33m\u001b[0m\u001b[1;33m\u001b[0m\u001b[0m\n\u001b[0;32m   1268\u001b[0m \u001b[1;33m\u001b[0m\u001b[0m\n",
      "\u001b[1;32m~\\AppData\\Local\\Packages\\PythonSoftwareFoundation.Python.3.8_qbz5n2kfra8p0\\LocalCache\\local-packages\\Python38\\site-packages\\pandas\\core\\indexing.py\u001b[0m in \u001b[0;36m_validate_read_indexer\u001b[1;34m(self, key, indexer, axis, raise_missing)\u001b[0m\n\u001b[0;32m   1319\u001b[0m \u001b[1;33m\u001b[0m\u001b[0m\n\u001b[0;32m   1320\u001b[0m             \u001b[1;32mwith\u001b[0m \u001b[0moption_context\u001b[0m\u001b[1;33m(\u001b[0m\u001b[1;34m\"display.max_seq_items\"\u001b[0m\u001b[1;33m,\u001b[0m \u001b[1;36m10\u001b[0m\u001b[1;33m,\u001b[0m \u001b[1;34m\"display.width\"\u001b[0m\u001b[1;33m,\u001b[0m \u001b[1;36m80\u001b[0m\u001b[1;33m)\u001b[0m\u001b[1;33m:\u001b[0m\u001b[1;33m\u001b[0m\u001b[1;33m\u001b[0m\u001b[0m\n\u001b[1;32m-> 1321\u001b[1;33m                 raise KeyError(\n\u001b[0m\u001b[0;32m   1322\u001b[0m                     \u001b[1;34m\"Passing list-likes to .loc or [] with any missing labels \"\u001b[0m\u001b[1;33m\u001b[0m\u001b[1;33m\u001b[0m\u001b[0m\n\u001b[0;32m   1323\u001b[0m                     \u001b[1;34m\"is no longer supported. \"\u001b[0m\u001b[1;33m\u001b[0m\u001b[1;33m\u001b[0m\u001b[0m\n",
      "\u001b[1;31mKeyError\u001b[0m: \"Passing list-likes to .loc or [] with any missing labels is no longer supported. The following labels were missing: Index(['Income Tax  Income Tax'], dtype='object', name='Item  Item'). See https://pandas.pydata.org/pandas-docs/stable/user_guide/indexing.html#deprecate-loc-reindex-listlike\""
     ]
    }
   ],
   "source": [
    "#WACC = Wd * Rd * (1 - t) + We + Re\n",
    "x = Income(ticker)\n",
    "INCOME2 = x.loc[['Pretax Income  Pretax Income','Income Tax  Income Tax']]\n",
    "t = x.loc['Pretax Income  Pretax Income']/ x.loc['Income Tax  Income Tax']\n",
    "t = t[-1]/ 100 \n",
    "\n",
    "\n",
    "bond = pd.read_html('https://finance.yahoo.com/bonds')\n",
    "Rf = float(bond[0]['Last Price'][2])\n",
    "try: \n",
    "    beta = float(yahoo_financials.get_beta())\n",
    "except:\n",
    "    beta = 0\n",
    "Rm = float(10.0)\n",
    "Ra = Rf + beta * (Rm - Rf)\n",
    "#print(Ra)\n",
    "#print(Rf)\n"
   ]
  },
  {
   "cell_type": "code",
   "execution_count": 551,
   "metadata": {},
   "outputs": [
    {
     "output_type": "display_data",
     "data": {
      "text/plain": "                                          2016          2017          2018  \\\nItem  Item                                                                   \nLong-Term Debt  Long-Term Debt    9.150000e+09  9.890000e+09  3.780000e+09   \nShort Term Debt  Short Term Debt           NaN           NaN           NaN   \n\n                                          2019          2020  \nItem  Item                                                    \nLong-Term Debt  Long-Term Debt    4.540000e+09  6.910000e+09  \nShort Term Debt  Short Term Debt           NaN           NaN  ",
      "text/html": "<div>\n<style scoped>\n    .dataframe tbody tr th:only-of-type {\n        vertical-align: middle;\n    }\n\n    .dataframe tbody tr th {\n        vertical-align: top;\n    }\n\n    .dataframe thead th {\n        text-align: right;\n    }\n</style>\n<table border=\"1\" class=\"dataframe\">\n  <thead>\n    <tr style=\"text-align: right;\">\n      <th></th>\n      <th>2016</th>\n      <th>2017</th>\n      <th>2018</th>\n      <th>2019</th>\n      <th>2020</th>\n    </tr>\n    <tr>\n      <th>Item  Item</th>\n      <th></th>\n      <th></th>\n      <th></th>\n      <th></th>\n      <th></th>\n    </tr>\n  </thead>\n  <tbody>\n    <tr>\n      <th>Long-Term Debt  Long-Term Debt</th>\n      <td>9.150000e+09</td>\n      <td>9.890000e+09</td>\n      <td>3.780000e+09</td>\n      <td>4.540000e+09</td>\n      <td>6.910000e+09</td>\n    </tr>\n    <tr>\n      <th>Short Term Debt  Short Term Debt</th>\n      <td>NaN</td>\n      <td>NaN</td>\n      <td>NaN</td>\n      <td>NaN</td>\n      <td>NaN</td>\n    </tr>\n  </tbody>\n</table>\n</div>"
     },
     "metadata": {}
    }
   ],
   "source": [
    "y = Balance(ticker)\n",
    "Balance2 = y.loc[['Long-Term Debt  Long-Term Debt','Short Term Debt  Short Term Debt']]\n",
    "#display(Balance2)\n",
    "Total_debt = Balance2.sum()[-1] \n",
    "try:\n",
    "    Balance2 =   (x.loc['Interest Expense  Interest Expense'][-1]) / Total_debt\n",
    "except:\n",
    "    Balance2 =   (x.loc['Interest Expense  Interest Expense'][-2]) / Total_debt\n",
    "#Balance2 =   -(x.loc['Interest Expense  Interest Expense'][-1]) / Total_debt\n",
    "Rd = (1-Balance2) * t #  Rd * (1 - t)"
   ]
  },
  {
   "cell_type": "code",
   "execution_count": 553,
   "metadata": {},
   "outputs": [
    {
     "output_type": "stream",
     "name": "stdout",
     "text": [
      "0.06574962379325071\n0.10344056233202399\n0.9342503762067493\n12.120703165\n"
     ]
    }
   ],
   "source": [
    "\n",
    "yahoo_financials = yfs(ticker)\n",
    "stock = yahoo_financials.get_key_statistics_data()[ticker]\n",
    "Market_Cap = yahoo_financials.get_market_cap() # MarketCap\n",
    "Total =  Total_debt + Market_Cap \n",
    "Wd = Total_debt/ Total \n",
    "We = Market_Cap/ Total \n",
    "Re = Ra\n",
    "Required_Rate = (Wd * Rd + We * Re)/100\n",
    "Required_Rate\n",
    "#print(Wd)\n",
    "#print(Rd)\n",
    "#print(We)\n",
    "#print(Re)"
   ]
  },
  {
   "cell_type": "code",
   "execution_count": 554,
   "metadata": {},
   "outputs": [
    {
     "output_type": "stream",
     "name": "stdout",
     "text": [
      "[76836096.65274847, 71129948.7810904, 65847561.680107325, 60957465.22410291]\nMU\n0.8062233257887842\n87.77\n0.030627306273062732\n0.11330572669849881\n"
     ]
    }
   ],
   "source": [
    "def DCF_VALUE():\n",
    "    outstanding_shares = stock['sharesOutstanding']\n",
    "\n",
    "    Required_rate = Required_Rate\n",
    "    Pre_rate = .025\n",
    "    Cashflowgrowthrate = minimum\n",
    "\n",
    "    years = [1,2,3,4]\n",
    "    freecash_flow = df['FCF'].values\n",
    "\n",
    "    terminalvalue = freecash_flow[-1] * (1+Pre_rate)/(Required_rate - Pre_rate)\n",
    "\n",
    "    futurefreecashflow = []\n",
    "    discountfactor = []\n",
    "    discountfuturefreecashflow = []\n",
    "    for  year in years:\n",
    "        cashflow = freecash_flow[-1] * (1+ Cashflowgrowthrate) ** year \n",
    "        futurefreecashflow.append(cashflow)\n",
    "        discountfactor.append((1+ Required_rate)**year)\n",
    "\n",
    "\n",
    "    for i in range(0,len(years)):\n",
    "        discountfuturefreecashflow.append(futurefreecashflow[i]/discountfactor[i])\n",
    "\n",
    "    print(discountfuturefreecashflow)\n",
    "    dis = terminalvalue/(1+Required_rate)**len(years)\n",
    "    discountfuturefreecashflow.append(dis)\n",
    "    value = sum(discountfuturefreecashflow)\n",
    "    fairvalue = value/outstanding_shares\n",
    "\n",
    "    print(ticker)\n",
    "    print(fairvalue)\n",
    "    print(yahoo_financials.get_current_price())\n",
    "\n",
    "    print(Cashflowgrowthrate)\n",
    "    print(Required_Rate)\n",
    "#print(stock.get_current_price())\n",
    "DCF_VALUE()"
   ]
  },
  {
   "cell_type": "code",
   "execution_count": 555,
   "metadata": {},
   "outputs": [],
   "source": [
    "#df = pd.read_html('https://www.marketwatch.com/investing/stock/sq/financials/balance-sheet/annual')"
   ]
  },
  {
   "cell_type": "code",
   "execution_count": 556,
   "metadata": {},
   "outputs": [
    {
     "output_type": "stream",
     "name": "stdout",
     "text": [
      "[79911627.90697674, 76938171.98485668, 74075356.28309457, 71319063.95628174]\nMU\n1.4091093791582523\n87.77\n0.035\n0.075\n"
     ]
    }
   ],
   "source": [
    "def DCF_VALUE_CON():\n",
    "    outstanding_shares = stock['sharesOutstanding']\n",
    "\n",
    "    Required_rate = .075\n",
    "    Pre_rate = .025\n",
    "    Cashflowgrowthrate = .035\n",
    "\n",
    "    years = [1,2,3,4]\n",
    "    freecash_flow = df['FCF'].values\n",
    "\n",
    "    terminalvalue = freecash_flow[-1] * (1+Pre_rate)/(Required_rate - Pre_rate)\n",
    "\n",
    "    futurefreecashflow = []\n",
    "    discountfactor = []\n",
    "    discountfuturefreecashflow = []\n",
    "    for  year in years:\n",
    "        cashflow = freecash_flow[-1] * (1+ Cashflowgrowthrate) ** year \n",
    "        futurefreecashflow.append(cashflow)\n",
    "        discountfactor.append((1+ Required_rate)**year)\n",
    "\n",
    "\n",
    "    for i in range(0,len(years)):\n",
    "        discountfuturefreecashflow.append(futurefreecashflow[i]/discountfactor[i])\n",
    "\n",
    "    print(discountfuturefreecashflow)\n",
    "    dis = terminalvalue/(1+Required_rate)**len(years)\n",
    "    discountfuturefreecashflow.append(dis)\n",
    "    value = sum(discountfuturefreecashflow)\n",
    "    fairvalue = value/outstanding_shares\n",
    "\n",
    "    print(ticker)\n",
    "    print(fairvalue)\n",
    "    print(yahoo_financials.get_current_price())\n",
    "\n",
    "    print(Cashflowgrowthrate)\n",
    "    print(Required_rate)\n",
    "#print(stock.get_current_price())\n",
    "DCF_VALUE_CON()"
   ]
  },
  {
   "cell_type": "code",
   "execution_count": 557,
   "metadata": {},
   "outputs": [
    {
     "output_type": "stream",
     "name": "stdout",
     "text": [
      "Wall time: 0 ns\n"
     ]
    }
   ],
   "source": [
    "%time "
   ]
  },
  {
   "cell_type": "code",
   "execution_count": null,
   "metadata": {},
   "outputs": [],
   "source": []
  }
 ]
}