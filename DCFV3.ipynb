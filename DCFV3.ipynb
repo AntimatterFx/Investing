{
 "metadata": {
  "language_info": {
   "codemirror_mode": {
    "name": "ipython",
    "version": 3
   },
   "file_extension": ".py",
   "mimetype": "text/x-python",
   "name": "python",
   "nbconvert_exporter": "python",
   "pygments_lexer": "ipython3",
   "version": "3.8.8-final"
  },
  "orig_nbformat": 2,
  "kernelspec": {
   "name": "python3",
   "display_name": "Python 3.8.8 64-bit",
   "metadata": {
    "interpreter": {
     "hash": "fbd840525ca11af6562217ecf553d364857e653ef9cda8a3da522300be785858"
    }
   }
  }
 },
 "nbformat": 4,
 "nbformat_minor": 2,
 "cells": [
  {
   "cell_type": "code",
   "execution_count": 1,
   "metadata": {},
   "outputs": [],
   "source": [
    "import pandas as pd\n",
    "#import yfinance as yf\n",
    "from yahoofinancials import YahooFinancials as yfs\n",
    "import json\n",
    "import pandas as pd\n",
    "import requests\n",
    "import numpy as np"
   ]
  },
  {
   "cell_type": "code",
   "execution_count": 136,
   "metadata": {},
   "outputs": [],
   "source": []
  },
  {
   "cell_type": "code",
   "execution_count": 137,
   "metadata": {},
   "outputs": [],
   "source": [
    "#df = pd.read_html('https://www.marketwatch.com/investing/stock/sq/financials/balance-sheet/annual')\n",
    "#df = df[4]\n",
    "maindf = df\n",
    "#maindf = maindf.set_index('{}'.format(maindf.columns[0]))\n"
   ]
  },
  {
   "cell_type": "code",
   "execution_count": 181,
   "metadata": {},
   "outputs": [],
   "source": [
    "def Balance():\n",
    "    ticker = 'sq'\n",
    "    df = pd.read_html('https://www.marketwatch.com/investing/stock/{}/financials/balance-sheet/annual'.format(ticker))\n",
    "    df1 =  pd.concat([df[4],df[5]])\n",
    "    maindf = df1\n",
    "    maindf = maindf.set_index('{}'.format(maindf.columns[0])) #Makes first column the index \n",
    "    maindf = maindf.drop(columns = maindf.columns[len(maindf.columns)-1]) # Gets rid of last colsumn \n",
    "    for i in maindf.columns:\n",
    "        #maindf[i] = maindf[i].replace('B','e9')\n",
    "        print(i)\n",
    "        maindf['{}'.format(i)] = maindf['{}'.format(i)].str.replace('M','e6')\n",
    "        maindf['{}'.format(i)] = maindf['{}'.format(i)].str.replace('B','e9')\n",
    "    return maindf "
   ]
  },
  {
   "cell_type": "code",
   "execution_count": 161,
   "metadata": {},
   "outputs": [],
   "source": [
    "def Income():\n",
    "    ticker = 'sq'\n",
    "    #income\n",
    "    df = pd.read_html('https://www.marketwatch.com/investing/stock/{}/financials'.format(ticker))\n",
    "    df = df[4]\n",
    "    maindf = df\n",
    "    maindf = maindf.set_index('{}'.format(maindf.columns[0])) #Makes first column the index \n",
    "    maindf = maindf.drop(columns = maindf.columns[len(maindf.columns)-1]) # Gets rid of last colsumn \n",
    "    for i in maindf.columns:\n",
    "        #maindf[i] = maindf[i].replace('B','e9')\n",
    "        print(i)\n",
    "        maindf['{}'.format(i)] = maindf['{}'.format(i)].str.replace('M','e6')\n",
    "        maindf['{}'.format(i)] = maindf['{}'.format(i)].str.replace('B','e9')\n",
    "        \n",
    "    return(maindf) "
   ]
  },
  {
   "cell_type": "code",
   "execution_count": 272,
   "metadata": {},
   "outputs": [],
   "source": [
    "#cashflow\n",
    "def cash():\n",
    "    df = pd.read_html('https://www.marketwatch.com/investing/stock/{}/financials/cash-flow/annual'.format(ticker))\n",
    "    df1 =  pd.concat([df[4],df[5]])\n",
    "    maindf = df1\n",
    "    maindf = maindf.set_index('{}'.format(maindf.columns[0])) #Makes first column the index \n",
    "    maindf = maindf.drop(columns = maindf.columns[len(maindf.columns)-1]) # Gets rid of last colsumn \n",
    "    maindf = maindf.replace('-',0)\n",
    "    \n",
    "    for i in maindf.columns:\n",
    "        #maindf[i] = maindf[i].replace('B','e9')\n",
    "        #print(i)\n",
    "        maindf['{}'.format(i)] = maindf['{}'.format(i)].str.replace('K','e3')\n",
    "        maindf['{}'.format(i)] = maindf['{}'.format(i)].str.replace('M','e6')\n",
    "        maindf['{}'.format(i)] = maindf['{}'.format(i)].str.replace('B','e9')\n",
    "        maindf['{}'.format(i)] = maindf['{}'.format(i)].str.replace('(','-')\n",
    "        maindf['{}'.format(i)] = maindf['{}'.format(i)].str.replace(')','')\n",
    "        maindf['{}'.format(i)] = maindf['{}'.format(i)].str.replace('%','')\n",
    "        maindf['{}'.format(i)] = maindf['{}'.format(i)].str.replace(',','')\n",
    "    \n",
    "    for i in maindf.columns: #converts everything to float \n",
    "        try:\n",
    "            maindf['{}'.format(i)] = maindf['{}'.format(i)].astype(float)\n",
    "        except:\n",
    "            print(i)\n",
    "\n",
    "    return maindf "
   ]
  },
  {
   "cell_type": "code",
   "execution_count": 273,
   "metadata": {},
   "outputs": [],
   "source": [
    "z = cash()\n",
    "\n",
    "#Free CashFlow\n",
    "FCF = z.loc[['Net Income before Extraordinaries  Net Income before Extraordinaries','Capital Expenditures  Capital Expenditures','Funds from Operations  Funds from Operations']]\n",
    "df = pd.DataFrame()\n",
    "df['FCF'] = FCF.loc['Funds from Operations  Funds from Operations'] + FCF.loc['Capital Expenditures  Capital Expenditures']\n",
    "df['Net Income'] = FCF.loc['Net Income before Extraordinaries  Net Income before Extraordinaries']\n",
    "minimum = (df['FCF']/df['Net Income']).min()"
   ]
  },
  {
   "cell_type": "code",
   "execution_count": 271,
   "metadata": {},
   "outputs": [
    {
     "output_type": "execute_result",
     "data": {
      "text/plain": [
       "              FCF   Net Income\n",
       "2016   30360000.0 -171590000.0\n",
       "2017  184260000.0  -62810000.0\n",
       "2018  278150000.0  -38450000.0\n",
       "2019  514050000.0  375450000.0\n",
       "2020  584110000.0  213110000.0"
      ],
      "text/html": "<div>\n<style scoped>\n    .dataframe tbody tr th:only-of-type {\n        vertical-align: middle;\n    }\n\n    .dataframe tbody tr th {\n        vertical-align: top;\n    }\n\n    .dataframe thead th {\n        text-align: right;\n    }\n</style>\n<table border=\"1\" class=\"dataframe\">\n  <thead>\n    <tr style=\"text-align: right;\">\n      <th></th>\n      <th>FCF</th>\n      <th>Net Income</th>\n    </tr>\n  </thead>\n  <tbody>\n    <tr>\n      <th>2016</th>\n      <td>30360000.0</td>\n      <td>-171590000.0</td>\n    </tr>\n    <tr>\n      <th>2017</th>\n      <td>184260000.0</td>\n      <td>-62810000.0</td>\n    </tr>\n    <tr>\n      <th>2018</th>\n      <td>278150000.0</td>\n      <td>-38450000.0</td>\n    </tr>\n    <tr>\n      <th>2019</th>\n      <td>514050000.0</td>\n      <td>375450000.0</td>\n    </tr>\n    <tr>\n      <th>2020</th>\n      <td>584110000.0</td>\n      <td>213110000.0</td>\n    </tr>\n  </tbody>\n</table>\n</div>"
     },
     "metadata": {},
     "execution_count": 271
    }
   ],
   "source": [
    "#df['FCF'] = FCF.loc['Funds from Operations  Funds from Operations'] + FCF.loc['Capital Expenditures  Capital Expenditures']\n",
    "df"
   ]
  },
  {
   "cell_type": "code",
   "execution_count": 180,
   "metadata": {},
   "outputs": [
    {
     "output_type": "execute_result",
     "data": {
      "text/plain": [
       "                                          2016       2017       2018  \\\n",
       "Item  Item                                                             \n",
       "Net Income  Net Income              (171.59e6)  (62.81e6)  (38.45e6)   \n",
       "Sales/Revenue  Sales/Revenue            1.71e9     2.21e9      3.3e9   \n",
       "Pretax Income  Pretax Income        (169.67e6)  (62.66e6)  (36.13e6)   \n",
       "Income Tax  Income Tax                  1.92e6       149K     2.33e6   \n",
       "Interest Expense  Interest Expense           -    10.05e6    17.98e6   \n",
       "\n",
       "                                        2019      2020  \n",
       "Item  Item                                              \n",
       "Net Income  Net Income              375.45e6  213.11e6  \n",
       "Sales/Revenue  Sales/Revenue          4.71e9     9.5e9  \n",
       "Pretax Income  Pretax Income        378.21e6  215.97e6  \n",
       "Income Tax  Income Tax                2.77e6    2.86e6  \n",
       "Interest Expense  Interest Expense   21.52e6   56.94e6  "
      ],
      "text/html": "<div>\n<style scoped>\n    .dataframe tbody tr th:only-of-type {\n        vertical-align: middle;\n    }\n\n    .dataframe tbody tr th {\n        vertical-align: top;\n    }\n\n    .dataframe thead th {\n        text-align: right;\n    }\n</style>\n<table border=\"1\" class=\"dataframe\">\n  <thead>\n    <tr style=\"text-align: right;\">\n      <th></th>\n      <th>2016</th>\n      <th>2017</th>\n      <th>2018</th>\n      <th>2019</th>\n      <th>2020</th>\n    </tr>\n    <tr>\n      <th>Item  Item</th>\n      <th></th>\n      <th></th>\n      <th></th>\n      <th></th>\n      <th></th>\n    </tr>\n  </thead>\n  <tbody>\n    <tr>\n      <th>Net Income  Net Income</th>\n      <td>(171.59e6)</td>\n      <td>(62.81e6)</td>\n      <td>(38.45e6)</td>\n      <td>375.45e6</td>\n      <td>213.11e6</td>\n    </tr>\n    <tr>\n      <th>Sales/Revenue  Sales/Revenue</th>\n      <td>1.71e9</td>\n      <td>2.21e9</td>\n      <td>3.3e9</td>\n      <td>4.71e9</td>\n      <td>9.5e9</td>\n    </tr>\n    <tr>\n      <th>Pretax Income  Pretax Income</th>\n      <td>(169.67e6)</td>\n      <td>(62.66e6)</td>\n      <td>(36.13e6)</td>\n      <td>378.21e6</td>\n      <td>215.97e6</td>\n    </tr>\n    <tr>\n      <th>Income Tax  Income Tax</th>\n      <td>1.92e6</td>\n      <td>149K</td>\n      <td>2.33e6</td>\n      <td>2.77e6</td>\n      <td>2.86e6</td>\n    </tr>\n    <tr>\n      <th>Interest Expense  Interest Expense</th>\n      <td>-</td>\n      <td>10.05e6</td>\n      <td>17.98e6</td>\n      <td>21.52e6</td>\n      <td>56.94e6</td>\n    </tr>\n  </tbody>\n</table>\n</div>"
     },
     "metadata": {},
     "execution_count": 180
    }
   ],
   "source": [
    "x = Income()\n",
    "#income\n",
    "df1 = x.loc[['Net Income  Net Income','Sales/Revenue  Sales/Revenue','Pretax Income  Pretax Income','Income Tax  Income Tax','Interest Expense  Interest Expense']]\n",
    "df1"
   ]
  },
  {
   "cell_type": "code",
   "execution_count": 182,
   "metadata": {},
   "outputs": [
    {
     "output_type": "stream",
     "name": "stdout",
     "text": [
      "2016\n2017\n2018\n2019\n2020\n"
     ]
    },
    {
     "output_type": "execute_result",
     "data": {
      "text/plain": [
       "Index(['Cash & Short Term Investments  Cash & Short Term Investments',\n",
       "       'Cash & Short Term Investments Growth  Cash & Short Term Investments Growth',\n",
       "       'Cash Only  Cash Only',\n",
       "       'Short-Term Investments  Short-Term Investments',\n",
       "       'Cash & ST Investments / Total Assets  Cash & ST Investments / Total Assets',\n",
       "       'Total Accounts Receivable  Total Accounts Receivable',\n",
       "       'Total Accounts Receivable Growth  Total Accounts Receivable Growth',\n",
       "       'Accounts Receivables, Net  Accounts Receivables, Net',\n",
       "       'Accounts Receivables, Gross  Accounts Receivables, Gross',\n",
       "       'Bad Debt/Doubtful Accounts  Bad Debt/Doubtful Accounts',\n",
       "       'Other Receivable  Other Receivable',\n",
       "       'Accounts Receivable Turnover  Accounts Receivable Turnover',\n",
       "       'Inventories  Inventories', 'Finished Goods  Finished Goods',\n",
       "       'Work in Progress  Work in Progress', 'Raw Materials  Raw Materials',\n",
       "       'Progress Payments & Other  Progress Payments & Other',\n",
       "       'Other Current Assets  Other Current Assets',\n",
       "       'Miscellaneous Current Assets  Miscellaneous Current Assets',\n",
       "       'Total Current Assets  Total Current Assets',\n",
       "       'Net Property, Plant & Equipment  Net Property, Plant & Equipment',\n",
       "       'Property, Plant & Equipment - Gross  Property, Plant & Equipment - Gross',\n",
       "       'Buildings  Buildings', 'Land & Improvements  Land & Improvements',\n",
       "       'Computer Software and Equipment  Computer Software and Equipment',\n",
       "       'Other Property, Plant & Equipment  Other Property, Plant & Equipment',\n",
       "       'Accumulated Depreciation  Accumulated Depreciation',\n",
       "       'Total Investments and Advances  Total Investments and Advances',\n",
       "       'Other Long-Term Investments  Other Long-Term Investments',\n",
       "       'Long-Term Note Receivables  Long-Term Note Receivables',\n",
       "       'Intangible Assets  Intangible Assets', 'Net Goodwill  Net Goodwill',\n",
       "       'Net Other Intangibles  Net Other Intangibles',\n",
       "       'Other Assets  Other Assets', 'Total Assets  Total Assets',\n",
       "       'Total Assets Growth  Total Assets Growth'],\n",
       "      dtype='object', name='Item  Item')"
      ]
     },
     "metadata": {},
     "execution_count": 182
    }
   ],
   "source": [
    "y = Balance()\n",
    "y.loc['Long-Term Debt  Long-Term Debt','Short Term Debt  Short Term Debt']"
   ]
  },
  {
   "cell_type": "code",
   "execution_count": 191,
   "metadata": {},
   "outputs": [
    {
     "output_type": "stream",
     "name": "stdout",
     "text": [
      "2016\n2017\n2018\n2019\n2020\n"
     ]
    },
    {
     "output_type": "execute_result",
     "data": {
      "text/plain": [
       "                                                        2016      2017  \\\n",
       "Item  Item                                                               \n",
       "Cash & Short Term Investments  Cash & Short Ter...  534.06e6  894.86e6   \n",
       "Cash & Short Term Investments Growth  Cash & Sh...         -    67.56%   \n",
       "Cash Only  Cash Only                                474.16e6  725.28e6   \n",
       "Short-Term Investments  Short-Term Investments        59.9e6  169.58e6   \n",
       "Cash & ST Investments / Total Assets  Cash & ST...    44.09%    40.91%   \n",
       "...                                                      ...       ...   \n",
       "Total Shareholders' Equity  Total Shareholders'...  576.15e6  786.33e6   \n",
       "Total Shareholders' Equity / Total Assets  Tota...    47.56%    35.95%   \n",
       "Accumulated Minority Interest  Accumulated Mino...         -         -   \n",
       "Total Equity  Total Equity                          576.15e6  786.33e6   \n",
       "Liabilities & Shareholders' Equity  Liabilities...    1.21e9    2.19e9   \n",
       "\n",
       "                                                        2018      2019  \\\n",
       "Item  Item                                                               \n",
       "Cash & Short Term Investments  Cash & Short Ter...    1.16e9    1.58e9   \n",
       "Cash & Short Term Investments Growth  Cash & Sh...    29.41%    36.31%   \n",
       "Cash Only  Cash Only                                617.01e6    1.09e9   \n",
       "Short-Term Investments  Short-Term Investments      540.99e6  492.46e6   \n",
       "Cash & ST Investments / Total Assets  Cash & ST...    35.29%    34.68%   \n",
       "...                                                      ...       ...   \n",
       "Total Shareholders' Equity  Total Shareholders'...    1.12e9    1.72e9   \n",
       "Total Shareholders' Equity / Total Assets  Tota...    34.15%    37.68%   \n",
       "Accumulated Minority Interest  Accumulated Mino...         -         -   \n",
       "Total Equity  Total Equity                            1.12e9    1.72e9   \n",
       "Liabilities & Shareholders' Equity  Liabilities...    3.28e9    4.55e9   \n",
       "\n",
       "                                                        2020  \n",
       "Item  Item                                                    \n",
       "Cash & Short Term Investments  Cash & Short Ter...    3.88e9  \n",
       "Cash & Short Term Investments Growth  Cash & Sh...   146.03%  \n",
       "Cash Only  Cash Only                                  3.19e9  \n",
       "Short-Term Investments  Short-Term Investments      695.11e6  \n",
       "Cash & ST Investments / Total Assets  Cash & ST...    39.35%  \n",
       "...                                                      ...  \n",
       "Total Shareholders' Equity  Total Shareholders'...    2.68e9  \n",
       "Total Shareholders' Equity / Total Assets  Tota...    27.17%  \n",
       "Accumulated Minority Interest  Accumulated Mino...         -  \n",
       "Total Equity  Total Equity                            2.68e9  \n",
       "Liabilities & Shareholders' Equity  Liabilities...    9.87e9  \n",
       "\n",
       "[79 rows x 5 columns]"
      ],
      "text/html": "<div>\n<style scoped>\n    .dataframe tbody tr th:only-of-type {\n        vertical-align: middle;\n    }\n\n    .dataframe tbody tr th {\n        vertical-align: top;\n    }\n\n    .dataframe thead th {\n        text-align: right;\n    }\n</style>\n<table border=\"1\" class=\"dataframe\">\n  <thead>\n    <tr style=\"text-align: right;\">\n      <th></th>\n      <th>2016</th>\n      <th>2017</th>\n      <th>2018</th>\n      <th>2019</th>\n      <th>2020</th>\n    </tr>\n    <tr>\n      <th>Item  Item</th>\n      <th></th>\n      <th></th>\n      <th></th>\n      <th></th>\n      <th></th>\n    </tr>\n  </thead>\n  <tbody>\n    <tr>\n      <th>Cash &amp; Short Term Investments  Cash &amp; Short Term Investments</th>\n      <td>534.06e6</td>\n      <td>894.86e6</td>\n      <td>1.16e9</td>\n      <td>1.58e9</td>\n      <td>3.88e9</td>\n    </tr>\n    <tr>\n      <th>Cash &amp; Short Term Investments Growth  Cash &amp; Short Term Investments Growth</th>\n      <td>-</td>\n      <td>67.56%</td>\n      <td>29.41%</td>\n      <td>36.31%</td>\n      <td>146.03%</td>\n    </tr>\n    <tr>\n      <th>Cash Only  Cash Only</th>\n      <td>474.16e6</td>\n      <td>725.28e6</td>\n      <td>617.01e6</td>\n      <td>1.09e9</td>\n      <td>3.19e9</td>\n    </tr>\n    <tr>\n      <th>Short-Term Investments  Short-Term Investments</th>\n      <td>59.9e6</td>\n      <td>169.58e6</td>\n      <td>540.99e6</td>\n      <td>492.46e6</td>\n      <td>695.11e6</td>\n    </tr>\n    <tr>\n      <th>Cash &amp; ST Investments / Total Assets  Cash &amp; ST Investments / Total Assets</th>\n      <td>44.09%</td>\n      <td>40.91%</td>\n      <td>35.29%</td>\n      <td>34.68%</td>\n      <td>39.35%</td>\n    </tr>\n    <tr>\n      <th>...</th>\n      <td>...</td>\n      <td>...</td>\n      <td>...</td>\n      <td>...</td>\n      <td>...</td>\n    </tr>\n    <tr>\n      <th>Total Shareholders' Equity  Total Shareholders' Equity</th>\n      <td>576.15e6</td>\n      <td>786.33e6</td>\n      <td>1.12e9</td>\n      <td>1.72e9</td>\n      <td>2.68e9</td>\n    </tr>\n    <tr>\n      <th>Total Shareholders' Equity / Total Assets  Total Shareholders' Equity / Total Assets</th>\n      <td>47.56%</td>\n      <td>35.95%</td>\n      <td>34.15%</td>\n      <td>37.68%</td>\n      <td>27.17%</td>\n    </tr>\n    <tr>\n      <th>Accumulated Minority Interest  Accumulated Minority Interest</th>\n      <td>-</td>\n      <td>-</td>\n      <td>-</td>\n      <td>-</td>\n      <td>-</td>\n    </tr>\n    <tr>\n      <th>Total Equity  Total Equity</th>\n      <td>576.15e6</td>\n      <td>786.33e6</td>\n      <td>1.12e9</td>\n      <td>1.72e9</td>\n      <td>2.68e9</td>\n    </tr>\n    <tr>\n      <th>Liabilities &amp; Shareholders' Equity  Liabilities &amp; Shareholders' Equity</th>\n      <td>1.21e9</td>\n      <td>2.19e9</td>\n      <td>3.28e9</td>\n      <td>4.55e9</td>\n      <td>9.87e9</td>\n    </tr>\n  </tbody>\n</table>\n<p>79 rows × 5 columns</p>\n</div>"
     },
     "metadata": {},
     "execution_count": 191
    }
   ],
   "source": [
    "ticker = 'sq'\n",
    "df = pd.read_html('https://www.marketwatch.com/investing/stock/{}/financials/balance-sheet/annual'.format(ticker))\n",
    "df1 =  pd.concat([df[4],df[5]])\n",
    "maindf = df1\n",
    "maindf = maindf.set_index('{}'.format(maindf.columns[0])) #Makes first column the index \n",
    "maindf = maindf.drop(columns = maindf.columns[len(maindf.columns)-1]) # Gets rid of last colsumn \n",
    "for i in maindf.columns:\n",
    "    #maindf[i] = maindf[i].replace('B','e9')\n",
    "    print(i)\n",
    "    maindf['{}'.format(i)] = maindf['{}'.format(i)].str.replace('M','e6')\n",
    "    maindf['{}'.format(i)] = maindf['{}'.format(i)].str.replace('B','e9')\n",
    "maindf"
   ]
  },
  {
   "cell_type": "code",
   "execution_count": 185,
   "metadata": {},
   "outputs": [],
   "source": [
    "df = pd.read_html('https://www.marketwatch.com/investing/stock/{}/financials/balance-sheet/annual'.format(ticker))"
   ]
  },
  {
   "cell_type": "code",
   "execution_count": 193,
   "metadata": {},
   "outputs": [
    {
     "output_type": "execute_result",
     "data": {
      "text/plain": [
       "[    0          1         2       3       4   5\n",
       " 0 NaN        Dow  32778.64  293.05   0.90% NaN\n",
       " 1 NaN    S&P 500   3943.34    4.00   0.10% NaN\n",
       " 2 NaN     Nasdaq  13319.86  -78.81  -0.59% NaN\n",
       " 3 NaN  GlobalDow   3848.52   22.27   0.58% NaN\n",
       " 4 NaN       Gold   1723.80    4.00   0.23% NaN\n",
       " 5 NaN        Oil     66.28    0.67   1.02% NaN,\n",
       "      Close   Chg  Chg %\n",
       " 0  $242.11  0.39  0.16%,\n",
       " Empty DataFrame\n",
       " Columns: [Unnamed: 0, Symbol  Company, Price  Chg/Chg %]\n",
       " Index: [],\n",
       "     0   1   2\n",
       " 0 NaN NaN NaN,\n",
       "                                            Item  Item       2016       2017  \\\n",
       " 0   Net Income before Extraordinaries  Net Income ...  (171.59M)   (62.81M)   \n",
       " 1                Net Income Growth  Net Income Growth          -     63.39%   \n",
       " 2   Depreciation, Depletion & Amortization  Deprec...     37.75M     37.28M   \n",
       " 3   Depreciation and Depletion  Depreciation and D...     28.87M     29.66M   \n",
       " 4   Amortization of Intangible Assets  Amortizatio...      8.88M      7.62M   \n",
       " 5   Deferred Taxes & Investment Tax Credit  Deferr...        58K    (1.39M)   \n",
       " 6                      Deferred Taxes  Deferred Taxes        58K    (1.39M)   \n",
       " 7        Investment Tax Credit  Investment Tax Credit          -          -   \n",
       " 8                            Other Funds  Other Funds    189.97M    237.28M   \n",
       " 9        Funds from Operations  Funds from Operations     56.19M    210.36M   \n",
       " 10                   Extraordinaries  Extraordinaries          -          -   \n",
       " 11  Changes in Working Capital  Changes in Working...   (33.05M)   (82.65M)   \n",
       " 12                           Receivables  Receivables  (177.66M)  (305.83M)   \n",
       " 13                 Accounts Payable  Accounts Payable    242.47M    365.42M   \n",
       " 14  Other Assets/Liabilities  Other Assets/Liabili...   (97.46M)  (154.44M)   \n",
       " 15   Net Operating Cash Flow  Net Operating Cash Flow     23.13M    127.71M   \n",
       " 16  Net Operating Cash Flow Growth  Net Operating ...          -    452.12%   \n",
       " 17  Net Operating Cash Flow / Sales  Net Operating...      1.35%      5.77%   \n",
       " \n",
       "          2018       2019       2020  5-year trend  \n",
       " 0    (38.45M)    375.45M    213.11M           NaN  \n",
       " 1      38.78%  1,076.38%    -43.24%           NaN  \n",
       " 2      60.96M    105.29M    154.47M           NaN  \n",
       " 3      47.86M     90.29M    135.23M           NaN  \n",
       " 4       13.1M        15M     19.24M           NaN  \n",
       " 5      (646K)    (1.38M)    (8.02M)           NaN  \n",
       " 6      (646K)    (1.38M)    (8.02M)           NaN  \n",
       " 7           -          -          -           NaN  \n",
       " 8     319.07M     97.18M    362.95M           NaN  \n",
       " 9     340.94M    576.55M    722.51M           NaN  \n",
       " 10          -          -          -           NaN  \n",
       " 11   (45.86M)  (110.85M)   (340.9M)           NaN  \n",
       " 12     245.8M  (248.27M)  (473.87M)           NaN  \n",
       " 13   (45.05M)    565.49M      1.88B           NaN  \n",
       " 14  (253.79M)  (428.07M)    (1.74B)           NaN  \n",
       " 15    295.08M     465.7M     381.6M           NaN  \n",
       " 16    131.05%     57.82%    -18.06%           NaN  \n",
       " 17      8.95%      9.88%      4.02%           NaN  ,\n",
       "                                            Item  Item       2016       2017  \\\n",
       " 0          Capital Expenditures  Capital Expenditures   (25.83M)    (26.1M)   \n",
       " 1   Capital Expenditures Growth  Capital Expenditu...          -     -1.02%   \n",
       " 2   Capital Expenditures / Sales  Capital Expendit...     -1.51%     -1.18%   \n",
       " 3   Capital Expenditures (Fixed Assets)  Capital E...   (25.43M)    (26.1M)   \n",
       " 4   Capital Expenditures (Other Assets)  Capital E...     (400K)          -   \n",
       " 5   Net Assets from Acquisitions  Net Assets from ...    (1.36M)    (1.92M)   \n",
       " 6   Sale of Fixed Assets & Businesses  Sale of Fix...       296K          -   \n",
       " 7   Purchase/Sale of Investments  Purchase/Sale of...   (87.34M)   (312.6M)   \n",
       " 8    Purchase of Investments  Purchase of Investments  (164.77M)  (569.91M)   \n",
       " 9   Sale/Maturity of Investments  Sale/Maturity of...     77.42M    257.31M   \n",
       " 10                             Other Uses  Other Uses          -          -   \n",
       " 11                       Other Sources  Other Sources          -          -   \n",
       " 12   Net Investing Cash Flow  Net Investing Cash Flow  (114.24M)  (340.61M)   \n",
       " 13  Net Investing Cash Flow Growth  Net Investing ...          -   -198.15%   \n",
       " 14  Net Investing Cash Flow / Sales  Net Investing...     -6.69%    -15.38%   \n",
       " \n",
       "          2018       2019       2020  5-year trend  \n",
       " 0    (62.79M)    (62.5M)   (138.4M)           NaN  \n",
       " 1    -140.59%      0.46%   -121.45%           NaN  \n",
       " 2      -1.90%     -1.33%     -1.46%           NaN  \n",
       " 3     (61.2M)    (62.5M)   (138.4M)           NaN  \n",
       " 4     (1.58M)          -          -           NaN  \n",
       " 5    (112.4M)   (20.37M)   (79.22M)           NaN  \n",
       " 6           -    309.32M          -           NaN  \n",
       " 7   (730.66M)  (131.26M)  (389.01M)           NaN  \n",
       " 8     (1.15B)    (1.32B)    (2.02B)           NaN  \n",
       " 9     417.78M      1.19B      1.63B           NaN  \n",
       " 10          -          -          -           NaN  \n",
       " 11          -          -    464.09M           NaN  \n",
       " 12  (905.85M)     95.19M  (606.64M)           NaN  \n",
       " 13   -165.95%    110.51%   -737.27%           NaN  \n",
       " 14    -27.47%      2.02%     -6.39%           NaN  ,\n",
       "                                            Item  Item     2016       2017  \\\n",
       " 0   Cash Dividends Paid - Total  Cash Dividends Pa...        -          -   \n",
       " 1                  Common Dividends  Common Dividends        -          -   \n",
       " 2            Preferred Dividends  Preferred Dividends        -          -   \n",
       " 3    Change in Capital Stock  Change in Capital Stock   90.91M    219.75M   \n",
       " 4   Repurchase of Common & Preferred Stk.  Repurch...        -          -   \n",
       " 5   Sale of Common & Preferred Stock  Sale of Comm...   90.91M    219.75M   \n",
       " 6   Proceeds from Stock Options  Proceeds from Sto...  (5.53M)          -   \n",
       " 7   Other Proceeds from Sale of Stock  Other Proce...   96.44M    219.75M   \n",
       " 8   Issuance/Reduction of Debt, Net  Issuance/Redu...   (168K)    334.68M   \n",
       " 9      Change in Current Debt  Change in Current Debt        -          -   \n",
       " 10  Change in Long-Term Debt  Change in Long-Term ...   (168K)    334.68M   \n",
       " 11  Issuance of Long-Term Debt  Issuance of Long-T...        -    428.25M   \n",
       " 12  Reduction in Long-Term Debt  Reduction in Long...   (168K)   (93.58M)   \n",
       " 13                           Other Funds  Other Funds        -   (99.49M)   \n",
       " 14                             Other Uses  Other Uses        -   (99.49M)   \n",
       " 15                       Other Sources  Other Sources        -          -   \n",
       " 16   Net Financing Cash Flow  Net Financing Cash Flow   90.74M    454.93M   \n",
       " 17  Net Financing Cash Flow Growth  Net Financing ...        -    401.35%   \n",
       " 18  Net Financing Cash Flow / Sales  Net Financing...    5.31%     20.55%   \n",
       " 19         Exchange Rate Effect  Exchange Rate Effect   (438K)       4.3M   \n",
       " 20           Miscellaneous Funds  Miscellaneous Funds        -          -   \n",
       " 21             Net Change in Cash  Net Change in Cash   (807K)    246.34M   \n",
       " 22                     Free Cash Flow  Free Cash Flow   (2.3M)    101.61M   \n",
       " 23       Free Cash Flow Growth  Free Cash Flow Growth        -  4,514.16%   \n",
       " 24         Free Cash Flow Yield  Free Cash Flow Yield        -          -   \n",
       " \n",
       "          2018       2019       2020  5-year trend  \n",
       " 0           -          -          -           NaN  \n",
       " 1           -          -          -           NaN  \n",
       " 2           -          -          -           NaN  \n",
       " 3     245.98M    118.51M    394.08M           NaN  \n",
       " 4           -          -          -           NaN  \n",
       " 5     245.98M    118.51M    394.08M           NaN  \n",
       " 6           -          -     232.1M           NaN  \n",
       " 7     245.98M    118.51M    161.99M           NaN  \n",
       " 8     459.75M          -      1.78B           NaN  \n",
       " 9           -          -          -           NaN  \n",
       " 10    459.75M          -      1.78B           NaN  \n",
       " 11    855.66M          -      2.12B           NaN  \n",
       " 12  (395.91M)          -  (338.15M)           NaN  \n",
       " 13  (189.97M)  (217.39M)    142.72M           NaN  \n",
       " 14  (189.97M)  (217.39M)  (321.38M)           NaN  \n",
       " 15          -          -    464.09M           NaN  \n",
       " 16    515.76M   (98.87M)      2.32B           NaN  \n",
       " 17     13.37%   -119.17%  2,441.56%           NaN  \n",
       " 18     15.64%     -2.10%     24.38%           NaN  \n",
       " 19    (7.22M)      3.84M        13M           NaN  \n",
       " 20          -          -          -           NaN  \n",
       " 21  (102.23M)    465.86M       2.1B           NaN  \n",
       " 22    233.88M     403.2M     243.2M           NaN  \n",
       " 23    130.16%     72.40%    -39.68%           NaN  \n",
       " 24          -          -       0.23           NaN  ]"
      ]
     },
     "metadata": {},
     "execution_count": 193
    }
   ],
   "source": [
    "df = pd.read_html('https://www.marketwatch.com/investing/stock/{}/financials/cash-flow/annual'.format(ticker))\n",
    "df"
   ]
  },
  {
   "cell_type": "code",
   "execution_count": null,
   "metadata": {},
   "outputs": [],
   "source": [
    "y.loc['Long-Term Debt  Long-Term Debt','Short Term Debt  Short Term Debt']"
   ]
  }
 ]
}