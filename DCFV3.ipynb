{
 "metadata": {
  "language_info": {
   "codemirror_mode": {
    "name": "ipython",
    "version": 3
   },
   "file_extension": ".py",
   "mimetype": "text/x-python",
   "name": "python",
   "nbconvert_exporter": "python",
   "pygments_lexer": "ipython3",
   "version": "3.8.5-final"
  },
  "orig_nbformat": 2,
  "kernelspec": {
   "name": "python3",
   "display_name": "Python 3",
   "language": "python"
  }
 },
 "nbformat": 4,
 "nbformat_minor": 2,
 "cells": [
  {
   "cell_type": "code",
   "execution_count": 1,
   "metadata": {},
   "outputs": [],
   "source": [
    "import pandas as pd\n",
    "#import yfinance as yf\n",
    "from yahoofinancials import YahooFinancials as yfs\n",
    "import json\n",
    "import pandas as pd\n",
    "import requests\n",
    "import numpy as np"
   ]
  },
  {
   "cell_type": "code",
   "execution_count": 2,
   "metadata": {},
   "outputs": [],
   "source": [
    "#pip install yahoofinancials"
   ]
  },
  {
   "cell_type": "code",
   "execution_count": 3,
   "metadata": {},
   "outputs": [],
   "source": [
    "ticker = 'GOOGL'"
   ]
  },
  {
   "cell_type": "code",
   "execution_count": 4,
   "metadata": {},
   "outputs": [],
   "source": [
    "def Balance(ticker):\n",
    "    df = pd.read_html('https://www.marketwatch.com/investing/stock/{}/financials/balance-sheet'.format(ticker))\n",
    "    df1 =  pd.concat([df[4],df[5]])\n",
    "    maindf = df1\n",
    "    maindf = maindf.set_index('{}'.format(maindf.columns[0])) #Makes first column the index \n",
    "    maindf = maindf.drop(columns = maindf.columns[len(maindf.columns)-1]) # Gets rid of last colsumn \n",
    "    maindf = maindf.replace('-',0)\n",
    "    \n",
    "    for i in maindf.columns:\n",
    "        #maindf[i] = maindf[i].replace('B','e9')\n",
    "        #print(i)\n",
    "        maindf['{}'.format(i)] = maindf['{}'.format(i)].str.replace('K','e3')\n",
    "        maindf['{}'.format(i)] = maindf['{}'.format(i)].str.replace('M','e6')\n",
    "        maindf['{}'.format(i)] = maindf['{}'.format(i)].str.replace('B','e9')\n",
    "        maindf['{}'.format(i)] = maindf['{}'.format(i)].str.replace('(','-')\n",
    "        maindf['{}'.format(i)] = maindf['{}'.format(i)].str.replace(')','')\n",
    "        maindf['{}'.format(i)] = maindf['{}'.format(i)].str.replace('%','')\n",
    "        maindf['{}'.format(i)] = maindf['{}'.format(i)].str.replace(',','')\n",
    "    \n",
    "    for i in maindf.columns: #converts everything to float \n",
    "        try:\n",
    "            maindf['{}'.format(i)] = maindf['{}'.format(i)].astype(float)\n",
    "        except:\n",
    "            print(i)\n",
    "\n",
    "    return maindf "
   ]
  },
  {
   "cell_type": "code",
   "execution_count": 5,
   "metadata": {},
   "outputs": [],
   "source": [
    "def Income(ticker):\n",
    "    #income\n",
    "    df = pd.read_html('https://www.marketwatch.com/investing/stock/{}/financials'.format(ticker))\n",
    "    df = df[4]\n",
    "    maindf = df\n",
    "    maindf = maindf.set_index('{}'.format(maindf.columns[0])) #Makes first column the index \n",
    "    maindf = maindf.drop(columns = maindf.columns[len(maindf.columns)-1]) # Gets rid of last colsumn \n",
    "    maindf = maindf.replace('-',0)\n",
    "\n",
    "    for i in maindf.columns:\n",
    "        #maindf[i] = maindf[i].replace('B','e9')\n",
    "        #print(i)\n",
    "        maindf['{}'.format(i)] = maindf['{}'.format(i)].str.replace('K','e3')\n",
    "        maindf['{}'.format(i)] = maindf['{}'.format(i)].str.replace('M','e6')\n",
    "        maindf['{}'.format(i)] = maindf['{}'.format(i)].str.replace('B','e9')\n",
    "        maindf['{}'.format(i)] = maindf['{}'.format(i)].str.replace('(','-')\n",
    "        maindf['{}'.format(i)] = maindf['{}'.format(i)].str.replace(')','')\n",
    "        maindf['{}'.format(i)] = maindf['{}'.format(i)].str.replace('%','')\n",
    "        maindf['{}'.format(i)] = maindf['{}'.format(i)].str.replace(',','')\n",
    "    \n",
    "    for i in maindf.columns: #converts everything to float \n",
    "        try:\n",
    "            maindf['{}'.format(i)] = maindf['{}'.format(i)].astype(float)\n",
    "        except:\n",
    "            print(i)\n",
    "    return(maindf) "
   ]
  },
  {
   "cell_type": "code",
   "execution_count": 6,
   "metadata": {},
   "outputs": [],
   "source": [
    "#cashflow\n",
    "def cash(ticker):\n",
    "    df = pd.read_html('https://www.marketwatch.com/investing/stock/{}/financials/cash-flow'.format(ticker))\n",
    "    df1 =  pd.concat([df[4],df[5],df[6]])\n",
    "    maindf = df1\n",
    "    maindf = maindf.set_index('{}'.format(maindf.columns[0])) #Makes first column the index \n",
    "    maindf = maindf.drop(columns = maindf.columns[len(maindf.columns)-1]) # Gets rid of last colsumn \n",
    "    maindf = maindf.replace('-',0)\n",
    "    \n",
    "    for i in maindf.columns:\n",
    "        #maindf[i] = maindf[i].replace('B','e9')\n",
    "        #print(i)\n",
    "        maindf['{}'.format(i)] = maindf['{}'.format(i)].str.replace('K','e3')\n",
    "        maindf['{}'.format(i)] = maindf['{}'.format(i)].str.replace('M','e6')\n",
    "        maindf['{}'.format(i)] = maindf['{}'.format(i)].str.replace('B','e9')\n",
    "        maindf['{}'.format(i)] = maindf['{}'.format(i)].str.replace('(','-')\n",
    "        maindf['{}'.format(i)] = maindf['{}'.format(i)].str.replace(')','')\n",
    "        maindf['{}'.format(i)] = maindf['{}'.format(i)].str.replace('%','')\n",
    "        maindf['{}'.format(i)] = maindf['{}'.format(i)].str.replace(',','')\n",
    "    \n",
    "    for i in maindf.columns: #converts everything to float \n",
    "        try:\n",
    "            maindf['{}'.format(i)] = maindf['{}'.format(i)].astype(float)\n",
    "        except:\n",
    "            print(i)\n",
    "\n",
    "    return maindf "
   ]
  },
  {
   "cell_type": "code",
   "execution_count": 7,
   "metadata": {},
   "outputs": [],
   "source": [
    "z = cash(ticker)\n",
    "\n",
    "#Free CashFlow\n",
    "#FCF = z.loc[['Net Income before Extraordinaries  Net Income before Extraordinaries','Capital Expenditures  Capital Expenditures','Funds from Operations  Funds from Operations','Free Cash Flow  Free Cash Flow']]\n",
    "FCF = z.loc[['Net Income before Extraordinaries  Net Income before Extraordinaries','Free Cash Flow  Free Cash Flow']]\n",
    "df = pd.DataFrame()\n",
    "df['FCF'] = FCF.loc['Free Cash Flow  Free Cash Flow'] \n",
    "df['Net Income'] = FCF.loc['Net Income before Extraordinaries  Net Income before Extraordinaries']\n",
    "minimum = (df['FCF']/df['Net Income']).min()\n",
    "#df"
   ]
  },
  {
   "cell_type": "code",
   "execution_count": 8,
   "metadata": {},
   "outputs": [
    {
     "output_type": "stream",
     "name": "stdout",
     "text": [
      "1.732\n1.732\n"
     ]
    }
   ],
   "source": [
    "#WACC = Wd * Rd * (1 - t) + We + Re\n",
    "x = Income(ticker)\n",
    "INCOME2 = x.loc[['Pretax Income  Pretax Income','Income Tax  Income Tax']]\n",
    "t = x.loc['Pretax Income  Pretax Income']/ x.loc['Income Tax  Income Tax']\n",
    "t = t[-1]/ 100 \n",
    "\n",
    "\n",
    "bond = pd.read_html('https://finance.yahoo.com/bonds')\n",
    "Rf = float(bond[0]['Last Price'][2])\n",
    "try: \n",
    "    beta = float(yahoo_financials.get_beta())\n",
    "except:\n",
    "    beta = 0\n",
    "Rm = float(10.0)\n",
    "Ra = Rf + beta * (Rm - Rf)\n",
    "print(Ra)\n",
    "print(Rf)\n"
   ]
  },
  {
   "cell_type": "code",
   "execution_count": 9,
   "metadata": {},
   "outputs": [],
   "source": [
    "y = Balance(ticker)\n",
    "Balance2 = y.loc[['Long-Term Debt  Long-Term Debt','Short Term Debt  Short Term Debt']]\n",
    "#display(Balance2)\n",
    "Total_debt = Balance2.sum()[-1] \n",
    "try:\n",
    "    Balance2 =   (x.loc['Interest Expense  Interest Expense'][-1]) / Total_debt\n",
    "except:\n",
    "    Balance2 =   (x.loc['Interest Expense  Interest Expense'][-2]) / Total_debt\n",
    "#Balance2 =   -(x.loc['Interest Expense  Interest Expense'][-1]) / Total_debt\n",
    "Rd = (1-Balance2) * t #  Rd * (1 - t)"
   ]
  },
  {
   "cell_type": "code",
   "execution_count": 10,
   "metadata": {},
   "outputs": [
    {
     "output_type": "stream",
     "name": "stdout",
     "text": [
      "0.019141425353797117\n0.06125164475493569\n0.9808585746462029\n1.732\n1.732\n1.732\n0.017000194950730973\n"
     ]
    }
   ],
   "source": [
    "\n",
    "yahoo_financials = yfs(ticker)\n",
    "stock = yahoo_financials.get_key_statistics_data()[ticker]\n",
    "Market_Cap = yahoo_financials.get_market_cap() # MarketCap\n",
    "Total =  Total_debt + Market_Cap \n",
    "Wd = Total_debt/ Total \n",
    "We = Market_Cap/ Total \n",
    "Re = Ra\n",
    "Required_Rate = (Wd * Rd + We * Re)/100\n",
    "Required_Rate\n",
    "print(Wd)\n",
    "print(Rd)\n",
    "print(We)\n",
    "print(Re)\n",
    "\n",
    "print(Ra)\n",
    "print(Rf)\n",
    "print(Required_Rate)"
   ]
  },
  {
   "cell_type": "code",
   "execution_count": 11,
   "metadata": {},
   "outputs": [
    {
     "output_type": "stream",
     "name": "stdout",
     "text": [
      "[73408476206.33838, 125789084475.64305, 215545868691.58112, 369348594146.1361]\nGOOGL\n-14458.960473439918\n2026.96\n0.7426805465191932\n0.017000194950730973\n"
     ]
    }
   ],
   "source": [
    "def DCF_VALUE():\n",
    "    outstanding_shares = stock['sharesOutstanding']\n",
    "\n",
    "    Required_rate = Required_Rate\n",
    "    Pre_rate = .025\n",
    "    Cashflowgrowthrate = minimum\n",
    "\n",
    "    years = [1,2,3,4]\n",
    "    freecash_flow = df['FCF'].values\n",
    "\n",
    "    terminalvalue = freecash_flow[-1] * (1+Pre_rate)/(Required_rate - Pre_rate)\n",
    "\n",
    "    futurefreecashflow = []\n",
    "    discountfactor = []\n",
    "    discountfuturefreecashflow = []\n",
    "    for  year in years:\n",
    "        cashflow = freecash_flow[-1] * (1+ Cashflowgrowthrate) ** year \n",
    "        futurefreecashflow.append(cashflow)\n",
    "        discountfactor.append((1+ Required_rate)**year)\n",
    "\n",
    "\n",
    "    for i in range(0,len(years)):\n",
    "        discountfuturefreecashflow.append(futurefreecashflow[i]/discountfactor[i])\n",
    "\n",
    "    print(discountfuturefreecashflow)\n",
    "    dis = terminalvalue/(1+Required_rate)**len(years)\n",
    "    discountfuturefreecashflow.append(dis)\n",
    "    value = sum(discountfuturefreecashflow)\n",
    "    fairvalue = value/outstanding_shares\n",
    "\n",
    "    print(ticker)\n",
    "    print(fairvalue)\n",
    "    print(yahoo_financials.get_current_price())\n",
    "\n",
    "    print(Cashflowgrowthrate)\n",
    "    print(Required_Rate)\n",
    "#print(stock.get_current_price())\n",
    "DCF_VALUE()"
   ]
  },
  {
   "cell_type": "code",
   "execution_count": 17,
   "metadata": {},
   "outputs": [
    {
     "output_type": "stream",
     "name": "stdout",
     "text": [
      "[41245953488.37209, 39711220335.31638, 38233593532.14182, 36810948191.41096]\nGOOGL\n2706.2350048810194\n2026.96\n0.035\n0.075\n"
     ]
    }
   ],
   "source": [
    "def DCF_VALUE_CON():\n",
    "    outstanding_shares = stock['sharesOutstanding']\n",
    "\n",
    "    Required_rate = .075\n",
    "    Pre_rate = .025\n",
    "    Cashflowgrowthrate = .035\n",
    "\n",
    "    years = [1,2,3,4]\n",
    "    freecash_flow = df['FCF'][1:5].values\n",
    "\n",
    "    terminalvalue = freecash_flow[-1] * (1+Pre_rate)/(Required_rate - Pre_rate)\n",
    "\n",
    "    futurefreecashflow = []\n",
    "    discountfactor = []\n",
    "    discountfuturefreecashflow = []\n",
    "    for  year in years:\n",
    "        cashflow = freecash_flow[-1] * (1+ Cashflowgrowthrate) ** year \n",
    "        futurefreecashflow.append(cashflow)\n",
    "        discountfactor.append((1+ Required_rate)**year)\n",
    "\n",
    "\n",
    "    for i in range(0,len(years)):\n",
    "        discountfuturefreecashflow.append(futurefreecashflow[i]/discountfactor[i])\n",
    "\n",
    "    print(discountfuturefreecashflow)\n",
    "    dis = terminalvalue/(1+Required_rate)**len(years)\n",
    "    discountfuturefreecashflow.append(dis)\n",
    "    value = sum(discountfuturefreecashflow)\n",
    "    fairvalue = value/outstanding_shares\n",
    "\n",
    "    print(ticker)\n",
    "    print(fairvalue)\n",
    "    print(yahoo_financials.get_current_price())\n",
    "\n",
    "    print(Cashflowgrowthrate)\n",
    "    print(Required_rate)\n",
    "#print(stock.get_current_price())\n",
    "DCF_VALUE_CON()"
   ]
  },
  {
   "cell_type": "code",
   "execution_count": 16,
   "metadata": {},
   "outputs": [
    {
     "output_type": "execute_result",
     "data": {
      "text/plain": [
       "array([2.391e+10, 2.283e+10, 3.097e+10, 4.284e+10])"
      ]
     },
     "metadata": {},
     "execution_count": 16
    }
   ],
   "source": [
    "df['FCF'][1:5].values"
   ]
  },
  {
   "cell_type": "code",
   "execution_count": null,
   "metadata": {},
   "outputs": [],
   "source": []
  }
 ]
}