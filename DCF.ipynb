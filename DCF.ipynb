{
 "metadata": {
  "language_info": {
   "codemirror_mode": {
    "name": "ipython",
    "version": 3
   },
   "file_extension": ".py",
   "mimetype": "text/x-python",
   "name": "python",
   "nbconvert_exporter": "python",
   "pygments_lexer": "ipython3",
   "version": "3.8.5-final"
  },
  "orig_nbformat": 2,
  "kernelspec": {
   "name": "python3",
   "display_name": "Python 3",
   "language": "python"
  }
 },
 "nbformat": 4,
 "nbformat_minor": 2,
 "cells": [
  {
   "cell_type": "code",
   "execution_count": 2,
   "metadata": {},
   "outputs": [],
   "source": [
    "import pandas as pd\n",
    "import yfinance as yf\n",
    "from yahoofinancials import YahooFinancials as yfs\n",
    "import json"
   ]
  },
  {
   "cell_type": "code",
   "execution_count": 1,
   "metadata": {},
   "outputs": [
    {
     "output_type": "stream",
     "name": "stdout",
     "text": [
      "Collecting yahoofinancialsNote: you may need to restart the kernel to use updated packages.\n",
      "\n",
      "  Downloading yahoofinancials-1.6.tar.gz (27 kB)\n",
      "Requirement already satisfied: beautifulsoup4 in c:\\users\\tafim\\anaconda3\\lib\\site-packages (from yahoofinancials) (4.9.3)\n",
      "Requirement already satisfied: pytz in c:\\users\\tafim\\anaconda3\\lib\\site-packages (from yahoofinancials) (2020.1)\n",
      "Requirement already satisfied: soupsieve>1.2; python_version >= \"3.0\" in c:\\users\\tafim\\anaconda3\\lib\\site-packages (from beautifulsoup4->yahoofinancials) (2.0.1)\n",
      "Building wheels for collected packages: yahoofinancials\n",
      "  Building wheel for yahoofinancials (setup.py): started\n",
      "  Building wheel for yahoofinancials (setup.py): finished with status 'done'\n",
      "  Created wheel for yahoofinancials: filename=yahoofinancials-1.6-py3-none-any.whl size=15195 sha256=ea150ca34599abf2043a933a1b953379bd866b7604689223e628dd42530136cd\n",
      "  Stored in directory: c:\\users\\tafim\\appdata\\local\\pip\\cache\\wheels\\6a\\90\\0c\\08c7ac2ce60b9ac91529417d471e59244f9f96848c86f14809\n",
      "Successfully built yahoofinancials\n",
      "Installing collected packages: yahoofinancials\n",
      "Successfully installed yahoofinancials-1.6\n"
     ]
    }
   ],
   "source": [
    "pip install yahoofinancials"
   ]
  },
  {
   "cell_type": "code",
   "execution_count": 12,
   "metadata": {},
   "outputs": [],
   "source": [
    "def Sheet_Data(ticker,sheet_data):\n",
    "    save = []\n",
    "    \n",
    "    df = pd.DataFrame.from_dict({(i,j): sheet_data[i][j] \n",
    "                            for i in sheet_data.keys() \n",
    "                            for j in sheet_data[i].keys()},\n",
    "                        orient='index')\n",
    "\n",
    "    for i in df.columns:\n",
    "        df[i].tolist()\n",
    "        df2 = pd.json_normalize(df[i],max_level = 1)\n",
    "\n",
    "        #Gets  Date and renames \n",
    "        Date = df2.columns[0]\n",
    "        Date = Date[0:11]\n",
    "        df2.index = df2.index.rename(ticker)\n",
    "        df2.columns = df2.columns.str.replace(str(Date),'')\n",
    "\n",
    "        #Tranposes DataFrame and changes it to the \n",
    "        df2 = df2.T\n",
    "        df2.rename(columns = {df2.columns[0]:'{}'.format(str(Date[0:10]))},inplace = True)\n",
    "        #display(df2)\n",
    "        save.append(df2)\n",
    "    df3 = pd.concat(save,axis = 1)\n",
    "    display(df3)\n",
    "    filename = str(df.index[0][1]) + '_' + str(df.index[0][0])\n",
    "    print(filename)\n",
    "    #df3.to_csv('{}.csv'.format(filename))\n",
    "\n",
    "#filename = str(df.index[0][1]) + '_' + str(df.index[0][0])\n",
    "#df3.t"
   ]
  },
  {
   "cell_type": "code",
   "execution_count": 13,
   "metadata": {},
   "outputs": [],
   "source": [
    "ticker = 'AAPL'\n",
    "yahoo_financials = yfs(ticker)\n",
    "\n",
    "cash = yahoo_financials.get_financial_stmts('annual','cash')\n",
    "income = yahoo_financials.get_financial_stmts('annual','income')\n",
    "balance = yahoo_financials.get_financial_stmts('annual','balance')"
   ]
  },
  {
   "cell_type": "code",
   "execution_count": 14,
   "metadata": {},
   "outputs": [
    {
     "output_type": "display_data",
     "data": {
      "text/plain": "AAPL                                    2020-09-26   2019-09-28   2018-09-29  \\\ninvestments                             5335000000  58093000000  30845000000   \nchangeToLiabilities                    -1981000000  -2548000000   9172000000   \ntotalCashflowsFromInvestingActivities  -4289000000  45896000000  16066000000   \nnetBorrowings                           2499000000  -7819000000    432000000   \ntotalCashFromFinancingActivities      -86820000000 -90976000000 -87876000000   \nchangeToOperatingActivities              881000000   -896000000  30016000000   \nissuanceOfStock                          880000000    781000000    669000000   \nnetIncome                              57411000000  55256000000  59531000000   \nchangeInCash                          -10435000000  24311000000   5624000000   \nrepurchaseOfStock                     -75992000000 -69714000000 -75265000000   \ntotalCashFromOperatingActivities       80674000000  69391000000  77434000000   \ndepreciation                           11056000000  12547000000  10903000000   \notherCashflowsFromInvestingActivities   -791000000  -1078000000   -745000000   \ndividendsPaid                         -14081000000 -14119000000 -13712000000   \nchangeToInventory                       -127000000   -289000000    828000000   \nchangeToAccountReceivables              6917000000    245000000  -5322000000   \notherCashflowsFromFinancingActivities   -126000000   -105000000   -105000000   \nchangeToNetincome                       6517000000   5076000000 -27694000000   \ncapitalExpenditures                    -7309000000 -10495000000 -13313000000   \n\nAAPL                                    2017-09-30  \ninvestments                           -33542000000  \nchangeToLiabilities                     8373000000  \ntotalCashflowsFromInvestingActivities -46446000000  \nnetBorrowings                          29014000000  \ntotalCashFromFinancingActivities      -17974000000  \nchangeToOperatingActivities            -8480000000  \nissuanceOfStock                          555000000  \nnetIncome                              48351000000  \nchangeInCash                            -195000000  \nrepurchaseOfStock                     -34774000000  \ntotalCashFromOperatingActivities       64225000000  \ndepreciation                           10157000000  \notherCashflowsFromInvestingActivities   -124000000  \ndividendsPaid                         -12769000000  \nchangeToInventory                      -2723000000  \nchangeToAccountReceivables             -2093000000  \notherCashflowsFromFinancingActivities   -105000000  \nchangeToNetincome                      10640000000  \ncapitalExpenditures                   -12451000000  ",
      "text/html": "<div>\n<style scoped>\n    .dataframe tbody tr th:only-of-type {\n        vertical-align: middle;\n    }\n\n    .dataframe tbody tr th {\n        vertical-align: top;\n    }\n\n    .dataframe thead th {\n        text-align: right;\n    }\n</style>\n<table border=\"1\" class=\"dataframe\">\n  <thead>\n    <tr style=\"text-align: right;\">\n      <th>AAPL</th>\n      <th>2020-09-26</th>\n      <th>2019-09-28</th>\n      <th>2018-09-29</th>\n      <th>2017-09-30</th>\n    </tr>\n  </thead>\n  <tbody>\n    <tr>\n      <th>investments</th>\n      <td>5335000000</td>\n      <td>58093000000</td>\n      <td>30845000000</td>\n      <td>-33542000000</td>\n    </tr>\n    <tr>\n      <th>changeToLiabilities</th>\n      <td>-1981000000</td>\n      <td>-2548000000</td>\n      <td>9172000000</td>\n      <td>8373000000</td>\n    </tr>\n    <tr>\n      <th>totalCashflowsFromInvestingActivities</th>\n      <td>-4289000000</td>\n      <td>45896000000</td>\n      <td>16066000000</td>\n      <td>-46446000000</td>\n    </tr>\n    <tr>\n      <th>netBorrowings</th>\n      <td>2499000000</td>\n      <td>-7819000000</td>\n      <td>432000000</td>\n      <td>29014000000</td>\n    </tr>\n    <tr>\n      <th>totalCashFromFinancingActivities</th>\n      <td>-86820000000</td>\n      <td>-90976000000</td>\n      <td>-87876000000</td>\n      <td>-17974000000</td>\n    </tr>\n    <tr>\n      <th>changeToOperatingActivities</th>\n      <td>881000000</td>\n      <td>-896000000</td>\n      <td>30016000000</td>\n      <td>-8480000000</td>\n    </tr>\n    <tr>\n      <th>issuanceOfStock</th>\n      <td>880000000</td>\n      <td>781000000</td>\n      <td>669000000</td>\n      <td>555000000</td>\n    </tr>\n    <tr>\n      <th>netIncome</th>\n      <td>57411000000</td>\n      <td>55256000000</td>\n      <td>59531000000</td>\n      <td>48351000000</td>\n    </tr>\n    <tr>\n      <th>changeInCash</th>\n      <td>-10435000000</td>\n      <td>24311000000</td>\n      <td>5624000000</td>\n      <td>-195000000</td>\n    </tr>\n    <tr>\n      <th>repurchaseOfStock</th>\n      <td>-75992000000</td>\n      <td>-69714000000</td>\n      <td>-75265000000</td>\n      <td>-34774000000</td>\n    </tr>\n    <tr>\n      <th>totalCashFromOperatingActivities</th>\n      <td>80674000000</td>\n      <td>69391000000</td>\n      <td>77434000000</td>\n      <td>64225000000</td>\n    </tr>\n    <tr>\n      <th>depreciation</th>\n      <td>11056000000</td>\n      <td>12547000000</td>\n      <td>10903000000</td>\n      <td>10157000000</td>\n    </tr>\n    <tr>\n      <th>otherCashflowsFromInvestingActivities</th>\n      <td>-791000000</td>\n      <td>-1078000000</td>\n      <td>-745000000</td>\n      <td>-124000000</td>\n    </tr>\n    <tr>\n      <th>dividendsPaid</th>\n      <td>-14081000000</td>\n      <td>-14119000000</td>\n      <td>-13712000000</td>\n      <td>-12769000000</td>\n    </tr>\n    <tr>\n      <th>changeToInventory</th>\n      <td>-127000000</td>\n      <td>-289000000</td>\n      <td>828000000</td>\n      <td>-2723000000</td>\n    </tr>\n    <tr>\n      <th>changeToAccountReceivables</th>\n      <td>6917000000</td>\n      <td>245000000</td>\n      <td>-5322000000</td>\n      <td>-2093000000</td>\n    </tr>\n    <tr>\n      <th>otherCashflowsFromFinancingActivities</th>\n      <td>-126000000</td>\n      <td>-105000000</td>\n      <td>-105000000</td>\n      <td>-105000000</td>\n    </tr>\n    <tr>\n      <th>changeToNetincome</th>\n      <td>6517000000</td>\n      <td>5076000000</td>\n      <td>-27694000000</td>\n      <td>10640000000</td>\n    </tr>\n    <tr>\n      <th>capitalExpenditures</th>\n      <td>-7309000000</td>\n      <td>-10495000000</td>\n      <td>-13313000000</td>\n      <td>-12451000000</td>\n    </tr>\n  </tbody>\n</table>\n</div>"
     },
     "metadata": {}
    },
    {
     "output_type": "stream",
     "name": "stdout",
     "text": [
      "AAPL_cashflowStatementHistory\n"
     ]
    },
    {
     "output_type": "display_data",
     "data": {
      "text/plain": "AAPL                                 2020-09-26    2019-09-28    2018-09-29  \\\nresearchDevelopment                 18752000000   16217000000   14236000000   \neffectOfAccountingCharges                  None          None          None   \nincomeBeforeTax                     67091000000   65737000000   72903000000   \nminorityInterest                           None          None          None   \nnetIncome                           57411000000   55256000000   59531000000   \nsellingGeneralAdministrative        19916000000   18245000000   16705000000   \ngrossProfit                        104956000000   98392000000  101839000000   \nebit                                66288000000   63930000000   70898000000   \noperatingIncome                     66288000000   63930000000   70898000000   \notherOperatingExpenses                     None          None          None   \ninterestExpense                     -2873000000   -3576000000   -3240000000   \nextraordinaryItems                         None          None          None   \nnonRecurring                               None          None          None   \notherItems                                 None          None          None   \nincomeTaxExpense                     9680000000   10481000000   13372000000   \ntotalRevenue                       274515000000  260174000000  265595000000   \ntotalOperatingExpenses             208227000000  196244000000  194697000000   \ncostOfRevenue                      169559000000  161782000000  163756000000   \ntotalOtherIncomeExpenseNet            803000000    1807000000    2005000000   \ndiscontinuedOperations                     None          None          None   \nnetIncomeFromContinuingOps          57411000000   55256000000   59531000000   \nnetIncomeApplicableToCommonShares   57411000000   55256000000   59531000000   \n\nAAPL                                 2017-09-30  \nresearchDevelopment                 11581000000  \neffectOfAccountingCharges                  None  \nincomeBeforeTax                     64089000000  \nminorityInterest                           None  \nnetIncome                           48351000000  \nsellingGeneralAdministrative        15261000000  \ngrossProfit                         88186000000  \nebit                                61344000000  \noperatingIncome                     61344000000  \notherOperatingExpenses                     None  \ninterestExpense                     -2323000000  \nextraordinaryItems                         None  \nnonRecurring                               None  \notherItems                                 None  \nincomeTaxExpense                    15738000000  \ntotalRevenue                       229234000000  \ntotalOperatingExpenses             167890000000  \ncostOfRevenue                      141048000000  \ntotalOtherIncomeExpenseNet           2745000000  \ndiscontinuedOperations                     None  \nnetIncomeFromContinuingOps          48351000000  \nnetIncomeApplicableToCommonShares   48351000000  ",
      "text/html": "<div>\n<style scoped>\n    .dataframe tbody tr th:only-of-type {\n        vertical-align: middle;\n    }\n\n    .dataframe tbody tr th {\n        vertical-align: top;\n    }\n\n    .dataframe thead th {\n        text-align: right;\n    }\n</style>\n<table border=\"1\" class=\"dataframe\">\n  <thead>\n    <tr style=\"text-align: right;\">\n      <th>AAPL</th>\n      <th>2020-09-26</th>\n      <th>2019-09-28</th>\n      <th>2018-09-29</th>\n      <th>2017-09-30</th>\n    </tr>\n  </thead>\n  <tbody>\n    <tr>\n      <th>researchDevelopment</th>\n      <td>18752000000</td>\n      <td>16217000000</td>\n      <td>14236000000</td>\n      <td>11581000000</td>\n    </tr>\n    <tr>\n      <th>effectOfAccountingCharges</th>\n      <td>None</td>\n      <td>None</td>\n      <td>None</td>\n      <td>None</td>\n    </tr>\n    <tr>\n      <th>incomeBeforeTax</th>\n      <td>67091000000</td>\n      <td>65737000000</td>\n      <td>72903000000</td>\n      <td>64089000000</td>\n    </tr>\n    <tr>\n      <th>minorityInterest</th>\n      <td>None</td>\n      <td>None</td>\n      <td>None</td>\n      <td>None</td>\n    </tr>\n    <tr>\n      <th>netIncome</th>\n      <td>57411000000</td>\n      <td>55256000000</td>\n      <td>59531000000</td>\n      <td>48351000000</td>\n    </tr>\n    <tr>\n      <th>sellingGeneralAdministrative</th>\n      <td>19916000000</td>\n      <td>18245000000</td>\n      <td>16705000000</td>\n      <td>15261000000</td>\n    </tr>\n    <tr>\n      <th>grossProfit</th>\n      <td>104956000000</td>\n      <td>98392000000</td>\n      <td>101839000000</td>\n      <td>88186000000</td>\n    </tr>\n    <tr>\n      <th>ebit</th>\n      <td>66288000000</td>\n      <td>63930000000</td>\n      <td>70898000000</td>\n      <td>61344000000</td>\n    </tr>\n    <tr>\n      <th>operatingIncome</th>\n      <td>66288000000</td>\n      <td>63930000000</td>\n      <td>70898000000</td>\n      <td>61344000000</td>\n    </tr>\n    <tr>\n      <th>otherOperatingExpenses</th>\n      <td>None</td>\n      <td>None</td>\n      <td>None</td>\n      <td>None</td>\n    </tr>\n    <tr>\n      <th>interestExpense</th>\n      <td>-2873000000</td>\n      <td>-3576000000</td>\n      <td>-3240000000</td>\n      <td>-2323000000</td>\n    </tr>\n    <tr>\n      <th>extraordinaryItems</th>\n      <td>None</td>\n      <td>None</td>\n      <td>None</td>\n      <td>None</td>\n    </tr>\n    <tr>\n      <th>nonRecurring</th>\n      <td>None</td>\n      <td>None</td>\n      <td>None</td>\n      <td>None</td>\n    </tr>\n    <tr>\n      <th>otherItems</th>\n      <td>None</td>\n      <td>None</td>\n      <td>None</td>\n      <td>None</td>\n    </tr>\n    <tr>\n      <th>incomeTaxExpense</th>\n      <td>9680000000</td>\n      <td>10481000000</td>\n      <td>13372000000</td>\n      <td>15738000000</td>\n    </tr>\n    <tr>\n      <th>totalRevenue</th>\n      <td>274515000000</td>\n      <td>260174000000</td>\n      <td>265595000000</td>\n      <td>229234000000</td>\n    </tr>\n    <tr>\n      <th>totalOperatingExpenses</th>\n      <td>208227000000</td>\n      <td>196244000000</td>\n      <td>194697000000</td>\n      <td>167890000000</td>\n    </tr>\n    <tr>\n      <th>costOfRevenue</th>\n      <td>169559000000</td>\n      <td>161782000000</td>\n      <td>163756000000</td>\n      <td>141048000000</td>\n    </tr>\n    <tr>\n      <th>totalOtherIncomeExpenseNet</th>\n      <td>803000000</td>\n      <td>1807000000</td>\n      <td>2005000000</td>\n      <td>2745000000</td>\n    </tr>\n    <tr>\n      <th>discontinuedOperations</th>\n      <td>None</td>\n      <td>None</td>\n      <td>None</td>\n      <td>None</td>\n    </tr>\n    <tr>\n      <th>netIncomeFromContinuingOps</th>\n      <td>57411000000</td>\n      <td>55256000000</td>\n      <td>59531000000</td>\n      <td>48351000000</td>\n    </tr>\n    <tr>\n      <th>netIncomeApplicableToCommonShares</th>\n      <td>57411000000</td>\n      <td>55256000000</td>\n      <td>59531000000</td>\n      <td>48351000000</td>\n    </tr>\n  </tbody>\n</table>\n</div>"
     },
     "metadata": {}
    },
    {
     "output_type": "stream",
     "name": "stdout",
     "text": [
      "AAPL_incomeStatementHistory\n"
     ]
    },
    {
     "output_type": "display_data",
     "data": {
      "text/plain": "AAPL                       2020-09-26    2019-09-28    2018-09-29  \\\ntotalLiab                258549000000  248028000000  258578000000   \ntotalStockholderEquity    65339000000   90488000000  107147000000   \notherCurrentLiab          47867000000   43242000000   39293000000   \ntotalAssets              323888000000  338516000000  365725000000   \ncommonStock               50779000000   45174000000   40201000000   \notherCurrentAssets        11264000000   12352000000   12087000000   \nretainedEarnings          14966000000   45898000000   70400000000   \notherLiab                 46108000000   50503000000   48914000000   \ntreasuryStock              -406000000    -584000000   -3454000000   \notherAssets               33952000000   32978000000   22283000000   \ncash                      38016000000   48844000000   25913000000   \ntotalCurrentLiabilities  105392000000  105718000000  115929000000   \nshortLongTermDebt          8773000000   10260000000    8784000000   \notherStockholderEquity     -406000000    -584000000   -3454000000   \npropertyPlantEquipment    45336000000   37378000000   41304000000   \ntotalCurrentAssets       143713000000  162819000000  131339000000   \nlongTermInvestments      100887000000  105341000000  170799000000   \nnetTangibleAssets         65339000000   90488000000  107147000000   \nshortTermInvestments      52927000000   51713000000   40388000000   \nnetReceivables            37445000000   45804000000   48995000000   \nlongTermDebt              98667000000   91807000000   93735000000   \ninventory                  4061000000    4106000000    3956000000   \naccountsPayable           42296000000   46236000000   55888000000   \n\nAAPL                       2017-09-30  \ntotalLiab                241272000000  \ntotalStockholderEquity   134047000000  \notherCurrentLiab          38099000000  \ntotalAssets              375319000000  \ncommonStock               35867000000  \notherCurrentAssets        13936000000  \nretainedEarnings          98330000000  \notherLiab                 43251000000  \ntreasuryStock              -150000000  \notherAssets               18177000000  \ncash                      20289000000  \ntotalCurrentLiabilities  100814000000  \nshortLongTermDebt          6496000000  \notherStockholderEquity     -150000000  \npropertyPlantEquipment    33783000000  \ntotalCurrentAssets       128645000000  \nlongTermInvestments      194714000000  \nnetTangibleAssets        134047000000  \nshortTermInvestments      53892000000  \nnetReceivables            35673000000  \nlongTermDebt              97207000000  \ninventory                  4855000000  \naccountsPayable           44242000000  ",
      "text/html": "<div>\n<style scoped>\n    .dataframe tbody tr th:only-of-type {\n        vertical-align: middle;\n    }\n\n    .dataframe tbody tr th {\n        vertical-align: top;\n    }\n\n    .dataframe thead th {\n        text-align: right;\n    }\n</style>\n<table border=\"1\" class=\"dataframe\">\n  <thead>\n    <tr style=\"text-align: right;\">\n      <th>AAPL</th>\n      <th>2020-09-26</th>\n      <th>2019-09-28</th>\n      <th>2018-09-29</th>\n      <th>2017-09-30</th>\n    </tr>\n  </thead>\n  <tbody>\n    <tr>\n      <th>totalLiab</th>\n      <td>258549000000</td>\n      <td>248028000000</td>\n      <td>258578000000</td>\n      <td>241272000000</td>\n    </tr>\n    <tr>\n      <th>totalStockholderEquity</th>\n      <td>65339000000</td>\n      <td>90488000000</td>\n      <td>107147000000</td>\n      <td>134047000000</td>\n    </tr>\n    <tr>\n      <th>otherCurrentLiab</th>\n      <td>47867000000</td>\n      <td>43242000000</td>\n      <td>39293000000</td>\n      <td>38099000000</td>\n    </tr>\n    <tr>\n      <th>totalAssets</th>\n      <td>323888000000</td>\n      <td>338516000000</td>\n      <td>365725000000</td>\n      <td>375319000000</td>\n    </tr>\n    <tr>\n      <th>commonStock</th>\n      <td>50779000000</td>\n      <td>45174000000</td>\n      <td>40201000000</td>\n      <td>35867000000</td>\n    </tr>\n    <tr>\n      <th>otherCurrentAssets</th>\n      <td>11264000000</td>\n      <td>12352000000</td>\n      <td>12087000000</td>\n      <td>13936000000</td>\n    </tr>\n    <tr>\n      <th>retainedEarnings</th>\n      <td>14966000000</td>\n      <td>45898000000</td>\n      <td>70400000000</td>\n      <td>98330000000</td>\n    </tr>\n    <tr>\n      <th>otherLiab</th>\n      <td>46108000000</td>\n      <td>50503000000</td>\n      <td>48914000000</td>\n      <td>43251000000</td>\n    </tr>\n    <tr>\n      <th>treasuryStock</th>\n      <td>-406000000</td>\n      <td>-584000000</td>\n      <td>-3454000000</td>\n      <td>-150000000</td>\n    </tr>\n    <tr>\n      <th>otherAssets</th>\n      <td>33952000000</td>\n      <td>32978000000</td>\n      <td>22283000000</td>\n      <td>18177000000</td>\n    </tr>\n    <tr>\n      <th>cash</th>\n      <td>38016000000</td>\n      <td>48844000000</td>\n      <td>25913000000</td>\n      <td>20289000000</td>\n    </tr>\n    <tr>\n      <th>totalCurrentLiabilities</th>\n      <td>105392000000</td>\n      <td>105718000000</td>\n      <td>115929000000</td>\n      <td>100814000000</td>\n    </tr>\n    <tr>\n      <th>shortLongTermDebt</th>\n      <td>8773000000</td>\n      <td>10260000000</td>\n      <td>8784000000</td>\n      <td>6496000000</td>\n    </tr>\n    <tr>\n      <th>otherStockholderEquity</th>\n      <td>-406000000</td>\n      <td>-584000000</td>\n      <td>-3454000000</td>\n      <td>-150000000</td>\n    </tr>\n    <tr>\n      <th>propertyPlantEquipment</th>\n      <td>45336000000</td>\n      <td>37378000000</td>\n      <td>41304000000</td>\n      <td>33783000000</td>\n    </tr>\n    <tr>\n      <th>totalCurrentAssets</th>\n      <td>143713000000</td>\n      <td>162819000000</td>\n      <td>131339000000</td>\n      <td>128645000000</td>\n    </tr>\n    <tr>\n      <th>longTermInvestments</th>\n      <td>100887000000</td>\n      <td>105341000000</td>\n      <td>170799000000</td>\n      <td>194714000000</td>\n    </tr>\n    <tr>\n      <th>netTangibleAssets</th>\n      <td>65339000000</td>\n      <td>90488000000</td>\n      <td>107147000000</td>\n      <td>134047000000</td>\n    </tr>\n    <tr>\n      <th>shortTermInvestments</th>\n      <td>52927000000</td>\n      <td>51713000000</td>\n      <td>40388000000</td>\n      <td>53892000000</td>\n    </tr>\n    <tr>\n      <th>netReceivables</th>\n      <td>37445000000</td>\n      <td>45804000000</td>\n      <td>48995000000</td>\n      <td>35673000000</td>\n    </tr>\n    <tr>\n      <th>longTermDebt</th>\n      <td>98667000000</td>\n      <td>91807000000</td>\n      <td>93735000000</td>\n      <td>97207000000</td>\n    </tr>\n    <tr>\n      <th>inventory</th>\n      <td>4061000000</td>\n      <td>4106000000</td>\n      <td>3956000000</td>\n      <td>4855000000</td>\n    </tr>\n    <tr>\n      <th>accountsPayable</th>\n      <td>42296000000</td>\n      <td>46236000000</td>\n      <td>55888000000</td>\n      <td>44242000000</td>\n    </tr>\n  </tbody>\n</table>\n</div>"
     },
     "metadata": {}
    },
    {
     "output_type": "stream",
     "name": "stdout",
     "text": [
      "AAPL_balanceSheetHistory\n"
     ]
    }
   ],
   "source": [
    "Sheet_Data(ticker,cash)\n",
    "Sheet_Data(ticker,income)\n",
    "Sheet_Data(ticker,balance)"
   ]
  },
  {
   "source": [
    "# Testing for working all of the files work"
   ],
   "cell_type": "markdown",
   "metadata": {}
  },
  {
   "source": [
    "df = pd.DataFrame.from_dict({(i,j): balance_sheet_data[i][j] \n",
    "                           for i in balance_sheet_data.keys() \n",
    "                           for j in balance_sheet_data[i].keys()},\n",
    "                       orient='index')\n",
    "for i in df.columns:\n",
    "    df[i].tolist()\n",
    "    df2 = pd.json_normalize(df[i],max_level = 1)\n",
    "\n",
    "    #Gets  Date and renames \n",
    "    Date = df2.columns[0]\n",
    "    Date = Date[0:11]\n",
    "    df2.index = df2.index.rename(ticker)\n",
    "    df2.columns = df2.columns.str.replace(str(Date),'')\n",
    "\n",
    "    #Tranposes DataFrame and changes it to the \n",
    "    df2 = df2.T\n",
    "    df2.rename(columns = {df2.columns[0]:'{}'.format(str(Date[0:10]))},inplace = True)\n",
    "    #display(df2)\n",
    "    save.append(df2)\n",
    "df3 = pd.concat(save,axis = 1)\n",
    "display(df3)"
   ],
   "cell_type": "markdown",
   "metadata": {}
  }
 ]
}