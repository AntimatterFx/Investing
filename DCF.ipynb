{
 "metadata": {
  "language_info": {
   "codemirror_mode": {
    "name": "ipython",
    "version": 3
   },
   "file_extension": ".py",
   "mimetype": "text/x-python",
   "name": "python",
   "nbconvert_exporter": "python",
   "pygments_lexer": "ipython3",
   "version": "3.8.5-final"
  },
  "orig_nbformat": 2,
  "kernelspec": {
   "name": "python3",
   "display_name": "Python 3",
   "language": "python"
  }
 },
 "nbformat": 4,
 "nbformat_minor": 2,
 "cells": [
  {
   "cell_type": "code",
   "execution_count": 1,
   "metadata": {},
   "outputs": [],
   "source": [
    "import pandas as pd\n",
    "import yfinance as yf\n",
    "from yahoofinancials import YahooFinancials as yfs\n",
    "import json"
   ]
  },
  {
   "cell_type": "code",
   "execution_count": 12,
   "metadata": {},
   "outputs": [
    {
     "output_type": "stream",
     "name": "stdout",
     "text": [
      "Requirement already satisfied: yahoofinancials in c:\\users\\tafimul\\anaconda3.1\\lib\\site-packages (1.6)\n",
      "Requirement already satisfied: beautifulsoup4 in c:\\users\\tafimul\\anaconda3.1\\lib\\site-packages (from yahoofinancials) (4.9.1)\n",
      "Requirement already satisfied: pytz in c:\\users\\tafimul\\anaconda3.1\\lib\\site-packages (from yahoofinancials) (2020.1)\n",
      "Requirement already satisfied: soupsieve>1.2 in c:\\users\\tafimul\\anaconda3.1\\lib\\site-packages (from beautifulsoup4->yahoofinancials) (2.0.1)\n"
     ]
    }
   ],
   "source": [
    "#!pip install yahoofinancials"
   ]
  },
  {
   "cell_type": "code",
   "execution_count": 2,
   "metadata": {},
   "outputs": [],
   "source": [
    "def Sheet_Data(ticker,sheet_data):\n",
    "    save = []\n",
    "    \n",
    "    df = pd.DataFrame.from_dict({(i,j): sheet_data[i][j] \n",
    "                            for i in sheet_data.keys() \n",
    "                            for j in sheet_data[i].keys()},\n",
    "                        orient='index')\n",
    "\n",
    "    for i in df.columns:\n",
    "        f = len(df.columns) - i - 1\n",
    "        df2 = pd.json_normalize(df[f],max_level = 1)\n",
    "\n",
    "        #Gets  Date and renames \n",
    "        Date = df2.columns[0]\n",
    "        Date = Date[0:11]\n",
    "        df2.index = df2.index.rename(ticker)\n",
    "        df2.columns = df2.columns.str.replace(str(Date),'')\n",
    "\n",
    "        #Tranposes DataFrame and changes it to the \n",
    "        df2 = df2.T\n",
    "        df2.rename(columns = {df2.columns[0]:'{}'.format(str(Date[0:4]))},inplace = True)\n",
    "        #display(df2)\n",
    "        save.append(df2)\n",
    "    df3 = pd.concat(save,axis = 1)\n",
    "    display(df3)\n",
    "    filename = str(df.index[0][1]) + '_' + str(df.index[0][0])\n",
    "    print(filename)\n",
    "    #df3.to_csv('{}.csv'.format(filename))\n",
    "    return df3\n",
    "#filename = str(df.index[0][1]) + '_' + str(df.index[0][0])\n",
    "#df3.t"
   ]
  },
  {
   "cell_type": "code",
   "execution_count": 270,
   "metadata": {},
   "outputs": [],
   "source": [
    "ticker = 'SQ'\n",
    "yahoo_financials = yfs(ticker)\n",
    "\n",
    "cash = yahoo_financials.get_financial_stmts('annual','cash')\n",
    "income = yahoo_financials.get_financial_stmts('annual','income')\n",
    "balance = yahoo_financials.get_financial_stmts('annual','balance')"
   ]
  },
  {
   "cell_type": "code",
   "execution_count": 321,
   "metadata": {},
   "outputs": [
    {
     "output_type": "display_data",
     "data": {
      "text/plain": "LMT                                          2017        2018        2019  \\\nchangeToLiabilities                     164000000   377000000  -535000000   \ntotalCashflowsFromInvestingActivities -1147000000 -1075000000 -1241000000   \nnetBorrowings                          -150000000  -150000000 -1500000000   \ntotalCashFromFinancingActivities      -4305000000 -4152000000 -5328000000   \nchangeToOperatingActivities            1316000000 -3574000000    81000000   \nnetIncome                              1963000000  5046000000  6230000000   \nchangeInCash                           1024000000 -2089000000   742000000   \nrepurchaseOfStock                     -2001000000 -1492000000 -1200000000   \ntotalCashFromOperatingActivities       6476000000  3138000000  7311000000   \ndepreciation                           1072000000  1055000000  1078000000   \notherCashflowsFromInvestingActivities    30000000   203000000   243000000   \ndividendsPaid                         -2163000000 -2347000000 -2556000000   \nchangeToInventory                       -79000000  -119000000  -622000000   \nchangeToAccountReceivables             -512000000 -1659000000   485000000   \notherCashflowsFromFinancingActivities  -141000000  -163000000   -72000000   \nchangeToNetincome                      3639000000   829000000   634000000   \ncapitalExpenditures                   -1177000000 -1278000000 -1484000000   \n\nLMT                                          2020  \nchangeToLiabilities                     119000000  \ntotalCashflowsFromInvestingActivities -2010000000  \nnetBorrowings                          -519000000  \ntotalCashFromFinancingActivities      -4527000000  \nchangeToOperatingActivities           -1197000000  \nnetIncome                              6833000000  \nchangeInCash                           1646000000  \nrepurchaseOfStock                     -1100000000  \ntotalCashFromOperatingActivities       8183000000  \ndepreciation                           1124000000  \notherCashflowsFromInvestingActivities    38000000  \ndividendsPaid                         -2764000000  \nchangeToInventory                        74000000  \nchangeToAccountReceivables              -92000000  \notherCashflowsFromFinancingActivities  -144000000  \nchangeToNetincome                      1175000000  \ncapitalExpenditures                   -1766000000  ",
      "text/html": "<div>\n<style scoped>\n    .dataframe tbody tr th:only-of-type {\n        vertical-align: middle;\n    }\n\n    .dataframe tbody tr th {\n        vertical-align: top;\n    }\n\n    .dataframe thead th {\n        text-align: right;\n    }\n</style>\n<table border=\"1\" class=\"dataframe\">\n  <thead>\n    <tr style=\"text-align: right;\">\n      <th>LMT</th>\n      <th>2017</th>\n      <th>2018</th>\n      <th>2019</th>\n      <th>2020</th>\n    </tr>\n  </thead>\n  <tbody>\n    <tr>\n      <th>changeToLiabilities</th>\n      <td>164000000</td>\n      <td>377000000</td>\n      <td>-535000000</td>\n      <td>119000000</td>\n    </tr>\n    <tr>\n      <th>totalCashflowsFromInvestingActivities</th>\n      <td>-1147000000</td>\n      <td>-1075000000</td>\n      <td>-1241000000</td>\n      <td>-2010000000</td>\n    </tr>\n    <tr>\n      <th>netBorrowings</th>\n      <td>-150000000</td>\n      <td>-150000000</td>\n      <td>-1500000000</td>\n      <td>-519000000</td>\n    </tr>\n    <tr>\n      <th>totalCashFromFinancingActivities</th>\n      <td>-4305000000</td>\n      <td>-4152000000</td>\n      <td>-5328000000</td>\n      <td>-4527000000</td>\n    </tr>\n    <tr>\n      <th>changeToOperatingActivities</th>\n      <td>1316000000</td>\n      <td>-3574000000</td>\n      <td>81000000</td>\n      <td>-1197000000</td>\n    </tr>\n    <tr>\n      <th>netIncome</th>\n      <td>1963000000</td>\n      <td>5046000000</td>\n      <td>6230000000</td>\n      <td>6833000000</td>\n    </tr>\n    <tr>\n      <th>changeInCash</th>\n      <td>1024000000</td>\n      <td>-2089000000</td>\n      <td>742000000</td>\n      <td>1646000000</td>\n    </tr>\n    <tr>\n      <th>repurchaseOfStock</th>\n      <td>-2001000000</td>\n      <td>-1492000000</td>\n      <td>-1200000000</td>\n      <td>-1100000000</td>\n    </tr>\n    <tr>\n      <th>totalCashFromOperatingActivities</th>\n      <td>6476000000</td>\n      <td>3138000000</td>\n      <td>7311000000</td>\n      <td>8183000000</td>\n    </tr>\n    <tr>\n      <th>depreciation</th>\n      <td>1072000000</td>\n      <td>1055000000</td>\n      <td>1078000000</td>\n      <td>1124000000</td>\n    </tr>\n    <tr>\n      <th>otherCashflowsFromInvestingActivities</th>\n      <td>30000000</td>\n      <td>203000000</td>\n      <td>243000000</td>\n      <td>38000000</td>\n    </tr>\n    <tr>\n      <th>dividendsPaid</th>\n      <td>-2163000000</td>\n      <td>-2347000000</td>\n      <td>-2556000000</td>\n      <td>-2764000000</td>\n    </tr>\n    <tr>\n      <th>changeToInventory</th>\n      <td>-79000000</td>\n      <td>-119000000</td>\n      <td>-622000000</td>\n      <td>74000000</td>\n    </tr>\n    <tr>\n      <th>changeToAccountReceivables</th>\n      <td>-512000000</td>\n      <td>-1659000000</td>\n      <td>485000000</td>\n      <td>-92000000</td>\n    </tr>\n    <tr>\n      <th>otherCashflowsFromFinancingActivities</th>\n      <td>-141000000</td>\n      <td>-163000000</td>\n      <td>-72000000</td>\n      <td>-144000000</td>\n    </tr>\n    <tr>\n      <th>changeToNetincome</th>\n      <td>3639000000</td>\n      <td>829000000</td>\n      <td>634000000</td>\n      <td>1175000000</td>\n    </tr>\n    <tr>\n      <th>capitalExpenditures</th>\n      <td>-1177000000</td>\n      <td>-1278000000</td>\n      <td>-1484000000</td>\n      <td>-1766000000</td>\n    </tr>\n  </tbody>\n</table>\n</div>"
     },
     "metadata": {}
    },
    {
     "output_type": "stream",
     "name": "stdout",
     "text": [
      "LMT_cashflowStatementHistory\n"
     ]
    },
    {
     "output_type": "display_data",
     "data": {
      "text/plain": "LMT                                       2017         2018         2019  \\\nresearchDevelopment                       None         None         None   \neffectOfAccountingCharges                 None         None         None   \nincomeBeforeTax                     5246000000   5838000000   7241000000   \nminorityInterest                      74000000     55000000     44000000   \nnetIncome                           1963000000   5046000000   6230000000   \nsellingGeneralAdministrative         746000000    777000000    608000000   \ngrossProfit                         6371000000   7370000000   8367000000   \nebit                                5593000000   6644000000   7698000000   \noperatingIncome                     5593000000   6644000000   7698000000   \notherOperatingExpenses                32000000    -51000000     61000000   \ninterestExpense                     -651000000   -668000000   -653000000   \nextraordinaryItems                        None         None         None   \nnonRecurring                              None         None         None   \notherItems                                None         None         None   \nincomeTaxExpense                    3356000000    792000000   1011000000   \ntotalRevenue                       49960000000  53762000000  59812000000   \ntotalOperatingExpenses             44367000000  47118000000  52114000000   \ncostOfRevenue                      43589000000  46392000000  51445000000   \ntotalOtherIncomeExpenseNet          -347000000   -806000000   -457000000   \ndiscontinuedOperations                73000000    -55000000    -55000000   \nnetIncomeFromContinuingOps          1890000000   5046000000   6230000000   \nnetIncomeApplicableToCommonShares   1963000000   5046000000   6230000000   \n\nLMT                                       2020  \nresearchDevelopment                       None  \neffectOfAccountingCharges                 None  \nincomeBeforeTax                     8235000000  \nminorityInterest                      23000000  \nnetIncome                           6833000000  \nsellingGeneralAdministrative        -241000000  \ngrossProfit                         8681000000  \nebit                                8877000000  \noperatingIncome                     8877000000  \notherOperatingExpenses                45000000  \ninterestExpense                     -591000000  \nextraordinaryItems                        None  \nnonRecurring                              None  \notherItems                                None  \nincomeTaxExpense                    1347000000  \ntotalRevenue                       65398000000  \ntotalOperatingExpenses             56521000000  \ncostOfRevenue                      56717000000  \ntotalOtherIncomeExpenseNet          -642000000  \ndiscontinuedOperations               -55000000  \nnetIncomeFromContinuingOps          6888000000  \nnetIncomeApplicableToCommonShares   6833000000  ",
      "text/html": "<div>\n<style scoped>\n    .dataframe tbody tr th:only-of-type {\n        vertical-align: middle;\n    }\n\n    .dataframe tbody tr th {\n        vertical-align: top;\n    }\n\n    .dataframe thead th {\n        text-align: right;\n    }\n</style>\n<table border=\"1\" class=\"dataframe\">\n  <thead>\n    <tr style=\"text-align: right;\">\n      <th>LMT</th>\n      <th>2017</th>\n      <th>2018</th>\n      <th>2019</th>\n      <th>2020</th>\n    </tr>\n  </thead>\n  <tbody>\n    <tr>\n      <th>researchDevelopment</th>\n      <td>None</td>\n      <td>None</td>\n      <td>None</td>\n      <td>None</td>\n    </tr>\n    <tr>\n      <th>effectOfAccountingCharges</th>\n      <td>None</td>\n      <td>None</td>\n      <td>None</td>\n      <td>None</td>\n    </tr>\n    <tr>\n      <th>incomeBeforeTax</th>\n      <td>5246000000</td>\n      <td>5838000000</td>\n      <td>7241000000</td>\n      <td>8235000000</td>\n    </tr>\n    <tr>\n      <th>minorityInterest</th>\n      <td>74000000</td>\n      <td>55000000</td>\n      <td>44000000</td>\n      <td>23000000</td>\n    </tr>\n    <tr>\n      <th>netIncome</th>\n      <td>1963000000</td>\n      <td>5046000000</td>\n      <td>6230000000</td>\n      <td>6833000000</td>\n    </tr>\n    <tr>\n      <th>sellingGeneralAdministrative</th>\n      <td>746000000</td>\n      <td>777000000</td>\n      <td>608000000</td>\n      <td>-241000000</td>\n    </tr>\n    <tr>\n      <th>grossProfit</th>\n      <td>6371000000</td>\n      <td>7370000000</td>\n      <td>8367000000</td>\n      <td>8681000000</td>\n    </tr>\n    <tr>\n      <th>ebit</th>\n      <td>5593000000</td>\n      <td>6644000000</td>\n      <td>7698000000</td>\n      <td>8877000000</td>\n    </tr>\n    <tr>\n      <th>operatingIncome</th>\n      <td>5593000000</td>\n      <td>6644000000</td>\n      <td>7698000000</td>\n      <td>8877000000</td>\n    </tr>\n    <tr>\n      <th>otherOperatingExpenses</th>\n      <td>32000000</td>\n      <td>-51000000</td>\n      <td>61000000</td>\n      <td>45000000</td>\n    </tr>\n    <tr>\n      <th>interestExpense</th>\n      <td>-651000000</td>\n      <td>-668000000</td>\n      <td>-653000000</td>\n      <td>-591000000</td>\n    </tr>\n    <tr>\n      <th>extraordinaryItems</th>\n      <td>None</td>\n      <td>None</td>\n      <td>None</td>\n      <td>None</td>\n    </tr>\n    <tr>\n      <th>nonRecurring</th>\n      <td>None</td>\n      <td>None</td>\n      <td>None</td>\n      <td>None</td>\n    </tr>\n    <tr>\n      <th>otherItems</th>\n      <td>None</td>\n      <td>None</td>\n      <td>None</td>\n      <td>None</td>\n    </tr>\n    <tr>\n      <th>incomeTaxExpense</th>\n      <td>3356000000</td>\n      <td>792000000</td>\n      <td>1011000000</td>\n      <td>1347000000</td>\n    </tr>\n    <tr>\n      <th>totalRevenue</th>\n      <td>49960000000</td>\n      <td>53762000000</td>\n      <td>59812000000</td>\n      <td>65398000000</td>\n    </tr>\n    <tr>\n      <th>totalOperatingExpenses</th>\n      <td>44367000000</td>\n      <td>47118000000</td>\n      <td>52114000000</td>\n      <td>56521000000</td>\n    </tr>\n    <tr>\n      <th>costOfRevenue</th>\n      <td>43589000000</td>\n      <td>46392000000</td>\n      <td>51445000000</td>\n      <td>56717000000</td>\n    </tr>\n    <tr>\n      <th>totalOtherIncomeExpenseNet</th>\n      <td>-347000000</td>\n      <td>-806000000</td>\n      <td>-457000000</td>\n      <td>-642000000</td>\n    </tr>\n    <tr>\n      <th>discontinuedOperations</th>\n      <td>73000000</td>\n      <td>-55000000</td>\n      <td>-55000000</td>\n      <td>-55000000</td>\n    </tr>\n    <tr>\n      <th>netIncomeFromContinuingOps</th>\n      <td>1890000000</td>\n      <td>5046000000</td>\n      <td>6230000000</td>\n      <td>6888000000</td>\n    </tr>\n    <tr>\n      <th>netIncomeApplicableToCommonShares</th>\n      <td>1963000000</td>\n      <td>5046000000</td>\n      <td>6230000000</td>\n      <td>6833000000</td>\n    </tr>\n  </tbody>\n</table>\n</div>"
     },
     "metadata": {}
    },
    {
     "output_type": "stream",
     "name": "stdout",
     "text": [
      "LMT_incomeStatementHistory\n"
     ]
    },
    {
     "output_type": "display_data",
     "data": {
      "text/plain": "LMT                                   2017          2018          2019  \\\nintangibleAssets              4.221000e+09  3.941000e+09  3.724000e+09   \ntotalLiab                     4.739600e+10  4.342700e+10  4.435700e+10   \ntotalStockholderEquity       -8.500000e+08  1.394000e+09  3.127000e+09   \nminorityInterest              7.400000e+07  5.500000e+07  4.400000e+07   \notherCurrentLiab              8.911000e+09  8.374000e+09  8.975000e+09   \ntotalAssets                   4.662000e+10  4.487600e+10  4.752800e+10   \ncommonStock                   2.840000e+08  2.810000e+08  2.800000e+08   \notherCurrentAssets            1.509000e+09  4.180000e+08  5.310000e+08   \nretainedEarnings              1.140500e+10  1.543400e+10  1.840100e+10   \notherLiab                     2.097000e+10  1.642500e+10  1.898100e+10   \ngoodWill                      1.080700e+10  1.076900e+10  1.060400e+10   \ntreasuryStock                -1.253900e+10 -1.432100e+10 -1.555400e+10   \notherAssets                   6.912000e+09  6.739000e+09  8.314000e+09   \ncash                          2.861000e+09  7.720000e+08  1.514000e+09   \ntotalCurrentLiabilities       1.291300e+10  1.439800e+10  1.397200e+10   \ndeferredLongTermAssetCharges  3.156000e+09  3.208000e+09  3.319000e+09   \nshortLongTermDebt             7.500000e+08  9.000000e+08  1.250000e+09   \notherStockholderEquity       -1.253900e+10 -1.432100e+10 -1.555400e+10   \npropertyPlantEquipment        5.775000e+09  6.124000e+09  6.591000e+09   \ntotalCurrentAssets            1.750500e+10  1.610300e+10  1.709500e+10   \nlongTermInvestments           1.400000e+09  1.200000e+09  1.200000e+09   \nnetTangibleAssets            -1.587800e+10 -1.331600e+10 -1.120100e+10   \nnetReceivables                1.025700e+10  1.191600e+10  1.143100e+10   \nlongTermDebt                  1.351300e+10  1.260400e+10  1.140400e+10   \ninventory                     2.878000e+09  2.997000e+09  3.619000e+09   \naccountsPayable               1.467000e+09  2.402000e+09  1.281000e+09   \ncapitalSurplus                         NaN           NaN           NaN   \n\nLMT                                  2020  \nintangibleAssets               3698000000  \ntotalLiab                     44672000000  \ntotalStockholderEquity         6015000000  \nminorityInterest                 23000000  \notherCurrentLiab               9116000000  \ntotalAssets                   50710000000  \ncommonStock                     279000000  \notherCurrentAssets             1150000000  \nretainedEarnings              21636000000  \notherLiab                     18229000000  \ngoodWill                      10806000000  \ntreasuryStock                -16121000000  \notherAssets                    7831000000  \ncash                           3160000000  \ntotalCurrentLiabilities       13933000000  \ndeferredLongTermAssetCharges   3475000000  \nshortLongTermDebt               500000000  \notherStockholderEquity       -16121000000  \npropertyPlantEquipment         8213000000  \ntotalCurrentAssets            19378000000  \nlongTermInvestments             784000000  \nnetTangibleAssets             -8489000000  \nnetReceivables                11523000000  \nlongTermDebt                  11669000000  \ninventory                      3545000000  \naccountsPayable                 880000000  \ncapitalSurplus                  221000000  ",
      "text/html": "<div>\n<style scoped>\n    .dataframe tbody tr th:only-of-type {\n        vertical-align: middle;\n    }\n\n    .dataframe tbody tr th {\n        vertical-align: top;\n    }\n\n    .dataframe thead th {\n        text-align: right;\n    }\n</style>\n<table border=\"1\" class=\"dataframe\">\n  <thead>\n    <tr style=\"text-align: right;\">\n      <th>LMT</th>\n      <th>2017</th>\n      <th>2018</th>\n      <th>2019</th>\n      <th>2020</th>\n    </tr>\n  </thead>\n  <tbody>\n    <tr>\n      <th>intangibleAssets</th>\n      <td>4.221000e+09</td>\n      <td>3.941000e+09</td>\n      <td>3.724000e+09</td>\n      <td>3698000000</td>\n    </tr>\n    <tr>\n      <th>totalLiab</th>\n      <td>4.739600e+10</td>\n      <td>4.342700e+10</td>\n      <td>4.435700e+10</td>\n      <td>44672000000</td>\n    </tr>\n    <tr>\n      <th>totalStockholderEquity</th>\n      <td>-8.500000e+08</td>\n      <td>1.394000e+09</td>\n      <td>3.127000e+09</td>\n      <td>6015000000</td>\n    </tr>\n    <tr>\n      <th>minorityInterest</th>\n      <td>7.400000e+07</td>\n      <td>5.500000e+07</td>\n      <td>4.400000e+07</td>\n      <td>23000000</td>\n    </tr>\n    <tr>\n      <th>otherCurrentLiab</th>\n      <td>8.911000e+09</td>\n      <td>8.374000e+09</td>\n      <td>8.975000e+09</td>\n      <td>9116000000</td>\n    </tr>\n    <tr>\n      <th>totalAssets</th>\n      <td>4.662000e+10</td>\n      <td>4.487600e+10</td>\n      <td>4.752800e+10</td>\n      <td>50710000000</td>\n    </tr>\n    <tr>\n      <th>commonStock</th>\n      <td>2.840000e+08</td>\n      <td>2.810000e+08</td>\n      <td>2.800000e+08</td>\n      <td>279000000</td>\n    </tr>\n    <tr>\n      <th>otherCurrentAssets</th>\n      <td>1.509000e+09</td>\n      <td>4.180000e+08</td>\n      <td>5.310000e+08</td>\n      <td>1150000000</td>\n    </tr>\n    <tr>\n      <th>retainedEarnings</th>\n      <td>1.140500e+10</td>\n      <td>1.543400e+10</td>\n      <td>1.840100e+10</td>\n      <td>21636000000</td>\n    </tr>\n    <tr>\n      <th>otherLiab</th>\n      <td>2.097000e+10</td>\n      <td>1.642500e+10</td>\n      <td>1.898100e+10</td>\n      <td>18229000000</td>\n    </tr>\n    <tr>\n      <th>goodWill</th>\n      <td>1.080700e+10</td>\n      <td>1.076900e+10</td>\n      <td>1.060400e+10</td>\n      <td>10806000000</td>\n    </tr>\n    <tr>\n      <th>treasuryStock</th>\n      <td>-1.253900e+10</td>\n      <td>-1.432100e+10</td>\n      <td>-1.555400e+10</td>\n      <td>-16121000000</td>\n    </tr>\n    <tr>\n      <th>otherAssets</th>\n      <td>6.912000e+09</td>\n      <td>6.739000e+09</td>\n      <td>8.314000e+09</td>\n      <td>7831000000</td>\n    </tr>\n    <tr>\n      <th>cash</th>\n      <td>2.861000e+09</td>\n      <td>7.720000e+08</td>\n      <td>1.514000e+09</td>\n      <td>3160000000</td>\n    </tr>\n    <tr>\n      <th>totalCurrentLiabilities</th>\n      <td>1.291300e+10</td>\n      <td>1.439800e+10</td>\n      <td>1.397200e+10</td>\n      <td>13933000000</td>\n    </tr>\n    <tr>\n      <th>deferredLongTermAssetCharges</th>\n      <td>3.156000e+09</td>\n      <td>3.208000e+09</td>\n      <td>3.319000e+09</td>\n      <td>3475000000</td>\n    </tr>\n    <tr>\n      <th>shortLongTermDebt</th>\n      <td>7.500000e+08</td>\n      <td>9.000000e+08</td>\n      <td>1.250000e+09</td>\n      <td>500000000</td>\n    </tr>\n    <tr>\n      <th>otherStockholderEquity</th>\n      <td>-1.253900e+10</td>\n      <td>-1.432100e+10</td>\n      <td>-1.555400e+10</td>\n      <td>-16121000000</td>\n    </tr>\n    <tr>\n      <th>propertyPlantEquipment</th>\n      <td>5.775000e+09</td>\n      <td>6.124000e+09</td>\n      <td>6.591000e+09</td>\n      <td>8213000000</td>\n    </tr>\n    <tr>\n      <th>totalCurrentAssets</th>\n      <td>1.750500e+10</td>\n      <td>1.610300e+10</td>\n      <td>1.709500e+10</td>\n      <td>19378000000</td>\n    </tr>\n    <tr>\n      <th>longTermInvestments</th>\n      <td>1.400000e+09</td>\n      <td>1.200000e+09</td>\n      <td>1.200000e+09</td>\n      <td>784000000</td>\n    </tr>\n    <tr>\n      <th>netTangibleAssets</th>\n      <td>-1.587800e+10</td>\n      <td>-1.331600e+10</td>\n      <td>-1.120100e+10</td>\n      <td>-8489000000</td>\n    </tr>\n    <tr>\n      <th>netReceivables</th>\n      <td>1.025700e+10</td>\n      <td>1.191600e+10</td>\n      <td>1.143100e+10</td>\n      <td>11523000000</td>\n    </tr>\n    <tr>\n      <th>longTermDebt</th>\n      <td>1.351300e+10</td>\n      <td>1.260400e+10</td>\n      <td>1.140400e+10</td>\n      <td>11669000000</td>\n    </tr>\n    <tr>\n      <th>inventory</th>\n      <td>2.878000e+09</td>\n      <td>2.997000e+09</td>\n      <td>3.619000e+09</td>\n      <td>3545000000</td>\n    </tr>\n    <tr>\n      <th>accountsPayable</th>\n      <td>1.467000e+09</td>\n      <td>2.402000e+09</td>\n      <td>1.281000e+09</td>\n      <td>880000000</td>\n    </tr>\n    <tr>\n      <th>capitalSurplus</th>\n      <td>NaN</td>\n      <td>NaN</td>\n      <td>NaN</td>\n      <td>221000000</td>\n    </tr>\n  </tbody>\n</table>\n</div>"
     },
     "metadata": {}
    },
    {
     "output_type": "stream",
     "name": "stdout",
     "text": [
      "LMT_balanceSheetHistory\n"
     ]
    }
   ],
   "source": [
    "cash_balance = Sheet_Data(ticker,cash)\n",
    "income_balance = Sheet_Data(ticker,income)\n",
    "balance_balance = Sheet_Data(ticker,balance)"
   ]
  },
  {
   "source": [
    "# Anaylsis"
   ],
   "cell_type": "markdown",
   "metadata": {}
  },
  {
   "cell_type": "code",
   "execution_count": 326,
   "metadata": {},
   "outputs": [],
   "source": [
    "FCF = cash_balance.loc[['totalCashFromOperatingActivities','capitalExpenditures','netIncome']] # how to select rows \n",
    "Revenue = income_balance.loc[['totalRevenue','netIncome']]\n",
    "Growth_Rate = Revenue.pct_change().mean()\n",
    "#FCF is CFO - CAPEX = FCF\n",
    "#FCF = cash_balance.loc[['totalCashFromOperatingActivities','capitalExpenditures','netBorrowings']] # More \n",
    "\n",
    "df = pd.DataFrame()\n",
    "df['FCF'] = FCF.loc['totalCashFromOperatingActivities'] + FCF.loc['capitalExpenditures']\n",
    "df['Net Income'] = FCF.loc['netIncome']\n",
    "#df['FCF/Net Income'] = df['FCF']/df['Net Income']\n",
    "minimum = (df['FCF']/df['Net Income']).min()\n"
   ]
  },
  {
   "source": [
    "\n",
    "average_factor = cash_balance.pct_change(axis = 1 ).mean(axis = 1 )\n",
    "average_factor = (100 + average_factor)/100\n",
    "df = cash_balance\n",
    "df['2021'] = cash_balance[cash_balance.columns[3]] * average_factor\n",
    "for i in range(0,4,1):\n",
    "    num =  int(df.columns[4]) + i\n",
    "\n",
    "    df['{}'.format(num)] = df['{}'.format(num - 1)] * average_factor\n",
    "\n",
    "df"
   ],
   "cell_type": "markdown",
   "metadata": {}
  },
  {
   "cell_type": "code",
   "execution_count": 211,
   "metadata": {},
   "outputs": [
    {
     "output_type": "error",
     "ename": "AttributeError",
     "evalue": "'numpy.float64' object has no attribute 'drop_index'",
     "traceback": [
      "\u001b[1;31m---------------------------------------------------------------------------\u001b[0m",
      "\u001b[1;31mAttributeError\u001b[0m                            Traceback (most recent call last)",
      "\u001b[1;32m<ipython-input-211-cd33bc426fc6>\u001b[0m in \u001b[0;36m<module>\u001b[1;34m\u001b[0m\n\u001b[0;32m     20\u001b[0m \u001b[0mgrowth\u001b[0m \u001b[1;33m=\u001b[0m \u001b[1;36m1\u001b[0m \u001b[1;33m+\u001b[0m \u001b[0mRevenue\u001b[0m\u001b[1;33m.\u001b[0m\u001b[0mT\u001b[0m\u001b[1;33m.\u001b[0m\u001b[0mpct_change\u001b[0m\u001b[1;33m(\u001b[0m\u001b[1;33m)\u001b[0m\u001b[1;33m.\u001b[0m\u001b[0msum\u001b[0m\u001b[1;33m(\u001b[0m\u001b[1;33m)\u001b[0m\u001b[1;33m/\u001b[0m\u001b[1;36m5\u001b[0m\u001b[1;33m\u001b[0m\u001b[1;33m\u001b[0m\u001b[0m\n\u001b[0;32m     21\u001b[0m \u001b[1;33m\u001b[0m\u001b[0m\n\u001b[1;32m---> 22\u001b[1;33m \u001b[0mRevenue1\u001b[0m\u001b[1;33m[\u001b[0m\u001b[1;34m'{}'\u001b[0m\u001b[1;33m.\u001b[0m\u001b[0mformat\u001b[0m\u001b[1;33m(\u001b[0m\u001b[0mstrs\u001b[0m\u001b[1;33m+\u001b[0m\u001b[1;36m3\u001b[0m\u001b[1;33m)\u001b[0m\u001b[1;33m]\u001b[0m \u001b[1;33m=\u001b[0m \u001b[0ml\u001b[0m\u001b[1;33m.\u001b[0m\u001b[0mdrop_index\u001b[0m\u001b[1;33m(\u001b[0m\u001b[1;33m)\u001b[0m \u001b[1;33m*\u001b[0m \u001b[0mgrowth\u001b[0m\u001b[1;33m\u001b[0m\u001b[1;33m\u001b[0m\u001b[0m\n\u001b[0m\u001b[0;32m     23\u001b[0m \u001b[0mRevenue1\u001b[0m\u001b[1;33m[\u001b[0m\u001b[1;34m'{}'\u001b[0m\u001b[1;33m.\u001b[0m\u001b[0mformat\u001b[0m\u001b[1;33m(\u001b[0m\u001b[0mstrs\u001b[0m\u001b[1;33m+\u001b[0m\u001b[1;36m4\u001b[0m\u001b[1;33m)\u001b[0m\u001b[1;33m]\u001b[0m \u001b[1;33m=\u001b[0m \u001b[0ml2\u001b[0m\u001b[1;33m.\u001b[0m\u001b[0mdrop_index\u001b[0m\u001b[1;33m(\u001b[0m\u001b[1;33m)\u001b[0m \u001b[1;33m*\u001b[0m \u001b[0mgrowth\u001b[0m\u001b[1;33m\u001b[0m\u001b[1;33m\u001b[0m\u001b[0m\n\u001b[0;32m     24\u001b[0m \u001b[0mRevenue\u001b[0m\u001b[1;33m.\u001b[0m\u001b[0mloc\u001b[0m\u001b[1;33m[\u001b[0m\u001b[1;34m'netIncome'\u001b[0m\u001b[1;33m]\u001b[0m\u001b[1;33m/\u001b[0m\u001b[0mRevenue\u001b[0m\u001b[1;33m.\u001b[0m\u001b[0mloc\u001b[0m\u001b[1;33m[\u001b[0m\u001b[1;34m'totalRevenue'\u001b[0m\u001b[1;33m]\u001b[0m\u001b[1;33m\u001b[0m\u001b[1;33m\u001b[0m\u001b[0m\n",
      "\u001b[1;31mAttributeError\u001b[0m: 'numpy.float64' object has no attribute 'drop_index'"
     ]
    }
   ],
   "source": [
    "#Anaylist esitmates \n",
    "df = pd.read_html('https://finance.yahoo.com/quote/AAPL/analysis?p=AAPL')\n",
    "df = df[1] \n",
    "df.index = df[df.columns[0]]\n",
    "df1 = df.index \n",
    "df1 = df[df.columns[3:5]]\n",
    "df1 = df1.drop(['Sales Growth (year/est)'])\n",
    "\n",
    "for i in df1.columns:\n",
    "    df1[i] = df1[i].str.replace('B','e9')\n",
    "    df1[i] = df1[i].astype(float)\n",
    "\n",
    "#df1.loc['Avg. Estimate']\n",
    "df1.loc['Avg. Estimate'].tolist()\n",
    "\n",
    "Revenue1 = Revenue.loc['totalRevenue']\n",
    "strs = int(Revenue.columns[3])\n",
    "Revenue1['{}'.format(strs+1)] = df1.loc['Avg. Estimate'][0]\n",
    "Revenue1['{}'.format(strs+2)] = df1.loc['Avg. Estimate'][1]\n",
    "growth = 1 + Revenue.T.pct_change().sum()/5\n",
    "\n",
    "Revenue1['{}'.format(strs+3)] = l.drop_index() * growth\n",
    "Revenue1['{}'.format(strs+4)] = l2.drop_index() * growth\n",
    "Revenue.loc['netIncome']/Revenue.loc['totalRevenue']"
   ]
  },
  {
   "cell_type": "code",
   "execution_count": 330,
   "metadata": {},
   "outputs": [
    {
     "output_type": "stream",
     "name": "stdout",
     "text": [
      "434.60495112604264\n341.69\n"
     ]
    }
   ],
   "source": [
    "outstanding_shares = stock['sharesOutstanding']\n",
    "\n",
    "Required_rate = .075\n",
    "Pre_rate = .025\n",
    "Cashflowgrowthrate = .03\n",
    "\n",
    "years = [1,2,3,4]\n",
    "freecash_flow = df['FCF'].values\n",
    "\n",
    "terminalvalue = freecash_flow[-1] * (1+Pre_rate)/(Required_rate - Pre_rate)\n",
    "\n",
    "futurefreecashflow = []\n",
    "discountfactor = []\n",
    "discountfuturefreecashflow = []\n",
    "for  year in years:\n",
    "    cashflow = freecash_flow[-1] * (1+ Cashflowgrowthrate) ** year \n",
    "    futurefreecashflow.append(cashflow)\n",
    "    discountfactor.append((1+ Required_rate)**year)\n",
    "\n",
    "\n",
    "for i in range(0,len(years)):\n",
    "    discountfuturefreecashflow.append(futurefreecashflow[i]/discountfactor[i])\n",
    "\n",
    "#print(discountfuturefreecashflow)\n",
    "dis = terminalvalue/(1+Required_rate)**len(years)\n",
    "discountfuturefreecashflow.append(dis)\n",
    "value = sum(discountfuturefreecashflow)\n",
    "fairvalue = value/outstanding_shares\n",
    "print(fairvalue)\n",
    "print(yahoo_financials.get_current_price())\n",
    "#print(stock.get_current_price())"
   ]
  },
  {
   "cell_type": "code",
   "execution_count": 320,
   "metadata": {},
   "outputs": [],
   "source": [
    "ticker = 'LMT'\n",
    "yahoo_financials = yfs(ticker)\n",
    "\n",
    "cash = yahoo_financials.get_financial_stmts('annual','cash')\n",
    "income = yahoo_financials.get_financial_stmts('annual','income')\n",
    "balance = yahoo_financials.get_financial_stmts('annual','balance')\n",
    "stock = yahoo_financials.get_key_statistics_data()[ticker]"
   ]
  },
  {
   "cell_type": "code",
   "execution_count": 286,
   "metadata": {},
   "outputs": [
    {
     "output_type": "execute_result",
     "data": {
      "text/plain": [
       "      Free Cash Flow     Cash Flow  discountfactor\n",
       "SQ                                                \n",
       "2017       101614000  2.504970e+08        1.070000\n",
       "2018       233877000  2.580119e+08        1.144900\n",
       "2019       403201000  2.657523e+08        1.225043\n",
       "2020       243201000  2.737249e+08        1.310796"
      ],
      "text/html": "<div>\n<style scoped>\n    .dataframe tbody tr th:only-of-type {\n        vertical-align: middle;\n    }\n\n    .dataframe tbody tr th {\n        vertical-align: top;\n    }\n\n    .dataframe thead th {\n        text-align: right;\n    }\n</style>\n<table border=\"1\" class=\"dataframe\">\n  <thead>\n    <tr style=\"text-align: right;\">\n      <th></th>\n      <th>Free Cash Flow</th>\n      <th>Cash Flow</th>\n      <th>discountfactor</th>\n    </tr>\n    <tr>\n      <th>SQ</th>\n      <th></th>\n      <th></th>\n      <th></th>\n    </tr>\n  </thead>\n  <tbody>\n    <tr>\n      <th>2017</th>\n      <td>101614000</td>\n      <td>2.504970e+08</td>\n      <td>1.070000</td>\n    </tr>\n    <tr>\n      <th>2018</th>\n      <td>233877000</td>\n      <td>2.580119e+08</td>\n      <td>1.144900</td>\n    </tr>\n    <tr>\n      <th>2019</th>\n      <td>403201000</td>\n      <td>2.657523e+08</td>\n      <td>1.225043</td>\n    </tr>\n    <tr>\n      <th>2020</th>\n      <td>243201000</td>\n      <td>2.737249e+08</td>\n      <td>1.310796</td>\n    </tr>\n  </tbody>\n</table>\n</div>"
     },
     "metadata": {},
     "execution_count": 286
    }
   ],
   "source": [
    "sample = pd.DataFrame()\n",
    "sample['Free Cash Flow'] = df['FCF']\n",
    "sample['Cash Flow'] = futurefreecashflow\n",
    "sample['discountfactor'] = discountfactor\n",
    "sample"
   ]
  },
  {
   "cell_type": "code",
   "execution_count": 324,
   "metadata": {},
   "outputs": [
    {
     "output_type": "execute_result",
     "data": {
      "text/plain": [
       "                                         0\n",
       "annualHoldingsTurnover                None\n",
       "enterpriseToRevenue                  1.639\n",
       "beta3Year                             None\n",
       "profitMargins                      0.10448\n",
       "enterpriseToEbitda                   10.72\n",
       "52WeekChange                     -0.098986\n",
       "morningStarRiskRating                 None\n",
       "forwardEps                           28.04\n",
       "revenueQuarterlyGrowth                None\n",
       "sharesOutstanding                279784000\n",
       "fundInceptionDate                        -\n",
       "annualReportExpenseRatio              None\n",
       "totalAssets                           None\n",
       "bookValue                           21.559\n",
       "sharesShort                        3813074\n",
       "sharesPercentSharesOut              0.0136\n",
       "fundFamily                            None\n",
       "lastFiscalYearEnd               1609372800\n",
       "heldPercentInstitutions            0.77792\n",
       "netIncomeToCommon               6888000000\n",
       "trailingEps                         24.304\n",
       "lastDividendValue                      2.6\n",
       "SandP52WeekChange                 0.239207\n",
       "priceToBook                        15.8491\n",
       "heldPercentInsiders                0.00075\n",
       "nextFiscalYearEnd               1672444800\n",
       "yield                                 None\n",
       "mostRecentQuarter               1609372800\n",
       "shortRatio                            1.95\n",
       "sharesShortPreviousMonthDate    2021-01-15\n",
       "floatShares                      238309198\n",
       "beta                              0.944503\n",
       "enterpriseValue               107211243520\n",
       "priceHint                                2\n",
       "threeYearAverageReturn                None\n",
       "lastSplitDate                   1999-01-04\n",
       "lastSplitFactor                        2:1\n",
       "legalType                             None\n",
       "lastDividendDate                2021-02-26\n",
       "morningStarOverallRating              None\n",
       "earningsQuarterlyGrowth              0.196\n",
       "priceToSalesTrailing12Months          None\n",
       "dateShortInterest               1613088000\n",
       "pegRatio                              2.13\n",
       "ytdReturn                             None\n",
       "forwardPE                          12.1858\n",
       "maxAge                                   1\n",
       "lastCapGain                           None\n",
       "shortPercentOfFloat                 0.0161\n",
       "sharesShortPriorMonth              2881932\n",
       "impliedSharesOutstanding              None\n",
       "category                              None\n",
       "fiveYearAverageReturn                 None"
      ],
      "text/html": "<div>\n<style scoped>\n    .dataframe tbody tr th:only-of-type {\n        vertical-align: middle;\n    }\n\n    .dataframe tbody tr th {\n        vertical-align: top;\n    }\n\n    .dataframe thead th {\n        text-align: right;\n    }\n</style>\n<table border=\"1\" class=\"dataframe\">\n  <thead>\n    <tr style=\"text-align: right;\">\n      <th></th>\n      <th>0</th>\n    </tr>\n  </thead>\n  <tbody>\n    <tr>\n      <th>annualHoldingsTurnover</th>\n      <td>None</td>\n    </tr>\n    <tr>\n      <th>enterpriseToRevenue</th>\n      <td>1.639</td>\n    </tr>\n    <tr>\n      <th>beta3Year</th>\n      <td>None</td>\n    </tr>\n    <tr>\n      <th>profitMargins</th>\n      <td>0.10448</td>\n    </tr>\n    <tr>\n      <th>enterpriseToEbitda</th>\n      <td>10.72</td>\n    </tr>\n    <tr>\n      <th>52WeekChange</th>\n      <td>-0.098986</td>\n    </tr>\n    <tr>\n      <th>morningStarRiskRating</th>\n      <td>None</td>\n    </tr>\n    <tr>\n      <th>forwardEps</th>\n      <td>28.04</td>\n    </tr>\n    <tr>\n      <th>revenueQuarterlyGrowth</th>\n      <td>None</td>\n    </tr>\n    <tr>\n      <th>sharesOutstanding</th>\n      <td>279784000</td>\n    </tr>\n    <tr>\n      <th>fundInceptionDate</th>\n      <td>-</td>\n    </tr>\n    <tr>\n      <th>annualReportExpenseRatio</th>\n      <td>None</td>\n    </tr>\n    <tr>\n      <th>totalAssets</th>\n      <td>None</td>\n    </tr>\n    <tr>\n      <th>bookValue</th>\n      <td>21.559</td>\n    </tr>\n    <tr>\n      <th>sharesShort</th>\n      <td>3813074</td>\n    </tr>\n    <tr>\n      <th>sharesPercentSharesOut</th>\n      <td>0.0136</td>\n    </tr>\n    <tr>\n      <th>fundFamily</th>\n      <td>None</td>\n    </tr>\n    <tr>\n      <th>lastFiscalYearEnd</th>\n      <td>1609372800</td>\n    </tr>\n    <tr>\n      <th>heldPercentInstitutions</th>\n      <td>0.77792</td>\n    </tr>\n    <tr>\n      <th>netIncomeToCommon</th>\n      <td>6888000000</td>\n    </tr>\n    <tr>\n      <th>trailingEps</th>\n      <td>24.304</td>\n    </tr>\n    <tr>\n      <th>lastDividendValue</th>\n      <td>2.6</td>\n    </tr>\n    <tr>\n      <th>SandP52WeekChange</th>\n      <td>0.239207</td>\n    </tr>\n    <tr>\n      <th>priceToBook</th>\n      <td>15.8491</td>\n    </tr>\n    <tr>\n      <th>heldPercentInsiders</th>\n      <td>0.00075</td>\n    </tr>\n    <tr>\n      <th>nextFiscalYearEnd</th>\n      <td>1672444800</td>\n    </tr>\n    <tr>\n      <th>yield</th>\n      <td>None</td>\n    </tr>\n    <tr>\n      <th>mostRecentQuarter</th>\n      <td>1609372800</td>\n    </tr>\n    <tr>\n      <th>shortRatio</th>\n      <td>1.95</td>\n    </tr>\n    <tr>\n      <th>sharesShortPreviousMonthDate</th>\n      <td>2021-01-15</td>\n    </tr>\n    <tr>\n      <th>floatShares</th>\n      <td>238309198</td>\n    </tr>\n    <tr>\n      <th>beta</th>\n      <td>0.944503</td>\n    </tr>\n    <tr>\n      <th>enterpriseValue</th>\n      <td>107211243520</td>\n    </tr>\n    <tr>\n      <th>priceHint</th>\n      <td>2</td>\n    </tr>\n    <tr>\n      <th>threeYearAverageReturn</th>\n      <td>None</td>\n    </tr>\n    <tr>\n      <th>lastSplitDate</th>\n      <td>1999-01-04</td>\n    </tr>\n    <tr>\n      <th>lastSplitFactor</th>\n      <td>2:1</td>\n    </tr>\n    <tr>\n      <th>legalType</th>\n      <td>None</td>\n    </tr>\n    <tr>\n      <th>lastDividendDate</th>\n      <td>2021-02-26</td>\n    </tr>\n    <tr>\n      <th>morningStarOverallRating</th>\n      <td>None</td>\n    </tr>\n    <tr>\n      <th>earningsQuarterlyGrowth</th>\n      <td>0.196</td>\n    </tr>\n    <tr>\n      <th>priceToSalesTrailing12Months</th>\n      <td>None</td>\n    </tr>\n    <tr>\n      <th>dateShortInterest</th>\n      <td>1613088000</td>\n    </tr>\n    <tr>\n      <th>pegRatio</th>\n      <td>2.13</td>\n    </tr>\n    <tr>\n      <th>ytdReturn</th>\n      <td>None</td>\n    </tr>\n    <tr>\n      <th>forwardPE</th>\n      <td>12.1858</td>\n    </tr>\n    <tr>\n      <th>maxAge</th>\n      <td>1</td>\n    </tr>\n    <tr>\n      <th>lastCapGain</th>\n      <td>None</td>\n    </tr>\n    <tr>\n      <th>shortPercentOfFloat</th>\n      <td>0.0161</td>\n    </tr>\n    <tr>\n      <th>sharesShortPriorMonth</th>\n      <td>2881932</td>\n    </tr>\n    <tr>\n      <th>impliedSharesOutstanding</th>\n      <td>None</td>\n    </tr>\n    <tr>\n      <th>category</th>\n      <td>None</td>\n    </tr>\n    <tr>\n      <th>fiveYearAverageReturn</th>\n      <td>None</td>\n    </tr>\n  </tbody>\n</table>\n</div>"
     },
     "metadata": {},
     "execution_count": 324
    }
   ],
   "source": [
    "df = pd.DataFrame.from_dict({(i): stock[i] \n",
    "                            for i in stock.keys() \n",
    "                            },\n",
    "                        orient='index')\n",
    "df"
   ]
  },
  {
   "source": [
    "aapl.info['sharesOutstanding']\n",
    "stock.keys()"
   ],
   "cell_type": "code",
   "metadata": {},
   "execution_count": 319,
   "outputs": [
    {
     "output_type": "execute_result",
     "data": {
      "text/plain": [
       "dict_keys(['annualHoldingsTurnover', 'enterpriseToRevenue', 'beta3Year', 'profitMargins', 'enterpriseToEbitda', '52WeekChange', 'morningStarRiskRating', 'forwardEps', 'revenueQuarterlyGrowth', 'sharesOutstanding', 'fundInceptionDate', 'annualReportExpenseRatio', 'totalAssets', 'bookValue', 'sharesShort', 'sharesPercentSharesOut', 'fundFamily', 'lastFiscalYearEnd', 'heldPercentInstitutions', 'netIncomeToCommon', 'trailingEps', 'lastDividendValue', 'SandP52WeekChange', 'priceToBook', 'heldPercentInsiders', 'nextFiscalYearEnd', 'yield', 'mostRecentQuarter', 'shortRatio', 'sharesShortPreviousMonthDate', 'floatShares', 'beta', 'enterpriseValue', 'priceHint', 'threeYearAverageReturn', 'lastSplitDate', 'lastSplitFactor', 'legalType', 'lastDividendDate', 'morningStarOverallRating', 'earningsQuarterlyGrowth', 'priceToSalesTrailing12Months', 'dateShortInterest', 'pegRatio', 'ytdReturn', 'forwardPE', 'maxAge', 'lastCapGain', 'shortPercentOfFloat', 'sharesShortPriorMonth', 'impliedSharesOutstanding', 'category', 'fiveYearAverageReturn'])"
      ]
     },
     "metadata": {},
     "execution_count": 319
    }
   ]
  },
  {
   "cell_type": "code",
   "execution_count": 318,
   "metadata": {},
   "outputs": [
    {
     "output_type": "execute_result",
     "data": {
      "text/plain": [
       "                                         0\n",
       "annualHoldingsTurnover                None\n",
       "enterpriseToRevenue                 10.685\n",
       "beta3Year                             None\n",
       "profitMargins                      0.17534\n",
       "enterpriseToEbitda                 107.201\n",
       "52WeekChange                      0.396863\n",
       "morningStarRiskRating                 None\n",
       "forwardEps                             3.5\n",
       "revenueQuarterlyGrowth                None\n",
       "sharesOutstanding                917734976\n",
       "fundInceptionDate                        -\n",
       "annualReportExpenseRatio              None\n",
       "totalAssets                           None\n",
       "bookValue                           44.103\n",
       "sharesShort                       23671388\n",
       "sharesPercentSharesOut              0.0258\n",
       "fundFamily                            None\n",
       "lastFiscalYearEnd               1580428800\n",
       "heldPercentInstitutions            0.83468\n",
       "netIncomeToCommon               3556999936\n",
       "trailingEps                          3.858\n",
       "lastDividendValue                     None\n",
       "SandP52WeekChange                 0.239207\n",
       "priceToBook                        5.23955\n",
       "heldPercentInsiders                0.03615\n",
       "nextFiscalYearEnd               1643587200\n",
       "yield                                 None\n",
       "mostRecentQuarter               1604102400\n",
       "shortRatio                            3.51\n",
       "sharesShortPreviousMonthDate    2021-01-15\n",
       "floatShares                      881748900\n",
       "beta                               1.12166\n",
       "enterpriseValue               216761057280\n",
       "priceHint                                2\n",
       "threeYearAverageReturn                None\n",
       "lastSplitDate                   2013-04-18\n",
       "lastSplitFactor                        4:1\n",
       "legalType                             None\n",
       "lastDividendDate                         -\n",
       "morningStarOverallRating              None\n",
       "earningsQuarterlyGrowth               None\n",
       "priceToSalesTrailing12Months          None\n",
       "dateShortInterest               1613088000\n",
       "pegRatio                              2.72\n",
       "ytdReturn                             None\n",
       "forwardPE                          66.0229\n",
       "maxAge                                   1\n",
       "lastCapGain                           None\n",
       "shortPercentOfFloat                 0.0299\n",
       "sharesShortPriorMonth             24115577\n",
       "impliedSharesOutstanding              None\n",
       "category                              None\n",
       "fiveYearAverageReturn                 None"
      ],
      "text/html": "<div>\n<style scoped>\n    .dataframe tbody tr th:only-of-type {\n        vertical-align: middle;\n    }\n\n    .dataframe tbody tr th {\n        vertical-align: top;\n    }\n\n    .dataframe thead th {\n        text-align: right;\n    }\n</style>\n<table border=\"1\" class=\"dataframe\">\n  <thead>\n    <tr style=\"text-align: right;\">\n      <th></th>\n      <th>0</th>\n    </tr>\n  </thead>\n  <tbody>\n    <tr>\n      <th>annualHoldingsTurnover</th>\n      <td>None</td>\n    </tr>\n    <tr>\n      <th>enterpriseToRevenue</th>\n      <td>10.685</td>\n    </tr>\n    <tr>\n      <th>beta3Year</th>\n      <td>None</td>\n    </tr>\n    <tr>\n      <th>profitMargins</th>\n      <td>0.17534</td>\n    </tr>\n    <tr>\n      <th>enterpriseToEbitda</th>\n      <td>107.201</td>\n    </tr>\n    <tr>\n      <th>52WeekChange</th>\n      <td>0.396863</td>\n    </tr>\n    <tr>\n      <th>morningStarRiskRating</th>\n      <td>None</td>\n    </tr>\n    <tr>\n      <th>forwardEps</th>\n      <td>3.5</td>\n    </tr>\n    <tr>\n      <th>revenueQuarterlyGrowth</th>\n      <td>None</td>\n    </tr>\n    <tr>\n      <th>sharesOutstanding</th>\n      <td>917734976</td>\n    </tr>\n    <tr>\n      <th>fundInceptionDate</th>\n      <td>-</td>\n    </tr>\n    <tr>\n      <th>annualReportExpenseRatio</th>\n      <td>None</td>\n    </tr>\n    <tr>\n      <th>totalAssets</th>\n      <td>None</td>\n    </tr>\n    <tr>\n      <th>bookValue</th>\n      <td>44.103</td>\n    </tr>\n    <tr>\n      <th>sharesShort</th>\n      <td>23671388</td>\n    </tr>\n    <tr>\n      <th>sharesPercentSharesOut</th>\n      <td>0.0258</td>\n    </tr>\n    <tr>\n      <th>fundFamily</th>\n      <td>None</td>\n    </tr>\n    <tr>\n      <th>lastFiscalYearEnd</th>\n      <td>1580428800</td>\n    </tr>\n    <tr>\n      <th>heldPercentInstitutions</th>\n      <td>0.83468</td>\n    </tr>\n    <tr>\n      <th>netIncomeToCommon</th>\n      <td>3556999936</td>\n    </tr>\n    <tr>\n      <th>trailingEps</th>\n      <td>3.858</td>\n    </tr>\n    <tr>\n      <th>lastDividendValue</th>\n      <td>None</td>\n    </tr>\n    <tr>\n      <th>SandP52WeekChange</th>\n      <td>0.239207</td>\n    </tr>\n    <tr>\n      <th>priceToBook</th>\n      <td>5.23955</td>\n    </tr>\n    <tr>\n      <th>heldPercentInsiders</th>\n      <td>0.03615</td>\n    </tr>\n    <tr>\n      <th>nextFiscalYearEnd</th>\n      <td>1643587200</td>\n    </tr>\n    <tr>\n      <th>yield</th>\n      <td>None</td>\n    </tr>\n    <tr>\n      <th>mostRecentQuarter</th>\n      <td>1604102400</td>\n    </tr>\n    <tr>\n      <th>shortRatio</th>\n      <td>3.51</td>\n    </tr>\n    <tr>\n      <th>sharesShortPreviousMonthDate</th>\n      <td>2021-01-15</td>\n    </tr>\n    <tr>\n      <th>floatShares</th>\n      <td>881748900</td>\n    </tr>\n    <tr>\n      <th>beta</th>\n      <td>1.12166</td>\n    </tr>\n    <tr>\n      <th>enterpriseValue</th>\n      <td>216761057280</td>\n    </tr>\n    <tr>\n      <th>priceHint</th>\n      <td>2</td>\n    </tr>\n    <tr>\n      <th>threeYearAverageReturn</th>\n      <td>None</td>\n    </tr>\n    <tr>\n      <th>lastSplitDate</th>\n      <td>2013-04-18</td>\n    </tr>\n    <tr>\n      <th>lastSplitFactor</th>\n      <td>4:1</td>\n    </tr>\n    <tr>\n      <th>legalType</th>\n      <td>None</td>\n    </tr>\n    <tr>\n      <th>lastDividendDate</th>\n      <td>-</td>\n    </tr>\n    <tr>\n      <th>morningStarOverallRating</th>\n      <td>None</td>\n    </tr>\n    <tr>\n      <th>earningsQuarterlyGrowth</th>\n      <td>None</td>\n    </tr>\n    <tr>\n      <th>priceToSalesTrailing12Months</th>\n      <td>None</td>\n    </tr>\n    <tr>\n      <th>dateShortInterest</th>\n      <td>1613088000</td>\n    </tr>\n    <tr>\n      <th>pegRatio</th>\n      <td>2.72</td>\n    </tr>\n    <tr>\n      <th>ytdReturn</th>\n      <td>None</td>\n    </tr>\n    <tr>\n      <th>forwardPE</th>\n      <td>66.0229</td>\n    </tr>\n    <tr>\n      <th>maxAge</th>\n      <td>1</td>\n    </tr>\n    <tr>\n      <th>lastCapGain</th>\n      <td>None</td>\n    </tr>\n    <tr>\n      <th>shortPercentOfFloat</th>\n      <td>0.0299</td>\n    </tr>\n    <tr>\n      <th>sharesShortPriorMonth</th>\n      <td>24115577</td>\n    </tr>\n    <tr>\n      <th>impliedSharesOutstanding</th>\n      <td>None</td>\n    </tr>\n    <tr>\n      <th>category</th>\n      <td>None</td>\n    </tr>\n    <tr>\n      <th>fiveYearAverageReturn</th>\n      <td>None</td>\n    </tr>\n  </tbody>\n</table>\n</div>"
     },
     "metadata": {},
     "execution_count": 318
    }
   ],
   "source": [
    "pd.DataFrame.from_dict({(i): stock[i] \n",
    "for i in stock.keys()},orient='index')"
   ]
  },
  {
   "source": [
    "# Testing for working all of the files work"
   ],
   "cell_type": "markdown",
   "metadata": {}
  },
  {
   "source": [
    "df = pd.DataFrame.from_dict({(i,j): balance_sheet_data[i][j] \n",
    "                           for i in balance_sheet_data.keys() \n",
    "                           for j in balance_sheet_data[i].keys()},\n",
    "                       orient='index')\n",
    "for i in df.columns:\n",
    "    df[i].tolist()\n",
    "    df2 = pd.json_normalize(df[i],max_level = 1)\n",
    "\n",
    "    #Gets  Date and renames \n",
    "    Date = df2.columns[0]\n",
    "    Date = Date[0:11]\n",
    "    df2.index = df2.index.rename(ticker)\n",
    "    df2.columns = df2.columns.str.replace(str(Date),'')\n",
    "\n",
    "    #Tranposes DataFrame and changes it to the \n",
    "    df2 = df2.T\n",
    "    df2.rename(columns = {df2.columns[0]:'{}'.format(str(Date[0:10]))},inplace = True)\n",
    "    #display(df2)\n",
    "    save.append(df2)\n",
    "df3 = pd.concat(save,axis = 1)\n",
    "display(df3)"
   ],
   "cell_type": "markdown",
   "metadata": {}
  }
 ]
}