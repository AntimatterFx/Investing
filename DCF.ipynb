{
 "metadata": {
  "language_info": {
   "codemirror_mode": {
    "name": "ipython",
    "version": 3
   },
   "file_extension": ".py",
   "mimetype": "text/x-python",
   "name": "python",
   "nbconvert_exporter": "python",
   "pygments_lexer": "ipython3",
   "version": "3.8.5-final"
  },
  "orig_nbformat": 2,
  "kernelspec": {
   "name": "python3",
   "display_name": "Python 3",
   "language": "python"
  }
 },
 "nbformat": 4,
 "nbformat_minor": 2,
 "cells": [
  {
   "cell_type": "code",
   "execution_count": 39,
   "metadata": {},
   "outputs": [],
   "source": [
    "import pandas as pd\n",
    "import yfinance as yf\n",
    "from yahoofinancials import YahooFinancials as yfs\n",
    "import json"
   ]
  },
  {
   "cell_type": "code",
   "execution_count": 40,
   "metadata": {},
   "outputs": [],
   "source": [
    "#!pip install yahoofinancials"
   ]
  },
  {
   "cell_type": "code",
   "execution_count": 41,
   "metadata": {},
   "outputs": [],
   "source": [
    "def Sheet_Data(ticker,sheet_data):\n",
    "    save = []\n",
    "    \n",
    "    df = pd.DataFrame.from_dict({(i,j): sheet_data[i][j] \n",
    "                            for i in sheet_data.keys() \n",
    "                            for j in sheet_data[i].keys()},\n",
    "                        orient='index')\n",
    "\n",
    "    for i in df.columns:\n",
    "        f = len(df.columns) - i - 1\n",
    "        df2 = pd.json_normalize(df[f],max_level = 1)\n",
    "\n",
    "        #Gets  Date and renames \n",
    "        Date = df2.columns[0]\n",
    "        Date = Date[0:11]\n",
    "        df2.index = df2.index.rename(ticker)\n",
    "        df2.columns = df2.columns.str.replace(str(Date),'')\n",
    "\n",
    "        #Tranposes DataFrame and changes it to the \n",
    "        df2 = df2.T\n",
    "        df2.rename(columns = {df2.columns[0]:'{}'.format(str(Date[0:4]))},inplace = True)\n",
    "        #display(df2)\n",
    "        save.append(df2)\n",
    "    df3 = pd.concat(save,axis = 1)\n",
    "    #display(df3)\n",
    "    filename = str(df.index[0][1]) + '_' + str(df.index[0][0])\n",
    "    print(filename)\n",
    "    #df3.to_csv('{}.csv'.format(filename))\n",
    "    return df3\n",
    "#filename = str(df.index[0][1]) + '_' + str(df.index[0][0])\n",
    "#df3.t"
   ]
  },
  {
   "cell_type": "code",
   "execution_count": 42,
   "metadata": {},
   "outputs": [
    {
     "output_type": "stream",
     "name": "stdout",
     "text": [
      "FB_cashflowStatementHistory\nFB_incomeStatementHistory\nFB_balanceSheetHistory\n"
     ]
    }
   ],
   "source": [
    "ticker = 'FB'\n",
    "yahoo_financials = yfs(ticker)\n",
    "\n",
    "cash = yahoo_financials.get_financial_stmts('annual','cash')\n",
    "income = yahoo_financials.get_financial_stmts('annual','income')\n",
    "balance = yahoo_financials.get_financial_stmts('annual','balance')\n",
    "stock = yahoo_financials.get_key_statistics_data()[ticker]\n",
    "\n",
    "cash_balance = Sheet_Data(ticker,cash)\n",
    "income_balance = Sheet_Data(ticker,income)\n",
    "balance_balance = Sheet_Data(ticker,balance)"
   ]
  },
  {
   "cell_type": "code",
   "execution_count": 43,
   "metadata": {},
   "outputs": [],
   "source": [
    "#WACC = Wd * Rd * (1 - t) + We + Re\n",
    "INCOME2 = income_balance.loc[['incomeBeforeTax','incomeTaxExpense']]\n",
    "t = income_balance.loc['incomeBeforeTax']/ income_balance.loc['incomeTaxExpense']\n",
    "t = t[-1]/ 100 "
   ]
  },
  {
   "cell_type": "code",
   "execution_count": 47,
   "metadata": {},
   "outputs": [
    {
     "output_type": "error",
     "ename": "SyntaxError",
     "evalue": "default 'except:' must be last (<ipython-input-47-4e56bf184a36>, line 13)",
     "traceback": [
      "\u001b[1;36m  File \u001b[1;32m\"<ipython-input-47-4e56bf184a36>\"\u001b[1;36m, line \u001b[1;32m13\u001b[0m\n\u001b[1;33m    Balance2 = balance_balance.loc[['shortLongTermDebt','longTermDebt']]#.astype#(float)\u001b[0m\n\u001b[1;37m    ^\u001b[0m\n\u001b[1;31mSyntaxError\u001b[0m\u001b[1;31m:\u001b[0m default 'except:' must be last\n"
     ]
    }
   ],
   "source": [
    "yahoo_financials.get_beta()\n",
    "df = pd.read_html('https://finance.yahoo.com/bonds')\n",
    "Rf = float(df[0]['Last Price'][2])\n",
    "try: \n",
    "    beta = float(yahoo_financials.get_beta())\n",
    "except:\n",
    "    beta = 0\n",
    "Rm = float(10.0)\n",
    "Ra = Rf + beta * (Rm - Rf)\n",
    "#print(Ra)\n",
    "\n",
    "try:\n",
    "    Balance2 = balance_balance.loc[['shortLongTermDebt','longTermDebt']]#.astype#(float)\n",
    "except:\n",
    "    Balance2 = balance_balance.loc[['longTermDebt']]\n",
    "except:\n",
    "    Balance2 = balance_balance.loc[['totaldebt']]\n",
    "Total_debt = Balance2.sum()[-1] \n",
    "Balance2 =   -(income_balance.loc['interestExpense'][-1]) / Total_debt\n",
    "Rd = (1-Balance2) * t #  Rd * (1 - t)\n",
    "Balance2.sum()"
   ]
  },
  {
   "cell_type": "code",
   "execution_count": 48,
   "metadata": {},
   "outputs": [
    {
     "output_type": "execute_result",
     "data": {
      "text/plain": [
       "Index(['intangibleAssets', 'capitalSurplus', 'totalLiab',\n",
       "       'totalStockholderEquity', 'otherCurrentLiab', 'totalAssets',\n",
       "       'otherCurrentAssets', 'retainedEarnings', 'otherLiab', 'goodWill',\n",
       "       'treasuryStock', 'otherAssets', 'cash', 'totalCurrentLiabilities',\n",
       "       'otherStockholderEquity', 'propertyPlantEquipment',\n",
       "       'totalCurrentAssets', 'netTangibleAssets', 'shortTermInvestments',\n",
       "       'netReceivables', 'accountsPayable', 'commonStock',\n",
       "       'longTermInvestments'],\n",
       "      dtype='object')"
      ]
     },
     "metadata": {},
     "execution_count": 48
    }
   ],
   "source": [
    "balance_balance.index"
   ]
  },
  {
   "cell_type": "code",
   "execution_count": 29,
   "metadata": {},
   "outputs": [
    {
     "output_type": "execute_result",
     "data": {
      "text/plain": [
       "SQ                             2017        2018        2019        2020\n",
       "intangibleAssets           14334000    77102000    69079000   137612000\n",
       "capitalSurplus           1630386000  2012328000  2223749000  2955464000\n",
       "totalLiab                1400937000  2160522000  2836208000  7187981000\n",
       "totalStockholderEquity    786333000  1120501000  1715050000  2681569000\n",
       "otherCurrentLiab          903784000   899771000  1496307000  3435464000\n",
       "totalAssets              2187270000  3281023000  4551258000  9869550000\n",
       "otherCurrentAssets        230782000   503891000   919950000  2597590000\n",
       "retainedEarnings         -842735000  -885774000  -510328000  -297223000\n",
       "otherLiab                  69538000   242286000    94461000    85291000\n",
       "goodWill                   58327000   261705000   266345000   316701000\n",
       "treasuryStock              -1318000    -6053000     1629000    23328000\n",
       "otherAssets                16152000    28887000    86388000    40482000\n",
       "cash                      696474000   583173000  1047118000  3158058000\n",
       "totalCurrentLiabilities   972827000  1018541000  1694085000  4126104000\n",
       "otherStockholderEquity     -1318000    -6053000     1629000    23328000\n",
       "propertyPlantEquipment     91496000   291402000   262342000   690408000\n",
       "totalCurrentAssets       1778294000  2111905000  3219801000  7761629000\n",
       "longTermInvestments       228667000   510022000   647303000   922718000\n",
       "netTangibleAssets         713672000   781694000  1379626000  2227256000\n",
       "shortTermInvestments      169576000   540991000   492456000   695112000\n",
       "netReceivables            650212000   433441000   689836000  1215461000\n",
       "longTermDebt              358572000   899695000   938832000  2586924000\n",
       "inventory                  16777000    28627000    47683000    61129000\n",
       "accountsPayable            16763000    36416000    42116000    47089000"
      ],
      "text/html": "<div>\n<style scoped>\n    .dataframe tbody tr th:only-of-type {\n        vertical-align: middle;\n    }\n\n    .dataframe tbody tr th {\n        vertical-align: top;\n    }\n\n    .dataframe thead th {\n        text-align: right;\n    }\n</style>\n<table border=\"1\" class=\"dataframe\">\n  <thead>\n    <tr style=\"text-align: right;\">\n      <th>SQ</th>\n      <th>2017</th>\n      <th>2018</th>\n      <th>2019</th>\n      <th>2020</th>\n    </tr>\n  </thead>\n  <tbody>\n    <tr>\n      <th>intangibleAssets</th>\n      <td>14334000</td>\n      <td>77102000</td>\n      <td>69079000</td>\n      <td>137612000</td>\n    </tr>\n    <tr>\n      <th>capitalSurplus</th>\n      <td>1630386000</td>\n      <td>2012328000</td>\n      <td>2223749000</td>\n      <td>2955464000</td>\n    </tr>\n    <tr>\n      <th>totalLiab</th>\n      <td>1400937000</td>\n      <td>2160522000</td>\n      <td>2836208000</td>\n      <td>7187981000</td>\n    </tr>\n    <tr>\n      <th>totalStockholderEquity</th>\n      <td>786333000</td>\n      <td>1120501000</td>\n      <td>1715050000</td>\n      <td>2681569000</td>\n    </tr>\n    <tr>\n      <th>otherCurrentLiab</th>\n      <td>903784000</td>\n      <td>899771000</td>\n      <td>1496307000</td>\n      <td>3435464000</td>\n    </tr>\n    <tr>\n      <th>totalAssets</th>\n      <td>2187270000</td>\n      <td>3281023000</td>\n      <td>4551258000</td>\n      <td>9869550000</td>\n    </tr>\n    <tr>\n      <th>otherCurrentAssets</th>\n      <td>230782000</td>\n      <td>503891000</td>\n      <td>919950000</td>\n      <td>2597590000</td>\n    </tr>\n    <tr>\n      <th>retainedEarnings</th>\n      <td>-842735000</td>\n      <td>-885774000</td>\n      <td>-510328000</td>\n      <td>-297223000</td>\n    </tr>\n    <tr>\n      <th>otherLiab</th>\n      <td>69538000</td>\n      <td>242286000</td>\n      <td>94461000</td>\n      <td>85291000</td>\n    </tr>\n    <tr>\n      <th>goodWill</th>\n      <td>58327000</td>\n      <td>261705000</td>\n      <td>266345000</td>\n      <td>316701000</td>\n    </tr>\n    <tr>\n      <th>treasuryStock</th>\n      <td>-1318000</td>\n      <td>-6053000</td>\n      <td>1629000</td>\n      <td>23328000</td>\n    </tr>\n    <tr>\n      <th>otherAssets</th>\n      <td>16152000</td>\n      <td>28887000</td>\n      <td>86388000</td>\n      <td>40482000</td>\n    </tr>\n    <tr>\n      <th>cash</th>\n      <td>696474000</td>\n      <td>583173000</td>\n      <td>1047118000</td>\n      <td>3158058000</td>\n    </tr>\n    <tr>\n      <th>totalCurrentLiabilities</th>\n      <td>972827000</td>\n      <td>1018541000</td>\n      <td>1694085000</td>\n      <td>4126104000</td>\n    </tr>\n    <tr>\n      <th>otherStockholderEquity</th>\n      <td>-1318000</td>\n      <td>-6053000</td>\n      <td>1629000</td>\n      <td>23328000</td>\n    </tr>\n    <tr>\n      <th>propertyPlantEquipment</th>\n      <td>91496000</td>\n      <td>291402000</td>\n      <td>262342000</td>\n      <td>690408000</td>\n    </tr>\n    <tr>\n      <th>totalCurrentAssets</th>\n      <td>1778294000</td>\n      <td>2111905000</td>\n      <td>3219801000</td>\n      <td>7761629000</td>\n    </tr>\n    <tr>\n      <th>longTermInvestments</th>\n      <td>228667000</td>\n      <td>510022000</td>\n      <td>647303000</td>\n      <td>922718000</td>\n    </tr>\n    <tr>\n      <th>netTangibleAssets</th>\n      <td>713672000</td>\n      <td>781694000</td>\n      <td>1379626000</td>\n      <td>2227256000</td>\n    </tr>\n    <tr>\n      <th>shortTermInvestments</th>\n      <td>169576000</td>\n      <td>540991000</td>\n      <td>492456000</td>\n      <td>695112000</td>\n    </tr>\n    <tr>\n      <th>netReceivables</th>\n      <td>650212000</td>\n      <td>433441000</td>\n      <td>689836000</td>\n      <td>1215461000</td>\n    </tr>\n    <tr>\n      <th>longTermDebt</th>\n      <td>358572000</td>\n      <td>899695000</td>\n      <td>938832000</td>\n      <td>2586924000</td>\n    </tr>\n    <tr>\n      <th>inventory</th>\n      <td>16777000</td>\n      <td>28627000</td>\n      <td>47683000</td>\n      <td>61129000</td>\n    </tr>\n    <tr>\n      <th>accountsPayable</th>\n      <td>16763000</td>\n      <td>36416000</td>\n      <td>42116000</td>\n      <td>47089000</td>\n    </tr>\n  </tbody>\n</table>\n</div>"
     },
     "metadata": {},
     "execution_count": 29
    }
   ],
   "source": [
    "balance_balance"
   ]
  },
  {
   "cell_type": "code",
   "execution_count": 30,
   "metadata": {},
   "outputs": [
    {
     "output_type": "execute_result",
     "data": {
      "text/plain": [
       "'\\nAAPL\\t2017\\t2018\\t2019\\t2020\\ntotalLiab\\t241272000000\\t258578000000\\t248028000000\\t258549000000\\ntotalStockholderEquity\\t134047000000\\t107147000000\\t90488000000\\t65339000000\\notherCurrentLiab\\t38099000000\\t39293000000\\t43242000000\\t47867000000\\ntotalAssets\\t375319000000\\t365725000000\\t338516000000\\t323888000000\\ncommonStock\\t35867000000\\t40201000000\\t45174000000\\t50779000000\\notherCurrentAssets\\t13936000000\\t12087000000\\t12352000000\\t11264000000\\nretainedEarnings\\t98330000000\\t70400000000\\t45898000000\\t14966000000\\notherLiab\\t43251000000\\t48914000000\\t50503000000\\t46108000000\\ntreasuryStock\\t-150000000\\t-3454000000\\t-584000000\\t-406000000\\notherAssets\\t18177000000\\t22283000000\\t32978000000\\t33952000000\\ncash\\t20289000000\\t25913000000\\t48844000000\\t38016000000\\ntotalCurrentLiabilities\\t100814000000\\t115929000000\\t105718000000\\t105392000000\\nshortLongTermDebt\\t6496000000\\t8784000000\\t10260000000\\t8773000000\\notherStockholderEquity\\t-150000000\\t-3454000000\\t-584000000\\t-406000000\\npropertyPlantEquipment\\t33783000000\\t41304000000\\t37378000000\\t45336000000\\ntotalCurrentAssets\\t128645000000\\t131339000000\\t162819000000\\t143713000000\\nlongTermInvestments\\t194714000000\\t170799000000\\t105341000000\\t100887000000\\nnetTangibleAssets\\t134047000000\\t107147000000\\t90488000000\\t65339000000\\nshortTermInvestments\\t53892000000\\t40388000000\\t51713000000\\t52927000000\\nnetReceivables\\t35673000000\\t48995000000\\t45804000000\\t37445000000\\nlongTermDebt\\t97207000000\\t93735000000\\t91807000000\\t98667000000\\ninventory\\t4855000000\\t3956000000\\t4106000000\\t4061000000\\naccountsPayable\\t44242000000\\t55888000000\\t46236000000\\t42296000000\\n'"
      ]
     },
     "metadata": {},
     "execution_count": 30
    }
   ],
   "source": [
    "\"\"\"\n",
    "AAPL\t2017\t2018\t2019\t2020\n",
    "totalLiab\t241272000000\t258578000000\t248028000000\t258549000000\n",
    "totalStockholderEquity\t134047000000\t107147000000\t90488000000\t65339000000\n",
    "otherCurrentLiab\t38099000000\t39293000000\t43242000000\t47867000000\n",
    "totalAssets\t375319000000\t365725000000\t338516000000\t323888000000\n",
    "commonStock\t35867000000\t40201000000\t45174000000\t50779000000\n",
    "otherCurrentAssets\t13936000000\t12087000000\t12352000000\t11264000000\n",
    "retainedEarnings\t98330000000\t70400000000\t45898000000\t14966000000\n",
    "otherLiab\t43251000000\t48914000000\t50503000000\t46108000000\n",
    "treasuryStock\t-150000000\t-3454000000\t-584000000\t-406000000\n",
    "otherAssets\t18177000000\t22283000000\t32978000000\t33952000000\n",
    "cash\t20289000000\t25913000000\t48844000000\t38016000000\n",
    "totalCurrentLiabilities\t100814000000\t115929000000\t105718000000\t105392000000\n",
    "shortLongTermDebt\t6496000000\t8784000000\t10260000000\t8773000000\n",
    "otherStockholderEquity\t-150000000\t-3454000000\t-584000000\t-406000000\n",
    "propertyPlantEquipment\t33783000000\t41304000000\t37378000000\t45336000000\n",
    "totalCurrentAssets\t128645000000\t131339000000\t162819000000\t143713000000\n",
    "longTermInvestments\t194714000000\t170799000000\t105341000000\t100887000000\n",
    "netTangibleAssets\t134047000000\t107147000000\t90488000000\t65339000000\n",
    "shortTermInvestments\t53892000000\t40388000000\t51713000000\t52927000000\n",
    "netReceivables\t35673000000\t48995000000\t45804000000\t37445000000\n",
    "longTermDebt\t97207000000\t93735000000\t91807000000\t98667000000\n",
    "inventory\t4855000000\t3956000000\t4106000000\t4061000000\n",
    "accountsPayable\t44242000000\t55888000000\t46236000000\t42296000000\n",
    "\"\"\""
   ]
  },
  {
   "cell_type": "code",
   "execution_count": 31,
   "metadata": {},
   "outputs": [
    {
     "output_type": "execute_result",
     "data": {
      "text/plain": [
       "0.23193151970209935"
      ]
     },
     "metadata": {},
     "execution_count": 31
    }
   ],
   "source": [
    "Market_Cap = yahoo_financials .get_market_cap() # MarketCap\n",
    "Total =  Total_debt + Market_Cap \n",
    "\n",
    "Wd = Total_debt/ Total \n",
    "We = Market_Cap/ Total \n",
    "Re = Ra\n",
    "Required_Rate = (Wd * Rd + We * Re)/100\n",
    "Required_Rate"
   ]
  },
  {
   "source": [
    "# Anaylsis"
   ],
   "cell_type": "markdown",
   "metadata": {}
  },
  {
   "cell_type": "code",
   "execution_count": 32,
   "metadata": {},
   "outputs": [
    {
     "output_type": "stream",
     "name": "stdout",
     "text": [
      "-6.082152237796791\n"
     ]
    },
    {
     "output_type": "execute_result",
     "data": {
      "text/plain": [
       "            FCF  Net Income\n",
       "SQ                         \n",
       "2017  101614000   -62813000\n",
       "2018  233877000   -38453000\n",
       "2019  403201000   375446000\n",
       "2020  243201000   213105000"
      ],
      "text/html": "<div>\n<style scoped>\n    .dataframe tbody tr th:only-of-type {\n        vertical-align: middle;\n    }\n\n    .dataframe tbody tr th {\n        vertical-align: top;\n    }\n\n    .dataframe thead th {\n        text-align: right;\n    }\n</style>\n<table border=\"1\" class=\"dataframe\">\n  <thead>\n    <tr style=\"text-align: right;\">\n      <th></th>\n      <th>FCF</th>\n      <th>Net Income</th>\n    </tr>\n    <tr>\n      <th>SQ</th>\n      <th></th>\n      <th></th>\n    </tr>\n  </thead>\n  <tbody>\n    <tr>\n      <th>2017</th>\n      <td>101614000</td>\n      <td>-62813000</td>\n    </tr>\n    <tr>\n      <th>2018</th>\n      <td>233877000</td>\n      <td>-38453000</td>\n    </tr>\n    <tr>\n      <th>2019</th>\n      <td>403201000</td>\n      <td>375446000</td>\n    </tr>\n    <tr>\n      <th>2020</th>\n      <td>243201000</td>\n      <td>213105000</td>\n    </tr>\n  </tbody>\n</table>\n</div>"
     },
     "metadata": {},
     "execution_count": 32
    }
   ],
   "source": [
    "FCF = cash_balance.loc[['totalCashFromOperatingActivities','capitalExpenditures','netIncome']] # how to select rows \n",
    "Revenue = income_balance.loc[['totalRevenue','netIncome']]\n",
    "Growth_Rate = Revenue.pct_change().mean()\n",
    "#FCF is CFO - CAPEX = FCF\n",
    "#FCF = cash_balance.loc[['totalCashFromOperatingActivities','capitalExpenditures','netBorrowings']] # More \n",
    "\n",
    "df = pd.DataFrame()\n",
    "df['FCF'] = FCF.loc['totalCashFromOperatingActivities'] + FCF.loc['capitalExpenditures']\n",
    "df['Net Income'] = FCF.loc['netIncome']\n",
    "#df['FCF/Net Income'] = df['FCF']/df['Net Income']\n",
    "minimum = (df['FCF']/df['Net Income']).min()\n",
    "print(minimum)\n",
    "df"
   ]
  },
  {
   "cell_type": "code",
   "execution_count": 33,
   "metadata": {},
   "outputs": [
    {
     "output_type": "stream",
     "name": "stdout",
     "text": [
      "[-1003289944.7879196, 4138925059.159077, -17074526396.211563, 70438446574.37666]\nSQ\n146.2766091772327\n230.03\n-6.082152237796791\n0.23193151970209935\n"
     ]
    }
   ],
   "source": [
    "def DCF_VALUE():\n",
    "    outstanding_shares = stock['sharesOutstanding']\n",
    "\n",
    "    Required_rate = Required_Rate\n",
    "    Pre_rate = .025\n",
    "    Cashflowgrowthrate = minimum\n",
    "\n",
    "    years = [1,2,3,4]\n",
    "    freecash_flow = df['FCF'].values\n",
    "\n",
    "    terminalvalue = freecash_flow[-1] * (1+Pre_rate)/(Required_rate - Pre_rate)\n",
    "\n",
    "    futurefreecashflow = []\n",
    "    discountfactor = []\n",
    "    discountfuturefreecashflow = []\n",
    "    for  year in years:\n",
    "        cashflow = freecash_flow[-1] * (1+ Cashflowgrowthrate) ** year \n",
    "        futurefreecashflow.append(cashflow)\n",
    "        discountfactor.append((1+ Required_rate)**year)\n",
    "\n",
    "\n",
    "    for i in range(0,len(years)):\n",
    "        discountfuturefreecashflow.append(futurefreecashflow[i]/discountfactor[i])\n",
    "\n",
    "    print(discountfuturefreecashflow)\n",
    "    dis = terminalvalue/(1+Required_rate)**len(years)\n",
    "    discountfuturefreecashflow.append(dis)\n",
    "    value = sum(discountfuturefreecashflow)\n",
    "    fairvalue = value/outstanding_shares\n",
    "\n",
    "    print(ticker)\n",
    "    print(fairvalue)\n",
    "    print(yahoo_financials.get_current_price())\n",
    "\n",
    "    print(Cashflowgrowthrate)\n",
    "    print(Required_Rate)\n",
    "#print(stock.get_current_price())\n",
    "DCF_VALUE()"
   ]
  },
  {
   "cell_type": "code",
   "execution_count": 34,
   "metadata": {},
   "outputs": [
    {
     "output_type": "stream",
     "name": "stdout",
     "text": [
      "[234151660.46511626, 225439040.54083288, 217050611.12536, 208974309.3160443]\nSQ\n11.848463031866968\n230.03\n0.035\n0.23193151970209935\n"
     ]
    }
   ],
   "source": [
    "def DCF_VALUE_CON():\n",
    "    outstanding_shares = stock['sharesOutstanding']\n",
    "\n",
    "    Required_rate = .075\n",
    "    Pre_rate = .025\n",
    "    Cashflowgrowthrate = .035\n",
    "\n",
    "    years = [1,2,3,4]\n",
    "    freecash_flow = df['FCF'].values\n",
    "\n",
    "    terminalvalue = freecash_flow[-1] * (1+Pre_rate)/(Required_rate - Pre_rate)\n",
    "\n",
    "    futurefreecashflow = []\n",
    "    discountfactor = []\n",
    "    discountfuturefreecashflow = []\n",
    "    for  year in years:\n",
    "        cashflow = freecash_flow[-1] * (1+ Cashflowgrowthrate) ** year \n",
    "        futurefreecashflow.append(cashflow)\n",
    "        discountfactor.append((1+ Required_rate)**year)\n",
    "\n",
    "\n",
    "    for i in range(0,len(years)):\n",
    "        discountfuturefreecashflow.append(futurefreecashflow[i]/discountfactor[i])\n",
    "\n",
    "    print(discountfuturefreecashflow)\n",
    "    dis = terminalvalue/(1+Required_rate)**len(years)\n",
    "    discountfuturefreecashflow.append(dis)\n",
    "    value = sum(discountfuturefreecashflow)\n",
    "    fairvalue = value/outstanding_shares\n",
    "\n",
    "    print(ticker)\n",
    "    print(fairvalue)\n",
    "    print(yahoo_financials.get_current_price())\n",
    "\n",
    "    print(Cashflowgrowthrate)\n",
    "    print(Required_Rate)\n",
    "#print(stock.get_current_price())\n",
    "DCF_VALUE_CON()"
   ]
  },
  {
   "cell_type": "code",
   "execution_count": 35,
   "metadata": {},
   "outputs": [
    {
     "output_type": "execute_result",
     "data": {
      "text/plain": [
       "                                           Item  Item 01-Jan-0001 31-Dec-2019  \\\n",
       "0   Cash & Short Term Investments  Cash & Short Te...       3.88B       1.58B   \n",
       "1   Cash & Short Term Investments Growth  Cash & S...           -     -59.35%   \n",
       "2                                Cash Only  Cash Only       3.19B       1.09B   \n",
       "3      Short-Term Investments  Short-Term Investments           -           -   \n",
       "4   Cash & ST Investments / Total Assets  Cash & S...      39.35%      34.68%   \n",
       "5   Total Accounts Receivable  Total Accounts Rece...       1.22B     689.84M   \n",
       "6   Total Accounts Receivable Growth  Total Accoun...           -     -43.24%   \n",
       "7   Accounts Receivables, Net  Accounts Receivable...           -     622.56M   \n",
       "8   Accounts Receivables, Gross  Accounts Receivab...           -     622.56M   \n",
       "9   Bad Debt/Doubtful Accounts  Bad Debt/Doubtful ...           -           -   \n",
       "10                 Other Receivable  Other Receivable     148.61M      67.28M   \n",
       "11  Accounts Receivable Turnover  Accounts Receiva...        2.60        1.90   \n",
       "12                           Inventories  Inventories      61.13M      47.68M   \n",
       "13                     Finished Goods  Finished Goods           -           -   \n",
       "14                 Work in Progress  Work in Progress           -           -   \n",
       "15                       Raw Materials  Raw Materials           -           -   \n",
       "16  Progress Payments & Other  Progress Payments &...           -           -   \n",
       "17         Other Current Assets  Other Current Assets        2.6B     903.84M   \n",
       "18  Miscellaneous Current Assets  Miscellaneous Cu...           -     881.08M   \n",
       "19         Total Current Assets  Total Current Assets       7.76B       3.22B   \n",
       "20  Net Property, Plant & Equipment  Net Property,...     690.41M     262.34M   \n",
       "21  Property, Plant & Equipment - Gross  Property,...           -     440.87M   \n",
       "22                               Buildings  Buildings           -           -   \n",
       "23           Land & Improvements  Land & Improvements           -           -   \n",
       "24  Computer Software and Equipment  Computer Soft...           -     188.45M   \n",
       "25  Other Property, Plant & Equipment  Other Prope...           -           -   \n",
       "26  Accumulated Depreciation  Accumulated Deprecia...           -     178.53M   \n",
       "27  Total Investments and Advances  Total Investme...     936.24M     660.02M   \n",
       "28  Other Long-Term Investments  Other Long-Term I...           -     550.02M   \n",
       "29  Long-Term Note Receivables  Long-Term Note Rec...           -           -   \n",
       "30               Intangible Assets  Intangible Assets     454.31M     335.42M   \n",
       "31                         Net Goodwill  Net Goodwill           -     266.35M   \n",
       "32       Net Other Intangibles  Net Other Intangibles     137.61M      69.08M   \n",
       "33                         Other Assets  Other Assets      26.96M      73.67M   \n",
       "34                         Total Assets  Total Assets       9.87B       4.55B   \n",
       "35           Total Assets Growth  Total Assets Growth           -     -53.89%   \n",
       "\n",
       "   31-Mar-2020 30-Jun-2020 30-Sep-2020  5- qtr trend  \n",
       "0        2.52B       2.71B       2.91B           NaN  \n",
       "1       59.55%       7.48%       7.46%           NaN  \n",
       "2           2B       1.99B       2.15B           NaN  \n",
       "3            -           -           -           NaN  \n",
       "4       41.95%      34.65%      35.85%           NaN  \n",
       "5      637.19M       1.03B       1.03B           NaN  \n",
       "6       -7.63%      62.01%       0.11%           NaN  \n",
       "7      553.14M     917.63M      886.4M           NaN  \n",
       "8      553.14M     917.63M      886.4M           NaN  \n",
       "9            -           -           -           NaN  \n",
       "10      84.05M     114.71M     147.02M           NaN  \n",
       "11        2.17        1.86        2.94           NaN  \n",
       "12      54.72M      55.42M      70.42M           NaN  \n",
       "13           -           -           -           NaN  \n",
       "14           -           -           -           NaN  \n",
       "15           -           -           -           NaN  \n",
       "16           -           -           -           NaN  \n",
       "17       1.18B       2.39B       2.48B           NaN  \n",
       "18       1.15B       2.36B       2.45B           NaN  \n",
       "19       4.39B       6.19B       6.49B           NaN  \n",
       "20     564.12M     616.51M     646.12M           NaN  \n",
       "21     757.94M     823.85M      862.3M           NaN  \n",
       "22           -           -           -           NaN  \n",
       "23           -           -           -           NaN  \n",
       "24     200.23M     213.36M     226.75M           NaN  \n",
       "25           -           -           -           NaN  \n",
       "26     193.82M     207.34M     216.18M           NaN  \n",
       "27     652.75M     591.37M     543.82M           NaN  \n",
       "28     542.75M     460.37M     412.82M           NaN  \n",
       "29           -           -           -           NaN  \n",
       "30     370.47M     395.56M     408.18M           NaN  \n",
       "31     288.53M     295.76M     300.62M           NaN  \n",
       "32      81.94M       99.8M     107.56M           NaN  \n",
       "33      26.57M      21.77M      24.88M           NaN  \n",
       "34          6B       7.81B       8.11B           NaN  \n",
       "35      31.92%      30.12%       3.87%           NaN  "
      ],
      "text/html": "<div>\n<style scoped>\n    .dataframe tbody tr th:only-of-type {\n        vertical-align: middle;\n    }\n\n    .dataframe tbody tr th {\n        vertical-align: top;\n    }\n\n    .dataframe thead th {\n        text-align: right;\n    }\n</style>\n<table border=\"1\" class=\"dataframe\">\n  <thead>\n    <tr style=\"text-align: right;\">\n      <th></th>\n      <th>Item  Item</th>\n      <th>01-Jan-0001</th>\n      <th>31-Dec-2019</th>\n      <th>31-Mar-2020</th>\n      <th>30-Jun-2020</th>\n      <th>30-Sep-2020</th>\n      <th>5- qtr trend</th>\n    </tr>\n  </thead>\n  <tbody>\n    <tr>\n      <th>0</th>\n      <td>Cash &amp; Short Term Investments  Cash &amp; Short Te...</td>\n      <td>3.88B</td>\n      <td>1.58B</td>\n      <td>2.52B</td>\n      <td>2.71B</td>\n      <td>2.91B</td>\n      <td>NaN</td>\n    </tr>\n    <tr>\n      <th>1</th>\n      <td>Cash &amp; Short Term Investments Growth  Cash &amp; S...</td>\n      <td>-</td>\n      <td>-59.35%</td>\n      <td>59.55%</td>\n      <td>7.48%</td>\n      <td>7.46%</td>\n      <td>NaN</td>\n    </tr>\n    <tr>\n      <th>2</th>\n      <td>Cash Only  Cash Only</td>\n      <td>3.19B</td>\n      <td>1.09B</td>\n      <td>2B</td>\n      <td>1.99B</td>\n      <td>2.15B</td>\n      <td>NaN</td>\n    </tr>\n    <tr>\n      <th>3</th>\n      <td>Short-Term Investments  Short-Term Investments</td>\n      <td>-</td>\n      <td>-</td>\n      <td>-</td>\n      <td>-</td>\n      <td>-</td>\n      <td>NaN</td>\n    </tr>\n    <tr>\n      <th>4</th>\n      <td>Cash &amp; ST Investments / Total Assets  Cash &amp; S...</td>\n      <td>39.35%</td>\n      <td>34.68%</td>\n      <td>41.95%</td>\n      <td>34.65%</td>\n      <td>35.85%</td>\n      <td>NaN</td>\n    </tr>\n    <tr>\n      <th>5</th>\n      <td>Total Accounts Receivable  Total Accounts Rece...</td>\n      <td>1.22B</td>\n      <td>689.84M</td>\n      <td>637.19M</td>\n      <td>1.03B</td>\n      <td>1.03B</td>\n      <td>NaN</td>\n    </tr>\n    <tr>\n      <th>6</th>\n      <td>Total Accounts Receivable Growth  Total Accoun...</td>\n      <td>-</td>\n      <td>-43.24%</td>\n      <td>-7.63%</td>\n      <td>62.01%</td>\n      <td>0.11%</td>\n      <td>NaN</td>\n    </tr>\n    <tr>\n      <th>7</th>\n      <td>Accounts Receivables, Net  Accounts Receivable...</td>\n      <td>-</td>\n      <td>622.56M</td>\n      <td>553.14M</td>\n      <td>917.63M</td>\n      <td>886.4M</td>\n      <td>NaN</td>\n    </tr>\n    <tr>\n      <th>8</th>\n      <td>Accounts Receivables, Gross  Accounts Receivab...</td>\n      <td>-</td>\n      <td>622.56M</td>\n      <td>553.14M</td>\n      <td>917.63M</td>\n      <td>886.4M</td>\n      <td>NaN</td>\n    </tr>\n    <tr>\n      <th>9</th>\n      <td>Bad Debt/Doubtful Accounts  Bad Debt/Doubtful ...</td>\n      <td>-</td>\n      <td>-</td>\n      <td>-</td>\n      <td>-</td>\n      <td>-</td>\n      <td>NaN</td>\n    </tr>\n    <tr>\n      <th>10</th>\n      <td>Other Receivable  Other Receivable</td>\n      <td>148.61M</td>\n      <td>67.28M</td>\n      <td>84.05M</td>\n      <td>114.71M</td>\n      <td>147.02M</td>\n      <td>NaN</td>\n    </tr>\n    <tr>\n      <th>11</th>\n      <td>Accounts Receivable Turnover  Accounts Receiva...</td>\n      <td>2.60</td>\n      <td>1.90</td>\n      <td>2.17</td>\n      <td>1.86</td>\n      <td>2.94</td>\n      <td>NaN</td>\n    </tr>\n    <tr>\n      <th>12</th>\n      <td>Inventories  Inventories</td>\n      <td>61.13M</td>\n      <td>47.68M</td>\n      <td>54.72M</td>\n      <td>55.42M</td>\n      <td>70.42M</td>\n      <td>NaN</td>\n    </tr>\n    <tr>\n      <th>13</th>\n      <td>Finished Goods  Finished Goods</td>\n      <td>-</td>\n      <td>-</td>\n      <td>-</td>\n      <td>-</td>\n      <td>-</td>\n      <td>NaN</td>\n    </tr>\n    <tr>\n      <th>14</th>\n      <td>Work in Progress  Work in Progress</td>\n      <td>-</td>\n      <td>-</td>\n      <td>-</td>\n      <td>-</td>\n      <td>-</td>\n      <td>NaN</td>\n    </tr>\n    <tr>\n      <th>15</th>\n      <td>Raw Materials  Raw Materials</td>\n      <td>-</td>\n      <td>-</td>\n      <td>-</td>\n      <td>-</td>\n      <td>-</td>\n      <td>NaN</td>\n    </tr>\n    <tr>\n      <th>16</th>\n      <td>Progress Payments &amp; Other  Progress Payments &amp;...</td>\n      <td>-</td>\n      <td>-</td>\n      <td>-</td>\n      <td>-</td>\n      <td>-</td>\n      <td>NaN</td>\n    </tr>\n    <tr>\n      <th>17</th>\n      <td>Other Current Assets  Other Current Assets</td>\n      <td>2.6B</td>\n      <td>903.84M</td>\n      <td>1.18B</td>\n      <td>2.39B</td>\n      <td>2.48B</td>\n      <td>NaN</td>\n    </tr>\n    <tr>\n      <th>18</th>\n      <td>Miscellaneous Current Assets  Miscellaneous Cu...</td>\n      <td>-</td>\n      <td>881.08M</td>\n      <td>1.15B</td>\n      <td>2.36B</td>\n      <td>2.45B</td>\n      <td>NaN</td>\n    </tr>\n    <tr>\n      <th>19</th>\n      <td>Total Current Assets  Total Current Assets</td>\n      <td>7.76B</td>\n      <td>3.22B</td>\n      <td>4.39B</td>\n      <td>6.19B</td>\n      <td>6.49B</td>\n      <td>NaN</td>\n    </tr>\n    <tr>\n      <th>20</th>\n      <td>Net Property, Plant &amp; Equipment  Net Property,...</td>\n      <td>690.41M</td>\n      <td>262.34M</td>\n      <td>564.12M</td>\n      <td>616.51M</td>\n      <td>646.12M</td>\n      <td>NaN</td>\n    </tr>\n    <tr>\n      <th>21</th>\n      <td>Property, Plant &amp; Equipment - Gross  Property,...</td>\n      <td>-</td>\n      <td>440.87M</td>\n      <td>757.94M</td>\n      <td>823.85M</td>\n      <td>862.3M</td>\n      <td>NaN</td>\n    </tr>\n    <tr>\n      <th>22</th>\n      <td>Buildings  Buildings</td>\n      <td>-</td>\n      <td>-</td>\n      <td>-</td>\n      <td>-</td>\n      <td>-</td>\n      <td>NaN</td>\n    </tr>\n    <tr>\n      <th>23</th>\n      <td>Land &amp; Improvements  Land &amp; Improvements</td>\n      <td>-</td>\n      <td>-</td>\n      <td>-</td>\n      <td>-</td>\n      <td>-</td>\n      <td>NaN</td>\n    </tr>\n    <tr>\n      <th>24</th>\n      <td>Computer Software and Equipment  Computer Soft...</td>\n      <td>-</td>\n      <td>188.45M</td>\n      <td>200.23M</td>\n      <td>213.36M</td>\n      <td>226.75M</td>\n      <td>NaN</td>\n    </tr>\n    <tr>\n      <th>25</th>\n      <td>Other Property, Plant &amp; Equipment  Other Prope...</td>\n      <td>-</td>\n      <td>-</td>\n      <td>-</td>\n      <td>-</td>\n      <td>-</td>\n      <td>NaN</td>\n    </tr>\n    <tr>\n      <th>26</th>\n      <td>Accumulated Depreciation  Accumulated Deprecia...</td>\n      <td>-</td>\n      <td>178.53M</td>\n      <td>193.82M</td>\n      <td>207.34M</td>\n      <td>216.18M</td>\n      <td>NaN</td>\n    </tr>\n    <tr>\n      <th>27</th>\n      <td>Total Investments and Advances  Total Investme...</td>\n      <td>936.24M</td>\n      <td>660.02M</td>\n      <td>652.75M</td>\n      <td>591.37M</td>\n      <td>543.82M</td>\n      <td>NaN</td>\n    </tr>\n    <tr>\n      <th>28</th>\n      <td>Other Long-Term Investments  Other Long-Term I...</td>\n      <td>-</td>\n      <td>550.02M</td>\n      <td>542.75M</td>\n      <td>460.37M</td>\n      <td>412.82M</td>\n      <td>NaN</td>\n    </tr>\n    <tr>\n      <th>29</th>\n      <td>Long-Term Note Receivables  Long-Term Note Rec...</td>\n      <td>-</td>\n      <td>-</td>\n      <td>-</td>\n      <td>-</td>\n      <td>-</td>\n      <td>NaN</td>\n    </tr>\n    <tr>\n      <th>30</th>\n      <td>Intangible Assets  Intangible Assets</td>\n      <td>454.31M</td>\n      <td>335.42M</td>\n      <td>370.47M</td>\n      <td>395.56M</td>\n      <td>408.18M</td>\n      <td>NaN</td>\n    </tr>\n    <tr>\n      <th>31</th>\n      <td>Net Goodwill  Net Goodwill</td>\n      <td>-</td>\n      <td>266.35M</td>\n      <td>288.53M</td>\n      <td>295.76M</td>\n      <td>300.62M</td>\n      <td>NaN</td>\n    </tr>\n    <tr>\n      <th>32</th>\n      <td>Net Other Intangibles  Net Other Intangibles</td>\n      <td>137.61M</td>\n      <td>69.08M</td>\n      <td>81.94M</td>\n      <td>99.8M</td>\n      <td>107.56M</td>\n      <td>NaN</td>\n    </tr>\n    <tr>\n      <th>33</th>\n      <td>Other Assets  Other Assets</td>\n      <td>26.96M</td>\n      <td>73.67M</td>\n      <td>26.57M</td>\n      <td>21.77M</td>\n      <td>24.88M</td>\n      <td>NaN</td>\n    </tr>\n    <tr>\n      <th>34</th>\n      <td>Total Assets  Total Assets</td>\n      <td>9.87B</td>\n      <td>4.55B</td>\n      <td>6B</td>\n      <td>7.81B</td>\n      <td>8.11B</td>\n      <td>NaN</td>\n    </tr>\n    <tr>\n      <th>35</th>\n      <td>Total Assets Growth  Total Assets Growth</td>\n      <td>-</td>\n      <td>-53.89%</td>\n      <td>31.92%</td>\n      <td>30.12%</td>\n      <td>3.87%</td>\n      <td>NaN</td>\n    </tr>\n  </tbody>\n</table>\n</div>"
     },
     "metadata": {},
     "execution_count": 35
    }
   ],
   "source": [
    "df = pd.read_html('https://www.marketwatch.com/investing/stock/sq/financials/balance-sheet/quarter')\n",
    "df[4]"
   ]
  },
  {
   "cell_type": "code",
   "execution_count": 71,
   "metadata": {},
   "outputs": [],
   "source": [
    "import pandas as pd\n",
    "import requests\n",
    "i = 'SQ'\n",
    "url = (\"https://www.zacks.com/stock/quote/{}/balance-sheet\".format(i))\n",
    "headers = {'User-Agent': 'Mozilla/5.0'}\n",
    "result = requests.get(url, headers=headers)\n",
    "df2 = pd.read_html(result.text)"
   ]
  },
  {
   "cell_type": "code",
   "execution_count": 76,
   "metadata": {},
   "outputs": [
    {
     "output_type": "display_data",
     "data": {
      "text/plain": "            12/31/2019  12/31/2018  12/31/2017  12/31/2016\n12/31/2020                                                \nNaN                  0           0           0           0\nNaN                  0           0          17          13\nNaN                  0           0           0           0\nNaN                  0           0           0           0\nNaN                298         116          79          60\nNaN                  0           0           0           0\nNaN               1369         903         877         505\nNaN               1694        1019         973         577\nNaN                  0           0           0           0\nNaN                  0           0           0           0\nNaN                  0           0           0           0\nNaN                939         900         359           0\nNaN                  0           0           0           0\nNaN                 94          93          70          58\nNaN                  0           0           0           0\nNaN               2836        2161        1401         635",
      "text/html": "<div>\n<style scoped>\n    .dataframe tbody tr th:only-of-type {\n        vertical-align: middle;\n    }\n\n    .dataframe tbody tr th {\n        vertical-align: top;\n    }\n\n    .dataframe thead th {\n        text-align: right;\n    }\n</style>\n<table border=\"1\" class=\"dataframe\">\n  <thead>\n    <tr style=\"text-align: right;\">\n      <th></th>\n      <th>12/31/2019</th>\n      <th>12/31/2018</th>\n      <th>12/31/2017</th>\n      <th>12/31/2016</th>\n    </tr>\n    <tr>\n      <th>12/31/2020</th>\n      <th></th>\n      <th></th>\n      <th></th>\n      <th></th>\n    </tr>\n  </thead>\n  <tbody>\n    <tr>\n      <th>NaN</th>\n      <td>0</td>\n      <td>0</td>\n      <td>0</td>\n      <td>0</td>\n    </tr>\n    <tr>\n      <th>NaN</th>\n      <td>0</td>\n      <td>0</td>\n      <td>17</td>\n      <td>13</td>\n    </tr>\n    <tr>\n      <th>NaN</th>\n      <td>0</td>\n      <td>0</td>\n      <td>0</td>\n      <td>0</td>\n    </tr>\n    <tr>\n      <th>NaN</th>\n      <td>0</td>\n      <td>0</td>\n      <td>0</td>\n      <td>0</td>\n    </tr>\n    <tr>\n      <th>NaN</th>\n      <td>298</td>\n      <td>116</td>\n      <td>79</td>\n      <td>60</td>\n    </tr>\n    <tr>\n      <th>NaN</th>\n      <td>0</td>\n      <td>0</td>\n      <td>0</td>\n      <td>0</td>\n    </tr>\n    <tr>\n      <th>NaN</th>\n      <td>1369</td>\n      <td>903</td>\n      <td>877</td>\n      <td>505</td>\n    </tr>\n    <tr>\n      <th>NaN</th>\n      <td>1694</td>\n      <td>1019</td>\n      <td>973</td>\n      <td>577</td>\n    </tr>\n    <tr>\n      <th>NaN</th>\n      <td>0</td>\n      <td>0</td>\n      <td>0</td>\n      <td>0</td>\n    </tr>\n    <tr>\n      <th>NaN</th>\n      <td>0</td>\n      <td>0</td>\n      <td>0</td>\n      <td>0</td>\n    </tr>\n    <tr>\n      <th>NaN</th>\n      <td>0</td>\n      <td>0</td>\n      <td>0</td>\n      <td>0</td>\n    </tr>\n    <tr>\n      <th>NaN</th>\n      <td>939</td>\n      <td>900</td>\n      <td>359</td>\n      <td>0</td>\n    </tr>\n    <tr>\n      <th>NaN</th>\n      <td>0</td>\n      <td>0</td>\n      <td>0</td>\n      <td>0</td>\n    </tr>\n    <tr>\n      <th>NaN</th>\n      <td>94</td>\n      <td>93</td>\n      <td>70</td>\n      <td>58</td>\n    </tr>\n    <tr>\n      <th>NaN</th>\n      <td>0</td>\n      <td>0</td>\n      <td>0</td>\n      <td>0</td>\n    </tr>\n    <tr>\n      <th>NaN</th>\n      <td>2836</td>\n      <td>2161</td>\n      <td>1401</td>\n      <td>635</td>\n    </tr>\n  </tbody>\n</table>\n</div>"
     },
     "metadata": {}
    },
    {
     "output_type": "display_data",
     "data": {
      "text/plain": "            12/31/2019  12/31/2018  12/31/2017  12/31/2016\n12/31/2020                                                \nNaN               0.00        0.00        0.00        0.00\nNaN               0.00        0.00        0.00        0.00\nNaN            2224.00     2012.00     1630.00     1357.00\nNaN            -510.00     -886.00     -843.00     -779.00\nNaN               2.00       -6.00       -1.00       -2.00\nNaN               0.00        0.00        0.00        0.00\nNaN            1715.00     1121.00      786.00      576.00\nNaN            4551.00     3281.00     2187.00     1211.00\n0.0            1715.00     1121.00      786.00      576.00\n450.9           432.70      417.00      395.10      364.50\n0.0               3.96        2.69        1.99        1.58",
      "text/html": "<div>\n<style scoped>\n    .dataframe tbody tr th:only-of-type {\n        vertical-align: middle;\n    }\n\n    .dataframe tbody tr th {\n        vertical-align: top;\n    }\n\n    .dataframe thead th {\n        text-align: right;\n    }\n</style>\n<table border=\"1\" class=\"dataframe\">\n  <thead>\n    <tr style=\"text-align: right;\">\n      <th></th>\n      <th>12/31/2019</th>\n      <th>12/31/2018</th>\n      <th>12/31/2017</th>\n      <th>12/31/2016</th>\n    </tr>\n    <tr>\n      <th>12/31/2020</th>\n      <th></th>\n      <th></th>\n      <th></th>\n      <th></th>\n    </tr>\n  </thead>\n  <tbody>\n    <tr>\n      <th>NaN</th>\n      <td>0.00</td>\n      <td>0.00</td>\n      <td>0.00</td>\n      <td>0.00</td>\n    </tr>\n    <tr>\n      <th>NaN</th>\n      <td>0.00</td>\n      <td>0.00</td>\n      <td>0.00</td>\n      <td>0.00</td>\n    </tr>\n    <tr>\n      <th>NaN</th>\n      <td>2224.00</td>\n      <td>2012.00</td>\n      <td>1630.00</td>\n      <td>1357.00</td>\n    </tr>\n    <tr>\n      <th>NaN</th>\n      <td>-510.00</td>\n      <td>-886.00</td>\n      <td>-843.00</td>\n      <td>-779.00</td>\n    </tr>\n    <tr>\n      <th>NaN</th>\n      <td>2.00</td>\n      <td>-6.00</td>\n      <td>-1.00</td>\n      <td>-2.00</td>\n    </tr>\n    <tr>\n      <th>NaN</th>\n      <td>0.00</td>\n      <td>0.00</td>\n      <td>0.00</td>\n      <td>0.00</td>\n    </tr>\n    <tr>\n      <th>NaN</th>\n      <td>1715.00</td>\n      <td>1121.00</td>\n      <td>786.00</td>\n      <td>576.00</td>\n    </tr>\n    <tr>\n      <th>NaN</th>\n      <td>4551.00</td>\n      <td>3281.00</td>\n      <td>2187.00</td>\n      <td>1211.00</td>\n    </tr>\n    <tr>\n      <th>0.0</th>\n      <td>1715.00</td>\n      <td>1121.00</td>\n      <td>786.00</td>\n      <td>576.00</td>\n    </tr>\n    <tr>\n      <th>450.9</th>\n      <td>432.70</td>\n      <td>417.00</td>\n      <td>395.10</td>\n      <td>364.50</td>\n    </tr>\n    <tr>\n      <th>0.0</th>\n      <td>3.96</td>\n      <td>2.69</td>\n      <td>1.99</td>\n      <td>1.58</td>\n    </tr>\n  </tbody>\n</table>\n</div>"
     },
     "metadata": {}
    },
    {
     "output_type": "display_data",
     "data": {
      "text/plain": "            9/30/2020  6/30/2020  3/31/2020  12/31/2019\n12/31/2020                                             \nNaN               NaN        NaN        NaN         NaN\nNaN            2881.0     2687.0     2484.0      1540.0\nNaN             847.0      879.0      522.0       589.0\nNaN               0.0        0.0        0.0         0.0\nNaN               0.0        0.0        0.0         0.0\nNaN            2763.0     2621.0     1384.0      1092.0\nNaN            6491.0     6187.0     4390.0      3220.0\nNaN             196.0      167.0      151.0       149.0\nNaN               0.0        0.0        0.0         0.0\nNaN             399.0      447.0      529.0       537.0\nNaN               0.0        0.0        0.0         0.0\nNaN             408.0      396.0      370.0       335.0\nNaN             170.0      166.0      150.0       196.0\nNaN            8114.0     7812.0     6004.0      4551.0",
      "text/html": "<div>\n<style scoped>\n    .dataframe tbody tr th:only-of-type {\n        vertical-align: middle;\n    }\n\n    .dataframe tbody tr th {\n        vertical-align: top;\n    }\n\n    .dataframe thead th {\n        text-align: right;\n    }\n</style>\n<table border=\"1\" class=\"dataframe\">\n  <thead>\n    <tr style=\"text-align: right;\">\n      <th></th>\n      <th>9/30/2020</th>\n      <th>6/30/2020</th>\n      <th>3/31/2020</th>\n      <th>12/31/2019</th>\n    </tr>\n    <tr>\n      <th>12/31/2020</th>\n      <th></th>\n      <th></th>\n      <th></th>\n      <th></th>\n    </tr>\n  </thead>\n  <tbody>\n    <tr>\n      <th>NaN</th>\n      <td>NaN</td>\n      <td>NaN</td>\n      <td>NaN</td>\n      <td>NaN</td>\n    </tr>\n    <tr>\n      <th>NaN</th>\n      <td>2881.0</td>\n      <td>2687.0</td>\n      <td>2484.0</td>\n      <td>1540.0</td>\n    </tr>\n    <tr>\n      <th>NaN</th>\n      <td>847.0</td>\n      <td>879.0</td>\n      <td>522.0</td>\n      <td>589.0</td>\n    </tr>\n    <tr>\n      <th>NaN</th>\n      <td>0.0</td>\n      <td>0.0</td>\n      <td>0.0</td>\n      <td>0.0</td>\n    </tr>\n    <tr>\n      <th>NaN</th>\n      <td>0.0</td>\n      <td>0.0</td>\n      <td>0.0</td>\n      <td>0.0</td>\n    </tr>\n    <tr>\n      <th>NaN</th>\n      <td>2763.0</td>\n      <td>2621.0</td>\n      <td>1384.0</td>\n      <td>1092.0</td>\n    </tr>\n    <tr>\n      <th>NaN</th>\n      <td>6491.0</td>\n      <td>6187.0</td>\n      <td>4390.0</td>\n      <td>3220.0</td>\n    </tr>\n    <tr>\n      <th>NaN</th>\n      <td>196.0</td>\n      <td>167.0</td>\n      <td>151.0</td>\n      <td>149.0</td>\n    </tr>\n    <tr>\n      <th>NaN</th>\n      <td>0.0</td>\n      <td>0.0</td>\n      <td>0.0</td>\n      <td>0.0</td>\n    </tr>\n    <tr>\n      <th>NaN</th>\n      <td>399.0</td>\n      <td>447.0</td>\n      <td>529.0</td>\n      <td>537.0</td>\n    </tr>\n    <tr>\n      <th>NaN</th>\n      <td>0.0</td>\n      <td>0.0</td>\n      <td>0.0</td>\n      <td>0.0</td>\n    </tr>\n    <tr>\n      <th>NaN</th>\n      <td>408.0</td>\n      <td>396.0</td>\n      <td>370.0</td>\n      <td>335.0</td>\n    </tr>\n    <tr>\n      <th>NaN</th>\n      <td>170.0</td>\n      <td>166.0</td>\n      <td>150.0</td>\n      <td>196.0</td>\n    </tr>\n    <tr>\n      <th>NaN</th>\n      <td>8114.0</td>\n      <td>7812.0</td>\n      <td>6004.0</td>\n      <td>4551.0</td>\n    </tr>\n  </tbody>\n</table>\n</div>"
     },
     "metadata": {}
    },
    {
     "output_type": "display_data",
     "data": {
      "text/plain": "            9/30/2020  6/30/2020  3/31/2020  12/31/2019\n12/31/2020                                             \nNaN               0.0          0          0           0\nNaN               0.0          0          0           0\nNaN               0.0          0          0           0\nNaN               0.0          0          0           0\nNaN             427.0        394        393         298\nNaN               0.0          0          0           0\nNaN            3347.0       3195       1575        1369\nNaN            3826.0       3633       2005        1694\nNaN               0.0          0          0           0\nNaN               0.0          0          0           0\nNaN               0.0          0          0           0\nNaN            1759.0       1778       1761         939\nNaN               0.0          0          0           0\nNaN               NaN         90         81          94\nNaN               0.0          0          0           0\nNaN            6051.0       5886       4196        2836",
      "text/html": "<div>\n<style scoped>\n    .dataframe tbody tr th:only-of-type {\n        vertical-align: middle;\n    }\n\n    .dataframe tbody tr th {\n        vertical-align: top;\n    }\n\n    .dataframe thead th {\n        text-align: right;\n    }\n</style>\n<table border=\"1\" class=\"dataframe\">\n  <thead>\n    <tr style=\"text-align: right;\">\n      <th></th>\n      <th>9/30/2020</th>\n      <th>6/30/2020</th>\n      <th>3/31/2020</th>\n      <th>12/31/2019</th>\n    </tr>\n    <tr>\n      <th>12/31/2020</th>\n      <th></th>\n      <th></th>\n      <th></th>\n      <th></th>\n    </tr>\n  </thead>\n  <tbody>\n    <tr>\n      <th>NaN</th>\n      <td>0.0</td>\n      <td>0</td>\n      <td>0</td>\n      <td>0</td>\n    </tr>\n    <tr>\n      <th>NaN</th>\n      <td>0.0</td>\n      <td>0</td>\n      <td>0</td>\n      <td>0</td>\n    </tr>\n    <tr>\n      <th>NaN</th>\n      <td>0.0</td>\n      <td>0</td>\n      <td>0</td>\n      <td>0</td>\n    </tr>\n    <tr>\n      <th>NaN</th>\n      <td>0.0</td>\n      <td>0</td>\n      <td>0</td>\n      <td>0</td>\n    </tr>\n    <tr>\n      <th>NaN</th>\n      <td>427.0</td>\n      <td>394</td>\n      <td>393</td>\n      <td>298</td>\n    </tr>\n    <tr>\n      <th>NaN</th>\n      <td>0.0</td>\n      <td>0</td>\n      <td>0</td>\n      <td>0</td>\n    </tr>\n    <tr>\n      <th>NaN</th>\n      <td>3347.0</td>\n      <td>3195</td>\n      <td>1575</td>\n      <td>1369</td>\n    </tr>\n    <tr>\n      <th>NaN</th>\n      <td>3826.0</td>\n      <td>3633</td>\n      <td>2005</td>\n      <td>1694</td>\n    </tr>\n    <tr>\n      <th>NaN</th>\n      <td>0.0</td>\n      <td>0</td>\n      <td>0</td>\n      <td>0</td>\n    </tr>\n    <tr>\n      <th>NaN</th>\n      <td>0.0</td>\n      <td>0</td>\n      <td>0</td>\n      <td>0</td>\n    </tr>\n    <tr>\n      <th>NaN</th>\n      <td>0.0</td>\n      <td>0</td>\n      <td>0</td>\n      <td>0</td>\n    </tr>\n    <tr>\n      <th>NaN</th>\n      <td>1759.0</td>\n      <td>1778</td>\n      <td>1761</td>\n      <td>939</td>\n    </tr>\n    <tr>\n      <th>NaN</th>\n      <td>0.0</td>\n      <td>0</td>\n      <td>0</td>\n      <td>0</td>\n    </tr>\n    <tr>\n      <th>NaN</th>\n      <td>NaN</td>\n      <td>90</td>\n      <td>81</td>\n      <td>94</td>\n    </tr>\n    <tr>\n      <th>NaN</th>\n      <td>0.0</td>\n      <td>0</td>\n      <td>0</td>\n      <td>0</td>\n    </tr>\n    <tr>\n      <th>NaN</th>\n      <td>6051.0</td>\n      <td>5886</td>\n      <td>4196</td>\n      <td>2836</td>\n    </tr>\n  </tbody>\n</table>\n</div>"
     },
     "metadata": {}
    },
    {
     "output_type": "display_data",
     "data": {
      "text/plain": "                                          12/31/2020  9/30/2020  6/30/2020  \\\nShareholders Equity                                                          \nPreferred Stock                                  NaN       0.00       0.00   \nCommon Stock (Par)                               NaN       0.00       0.00   \nCapital Surplus                                  NaN    2642.00    2550.00   \nRetained Earnings                                NaN    -591.00    -628.00   \nOther Equity                                     NaN      12.00       4.00   \nTreasury Stock                                   NaN       0.00       0.00   \nTotal Shareholder's Equity                       NaN    2063.00    1926.00   \nTotal Liabilities & Shareholder's Equity         NaN    8114.00    7812.00   \nTotal Common Equity                              0.0    2063.00    1926.00   \nShares Outstanding                             450.9     450.90     442.30   \nBook Value Per Share                             0.0       4.57       4.36   \n\n                                          3/31/2020  12/31/2019  \nShareholders Equity                                              \nPreferred Stock                                0.00        0.00  \nCommon Stock (Par)                             0.00        0.00  \nCapital Surplus                             2428.00     2224.00  \nRetained Earnings                           -616.00     -510.00  \nOther Equity                                  -3.00        2.00  \nTreasury Stock                                 0.00        0.00  \nTotal Shareholder's Equity                  1808.00     1715.00  \nTotal Liabilities & Shareholder's Equity    6004.00     4551.00  \nTotal Common Equity                         1808.00     1715.00  \nShares Outstanding                           438.70      432.70  \nBook Value Per Share                           4.12        3.96  ",
      "text/html": "<div>\n<style scoped>\n    .dataframe tbody tr th:only-of-type {\n        vertical-align: middle;\n    }\n\n    .dataframe tbody tr th {\n        vertical-align: top;\n    }\n\n    .dataframe thead th {\n        text-align: right;\n    }\n</style>\n<table border=\"1\" class=\"dataframe\">\n  <thead>\n    <tr style=\"text-align: right;\">\n      <th></th>\n      <th>12/31/2020</th>\n      <th>9/30/2020</th>\n      <th>6/30/2020</th>\n      <th>3/31/2020</th>\n      <th>12/31/2019</th>\n    </tr>\n    <tr>\n      <th>Shareholders Equity</th>\n      <th></th>\n      <th></th>\n      <th></th>\n      <th></th>\n      <th></th>\n    </tr>\n  </thead>\n  <tbody>\n    <tr>\n      <th>Preferred Stock</th>\n      <td>NaN</td>\n      <td>0.00</td>\n      <td>0.00</td>\n      <td>0.00</td>\n      <td>0.00</td>\n    </tr>\n    <tr>\n      <th>Common Stock (Par)</th>\n      <td>NaN</td>\n      <td>0.00</td>\n      <td>0.00</td>\n      <td>0.00</td>\n      <td>0.00</td>\n    </tr>\n    <tr>\n      <th>Capital Surplus</th>\n      <td>NaN</td>\n      <td>2642.00</td>\n      <td>2550.00</td>\n      <td>2428.00</td>\n      <td>2224.00</td>\n    </tr>\n    <tr>\n      <th>Retained Earnings</th>\n      <td>NaN</td>\n      <td>-591.00</td>\n      <td>-628.00</td>\n      <td>-616.00</td>\n      <td>-510.00</td>\n    </tr>\n    <tr>\n      <th>Other Equity</th>\n      <td>NaN</td>\n      <td>12.00</td>\n      <td>4.00</td>\n      <td>-3.00</td>\n      <td>2.00</td>\n    </tr>\n    <tr>\n      <th>Treasury Stock</th>\n      <td>NaN</td>\n      <td>0.00</td>\n      <td>0.00</td>\n      <td>0.00</td>\n      <td>0.00</td>\n    </tr>\n    <tr>\n      <th>Total Shareholder's Equity</th>\n      <td>NaN</td>\n      <td>2063.00</td>\n      <td>1926.00</td>\n      <td>1808.00</td>\n      <td>1715.00</td>\n    </tr>\n    <tr>\n      <th>Total Liabilities &amp; Shareholder's Equity</th>\n      <td>NaN</td>\n      <td>8114.00</td>\n      <td>7812.00</td>\n      <td>6004.00</td>\n      <td>4551.00</td>\n    </tr>\n    <tr>\n      <th>Total Common Equity</th>\n      <td>0.0</td>\n      <td>2063.00</td>\n      <td>1926.00</td>\n      <td>1808.00</td>\n      <td>1715.00</td>\n    </tr>\n    <tr>\n      <th>Shares Outstanding</th>\n      <td>450.9</td>\n      <td>450.90</td>\n      <td>442.30</td>\n      <td>438.70</td>\n      <td>432.70</td>\n    </tr>\n    <tr>\n      <th>Book Value Per Share</th>\n      <td>0.0</td>\n      <td>4.57</td>\n      <td>4.36</td>\n      <td>4.12</td>\n      <td>3.96</td>\n    </tr>\n  </tbody>\n</table>\n</div>"
     },
     "metadata": {}
    },
    {
     "output_type": "execute_result",
     "data": {
      "text/plain": [
       "Index(['Notes Payable', 'Accounts Payable', 'Current Portion Long-Term Debt',\n",
       "       'Current Portion Capital Leases', 'Accrued Expenses',\n",
       "       'Income Taxes Payable', 'Other Current Liabilities',\n",
       "       'Total Current Liabilities', 'Mortgages', 'Deferred Taxes/Income',\n",
       "       'Convertible Debt', 'Long-Term Debt', 'Non-Current Capital Leases',\n",
       "       'Other Non-Current Liabilities', 'Minority Interest (Liabilities)',\n",
       "       'Total Liabilities', 'Preferred Stock', 'Common Stock (Par)',\n",
       "       'Capital Surplus', 'Retained Earnings', 'Other Equity',\n",
       "       'Treasury Stock', 'Total Shareholder's Equity',\n",
       "       'Total Liabilities & Shareholder's Equity', 'Total Common Equity',\n",
       "       'Shares Outstanding', 'Book Value Per Share', 'Assets',\n",
       "       'Cash & Equivalents', 'Receivables', 'Notes Receivable', 'Inventories',\n",
       "       'Other Current Assets', 'Total Current Assets',\n",
       "       'Net Property & Equipment', 'Investments & Advances',\n",
       "       'Other Non-Current Assets', 'Deferred Charges', 'Intangibles',\n",
       "       'Deposits & Other Assets', 'Total Assets', 'Notes Payable',\n",
       "       'Accounts Payable', 'Current Portion Long-Term Debt',\n",
       "       'Current Portion Capital Leases', 'Accrued Expenses',\n",
       "       'Income Taxes Payable', 'Other Current Liabilities',\n",
       "       'Total Current Liabilities', 'Mortgages', 'Deferred Taxes/Income',\n",
       "       'Convertible Debt', 'Long-Term Debt', 'Non-Current Capital Leases',\n",
       "       'Other Non-Current Liabilities', 'Minority Interest (Liabilities)',\n",
       "       'Total Liabilities'],\n",
       "      dtype='object')"
      ]
     },
     "metadata": {},
     "execution_count": 76
    }
   ],
   "source": [
    "for i in range(3,8):\n",
    "    display(df2[i].set_index(df2[i].columns[0]))\n",
    "    #df2[i] = df2[i].set_index(df2[i].columns[0])\n",
    "#display(df2[5])\n",
    "pd.concat(df2[3:7]).index\n",
    "#df2[6]"
   ]
  },
  {
   "cell_type": "code",
   "execution_count": 64,
   "metadata": {},
   "outputs": [
    {
     "output_type": "execute_result",
     "data": {
      "text/plain": [
       "'Liabilities & Shareholders Equity'"
      ]
     },
     "metadata": {},
     "execution_count": 64
    }
   ],
   "source": [
    "df2[3].columns[0]"
   ]
  },
  {
   "cell_type": "code",
   "execution_count": 38,
   "metadata": {},
   "outputs": [
    {
     "output_type": "display_data",
     "data": {
      "text/plain": "   Liabilities & Shareholders Equity  12/31/2020  12/31/2019  12/31/2018  \\\n0                      Notes Payable         NaN           0           0   \n1                   Accounts Payable         NaN           0           0   \n2     Current Portion Long-Term Debt         NaN           0           0   \n3     Current Portion Capital Leases         NaN           0           0   \n4                   Accrued Expenses         NaN         298         116   \n5               Income Taxes Payable         NaN           0           0   \n6          Other Current Liabilities         NaN        1369         903   \n7          Total Current Liabilities         NaN        1694        1019   \n8                          Mortgages         NaN           0           0   \n9              Deferred Taxes/Income         NaN           0           0   \n10                  Convertible Debt         NaN           0           0   \n11                    Long-Term Debt         NaN         939         900   \n12        Non-Current Capital Leases         NaN           0           0   \n13     Other Non-Current Liabilities         NaN          94          93   \n14   Minority Interest (Liabilities)         NaN           0           0   \n15                 Total Liabilities         NaN        2836        2161   \n\n    12/31/2017  12/31/2016  \n0            0           0  \n1           17          13  \n2            0           0  \n3            0           0  \n4           79          60  \n5            0           0  \n6          877         505  \n7          973         577  \n8            0           0  \n9            0           0  \n10           0           0  \n11         359           0  \n12           0           0  \n13          70          58  \n14           0           0  \n15        1401         635  ",
      "text/html": "<div>\n<style scoped>\n    .dataframe tbody tr th:only-of-type {\n        vertical-align: middle;\n    }\n\n    .dataframe tbody tr th {\n        vertical-align: top;\n    }\n\n    .dataframe thead th {\n        text-align: right;\n    }\n</style>\n<table border=\"1\" class=\"dataframe\">\n  <thead>\n    <tr style=\"text-align: right;\">\n      <th></th>\n      <th>Liabilities &amp; Shareholders Equity</th>\n      <th>12/31/2020</th>\n      <th>12/31/2019</th>\n      <th>12/31/2018</th>\n      <th>12/31/2017</th>\n      <th>12/31/2016</th>\n    </tr>\n  </thead>\n  <tbody>\n    <tr>\n      <th>0</th>\n      <td>Notes Payable</td>\n      <td>NaN</td>\n      <td>0</td>\n      <td>0</td>\n      <td>0</td>\n      <td>0</td>\n    </tr>\n    <tr>\n      <th>1</th>\n      <td>Accounts Payable</td>\n      <td>NaN</td>\n      <td>0</td>\n      <td>0</td>\n      <td>17</td>\n      <td>13</td>\n    </tr>\n    <tr>\n      <th>2</th>\n      <td>Current Portion Long-Term Debt</td>\n      <td>NaN</td>\n      <td>0</td>\n      <td>0</td>\n      <td>0</td>\n      <td>0</td>\n    </tr>\n    <tr>\n      <th>3</th>\n      <td>Current Portion Capital Leases</td>\n      <td>NaN</td>\n      <td>0</td>\n      <td>0</td>\n      <td>0</td>\n      <td>0</td>\n    </tr>\n    <tr>\n      <th>4</th>\n      <td>Accrued Expenses</td>\n      <td>NaN</td>\n      <td>298</td>\n      <td>116</td>\n      <td>79</td>\n      <td>60</td>\n    </tr>\n    <tr>\n      <th>5</th>\n      <td>Income Taxes Payable</td>\n      <td>NaN</td>\n      <td>0</td>\n      <td>0</td>\n      <td>0</td>\n      <td>0</td>\n    </tr>\n    <tr>\n      <th>6</th>\n      <td>Other Current Liabilities</td>\n      <td>NaN</td>\n      <td>1369</td>\n      <td>903</td>\n      <td>877</td>\n      <td>505</td>\n    </tr>\n    <tr>\n      <th>7</th>\n      <td>Total Current Liabilities</td>\n      <td>NaN</td>\n      <td>1694</td>\n      <td>1019</td>\n      <td>973</td>\n      <td>577</td>\n    </tr>\n    <tr>\n      <th>8</th>\n      <td>Mortgages</td>\n      <td>NaN</td>\n      <td>0</td>\n      <td>0</td>\n      <td>0</td>\n      <td>0</td>\n    </tr>\n    <tr>\n      <th>9</th>\n      <td>Deferred Taxes/Income</td>\n      <td>NaN</td>\n      <td>0</td>\n      <td>0</td>\n      <td>0</td>\n      <td>0</td>\n    </tr>\n    <tr>\n      <th>10</th>\n      <td>Convertible Debt</td>\n      <td>NaN</td>\n      <td>0</td>\n      <td>0</td>\n      <td>0</td>\n      <td>0</td>\n    </tr>\n    <tr>\n      <th>11</th>\n      <td>Long-Term Debt</td>\n      <td>NaN</td>\n      <td>939</td>\n      <td>900</td>\n      <td>359</td>\n      <td>0</td>\n    </tr>\n    <tr>\n      <th>12</th>\n      <td>Non-Current Capital Leases</td>\n      <td>NaN</td>\n      <td>0</td>\n      <td>0</td>\n      <td>0</td>\n      <td>0</td>\n    </tr>\n    <tr>\n      <th>13</th>\n      <td>Other Non-Current Liabilities</td>\n      <td>NaN</td>\n      <td>94</td>\n      <td>93</td>\n      <td>70</td>\n      <td>58</td>\n    </tr>\n    <tr>\n      <th>14</th>\n      <td>Minority Interest (Liabilities)</td>\n      <td>NaN</td>\n      <td>0</td>\n      <td>0</td>\n      <td>0</td>\n      <td>0</td>\n    </tr>\n    <tr>\n      <th>15</th>\n      <td>Total Liabilities</td>\n      <td>NaN</td>\n      <td>2836</td>\n      <td>2161</td>\n      <td>1401</td>\n      <td>635</td>\n    </tr>\n  </tbody>\n</table>\n</div>"
     },
     "metadata": {}
    },
    {
     "output_type": "display_data",
     "data": {
      "text/plain": "                         Shareholders Equity  12/31/2020  12/31/2019  \\\n0                            Preferred Stock         NaN        0.00   \n1                         Common Stock (Par)         NaN        0.00   \n2                            Capital Surplus         NaN     2224.00   \n3                          Retained Earnings         NaN     -510.00   \n4                               Other Equity         NaN        2.00   \n5                             Treasury Stock         NaN        0.00   \n6                 Total Shareholder's Equity         NaN     1715.00   \n7   Total Liabilities & Shareholder's Equity         NaN     4551.00   \n8                        Total Common Equity         0.0     1715.00   \n9                         Shares Outstanding       450.9      432.70   \n10                      Book Value Per Share         0.0        3.96   \n\n    12/31/2018  12/31/2017  12/31/2016  \n0         0.00        0.00        0.00  \n1         0.00        0.00        0.00  \n2      2012.00     1630.00     1357.00  \n3      -886.00     -843.00     -779.00  \n4        -6.00       -1.00       -2.00  \n5         0.00        0.00        0.00  \n6      1121.00      786.00      576.00  \n7      3281.00     2187.00     1211.00  \n8      1121.00      786.00      576.00  \n9       417.00      395.10      364.50  \n10        2.69        1.99        1.58  ",
      "text/html": "<div>\n<style scoped>\n    .dataframe tbody tr th:only-of-type {\n        vertical-align: middle;\n    }\n\n    .dataframe tbody tr th {\n        vertical-align: top;\n    }\n\n    .dataframe thead th {\n        text-align: right;\n    }\n</style>\n<table border=\"1\" class=\"dataframe\">\n  <thead>\n    <tr style=\"text-align: right;\">\n      <th></th>\n      <th>Shareholders Equity</th>\n      <th>12/31/2020</th>\n      <th>12/31/2019</th>\n      <th>12/31/2018</th>\n      <th>12/31/2017</th>\n      <th>12/31/2016</th>\n    </tr>\n  </thead>\n  <tbody>\n    <tr>\n      <th>0</th>\n      <td>Preferred Stock</td>\n      <td>NaN</td>\n      <td>0.00</td>\n      <td>0.00</td>\n      <td>0.00</td>\n      <td>0.00</td>\n    </tr>\n    <tr>\n      <th>1</th>\n      <td>Common Stock (Par)</td>\n      <td>NaN</td>\n      <td>0.00</td>\n      <td>0.00</td>\n      <td>0.00</td>\n      <td>0.00</td>\n    </tr>\n    <tr>\n      <th>2</th>\n      <td>Capital Surplus</td>\n      <td>NaN</td>\n      <td>2224.00</td>\n      <td>2012.00</td>\n      <td>1630.00</td>\n      <td>1357.00</td>\n    </tr>\n    <tr>\n      <th>3</th>\n      <td>Retained Earnings</td>\n      <td>NaN</td>\n      <td>-510.00</td>\n      <td>-886.00</td>\n      <td>-843.00</td>\n      <td>-779.00</td>\n    </tr>\n    <tr>\n      <th>4</th>\n      <td>Other Equity</td>\n      <td>NaN</td>\n      <td>2.00</td>\n      <td>-6.00</td>\n      <td>-1.00</td>\n      <td>-2.00</td>\n    </tr>\n    <tr>\n      <th>5</th>\n      <td>Treasury Stock</td>\n      <td>NaN</td>\n      <td>0.00</td>\n      <td>0.00</td>\n      <td>0.00</td>\n      <td>0.00</td>\n    </tr>\n    <tr>\n      <th>6</th>\n      <td>Total Shareholder's Equity</td>\n      <td>NaN</td>\n      <td>1715.00</td>\n      <td>1121.00</td>\n      <td>786.00</td>\n      <td>576.00</td>\n    </tr>\n    <tr>\n      <th>7</th>\n      <td>Total Liabilities &amp; Shareholder's Equity</td>\n      <td>NaN</td>\n      <td>4551.00</td>\n      <td>3281.00</td>\n      <td>2187.00</td>\n      <td>1211.00</td>\n    </tr>\n    <tr>\n      <th>8</th>\n      <td>Total Common Equity</td>\n      <td>0.0</td>\n      <td>1715.00</td>\n      <td>1121.00</td>\n      <td>786.00</td>\n      <td>576.00</td>\n    </tr>\n    <tr>\n      <th>9</th>\n      <td>Shares Outstanding</td>\n      <td>450.9</td>\n      <td>432.70</td>\n      <td>417.00</td>\n      <td>395.10</td>\n      <td>364.50</td>\n    </tr>\n    <tr>\n      <th>10</th>\n      <td>Book Value Per Share</td>\n      <td>0.0</td>\n      <td>3.96</td>\n      <td>2.69</td>\n      <td>1.99</td>\n      <td>1.58</td>\n    </tr>\n  </tbody>\n</table>\n</div>"
     },
     "metadata": {}
    },
    {
     "output_type": "display_data",
     "data": {
      "text/plain": "                  Unnamed: 0  12/31/2020  9/30/2020  6/30/2020  3/31/2020  \\\n0                     Assets         NaN        NaN        NaN        NaN   \n1         Cash & Equivalents         NaN     2881.0     2687.0     2484.0   \n2                Receivables         NaN      847.0      879.0      522.0   \n3           Notes Receivable         NaN        0.0        0.0        0.0   \n4                Inventories         NaN        0.0        0.0        0.0   \n5       Other Current Assets         NaN     2763.0     2621.0     1384.0   \n6       Total Current Assets         NaN     6491.0     6187.0     4390.0   \n7   Net Property & Equipment         NaN      196.0      167.0      151.0   \n8     Investments & Advances         NaN        0.0        0.0        0.0   \n9   Other Non-Current Assets         NaN      399.0      447.0      529.0   \n10          Deferred Charges         NaN        0.0        0.0        0.0   \n11               Intangibles         NaN      408.0      396.0      370.0   \n12   Deposits & Other Assets         NaN      170.0      166.0      150.0   \n13              Total Assets         NaN     8114.0     7812.0     6004.0   \n\n    12/31/2019  \n0          NaN  \n1       1540.0  \n2        589.0  \n3          0.0  \n4          0.0  \n5       1092.0  \n6       3220.0  \n7        149.0  \n8          0.0  \n9        537.0  \n10         0.0  \n11       335.0  \n12       196.0  \n13      4551.0  ",
      "text/html": "<div>\n<style scoped>\n    .dataframe tbody tr th:only-of-type {\n        vertical-align: middle;\n    }\n\n    .dataframe tbody tr th {\n        vertical-align: top;\n    }\n\n    .dataframe thead th {\n        text-align: right;\n    }\n</style>\n<table border=\"1\" class=\"dataframe\">\n  <thead>\n    <tr style=\"text-align: right;\">\n      <th></th>\n      <th>Unnamed: 0</th>\n      <th>12/31/2020</th>\n      <th>9/30/2020</th>\n      <th>6/30/2020</th>\n      <th>3/31/2020</th>\n      <th>12/31/2019</th>\n    </tr>\n  </thead>\n  <tbody>\n    <tr>\n      <th>0</th>\n      <td>Assets</td>\n      <td>NaN</td>\n      <td>NaN</td>\n      <td>NaN</td>\n      <td>NaN</td>\n      <td>NaN</td>\n    </tr>\n    <tr>\n      <th>1</th>\n      <td>Cash &amp; Equivalents</td>\n      <td>NaN</td>\n      <td>2881.0</td>\n      <td>2687.0</td>\n      <td>2484.0</td>\n      <td>1540.0</td>\n    </tr>\n    <tr>\n      <th>2</th>\n      <td>Receivables</td>\n      <td>NaN</td>\n      <td>847.0</td>\n      <td>879.0</td>\n      <td>522.0</td>\n      <td>589.0</td>\n    </tr>\n    <tr>\n      <th>3</th>\n      <td>Notes Receivable</td>\n      <td>NaN</td>\n      <td>0.0</td>\n      <td>0.0</td>\n      <td>0.0</td>\n      <td>0.0</td>\n    </tr>\n    <tr>\n      <th>4</th>\n      <td>Inventories</td>\n      <td>NaN</td>\n      <td>0.0</td>\n      <td>0.0</td>\n      <td>0.0</td>\n      <td>0.0</td>\n    </tr>\n    <tr>\n      <th>5</th>\n      <td>Other Current Assets</td>\n      <td>NaN</td>\n      <td>2763.0</td>\n      <td>2621.0</td>\n      <td>1384.0</td>\n      <td>1092.0</td>\n    </tr>\n    <tr>\n      <th>6</th>\n      <td>Total Current Assets</td>\n      <td>NaN</td>\n      <td>6491.0</td>\n      <td>6187.0</td>\n      <td>4390.0</td>\n      <td>3220.0</td>\n    </tr>\n    <tr>\n      <th>7</th>\n      <td>Net Property &amp; Equipment</td>\n      <td>NaN</td>\n      <td>196.0</td>\n      <td>167.0</td>\n      <td>151.0</td>\n      <td>149.0</td>\n    </tr>\n    <tr>\n      <th>8</th>\n      <td>Investments &amp; Advances</td>\n      <td>NaN</td>\n      <td>0.0</td>\n      <td>0.0</td>\n      <td>0.0</td>\n      <td>0.0</td>\n    </tr>\n    <tr>\n      <th>9</th>\n      <td>Other Non-Current Assets</td>\n      <td>NaN</td>\n      <td>399.0</td>\n      <td>447.0</td>\n      <td>529.0</td>\n      <td>537.0</td>\n    </tr>\n    <tr>\n      <th>10</th>\n      <td>Deferred Charges</td>\n      <td>NaN</td>\n      <td>0.0</td>\n      <td>0.0</td>\n      <td>0.0</td>\n      <td>0.0</td>\n    </tr>\n    <tr>\n      <th>11</th>\n      <td>Intangibles</td>\n      <td>NaN</td>\n      <td>408.0</td>\n      <td>396.0</td>\n      <td>370.0</td>\n      <td>335.0</td>\n    </tr>\n    <tr>\n      <th>12</th>\n      <td>Deposits &amp; Other Assets</td>\n      <td>NaN</td>\n      <td>170.0</td>\n      <td>166.0</td>\n      <td>150.0</td>\n      <td>196.0</td>\n    </tr>\n    <tr>\n      <th>13</th>\n      <td>Total Assets</td>\n      <td>NaN</td>\n      <td>8114.0</td>\n      <td>7812.0</td>\n      <td>6004.0</td>\n      <td>4551.0</td>\n    </tr>\n  </tbody>\n</table>\n</div>"
     },
     "metadata": {}
    },
    {
     "output_type": "display_data",
     "data": {
      "text/plain": "   Liabilities & Shareholders Equity  12/31/2020  9/30/2020  6/30/2020  \\\n0                      Notes Payable         NaN        0.0          0   \n1                   Accounts Payable         NaN        0.0          0   \n2     Current Portion Long-Term Debt         NaN        0.0          0   \n3     Current Portion Capital Leases         NaN        0.0          0   \n4                   Accrued Expenses         NaN      427.0        394   \n5               Income Taxes Payable         NaN        0.0          0   \n6          Other Current Liabilities         NaN     3347.0       3195   \n7          Total Current Liabilities         NaN     3826.0       3633   \n8                          Mortgages         NaN        0.0          0   \n9              Deferred Taxes/Income         NaN        0.0          0   \n10                  Convertible Debt         NaN        0.0          0   \n11                    Long-Term Debt         NaN     1759.0       1778   \n12        Non-Current Capital Leases         NaN        0.0          0   \n13     Other Non-Current Liabilities         NaN        NaN         90   \n14   Minority Interest (Liabilities)         NaN        0.0          0   \n15                 Total Liabilities         NaN     6051.0       5886   \n\n    3/31/2020  12/31/2019  \n0           0           0  \n1           0           0  \n2           0           0  \n3           0           0  \n4         393         298  \n5           0           0  \n6        1575        1369  \n7        2005        1694  \n8           0           0  \n9           0           0  \n10          0           0  \n11       1761         939  \n12          0           0  \n13         81          94  \n14          0           0  \n15       4196        2836  ",
      "text/html": "<div>\n<style scoped>\n    .dataframe tbody tr th:only-of-type {\n        vertical-align: middle;\n    }\n\n    .dataframe tbody tr th {\n        vertical-align: top;\n    }\n\n    .dataframe thead th {\n        text-align: right;\n    }\n</style>\n<table border=\"1\" class=\"dataframe\">\n  <thead>\n    <tr style=\"text-align: right;\">\n      <th></th>\n      <th>Liabilities &amp; Shareholders Equity</th>\n      <th>12/31/2020</th>\n      <th>9/30/2020</th>\n      <th>6/30/2020</th>\n      <th>3/31/2020</th>\n      <th>12/31/2019</th>\n    </tr>\n  </thead>\n  <tbody>\n    <tr>\n      <th>0</th>\n      <td>Notes Payable</td>\n      <td>NaN</td>\n      <td>0.0</td>\n      <td>0</td>\n      <td>0</td>\n      <td>0</td>\n    </tr>\n    <tr>\n      <th>1</th>\n      <td>Accounts Payable</td>\n      <td>NaN</td>\n      <td>0.0</td>\n      <td>0</td>\n      <td>0</td>\n      <td>0</td>\n    </tr>\n    <tr>\n      <th>2</th>\n      <td>Current Portion Long-Term Debt</td>\n      <td>NaN</td>\n      <td>0.0</td>\n      <td>0</td>\n      <td>0</td>\n      <td>0</td>\n    </tr>\n    <tr>\n      <th>3</th>\n      <td>Current Portion Capital Leases</td>\n      <td>NaN</td>\n      <td>0.0</td>\n      <td>0</td>\n      <td>0</td>\n      <td>0</td>\n    </tr>\n    <tr>\n      <th>4</th>\n      <td>Accrued Expenses</td>\n      <td>NaN</td>\n      <td>427.0</td>\n      <td>394</td>\n      <td>393</td>\n      <td>298</td>\n    </tr>\n    <tr>\n      <th>5</th>\n      <td>Income Taxes Payable</td>\n      <td>NaN</td>\n      <td>0.0</td>\n      <td>0</td>\n      <td>0</td>\n      <td>0</td>\n    </tr>\n    <tr>\n      <th>6</th>\n      <td>Other Current Liabilities</td>\n      <td>NaN</td>\n      <td>3347.0</td>\n      <td>3195</td>\n      <td>1575</td>\n      <td>1369</td>\n    </tr>\n    <tr>\n      <th>7</th>\n      <td>Total Current Liabilities</td>\n      <td>NaN</td>\n      <td>3826.0</td>\n      <td>3633</td>\n      <td>2005</td>\n      <td>1694</td>\n    </tr>\n    <tr>\n      <th>8</th>\n      <td>Mortgages</td>\n      <td>NaN</td>\n      <td>0.0</td>\n      <td>0</td>\n      <td>0</td>\n      <td>0</td>\n    </tr>\n    <tr>\n      <th>9</th>\n      <td>Deferred Taxes/Income</td>\n      <td>NaN</td>\n      <td>0.0</td>\n      <td>0</td>\n      <td>0</td>\n      <td>0</td>\n    </tr>\n    <tr>\n      <th>10</th>\n      <td>Convertible Debt</td>\n      <td>NaN</td>\n      <td>0.0</td>\n      <td>0</td>\n      <td>0</td>\n      <td>0</td>\n    </tr>\n    <tr>\n      <th>11</th>\n      <td>Long-Term Debt</td>\n      <td>NaN</td>\n      <td>1759.0</td>\n      <td>1778</td>\n      <td>1761</td>\n      <td>939</td>\n    </tr>\n    <tr>\n      <th>12</th>\n      <td>Non-Current Capital Leases</td>\n      <td>NaN</td>\n      <td>0.0</td>\n      <td>0</td>\n      <td>0</td>\n      <td>0</td>\n    </tr>\n    <tr>\n      <th>13</th>\n      <td>Other Non-Current Liabilities</td>\n      <td>NaN</td>\n      <td>NaN</td>\n      <td>90</td>\n      <td>81</td>\n      <td>94</td>\n    </tr>\n    <tr>\n      <th>14</th>\n      <td>Minority Interest (Liabilities)</td>\n      <td>NaN</td>\n      <td>0.0</td>\n      <td>0</td>\n      <td>0</td>\n      <td>0</td>\n    </tr>\n    <tr>\n      <th>15</th>\n      <td>Total Liabilities</td>\n      <td>NaN</td>\n      <td>6051.0</td>\n      <td>5886</td>\n      <td>4196</td>\n      <td>2836</td>\n    </tr>\n  </tbody>\n</table>\n</div>"
     },
     "metadata": {}
    },
    {
     "output_type": "display_data",
     "data": {
      "text/plain": "                  Unnamed: 0  12/31/2020  9/30/2020  6/30/2020  3/31/2020  \\\n0                     Assets         NaN        NaN        NaN        NaN   \n1         Cash & Equivalents         NaN     2881.0     2687.0     2484.0   \n2                Receivables         NaN      847.0      879.0      522.0   \n3           Notes Receivable         NaN        0.0        0.0        0.0   \n4                Inventories         NaN        0.0        0.0        0.0   \n5       Other Current Assets         NaN     2763.0     2621.0     1384.0   \n6       Total Current Assets         NaN     6491.0     6187.0     4390.0   \n7   Net Property & Equipment         NaN      196.0      167.0      151.0   \n8     Investments & Advances         NaN        0.0        0.0        0.0   \n9   Other Non-Current Assets         NaN      399.0      447.0      529.0   \n10          Deferred Charges         NaN        0.0        0.0        0.0   \n11               Intangibles         NaN      408.0      396.0      370.0   \n12   Deposits & Other Assets         NaN      170.0      166.0      150.0   \n13              Total Assets         NaN     8114.0     7812.0     6004.0   \n\n    12/31/2019  \n0          NaN  \n1       1540.0  \n2        589.0  \n3          0.0  \n4          0.0  \n5       1092.0  \n6       3220.0  \n7        149.0  \n8          0.0  \n9        537.0  \n10         0.0  \n11       335.0  \n12       196.0  \n13      4551.0  ",
      "text/html": "<div>\n<style scoped>\n    .dataframe tbody tr th:only-of-type {\n        vertical-align: middle;\n    }\n\n    .dataframe tbody tr th {\n        vertical-align: top;\n    }\n\n    .dataframe thead th {\n        text-align: right;\n    }\n</style>\n<table border=\"1\" class=\"dataframe\">\n  <thead>\n    <tr style=\"text-align: right;\">\n      <th></th>\n      <th>Unnamed: 0</th>\n      <th>12/31/2020</th>\n      <th>9/30/2020</th>\n      <th>6/30/2020</th>\n      <th>3/31/2020</th>\n      <th>12/31/2019</th>\n    </tr>\n  </thead>\n  <tbody>\n    <tr>\n      <th>0</th>\n      <td>Assets</td>\n      <td>NaN</td>\n      <td>NaN</td>\n      <td>NaN</td>\n      <td>NaN</td>\n      <td>NaN</td>\n    </tr>\n    <tr>\n      <th>1</th>\n      <td>Cash &amp; Equivalents</td>\n      <td>NaN</td>\n      <td>2881.0</td>\n      <td>2687.0</td>\n      <td>2484.0</td>\n      <td>1540.0</td>\n    </tr>\n    <tr>\n      <th>2</th>\n      <td>Receivables</td>\n      <td>NaN</td>\n      <td>847.0</td>\n      <td>879.0</td>\n      <td>522.0</td>\n      <td>589.0</td>\n    </tr>\n    <tr>\n      <th>3</th>\n      <td>Notes Receivable</td>\n      <td>NaN</td>\n      <td>0.0</td>\n      <td>0.0</td>\n      <td>0.0</td>\n      <td>0.0</td>\n    </tr>\n    <tr>\n      <th>4</th>\n      <td>Inventories</td>\n      <td>NaN</td>\n      <td>0.0</td>\n      <td>0.0</td>\n      <td>0.0</td>\n      <td>0.0</td>\n    </tr>\n    <tr>\n      <th>5</th>\n      <td>Other Current Assets</td>\n      <td>NaN</td>\n      <td>2763.0</td>\n      <td>2621.0</td>\n      <td>1384.0</td>\n      <td>1092.0</td>\n    </tr>\n    <tr>\n      <th>6</th>\n      <td>Total Current Assets</td>\n      <td>NaN</td>\n      <td>6491.0</td>\n      <td>6187.0</td>\n      <td>4390.0</td>\n      <td>3220.0</td>\n    </tr>\n    <tr>\n      <th>7</th>\n      <td>Net Property &amp; Equipment</td>\n      <td>NaN</td>\n      <td>196.0</td>\n      <td>167.0</td>\n      <td>151.0</td>\n      <td>149.0</td>\n    </tr>\n    <tr>\n      <th>8</th>\n      <td>Investments &amp; Advances</td>\n      <td>NaN</td>\n      <td>0.0</td>\n      <td>0.0</td>\n      <td>0.0</td>\n      <td>0.0</td>\n    </tr>\n    <tr>\n      <th>9</th>\n      <td>Other Non-Current Assets</td>\n      <td>NaN</td>\n      <td>399.0</td>\n      <td>447.0</td>\n      <td>529.0</td>\n      <td>537.0</td>\n    </tr>\n    <tr>\n      <th>10</th>\n      <td>Deferred Charges</td>\n      <td>NaN</td>\n      <td>0.0</td>\n      <td>0.0</td>\n      <td>0.0</td>\n      <td>0.0</td>\n    </tr>\n    <tr>\n      <th>11</th>\n      <td>Intangibles</td>\n      <td>NaN</td>\n      <td>408.0</td>\n      <td>396.0</td>\n      <td>370.0</td>\n      <td>335.0</td>\n    </tr>\n    <tr>\n      <th>12</th>\n      <td>Deposits &amp; Other Assets</td>\n      <td>NaN</td>\n      <td>170.0</td>\n      <td>166.0</td>\n      <td>150.0</td>\n      <td>196.0</td>\n    </tr>\n    <tr>\n      <th>13</th>\n      <td>Total Assets</td>\n      <td>NaN</td>\n      <td>8114.0</td>\n      <td>7812.0</td>\n      <td>6004.0</td>\n      <td>4551.0</td>\n    </tr>\n  </tbody>\n</table>\n</div>"
     },
     "metadata": {}
    },
    {
     "output_type": "display_data",
     "data": {
      "text/plain": "   Liabilities & Shareholders Equity  12/31/2020  9/30/2020  6/30/2020  \\\n0                      Notes Payable         NaN        0.0          0   \n1                   Accounts Payable         NaN        0.0          0   \n2     Current Portion Long-Term Debt         NaN        0.0          0   \n3     Current Portion Capital Leases         NaN        0.0          0   \n4                   Accrued Expenses         NaN      427.0        394   \n5               Income Taxes Payable         NaN        0.0          0   \n6          Other Current Liabilities         NaN     3347.0       3195   \n7          Total Current Liabilities         NaN     3826.0       3633   \n8                          Mortgages         NaN        0.0          0   \n9              Deferred Taxes/Income         NaN        0.0          0   \n10                  Convertible Debt         NaN        0.0          0   \n11                    Long-Term Debt         NaN     1759.0       1778   \n12        Non-Current Capital Leases         NaN        0.0          0   \n13     Other Non-Current Liabilities         NaN        NaN         90   \n14   Minority Interest (Liabilities)         NaN        0.0          0   \n15                 Total Liabilities         NaN     6051.0       5886   \n\n    3/31/2020  12/31/2019  \n0           0           0  \n1           0           0  \n2           0           0  \n3           0           0  \n4         393         298  \n5           0           0  \n6        1575        1369  \n7        2005        1694  \n8           0           0  \n9           0           0  \n10          0           0  \n11       1761         939  \n12          0           0  \n13         81          94  \n14          0           0  \n15       4196        2836  ",
      "text/html": "<div>\n<style scoped>\n    .dataframe tbody tr th:only-of-type {\n        vertical-align: middle;\n    }\n\n    .dataframe tbody tr th {\n        vertical-align: top;\n    }\n\n    .dataframe thead th {\n        text-align: right;\n    }\n</style>\n<table border=\"1\" class=\"dataframe\">\n  <thead>\n    <tr style=\"text-align: right;\">\n      <th></th>\n      <th>Liabilities &amp; Shareholders Equity</th>\n      <th>12/31/2020</th>\n      <th>9/30/2020</th>\n      <th>6/30/2020</th>\n      <th>3/31/2020</th>\n      <th>12/31/2019</th>\n    </tr>\n  </thead>\n  <tbody>\n    <tr>\n      <th>0</th>\n      <td>Notes Payable</td>\n      <td>NaN</td>\n      <td>0.0</td>\n      <td>0</td>\n      <td>0</td>\n      <td>0</td>\n    </tr>\n    <tr>\n      <th>1</th>\n      <td>Accounts Payable</td>\n      <td>NaN</td>\n      <td>0.0</td>\n      <td>0</td>\n      <td>0</td>\n      <td>0</td>\n    </tr>\n    <tr>\n      <th>2</th>\n      <td>Current Portion Long-Term Debt</td>\n      <td>NaN</td>\n      <td>0.0</td>\n      <td>0</td>\n      <td>0</td>\n      <td>0</td>\n    </tr>\n    <tr>\n      <th>3</th>\n      <td>Current Portion Capital Leases</td>\n      <td>NaN</td>\n      <td>0.0</td>\n      <td>0</td>\n      <td>0</td>\n      <td>0</td>\n    </tr>\n    <tr>\n      <th>4</th>\n      <td>Accrued Expenses</td>\n      <td>NaN</td>\n      <td>427.0</td>\n      <td>394</td>\n      <td>393</td>\n      <td>298</td>\n    </tr>\n    <tr>\n      <th>5</th>\n      <td>Income Taxes Payable</td>\n      <td>NaN</td>\n      <td>0.0</td>\n      <td>0</td>\n      <td>0</td>\n      <td>0</td>\n    </tr>\n    <tr>\n      <th>6</th>\n      <td>Other Current Liabilities</td>\n      <td>NaN</td>\n      <td>3347.0</td>\n      <td>3195</td>\n      <td>1575</td>\n      <td>1369</td>\n    </tr>\n    <tr>\n      <th>7</th>\n      <td>Total Current Liabilities</td>\n      <td>NaN</td>\n      <td>3826.0</td>\n      <td>3633</td>\n      <td>2005</td>\n      <td>1694</td>\n    </tr>\n    <tr>\n      <th>8</th>\n      <td>Mortgages</td>\n      <td>NaN</td>\n      <td>0.0</td>\n      <td>0</td>\n      <td>0</td>\n      <td>0</td>\n    </tr>\n    <tr>\n      <th>9</th>\n      <td>Deferred Taxes/Income</td>\n      <td>NaN</td>\n      <td>0.0</td>\n      <td>0</td>\n      <td>0</td>\n      <td>0</td>\n    </tr>\n    <tr>\n      <th>10</th>\n      <td>Convertible Debt</td>\n      <td>NaN</td>\n      <td>0.0</td>\n      <td>0</td>\n      <td>0</td>\n      <td>0</td>\n    </tr>\n    <tr>\n      <th>11</th>\n      <td>Long-Term Debt</td>\n      <td>NaN</td>\n      <td>1759.0</td>\n      <td>1778</td>\n      <td>1761</td>\n      <td>939</td>\n    </tr>\n    <tr>\n      <th>12</th>\n      <td>Non-Current Capital Leases</td>\n      <td>NaN</td>\n      <td>0.0</td>\n      <td>0</td>\n      <td>0</td>\n      <td>0</td>\n    </tr>\n    <tr>\n      <th>13</th>\n      <td>Other Non-Current Liabilities</td>\n      <td>NaN</td>\n      <td>NaN</td>\n      <td>90</td>\n      <td>81</td>\n      <td>94</td>\n    </tr>\n    <tr>\n      <th>14</th>\n      <td>Minority Interest (Liabilities)</td>\n      <td>NaN</td>\n      <td>0.0</td>\n      <td>0</td>\n      <td>0</td>\n      <td>0</td>\n    </tr>\n    <tr>\n      <th>15</th>\n      <td>Total Liabilities</td>\n      <td>NaN</td>\n      <td>6051.0</td>\n      <td>5886</td>\n      <td>4196</td>\n      <td>2836</td>\n    </tr>\n  </tbody>\n</table>\n</div>"
     },
     "metadata": {}
    },
    {
     "output_type": "display_data",
     "data": {
      "text/plain": "                         Shareholders Equity  12/31/2020  9/30/2020  \\\n0                            Preferred Stock         NaN       0.00   \n1                         Common Stock (Par)         NaN       0.00   \n2                            Capital Surplus         NaN    2642.00   \n3                          Retained Earnings         NaN    -591.00   \n4                               Other Equity         NaN      12.00   \n5                             Treasury Stock         NaN       0.00   \n6                 Total Shareholder's Equity         NaN    2063.00   \n7   Total Liabilities & Shareholder's Equity         NaN    8114.00   \n8                        Total Common Equity         0.0    2063.00   \n9                         Shares Outstanding       450.9     450.90   \n10                      Book Value Per Share         0.0       4.57   \n\n    6/30/2020  3/31/2020  12/31/2019  \n0        0.00       0.00        0.00  \n1        0.00       0.00        0.00  \n2     2550.00    2428.00     2224.00  \n3     -628.00    -616.00     -510.00  \n4        4.00      -3.00        2.00  \n5        0.00       0.00        0.00  \n6     1926.00    1808.00     1715.00  \n7     7812.00    6004.00     4551.00  \n8     1926.00    1808.00     1715.00  \n9      442.30     438.70      432.70  \n10       4.36       4.12        3.96  ",
      "text/html": "<div>\n<style scoped>\n    .dataframe tbody tr th:only-of-type {\n        vertical-align: middle;\n    }\n\n    .dataframe tbody tr th {\n        vertical-align: top;\n    }\n\n    .dataframe thead th {\n        text-align: right;\n    }\n</style>\n<table border=\"1\" class=\"dataframe\">\n  <thead>\n    <tr style=\"text-align: right;\">\n      <th></th>\n      <th>Shareholders Equity</th>\n      <th>12/31/2020</th>\n      <th>9/30/2020</th>\n      <th>6/30/2020</th>\n      <th>3/31/2020</th>\n      <th>12/31/2019</th>\n    </tr>\n  </thead>\n  <tbody>\n    <tr>\n      <th>0</th>\n      <td>Preferred Stock</td>\n      <td>NaN</td>\n      <td>0.00</td>\n      <td>0.00</td>\n      <td>0.00</td>\n      <td>0.00</td>\n    </tr>\n    <tr>\n      <th>1</th>\n      <td>Common Stock (Par)</td>\n      <td>NaN</td>\n      <td>0.00</td>\n      <td>0.00</td>\n      <td>0.00</td>\n      <td>0.00</td>\n    </tr>\n    <tr>\n      <th>2</th>\n      <td>Capital Surplus</td>\n      <td>NaN</td>\n      <td>2642.00</td>\n      <td>2550.00</td>\n      <td>2428.00</td>\n      <td>2224.00</td>\n    </tr>\n    <tr>\n      <th>3</th>\n      <td>Retained Earnings</td>\n      <td>NaN</td>\n      <td>-591.00</td>\n      <td>-628.00</td>\n      <td>-616.00</td>\n      <td>-510.00</td>\n    </tr>\n    <tr>\n      <th>4</th>\n      <td>Other Equity</td>\n      <td>NaN</td>\n      <td>12.00</td>\n      <td>4.00</td>\n      <td>-3.00</td>\n      <td>2.00</td>\n    </tr>\n    <tr>\n      <th>5</th>\n      <td>Treasury Stock</td>\n      <td>NaN</td>\n      <td>0.00</td>\n      <td>0.00</td>\n      <td>0.00</td>\n      <td>0.00</td>\n    </tr>\n    <tr>\n      <th>6</th>\n      <td>Total Shareholder's Equity</td>\n      <td>NaN</td>\n      <td>2063.00</td>\n      <td>1926.00</td>\n      <td>1808.00</td>\n      <td>1715.00</td>\n    </tr>\n    <tr>\n      <th>7</th>\n      <td>Total Liabilities &amp; Shareholder's Equity</td>\n      <td>NaN</td>\n      <td>8114.00</td>\n      <td>7812.00</td>\n      <td>6004.00</td>\n      <td>4551.00</td>\n    </tr>\n    <tr>\n      <th>8</th>\n      <td>Total Common Equity</td>\n      <td>0.0</td>\n      <td>2063.00</td>\n      <td>1926.00</td>\n      <td>1808.00</td>\n      <td>1715.00</td>\n    </tr>\n    <tr>\n      <th>9</th>\n      <td>Shares Outstanding</td>\n      <td>450.9</td>\n      <td>450.90</td>\n      <td>442.30</td>\n      <td>438.70</td>\n      <td>432.70</td>\n    </tr>\n    <tr>\n      <th>10</th>\n      <td>Book Value Per Share</td>\n      <td>0.0</td>\n      <td>4.57</td>\n      <td>4.36</td>\n      <td>4.12</td>\n      <td>3.96</td>\n    </tr>\n  </tbody>\n</table>\n</div>"
     },
     "metadata": {}
    }
   ],
   "source": [
    "\n",
    "display(df2[3])\n",
    "display(df2[4])\n",
    "display(df2[5])\n",
    "display(df2[6])\n",
    "display(df2[5])\n",
    "display(df2[6])\n",
    "display(df2[7])\n"
   ]
  },
  {
   "source": [
    "#Anaylist esitmates \n",
    "df = pd.read_html('https://finance.yahoo.com/quote/AAPL/analysis?p=AAPL')\n",
    "df = df[1] \n",
    "df.index = df[df.columns[0]]\n",
    "df1 = df.index \n",
    "df1 = df[df.columns[3:5]]\n",
    "df1 = df1.drop(['Sales Growth (year/est)'])\n",
    "\n",
    "for i in df1.columns:\n",
    "    df1[i] = df1[i].str.replace('B','e9')\n",
    "    df1[i] = df1[i].astype(float)\n",
    "\n",
    "#df1.loc['Avg. Estimate']\n",
    "df1.loc['Avg. Estimate'].tolist()\n",
    "\n",
    "Revenue1 = Revenue.loc['totalRevenue']\n",
    "strs = int(Revenue.columns[3])\n",
    "Revenue1['{}'.format(strs+1)] = df1.loc['Avg. Estimate'][0]\n",
    "Revenue1['{}'.format(strs+2)] = df1.loc['Avg. Estimate'][1]\n",
    "growth = 1 + Revenue.T.pct_change().sum()/5\n",
    "\n",
    "Revenue1['{}'.format(strs+3)] = l.drop_index() * growth\n",
    "Revenue1['{}'.format(strs+4)] = l2.drop_index() * growth\n",
    "Revenue.loc['netIncome']/Revenue.loc['totalRevenue']"
   ],
   "cell_type": "markdown",
   "metadata": {}
  },
  {
   "source": [
    "ticker = 'LMT'\n",
    "yahoo_financials = yfs(ticker)\n",
    "\n",
    "cash = yahoo_financials.get_financial_stmts('annual','cash')\n",
    "income = yahoo_financials.get_financial_stmts('annual','income')\n",
    "balance = yahoo_financials.get_financial_stmts('annual','balance')\n",
    "stock = yahoo_financials.get_key_statistics_data()[ticker]"
   ],
   "cell_type": "markdown",
   "metadata": {}
  },
  {
   "source": [
    "sample = pd.DataFrame()\n",
    "sample['Free Cash Flow'] = df['FCF']\n",
    "sample['Cash Flow'] = futurefreecashflow\n",
    "sample['discountfactor'] = discountfactor\n",
    "sample"
   ],
   "cell_type": "markdown",
   "metadata": {}
  },
  {
   "source": [
    "df = pd.DataFrame.from_dict({(i): stock[i] \n",
    "                            for i in stock.keys() \n",
    "                            },\n",
    "                        orient='index')\n",
    "df"
   ],
   "cell_type": "markdown",
   "metadata": {}
  },
  {
   "source": [
    "aapl.info['sharesOutstanding']\n",
    "stock.keys()"
   ],
   "cell_type": "markdown",
   "metadata": {}
  },
  {
   "source": [
    "pd.DataFrame.from_dict({(i): stock[i] \n",
    "for i in stock.keys()},orient='index')"
   ],
   "cell_type": "markdown",
   "metadata": {}
  },
  {
   "source": [
    "# Testing for working all of the files work"
   ],
   "cell_type": "markdown",
   "metadata": {}
  },
  {
   "source": [
    "df = pd.DataFrame.from_dict({(i,j): balance_sheet_data[i][j] \n",
    "                           for i in balance_sheet_data.keys() \n",
    "                           for j in balance_sheet_data[i].keys()},\n",
    "                       orient='index')\n",
    "for i in df.columns:\n",
    "    df[i].tolist()\n",
    "    df2 = pd.json_normalize(df[i],max_level = 1)\n",
    "\n",
    "    #Gets  Date and renames \n",
    "    Date = df2.columns[0]\n",
    "    Date = Date[0:11]\n",
    "    df2.index = df2.index.rename(ticker)\n",
    "    df2.columns = df2.columns.str.replace(str(Date),'')\n",
    "\n",
    "    #Tranposes DataFrame and changes it to the \n",
    "    df2 = df2.T\n",
    "    df2.rename(columns = {df2.columns[0]:'{}'.format(str(Date[0:10]))},inplace = True)\n",
    "    #display(df2)\n",
    "    save.append(df2)\n",
    "df3 = pd.concat(save,axis = 1)\n",
    "display(df3)"
   ],
   "cell_type": "markdown",
   "metadata": {}
  }
 ]
}