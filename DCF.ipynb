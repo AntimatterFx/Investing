{
 "metadata": {
  "language_info": {
   "codemirror_mode": {
    "name": "ipython",
    "version": 3
   },
   "file_extension": ".py",
   "mimetype": "text/x-python",
   "name": "python",
   "nbconvert_exporter": "python",
   "pygments_lexer": "ipython3",
   "version": "3.8.8-final"
  },
  "orig_nbformat": 2,
  "kernelspec": {
   "name": "python3",
   "display_name": "Python 3.8.8 64-bit",
   "metadata": {
    "interpreter": {
     "hash": "c79eed6807d3cbff3dfd5ad13d83f6e3167c557f9dd74a8b82ef72672ddb666e"
    }
   }
  }
 },
 "nbformat": 4,
 "nbformat_minor": 2,
 "cells": [
  {
   "cell_type": "code",
   "execution_count": 60,
   "metadata": {},
   "outputs": [],
   "source": [
    "import pandas as pd\n",
    "#import yfinance as yf\n",
    "from yahoofinancials import YahooFinancials as yfs\n",
    "import json"
   ]
  },
  {
   "source": [
    "# !pip install yahoofinancials"
   ],
   "cell_type": "markdown",
   "metadata": {}
  },
  {
   "cell_type": "code",
   "execution_count": 61,
   "metadata": {},
   "outputs": [],
   "source": [
    "def Sheet_Data(ticker,sheet_data):\n",
    "    save = []\n",
    "    \n",
    "    df = pd.DataFrame.from_dict({(i,j): sheet_data[i][j] \n",
    "                            for i in sheet_data.keys() \n",
    "                            for j in sheet_data[i].keys()},\n",
    "                        orient='index')\n",
    "\n",
    "    for i in df.columns:\n",
    "        f = len(df.columns) - i - 1\n",
    "        df2 = pd.json_normalize(df[f],max_level = 1)\n",
    "\n",
    "        #Gets  Date and renames \n",
    "        Date = df2.columns[0]\n",
    "        Date = Date[0:11]\n",
    "        df2.index = df2.index.rename(ticker)\n",
    "        df2.columns = df2.columns.str.replace(str(Date),'')\n",
    "\n",
    "        #Tranposes DataFrame and changes it to the \n",
    "        df2 = df2.T\n",
    "        df2.rename(columns = {df2.columns[0]:'{}'.format(str(Date[0:4]))},inplace = True)\n",
    "        #display(df2)\n",
    "        save.append(df2)\n",
    "    df3 = pd.concat(save,axis = 1)\n",
    "    #display(df3)\n",
    "    filename = str(df.index[0][1]) + '_' + str(df.index[0][0])\n",
    "    print(filename)\n",
    "    #df3.to_csv('{}.csv'.format(filename))\n",
    "    return df3\n",
    "#filename = str(df.index[0][1]) + '_' + str(df.index[0][0])\n",
    "#df3.t"
   ]
  },
  {
   "cell_type": "code",
   "execution_count": 62,
   "metadata": {},
   "outputs": [
    {
     "output_type": "stream",
     "name": "stdout",
     "text": [
      "MU_cashflowStatementHistory\nMU_incomeStatementHistory\nMU_balanceSheetHistory\n"
     ]
    }
   ],
   "source": [
    "ticker = 'JPM'\n",
    "yahoo_financials = yfs(ticker)\n",
    "\n",
    "cash = yahoo_financials.get_financial_stmts('annual','cash')\n",
    "income = yahoo_financials.get_financial_stmts('annual','income')\n",
    "balance = yahoo_financials.get_financial_stmts('annual','balance')\n",
    "stock = yahoo_financials.get_key_statistics_data()[ticker]\n",
    "\n",
    "cash_balance = Sheet_Data(ticker,cash)\n",
    "income_balance = Sheet_Data(ticker,income)\n",
    "balance_balance = Sheet_Data(ticker,balance)"
   ]
  },
  {
   "cell_type": "code",
   "execution_count": 63,
   "metadata": {},
   "outputs": [
    {
     "output_type": "stream",
     "name": "stdout",
     "text": [
      "0.0590075056194681\n0.10342101904916588\n0.9409924943805319\n12.215863405\n12.215863405\n1.635\n"
     ]
    }
   ],
   "source": [
    "#WACC = Wd * Rd * (1 - t) + We + Re\n",
    "INCOME2 = income_balance.loc[['incomeBeforeTax','incomeTaxExpense']]\n",
    "t = income_balance.loc['incomeBeforeTax']/ income_balance.loc['incomeTaxExpense']\n",
    "t = t[-1]/ 100 \n",
    "\n",
    "\n",
    "\n",
    "yahoo_financials.get_beta()\n",
    "df = pd.read_html('https://finance.yahoo.com/bonds')\n",
    "Rf = float(df[0]['Last Price'][2])\n",
    "try: \n",
    "    beta = float(yahoo_financials.get_beta())\n",
    "except:\n",
    "    beta = 0\n",
    "Rm = float(10.0)\n",
    "Ra = Rf + beta * (Rm - Rf)\n",
    "#print(Ra)\n",
    "\n",
    "try:\n",
    "    Balance2 = balance_balance.loc[['shortLongTermDebt','longTermDebt']]#.astype#(float)\n",
    "except:\n",
    "    Balance2 = balance_balance.loc[['longTermDebt']]\n",
    "\n",
    "Total_debt = Balance2.sum()[-1] \n",
    "Balance2 =   -(income_balance.loc['interestExpense'][-1]) / Total_debt\n",
    "Rd = (1-Balance2) * t #  Rd * (1 - t)\n",
    "#Balance2.sum()\n",
    "\n",
    "\n",
    "Market_Cap = yahoo_financials .get_market_cap() # MarketCap\n",
    "Total =  Total_debt + Market_Cap \n",
    "Wd = Total_debt/ Total \n",
    "We = Market_Cap/ Total \n",
    "Re = Ra\n",
    "Required_Rate = (Wd * Rd + We * Re)/100\n",
    "Required_Rate\n",
    "\n",
    "FCF = cash_balance.loc[['totalCashFromOperatingActivities','capitalExpenditures','netIncome']] # how to select rows \n",
    "Revenue = income_balance.loc[['totalRevenue','netIncome']]\n",
    "Growth_Rate = Revenue.pct_change().mean()\n",
    "#FCF is CFO - CAPEX = FCF\n",
    "#FCF = cash_balance.loc[['totalCashFromOperatingActivities','capitalExpenditures','netBorrowings']] # More \n",
    "\n",
    "df = pd.DataFrame()\n",
    "df['FCF'] = FCF.loc['totalCashFromOperatingActivities'] + FCF.loc['capitalExpenditures']\n",
    "df['Net Income'] = FCF.loc['netIncome']\n",
    "#df['FCF/Net Income'] = df['FCF']/df['Net Income']\n",
    "minimum = (df['FCF']/df['Net Income']).min()\n",
    "print(Wd)\n",
    "print(Rd)\n",
    "print(We)\n",
    "print(Re)\n",
    "\n",
    "print(Ra)\n",
    "print(Rf)"
   ]
  },
  {
   "source": [
    "# Anaylsis"
   ],
   "cell_type": "markdown",
   "metadata": {}
  },
  {
   "cell_type": "code",
   "execution_count": 64,
   "metadata": {},
   "outputs": [
    {
     "output_type": "stream",
     "name": "stdout",
     "text": [
      "[76738073.76441212, 70948577.89243801, 65595869.9251813, 60646996.44529331]\nMU\n0.7914904976551931\n87.77\n0.030889467807964272\n0.11501138392845522\n"
     ]
    }
   ],
   "source": [
    "def DCF_VALUE():\n",
    "    outstanding_shares = stock['sharesOutstanding']\n",
    "\n",
    "    Required_rate = Required_Rate\n",
    "    Pre_rate = .025\n",
    "    Cashflowgrowthrate = minimum\n",
    "\n",
    "    years = [1,2,3,4]\n",
    "    freecash_flow = df['FCF'].values\n",
    "\n",
    "    terminalvalue = freecash_flow[-1] * (1+Pre_rate)/(Required_rate - Pre_rate)\n",
    "\n",
    "    futurefreecashflow = []\n",
    "    discountfactor = []\n",
    "    discountfuturefreecashflow = []\n",
    "    for  year in years:\n",
    "        cashflow = freecash_flow[-1] * (1+ Cashflowgrowthrate) ** year \n",
    "        futurefreecashflow.append(cashflow)\n",
    "        discountfactor.append((1+ Required_rate)**year)\n",
    "\n",
    "\n",
    "    for i in range(0,len(years)):\n",
    "        discountfuturefreecashflow.append(futurefreecashflow[i]/discountfactor[i])\n",
    "\n",
    "    print(discountfuturefreecashflow)\n",
    "    dis = terminalvalue/(1+Required_rate)**len(years)\n",
    "    discountfuturefreecashflow.append(dis)\n",
    "    value = sum(discountfuturefreecashflow)\n",
    "    fairvalue = value/outstanding_shares\n",
    "\n",
    "    print(ticker)\n",
    "    print(fairvalue)\n",
    "    print(yahoo_financials.get_current_price())\n",
    "\n",
    "    print(Cashflowgrowthrate)\n",
    "    print(Required_Rate)\n",
    "#print(stock.get_current_price())\n",
    "DCF_VALUE()"
   ]
  },
  {
   "cell_type": "code",
   "execution_count": 65,
   "metadata": {},
   "outputs": [
    {
     "output_type": "stream",
     "name": "stdout",
     "text": [
      "[79911627.90697674, 76938171.98485668, 74075356.28309457, 71319063.95628174]\nMU\n1.4091093791582523\n87.77\n0.035\n0.075\n"
     ]
    }
   ],
   "source": [
    "def DCF_VALUE_CON():\n",
    "    outstanding_shares = stock['sharesOutstanding']\n",
    "\n",
    "    Required_rate = .075\n",
    "    Pre_rate = .025\n",
    "    Cashflowgrowthrate = .035\n",
    "\n",
    "    years = [1,2,3,4]\n",
    "    freecash_flow = df['FCF'].values\n",
    "\n",
    "    terminalvalue = freecash_flow[-1] * (1+Pre_rate)/(Required_rate - Pre_rate)\n",
    "\n",
    "    futurefreecashflow = []\n",
    "    discountfactor = []\n",
    "    discountfuturefreecashflow = []\n",
    "    for  year in years:\n",
    "        cashflow = freecash_flow[-1] * (1+ Cashflowgrowthrate) ** year \n",
    "        futurefreecashflow.append(cashflow)\n",
    "        discountfactor.append((1+ Required_rate)**year)\n",
    "\n",
    "\n",
    "    for i in range(0,len(years)):\n",
    "        discountfuturefreecashflow.append(futurefreecashflow[i]/discountfactor[i])\n",
    "\n",
    "    print(discountfuturefreecashflow)\n",
    "    dis = terminalvalue/(1+Required_rate)**len(years)\n",
    "    discountfuturefreecashflow.append(dis)\n",
    "    value = sum(discountfuturefreecashflow)\n",
    "    fairvalue = value/outstanding_shares\n",
    "\n",
    "    print(ticker)\n",
    "    print(fairvalue)\n",
    "    print(yahoo_financials.get_current_price())\n",
    "\n",
    "    print(Cashflowgrowthrate)\n",
    "    print(Required_rate)\n",
    "#print(stock.get_current_price())\n",
    "DCF_VALUE_CON()"
   ]
  },
  {
   "source": [
    "df = pd.concat([df2[2],df2[3],df2[4]])\n",
    "#display(df)\n",
    "x = []\n",
    "x.append(df['Unnamed: 0'].dropna())\n",
    "x.append(df['Liabilities & Shareholders Equity'].dropna())\n",
    "x.append(df['Shareholders Equity'].dropna())\n",
    "\n",
    "y = pd.concat(x).tolist()\n",
    "df = df.drop(['Liabilities & Shareholders Equity','Shareholders Equity','Unnamed: 0'], axis=1)\n",
    "df['Liabilities & Shareholders Equity'] = y\n",
    "df.set_index('Liabilities & Shareholders Equity')"
   ],
   "cell_type": "markdown",
   "metadata": {}
  },
  {
   "source": [
    "x#Anaylist esitmates \n",
    "df = pd.read_html('https://finance.yahoo.com/quote/AAPL/analysis?p=AAPL')\n",
    "df = df[1] \n",
    "df.index = df[df.columns[0]]\n",
    "df1 = df.index \n",
    "df1 = df[df.columns[3:5]]\n",
    "df1 = df1.drop(['Sales Growth (year/est)'])\n",
    "\n",
    "for i in df1.columns:\n",
    "    df1[i] = df1[i].str.replace('B','e9')\n",
    "    df1[i] = df1[i].astype(float)\n",
    "\n",
    "#df1.loc['Avg. Estimate']\n",
    "df1.loc['Avg. Estimate'].tolist()\n",
    "\n",
    "Revenue1 = Revenue.loc['totalRevenue']\n",
    "strs = int(Revenue.columns[3])\n",
    "Revenue1['{}'.format(strs+1)] = df1.loc['Avg. Estimate'][0]\n",
    "Revenue1['{}'.format(strs+2)] = df1.loc['Avg. Estimate'][1]\n",
    "growth = 1 + Revenue.T.pct_change().sum()/5\n",
    "\n",
    "Revenue1['{}'.format(strs+3)] = l.drop_index() * growth\n",
    "Revenue1['{}'.format(strs+4)] = l2.drop_index() * growth\n",
    "Revenue.loc['netIncome']/Revenue.loc['totalRevenue']"
   ],
   "cell_type": "markdown",
   "metadata": {}
  },
  {
   "source": [
    "ticker = 'LMT'\n",
    "yahoo_financials = yfs(ticker)\n",
    "\n",
    "cash = yahoo_financials.get_financial_stmts('annual','cash')\n",
    "income = yahoo_financials.get_financial_stmts('annual','income')\n",
    "balance = yahoo_financials.get_financial_stmts('annual','balance')\n",
    "stock = yahoo_financials.get_key_statistics_data()[ticker]"
   ],
   "cell_type": "markdown",
   "metadata": {}
  },
  {
   "source": [
    "sample = pd.DataFrame()\n",
    "sample['Free Cash Flow'] = df['FCF']\n",
    "sample['Cash Flow'] = futurefreecashflow\n",
    "sample['discountfactor'] = discountfactor\n",
    "sample"
   ],
   "cell_type": "markdown",
   "metadata": {}
  },
  {
   "source": [
    "df = pd.DataFrame.from_dict({(i): stock[i] \n",
    "                            for i in stock.keys() \n",
    "                            },\n",
    "                        orient='index')\n",
    "df"
   ],
   "cell_type": "markdown",
   "metadata": {}
  },
  {
   "source": [
    "aapl.info['sharesOutstanding']\n",
    "stock.keys()"
   ],
   "cell_type": "markdown",
   "metadata": {}
  },
  {
   "source": [
    "pd.DataFrame.from_dict({(i): stock[i] \n",
    "for i in stock.keys()},orient='index')"
   ],
   "cell_type": "markdown",
   "metadata": {}
  },
  {
   "source": [
    "# Testing for working all of the files work"
   ],
   "cell_type": "markdown",
   "metadata": {}
  },
  {
   "source": [
    "df = pd.DataFrame.from_dict({(i,j): balance_sheet_data[i][j] \n",
    "                           for i in balance_sheet_data.keys() \n",
    "                           for j in balance_sheet_data[i].keys()},\n",
    "                       orient='index')\n",
    "for i in df.columns:\n",
    "    df[i].tolist()\n",
    "    df2 = pd.json_normalize(df[i],max_level = 1)\n",
    "\n",
    "    #Gets  Date and renames \n",
    "    Date = df2.columns[0]\n",
    "    Date = Date[0:11]\n",
    "    df2.index = df2.index.rename(ticker)\n",
    "    df2.columns = df2.columns.str.replace(str(Date),'')\n",
    "\n",
    "    #Tranposes DataFrame and changes it to the \n",
    "    df2 = df2.T\n",
    "    df2.rename(columns = {df2.columns[0]:'{}'.format(str(Date[0:10]))},inplace = True)\n",
    "    #display(df2)\n",
    "    save.append(df2)\n",
    "df3 = pd.concat(save,axis = 1)\n",
    "display(df3)"
   ],
   "cell_type": "markdown",
   "metadata": {}
  }
 ]
}