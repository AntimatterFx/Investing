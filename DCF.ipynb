{
 "metadata": {
  "language_info": {
   "codemirror_mode": {
    "name": "ipython",
    "version": 3
   },
   "file_extension": ".py",
   "mimetype": "text/x-python",
   "name": "python",
   "nbconvert_exporter": "python",
   "pygments_lexer": "ipython3",
   "version": "3.8.8-final"
  },
  "orig_nbformat": 2,
  "kernelspec": {
   "name": "python3",
   "display_name": "Python 3.8.8 64-bit",
   "metadata": {
    "interpreter": {
     "hash": "c79eed6807d3cbff3dfd5ad13d83f6e3167c557f9dd74a8b82ef72672ddb666e"
    }
   }
  }
 },
 "nbformat": 4,
 "nbformat_minor": 2,
 "cells": [
  {
   "cell_type": "code",
   "execution_count": 1,
   "metadata": {},
   "outputs": [],
   "source": [
    "import pandas as pd\n",
    "import yfinance as yf\n",
    "from yahoofinancials import YahooFinancials as yfs\n",
    "import json\n",
    "import warnings\n",
    "warnings.simplefilter(action='ignore', category=FutureWarning)\n"
   ]
  },
  {
   "source": [
    "# !pip install yahoofinancials"
   ],
   "cell_type": "markdown",
   "metadata": {}
  },
  {
   "cell_type": "code",
   "execution_count": 2,
   "metadata": {},
   "outputs": [],
   "source": [
    "def start(ticker):\n",
    "  \n",
    "    yahoo_financials = yfs(ticker)\n",
    "\n",
    "    cash = yahoo_financials.get_financial_stmts('annual','cash')\n",
    "    income = yahoo_financials.get_financial_stmts('annual','income')\n",
    "    balance = yahoo_financials.get_financial_stmts('annual','balance')\n",
    "    stock = yahoo_financials.get_key_statistics_data()[ticker]\n",
    "\n",
    "    cash_balance = Sheet_Data(ticker,cash)\n",
    "    income_balance = Sheet_Data(ticker,income)\n",
    "    balance_balance = Sheet_Data(ticker,balance)\n",
    "    print(ticker)\n",
    "    return DATA(cash_balance,income_balance,balance_balance,stock,yahoo_financials)"
   ]
  },
  {
   "cell_type": "code",
   "execution_count": 3,
   "metadata": {},
   "outputs": [],
   "source": [
    "def Sheet_Data(ticker,sheet_data):\n",
    "    save = []\n",
    "    \n",
    "    df = pd.DataFrame.from_dict({(i,j): sheet_data[i][j] \n",
    "                            for i in sheet_data.keys() \n",
    "                            for j in sheet_data[i].keys()},\n",
    "                        orient='index')\n",
    "\n",
    "    for i in df.columns:\n",
    "        f = len(df.columns) - i - 1\n",
    "        df2 = pd.json_normalize(df[f],max_level = 1)\n",
    "\n",
    "        #Gets  Date and renames \n",
    "        Date = df2.columns[0]\n",
    "        Date = Date[0:11]\n",
    "        df2.index = df2.index.rename(ticker)\n",
    "        df2.columns = df2.columns.str.replace(str(Date),'')\n",
    "\n",
    "        #Tranposes DataFrame and changes it to the \n",
    "        df2 = df2.T\n",
    "        df2.rename(columns = {df2.columns[0]:'{}'.format(str(Date[0:4]))},inplace = True)\n",
    "        #display(df2)\n",
    "        save.append(df2)\n",
    "    df3 = pd.concat(save,axis = 1)\n",
    "    #display(df3)\n",
    "    #filename = str(df.index[0][1]) + '_' + str(df.index[0][0])\n",
    "    #print(filename)\n",
    "    #df3.to_csv('{}.csv'.format(filename))\n",
    "    return df3\n",
    "#filename = str(df.index[0][1]) + '_' + str(df.index[0][0])\n",
    "#df3.t"
   ]
  },
  {
   "cell_type": "code",
   "execution_count": 4,
   "metadata": {},
   "outputs": [],
   "source": [
    "#WACC = Wd * Rd * (1 - t) + We + Re\n",
    "def DATA(cash_balance,income_balance,balance_balance,stock,yahoo_financials ):\n",
    "    INCOME2 = income_balance.loc[['incomeBeforeTax','incomeTaxExpense']]\n",
    "    t = income_balance.loc['incomeBeforeTax']/ income_balance.loc['incomeTaxExpense']\n",
    "    t = t[-1]/ 100 \n",
    "\n",
    "\n",
    "\n",
    "    #yahoo_financials.get_beta()\n",
    "    df = pd.read_html('https://finance.yahoo.com/bonds')\n",
    "    Rf = float(df[0]['Last Price'][2])\n",
    "    try: \n",
    "        beta = float(yahoo_financials.get_beta())\n",
    "    except:\n",
    "        beta = 0\n",
    "    Rm = float(10.0)\n",
    "    Ra = Rf + beta * (Rm - Rf)\n",
    "    #print(Ra)\n",
    "\n",
    "    try:\n",
    "        Balance2 = balance_balance.loc[['shortLongTermDebt','longTermDebt']]#.astype#(float)\n",
    "    except:\n",
    "        Balance2 = balance_balance.loc[['longTermDebt']]\n",
    "\n",
    "    Total_debt = Balance2.sum()[-1] \n",
    "    Balance2 =   -(income_balance.loc['interestExpense'][-1]) / Total_debt\n",
    "    Rd = (1-Balance2) * t #  Rd * (1 - t)\n",
    "    #Balance2.sum()\n",
    "\n",
    "\n",
    "    Market_Cap = yahoo_financials.get_market_cap() # MarketCap\n",
    "    Total =  Total_debt + Market_Cap \n",
    "    Wd = Total_debt/ Total \n",
    "    We = Market_Cap/ Total \n",
    "    Re = Ra\n",
    "    Required_Rate = (Wd * Rd + We * Re)/100\n",
    "    Required_Rate\n",
    "\n",
    "    FCF = cash_balance.loc[['totalCashFromOperatingActivities','capitalExpenditures','netIncome']] # how to select rows \n",
    "    Revenue = income_balance.loc[['totalRevenue','netIncome']]\n",
    "    Growth_Rate = Revenue.pct_change().mean()\n",
    "    #FCF is CFO - CAPEX = FCF\n",
    "    #FCF = cash_balance.loc[['totalCashFromOperatingActivities','capitalExpenditures','netBorrowings']] # More \n",
    "\n",
    "    df = pd.DataFrame()\n",
    "    df['FCF'] = FCF.loc['totalCashFromOperatingActivities'] + FCF.loc['capitalExpenditures']\n",
    "    df['Net Income'] = FCF.loc['netIncome']\n",
    "    #df['FCF/Net Income'] = df['FCF']/df['Net Income']\n",
    "    minimum = (df['FCF']/df['Net Income']).min()\n",
    "    #print(Wd)\n",
    "    #print(Rd)\n",
    "    #print(We)\n",
    "    #print(Re)\n",
    "\n",
    "    #print(Ra)\n",
    "    #print(Rf)\n",
    "    #print(Required_Rate)\n",
    "    return  DCF_VALUE(Required_Rate,minimum, df,stock), DCF_VALUE_CON(df,stock)"
   ]
  },
  {
   "source": [
    "# Anaylsis"
   ],
   "cell_type": "markdown",
   "metadata": {}
  },
  {
   "cell_type": "code",
   "execution_count": 5,
   "metadata": {},
   "outputs": [],
   "source": [
    "def DCF_VALUE(Required_Rate,minimum, df,stock):\n",
    "    outstanding_shares = stock['sharesOutstanding']\n",
    "\n",
    "    Required_rate = Required_Rate\n",
    "    Pre_rate = .025\n",
    "    Cashflowgrowthrate = minimum\n",
    "\n",
    "    years = [1,2,3,4]\n",
    "    freecash_flow = df['FCF'].values\n",
    "\n",
    "    terminalvalue = freecash_flow[-1] * (1+Pre_rate)/(Required_rate - Pre_rate)\n",
    "\n",
    "    futurefreecashflow = []\n",
    "    discountfactor = []\n",
    "    discountfuturefreecashflow = []\n",
    "    for  year in years:\n",
    "        cashflow = freecash_flow[-1] * (1+ Cashflowgrowthrate) ** year \n",
    "        futurefreecashflow.append(cashflow)\n",
    "        discountfactor.append((1+ Required_rate)**year)\n",
    "\n",
    "\n",
    "    for i in range(0,len(years)):\n",
    "        discountfuturefreecashflow.append(futurefreecashflow[i]/discountfactor[i])\n",
    "\n",
    "    #print(discountfuturefreecashflow)\n",
    "    dis = terminalvalue/(1+Required_rate)**len(years)\n",
    "    discountfuturefreecashflow.append(dis)\n",
    "    value = sum(discountfuturefreecashflow)\n",
    "    fairvalue = value/outstanding_shares\n",
    "\n",
    "    \n",
    "    print(ticker)\n",
    "    print(fairvalue)\n",
    "    #print(yahoo_financials.get_current_price())\n",
    "    #tickers.append(ticker)\n",
    "    #Value.append(fairvalue)\n",
    "    #print(Cashflowgrowthrate)\n",
    "    #print(Required_Rate)\n",
    "    #return fairvalue\n",
    "#print(stock.get_current_price())\n",
    "#DCF_VALUE()"
   ]
  },
  {
   "cell_type": "code",
   "execution_count": 6,
   "metadata": {},
   "outputs": [],
   "source": [
    "def DCF_VALUE_CON(df,stock):\n",
    "    outstanding_shares = stock['sharesOutstanding']\n",
    "\n",
    "    Required_rate = .075\n",
    "    Pre_rate = .025\n",
    "    Cashflowgrowthrate = .035\n",
    "\n",
    "    years = [1,2,3,4]\n",
    "    freecash_flow = df['FCF'].values\n",
    "\n",
    "    terminalvalue = freecash_flow[-1] * (1+Pre_rate)/(Required_rate - Pre_rate)\n",
    "\n",
    "    futurefreecashflow = []\n",
    "    discountfactor = []\n",
    "    discountfuturefreecashflow = []\n",
    "    for  year in years:\n",
    "        cashflow = freecash_flow[-1] * (1+ Cashflowgrowthrate) ** year \n",
    "        futurefreecashflow.append(cashflow)\n",
    "        discountfactor.append((1+ Required_rate)**year)\n",
    "\n",
    "\n",
    "    for i in range(0,len(years)):\n",
    "        discountfuturefreecashflow.append(futurefreecashflow[i]/discountfactor[i])\n",
    "\n",
    "    #print(discountfuturefreecashflow)\n",
    "    dis = terminalvalue/(1+Required_rate)**len(years)\n",
    "    discountfuturefreecashflow.append(dis)\n",
    "    value = sum(discountfuturefreecashflow)\n",
    "    fairvalue = value/outstanding_shares\n",
    "\n",
    "    print(ticker)\n",
    "    print(fairvalue)\n",
    "    #print(yahoo_financials.get_current_price())\n",
    "\n",
    "    #print(Cashflowgrowthrate)\n",
    "    #print(Required_rate)\n",
    "    #tickers.append(ticker)\n",
    "    #ValueCon.append( fairvalue)\n",
    "#print(stock.get_current_price())\n",
    "#DCF_VALUE_CON()"
   ]
  },
  {
   "cell_type": "code",
   "execution_count": 7,
   "metadata": {},
   "outputs": [],
   "source": [
    "def Collect(sdsd):\n",
    "    global ticker,maindf,tickers,Value,ValueCon\n",
    "    maindf = pd.DataFrame()\n",
    "    tickers = []\n",
    "    Value  = []\n",
    "    ValueCon = []\n",
    "    #sdsd = ['AMZN','SQ','GOOG','MSFT']\n",
    "    try:\n",
    "        for ticker in sdsd:\n",
    "            %time start(ticker)\n",
    "    except:\n",
    "            print('This Failed ' + str(ticker))"
   ]
  },
  {
   "cell_type": "code",
   "execution_count": 8,
   "metadata": {},
   "outputs": [
    {
     "output_type": "execute_result",
     "data": {
      "text/plain": [
       "     Unnamed: 0 Ticker                          Company  \\\n",
       "0             0   AAPL                       Apple Inc.   \n",
       "1             8   ADBE                       Adobe Inc.   \n",
       "2             9    ADI             Analog Devices, Inc.   \n",
       "3            10    ADP  Automatic Data Processing, Inc.   \n",
       "4            13   ADSK                   Autodesk, Inc.   \n",
       "..          ...    ...                              ...   \n",
       "98          435    WBA   Walgreens Boots Alliance, Inc.   \n",
       "99          436   WDAY                    Workday, Inc.   \n",
       "100         445    XEL                 Xcel Energy Inc.   \n",
       "101         446   XLNX                     Xilinx, Inc.   \n",
       "102         456     ZM  Zoom Video Communications, Inc.   \n",
       "\n",
       "                     Sector                        Industry     P/E  \\\n",
       "0                Technology            Consumer Electronics   32.83   \n",
       "1                Technology       Software - Infrastructure   40.58   \n",
       "2                Technology                  Semiconductors   39.44   \n",
       "3               Industrials  Staffing & Employment Services   30.99   \n",
       "4                Technology          Software - Application   49.22   \n",
       "..                      ...                             ...     ...   \n",
       "98               Healthcare        Pharmaceutical Retailers    0.00   \n",
       "99               Technology          Software - Application    0.00   \n",
       "100               Utilities  Utilities - Regulated Electric   22.00   \n",
       "101              Technology                  Semiconductors   48.00   \n",
       "102  Communication Services                Telecom Services  234.98   \n",
       "\n",
       "     EPS (ttm)  Insider Own %  Perf Week %    Market Cap  ...  Death MACD  \\\n",
       "0         3.70           0.07         0.13  2.033870e+12  ...  2021-02-01   \n",
       "1        10.86           0.10        -4.10  2.107900e+11  ...  2021-02-22   \n",
       "2         3.77           0.10        -4.45  5.417000e+10  ...  2021-02-25   \n",
       "3         5.75           0.10         2.44  7.695000e+10  ...  2020-11-20   \n",
       "4         5.43           0.10        -3.12  6.051000e+10  ...  2021-02-23   \n",
       "..         ...            ...          ...           ...  ...         ...   \n",
       "98       -0.81           0.30        -1.52  4.107000e+10  ...  2021-02-02   \n",
       "99       -1.20           0.70        -3.33  5.828000e+10  ...  2021-02-23   \n",
       "100       2.79           0.30         4.71  3.369000e+10  ...  2021-01-29   \n",
       "101       2.50           0.10        -7.94  2.837000e+10  ...  2021-02-22   \n",
       "102       1.44           0.10        -9.68  9.589000e+10  ...  2021-02-22   \n",
       "\n",
       "     Golden MACD       50-MA      200-MA       50 %      200 %   MOM-25  \\\n",
       "0     2021-01-22  131.402606  113.612943  -7.596962   6.871627   97.866   \n",
       "1     2021-02-02  477.912399  464.048001  -7.759246  -5.003362   99.426   \n",
       "2     2021-02-11  152.787585  129.248763  -2.557528  15.188723  101.736   \n",
       "3     2021-01-28  169.381800  154.007302   5.241531  15.747758  101.412   \n",
       "4     2021-02-08  297.690999  256.793600 -10.178675   4.126427   96.263   \n",
       "..           ...         ...         ...        ...        ...      ...   \n",
       "98    2021-01-06   46.649770   40.642467   1.179491  16.134682  110.257   \n",
       "99    2021-02-01  245.730600  214.035000  -3.544776  10.738898  111.850   \n",
       "100   2021-03-05   63.226200   66.386054  -2.967441  -7.586012   94.441   \n",
       "101   2021-02-08  138.271401  117.224960 -13.250318   2.324624   94.569   \n",
       "102   2021-01-12  381.998000  359.186125 -11.667077  -6.057062  108.009   \n",
       "\n",
       "     EMOM-25                    ETF  Tick  \n",
       "0    100.522      ARKF,ARKQ,QQQ,PTF  AAPL  \n",
       "1     99.491   ARKW,QQQ,PTF,PSJ,XSW  ADBE  \n",
       "2    104.142                    QQQ   ADI  \n",
       "3    102.120                QQQ,XSW   ADP  \n",
       "4    100.694           ARKQ,QQQ,XSW  ADSK  \n",
       "..       ...                    ...   ...  \n",
       "98   108.534                    QQQ   WBA  \n",
       "99   108.395           ARKF,QQQ,XSW  WDAY  \n",
       "100   95.115                    QQQ   XEL  \n",
       "101   98.072               ARKQ,QQQ  XLNX  \n",
       "102  101.465  ARKW,ARKK,QQQ,PTF,XSW    ZM  \n",
       "\n",
       "[103 rows x 71 columns]"
      ],
      "text/html": "<div>\n<style scoped>\n    .dataframe tbody tr th:only-of-type {\n        vertical-align: middle;\n    }\n\n    .dataframe tbody tr th {\n        vertical-align: top;\n    }\n\n    .dataframe thead th {\n        text-align: right;\n    }\n</style>\n<table border=\"1\" class=\"dataframe\">\n  <thead>\n    <tr style=\"text-align: right;\">\n      <th></th>\n      <th>Unnamed: 0</th>\n      <th>Ticker</th>\n      <th>Company</th>\n      <th>Sector</th>\n      <th>Industry</th>\n      <th>P/E</th>\n      <th>EPS (ttm)</th>\n      <th>Insider Own %</th>\n      <th>Perf Week %</th>\n      <th>Market Cap</th>\n      <th>...</th>\n      <th>Death MACD</th>\n      <th>Golden MACD</th>\n      <th>50-MA</th>\n      <th>200-MA</th>\n      <th>50 %</th>\n      <th>200 %</th>\n      <th>MOM-25</th>\n      <th>EMOM-25</th>\n      <th>ETF</th>\n      <th>Tick</th>\n    </tr>\n  </thead>\n  <tbody>\n    <tr>\n      <th>0</th>\n      <td>0</td>\n      <td>AAPL</td>\n      <td>Apple Inc.</td>\n      <td>Technology</td>\n      <td>Consumer Electronics</td>\n      <td>32.83</td>\n      <td>3.70</td>\n      <td>0.07</td>\n      <td>0.13</td>\n      <td>2.033870e+12</td>\n      <td>...</td>\n      <td>2021-02-01</td>\n      <td>2021-01-22</td>\n      <td>131.402606</td>\n      <td>113.612943</td>\n      <td>-7.596962</td>\n      <td>6.871627</td>\n      <td>97.866</td>\n      <td>100.522</td>\n      <td>ARKF,ARKQ,QQQ,PTF</td>\n      <td>AAPL</td>\n    </tr>\n    <tr>\n      <th>1</th>\n      <td>8</td>\n      <td>ADBE</td>\n      <td>Adobe Inc.</td>\n      <td>Technology</td>\n      <td>Software - Infrastructure</td>\n      <td>40.58</td>\n      <td>10.86</td>\n      <td>0.10</td>\n      <td>-4.10</td>\n      <td>2.107900e+11</td>\n      <td>...</td>\n      <td>2021-02-22</td>\n      <td>2021-02-02</td>\n      <td>477.912399</td>\n      <td>464.048001</td>\n      <td>-7.759246</td>\n      <td>-5.003362</td>\n      <td>99.426</td>\n      <td>99.491</td>\n      <td>ARKW,QQQ,PTF,PSJ,XSW</td>\n      <td>ADBE</td>\n    </tr>\n    <tr>\n      <th>2</th>\n      <td>9</td>\n      <td>ADI</td>\n      <td>Analog Devices, Inc.</td>\n      <td>Technology</td>\n      <td>Semiconductors</td>\n      <td>39.44</td>\n      <td>3.77</td>\n      <td>0.10</td>\n      <td>-4.45</td>\n      <td>5.417000e+10</td>\n      <td>...</td>\n      <td>2021-02-25</td>\n      <td>2021-02-11</td>\n      <td>152.787585</td>\n      <td>129.248763</td>\n      <td>-2.557528</td>\n      <td>15.188723</td>\n      <td>101.736</td>\n      <td>104.142</td>\n      <td>QQQ</td>\n      <td>ADI</td>\n    </tr>\n    <tr>\n      <th>3</th>\n      <td>10</td>\n      <td>ADP</td>\n      <td>Automatic Data Processing, Inc.</td>\n      <td>Industrials</td>\n      <td>Staffing &amp; Employment Services</td>\n      <td>30.99</td>\n      <td>5.75</td>\n      <td>0.10</td>\n      <td>2.44</td>\n      <td>7.695000e+10</td>\n      <td>...</td>\n      <td>2020-11-20</td>\n      <td>2021-01-28</td>\n      <td>169.381800</td>\n      <td>154.007302</td>\n      <td>5.241531</td>\n      <td>15.747758</td>\n      <td>101.412</td>\n      <td>102.120</td>\n      <td>QQQ,XSW</td>\n      <td>ADP</td>\n    </tr>\n    <tr>\n      <th>4</th>\n      <td>13</td>\n      <td>ADSK</td>\n      <td>Autodesk, Inc.</td>\n      <td>Technology</td>\n      <td>Software - Application</td>\n      <td>49.22</td>\n      <td>5.43</td>\n      <td>0.10</td>\n      <td>-3.12</td>\n      <td>6.051000e+10</td>\n      <td>...</td>\n      <td>2021-02-23</td>\n      <td>2021-02-08</td>\n      <td>297.690999</td>\n      <td>256.793600</td>\n      <td>-10.178675</td>\n      <td>4.126427</td>\n      <td>96.263</td>\n      <td>100.694</td>\n      <td>ARKQ,QQQ,XSW</td>\n      <td>ADSK</td>\n    </tr>\n    <tr>\n      <th>...</th>\n      <td>...</td>\n      <td>...</td>\n      <td>...</td>\n      <td>...</td>\n      <td>...</td>\n      <td>...</td>\n      <td>...</td>\n      <td>...</td>\n      <td>...</td>\n      <td>...</td>\n      <td>...</td>\n      <td>...</td>\n      <td>...</td>\n      <td>...</td>\n      <td>...</td>\n      <td>...</td>\n      <td>...</td>\n      <td>...</td>\n      <td>...</td>\n      <td>...</td>\n      <td>...</td>\n    </tr>\n    <tr>\n      <th>98</th>\n      <td>435</td>\n      <td>WBA</td>\n      <td>Walgreens Boots Alliance, Inc.</td>\n      <td>Healthcare</td>\n      <td>Pharmaceutical Retailers</td>\n      <td>0.00</td>\n      <td>-0.81</td>\n      <td>0.30</td>\n      <td>-1.52</td>\n      <td>4.107000e+10</td>\n      <td>...</td>\n      <td>2021-02-02</td>\n      <td>2021-01-06</td>\n      <td>46.649770</td>\n      <td>40.642467</td>\n      <td>1.179491</td>\n      <td>16.134682</td>\n      <td>110.257</td>\n      <td>108.534</td>\n      <td>QQQ</td>\n      <td>WBA</td>\n    </tr>\n    <tr>\n      <th>99</th>\n      <td>436</td>\n      <td>WDAY</td>\n      <td>Workday, Inc.</td>\n      <td>Technology</td>\n      <td>Software - Application</td>\n      <td>0.00</td>\n      <td>-1.20</td>\n      <td>0.70</td>\n      <td>-3.33</td>\n      <td>5.828000e+10</td>\n      <td>...</td>\n      <td>2021-02-23</td>\n      <td>2021-02-01</td>\n      <td>245.730600</td>\n      <td>214.035000</td>\n      <td>-3.544776</td>\n      <td>10.738898</td>\n      <td>111.850</td>\n      <td>108.395</td>\n      <td>ARKF,QQQ,XSW</td>\n      <td>WDAY</td>\n    </tr>\n    <tr>\n      <th>100</th>\n      <td>445</td>\n      <td>XEL</td>\n      <td>Xcel Energy Inc.</td>\n      <td>Utilities</td>\n      <td>Utilities - Regulated Electric</td>\n      <td>22.00</td>\n      <td>2.79</td>\n      <td>0.30</td>\n      <td>4.71</td>\n      <td>3.369000e+10</td>\n      <td>...</td>\n      <td>2021-01-29</td>\n      <td>2021-03-05</td>\n      <td>63.226200</td>\n      <td>66.386054</td>\n      <td>-2.967441</td>\n      <td>-7.586012</td>\n      <td>94.441</td>\n      <td>95.115</td>\n      <td>QQQ</td>\n      <td>XEL</td>\n    </tr>\n    <tr>\n      <th>101</th>\n      <td>446</td>\n      <td>XLNX</td>\n      <td>Xilinx, Inc.</td>\n      <td>Technology</td>\n      <td>Semiconductors</td>\n      <td>48.00</td>\n      <td>2.50</td>\n      <td>0.10</td>\n      <td>-7.94</td>\n      <td>2.837000e+10</td>\n      <td>...</td>\n      <td>2021-02-22</td>\n      <td>2021-02-08</td>\n      <td>138.271401</td>\n      <td>117.224960</td>\n      <td>-13.250318</td>\n      <td>2.324624</td>\n      <td>94.569</td>\n      <td>98.072</td>\n      <td>ARKQ,QQQ</td>\n      <td>XLNX</td>\n    </tr>\n    <tr>\n      <th>102</th>\n      <td>456</td>\n      <td>ZM</td>\n      <td>Zoom Video Communications, Inc.</td>\n      <td>Communication Services</td>\n      <td>Telecom Services</td>\n      <td>234.98</td>\n      <td>1.44</td>\n      <td>0.10</td>\n      <td>-9.68</td>\n      <td>9.589000e+10</td>\n      <td>...</td>\n      <td>2021-02-22</td>\n      <td>2021-01-12</td>\n      <td>381.998000</td>\n      <td>359.186125</td>\n      <td>-11.667077</td>\n      <td>-6.057062</td>\n      <td>108.009</td>\n      <td>101.465</td>\n      <td>ARKW,ARKK,QQQ,PTF,XSW</td>\n      <td>ZM</td>\n    </tr>\n  </tbody>\n</table>\n<p>103 rows × 71 columns</p>\n</div>"
     },
     "metadata": {},
     "execution_count": 8
    }
   ],
   "source": [
    "df = pd.read_csv('FINALTICKER.csv')\n",
    "ttt = 'QQQ'\n",
    "df = df[df['ETF'].str.contains('{}'.format(ttt))].reset_index(drop = 'True')\n",
    "df = df[~df['ETF'].str.contains('QQQJ')].reset_index(drop = 'True')\n",
    "df\n",
    "#sdsd = df['Ticker'][0:5]\n",
    "#Collect(sdsd)"
   ]
  },
  {
   "source": [
    "global ticker,maindf,tickers,Value,ValueCon\n",
    "maindf = pd.DataFrame()\n",
    "tickers = []\n",
    "Value  = []\n",
    "ValueCon = []\n",
    "ticker = 'AAPL'\n",
    "%time start(ticker)"
   ],
   "cell_type": "markdown",
   "metadata": {}
  },
  {
   "cell_type": "code",
   "execution_count": 12,
   "metadata": {},
   "outputs": [
    {
     "output_type": "stream",
     "name": "stdout",
     "text": [
      "ADBE\n",
      "ADBE\n",
      "363.7922505917927\n",
      "ADBE\n",
      "210.31415275604724\n",
      "Wall time: 25.9 s\n",
      "MSFT\n",
      "MSFT\n",
      "213.08984491606617\n",
      "MSFT\n",
      "113.62739473346839\n",
      "Wall time: 31.9 s\n"
     ]
    }
   ],
   "source": [
    "tickers = ['ADBE','MSFT']\n",
    "for ticker in tickers: \n",
    "    try:\n",
    "        %time start(ticker)\n",
    "    except:\n",
    "        0"
   ]
  },
  {
   "cell_type": "code",
   "execution_count": 10,
   "metadata": {},
   "outputs": [
    {
     "output_type": "error",
     "ename": "NameError",
     "evalue": "name 'Value' is not defined",
     "traceback": [
      "\u001b[1;31m---------------------------------------------------------------------------\u001b[0m",
      "\u001b[1;31mNameError\u001b[0m                                 Traceback (most recent call last)",
      "\u001b[1;32m<ipython-input-10-7bfa3781adaa>\u001b[0m in \u001b[0;36m<module>\u001b[1;34m\u001b[0m\n\u001b[1;32m----> 1\u001b[1;33m \u001b[0mValue\u001b[0m\u001b[1;33m\u001b[0m\u001b[1;33m\u001b[0m\u001b[0m\n\u001b[0m\u001b[0;32m      2\u001b[0m \u001b[1;31m#ValueCon\u001b[0m\u001b[1;33m\u001b[0m\u001b[1;33m\u001b[0m\u001b[1;33m\u001b[0m\u001b[0m\n\u001b[0;32m      3\u001b[0m \u001b[1;31m#tickers\u001b[0m\u001b[1;33m\u001b[0m\u001b[1;33m\u001b[0m\u001b[1;33m\u001b[0m\u001b[0m\n",
      "\u001b[1;31mNameError\u001b[0m: name 'Value' is not defined"
     ]
    }
   ],
   "source": [
    "ticker = 'LMT'\r\n",
    "%time start(ticker)"
   ]
  },
  {
   "cell_type": "code",
   "execution_count": 137,
   "metadata": {},
   "outputs": [
    {
     "output_type": "execute_result",
     "data": {
      "text/plain": [
       "[82.99576991597596, 180.61713617426543, 437.2652428087806]"
      ]
     },
     "metadata": {},
     "execution_count": 137
    }
   ],
   "source": [
    "ValueCon"
   ]
  },
  {
   "source": [
    "df = pd.concat([df2[2],df2[3],df2[4]])\n",
    "#display(df)\n",
    "x = []\n",
    "x.append(df['Unnamed: 0'].dropna())\n",
    "x.append(df['Liabilities & Shareholders Equity'].dropna())\n",
    "x.append(df['Shareholders Equity'].dropna())\n",
    "\n",
    "y = pd.concat(x).tolist()\n",
    "df = df.drop(['Liabilities & Shareholders Equity','Shareholders Equity','Unnamed: 0'], axis=1)\n",
    "df['Liabilities & Shareholders Equity'] = y\n",
    "df.set_index('Liabilities & Shareholders Equity')"
   ],
   "cell_type": "markdown",
   "metadata": {}
  },
  {
   "source": [
    "x#Anaylist esitmates \n",
    "df = pd.read_html('https://finance.yahoo.com/quote/AAPL/analysis?p=AAPL')\n",
    "df = df[1] \n",
    "df.index = df[df.columns[0]]\n",
    "df1 = df.index \n",
    "df1 = df[df.columns[3:5]]\n",
    "df1 = df1.drop(['Sales Growth (year/est)'])\n",
    "\n",
    "for i in df1.columns:\n",
    "    df1[i] = df1[i].str.replace('B','e9')\n",
    "    df1[i] = df1[i].astype(float)\n",
    "\n",
    "#df1.loc['Avg. Estimate']\n",
    "df1.loc['Avg. Estimate'].tolist()\n",
    "\n",
    "Revenue1 = Revenue.loc['totalRevenue']\n",
    "strs = int(Revenue.columns[3])\n",
    "Revenue1['{}'.format(strs+1)] = df1.loc['Avg. Estimate'][0]\n",
    "Revenue1['{}'.format(strs+2)] = df1.loc['Avg. Estimate'][1]\n",
    "growth = 1 + Revenue.T.pct_change().sum()/5\n",
    "\n",
    "Revenue1['{}'.format(strs+3)] = l.drop_index() * growth\n",
    "Revenue1['{}'.format(strs+4)] = l2.drop_index() * growth\n",
    "Revenue.loc['netIncome']/Revenue.loc['totalRevenue']"
   ],
   "cell_type": "markdown",
   "metadata": {}
  },
  {
   "source": [
    "ticker = 'LMT'\n",
    "yahoo_financials = yfs(ticker)\n",
    "\n",
    "cash = yahoo_financials.get_financial_stmts('annual','cash')\n",
    "income = yahoo_financials.get_financial_stmts('annual','income')\n",
    "balance = yahoo_financials.get_financial_stmts('annual','balance')\n",
    "stock = yahoo_financials.get_key_statistics_data()[ticker]"
   ],
   "cell_type": "markdown",
   "metadata": {}
  },
  {
   "source": [
    "sample = pd.DataFrame()\n",
    "sample['Free Cash Flow'] = df['FCF']\n",
    "sample['Cash Flow'] = futurefreecashflow\n",
    "sample['discountfactor'] = discountfactor\n",
    "sample"
   ],
   "cell_type": "markdown",
   "metadata": {}
  },
  {
   "source": [
    "df = pd.DataFrame.from_dict({(i): stock[i] \n",
    "                            for i in stock.keys() \n",
    "                            },\n",
    "                        orient='index')\n",
    "df"
   ],
   "cell_type": "markdown",
   "metadata": {}
  },
  {
   "source": [
    "aapl.info['sharesOutstanding']\n",
    "stock.keys()"
   ],
   "cell_type": "markdown",
   "metadata": {}
  },
  {
   "source": [
    "pd.DataFrame.from_dict({(i): stock[i] \n",
    "for i in stock.keys()},orient='index')"
   ],
   "cell_type": "markdown",
   "metadata": {}
  },
  {
   "source": [
    "# Testing for working all of the files work"
   ],
   "cell_type": "markdown",
   "metadata": {}
  },
  {
   "source": [
    "df = pd.DataFrame.from_dict({(i,j): balance_sheet_data[i][j] \n",
    "                           for i in balance_sheet_data.keys() \n",
    "                           for j in balance_sheet_data[i].keys()},\n",
    "                       orient='index')\n",
    "for i in df.columns:\n",
    "    df[i].tolist()\n",
    "    df2 = pd.json_normalize(df[i],max_level = 1)\n",
    "\n",
    "    #Gets  Date and renames \n",
    "    Date = df2.columns[0]\n",
    "    Date = Date[0:11]\n",
    "    df2.index = df2.index.rename(ticker)\n",
    "    df2.columns = df2.columns.str.replace(str(Date),'')\n",
    "\n",
    "    #Tranposes DataFrame and changes it to the \n",
    "    df2 = df2.T\n",
    "    df2.rename(columns = {df2.columns[0]:'{}'.format(str(Date[0:10]))},inplace = True)\n",
    "    #display(df2)\n",
    "    save.append(df2)\n",
    "df3 = pd.concat(save,axis = 1)\n",
    "display(df3)"
   ],
   "cell_type": "markdown",
   "metadata": {}
  }
 ]
}