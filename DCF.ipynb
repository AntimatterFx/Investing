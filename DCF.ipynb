{
 "metadata": {
  "language_info": {
   "codemirror_mode": {
    "name": "ipython",
    "version": 3
   },
   "file_extension": ".py",
   "mimetype": "text/x-python",
   "name": "python",
   "nbconvert_exporter": "python",
   "pygments_lexer": "ipython3",
   "version": "3.8.3-final"
  },
  "orig_nbformat": 2,
  "kernelspec": {
   "name": "python3",
   "display_name": "Python 3",
   "language": "python"
  }
 },
 "nbformat": 4,
 "nbformat_minor": 2,
 "cells": [
  {
   "cell_type": "code",
   "execution_count": 11,
   "metadata": {},
   "outputs": [],
   "source": [
    "import pandas as pd\n",
    "import yfinance as yf\n",
    "from yahoofinancials import YahooFinancials as yfs\n",
    "import json"
   ]
  },
  {
   "cell_type": "code",
   "execution_count": 12,
   "metadata": {},
   "outputs": [
    {
     "output_type": "stream",
     "name": "stdout",
     "text": [
      "Requirement already satisfied: yahoofinancials in c:\\users\\tafimul\\anaconda3.1\\lib\\site-packages (1.6)\n",
      "Requirement already satisfied: beautifulsoup4 in c:\\users\\tafimul\\anaconda3.1\\lib\\site-packages (from yahoofinancials) (4.9.1)\n",
      "Requirement already satisfied: pytz in c:\\users\\tafimul\\anaconda3.1\\lib\\site-packages (from yahoofinancials) (2020.1)\n",
      "Requirement already satisfied: soupsieve>1.2 in c:\\users\\tafimul\\anaconda3.1\\lib\\site-packages (from beautifulsoup4->yahoofinancials) (2.0.1)\n"
     ]
    }
   ],
   "source": [
    "#!pip install yahoofinancials"
   ]
  },
  {
   "cell_type": "code",
   "execution_count": 79,
   "metadata": {},
   "outputs": [],
   "source": [
    "def Sheet_Data(ticker,sheet_data):\n",
    "    save = []\n",
    "    \n",
    "    df = pd.DataFrame.from_dict({(i,j): sheet_data[i][j] \n",
    "                            for i in sheet_data.keys() \n",
    "                            for j in sheet_data[i].keys()},\n",
    "                        orient='index')\n",
    "\n",
    "    for i in df.columns:\n",
    "        f = len(df.columns) - i - 1\n",
    "        df2 = pd.json_normalize(df[f],max_level = 1)\n",
    "\n",
    "        #Gets  Date and renames \n",
    "        Date = df2.columns[0]\n",
    "        Date = Date[0:11]\n",
    "        df2.index = df2.index.rename(ticker)\n",
    "        df2.columns = df2.columns.str.replace(str(Date),'')\n",
    "\n",
    "        #Tranposes DataFrame and changes it to the \n",
    "        df2 = df2.T\n",
    "        df2.rename(columns = {df2.columns[0]:'{}'.format(str(Date[0:4]))},inplace = True)\n",
    "        #display(df2)\n",
    "        save.append(df2)\n",
    "    df3 = pd.concat(save,axis = 1)\n",
    "    display(df3)\n",
    "    filename = str(df.index[0][1]) + '_' + str(df.index[0][0])\n",
    "    print(filename)\n",
    "    #df3.to_csv('{}.csv'.format(filename))\n",
    "    return df3\n",
    "#filename = str(df.index[0][1]) + '_' + str(df.index[0][0])\n",
    "#df3.t"
   ]
  },
  {
   "cell_type": "code",
   "execution_count": 14,
   "metadata": {},
   "outputs": [],
   "source": [
    "ticker = 'AAPL'\n",
    "yahoo_financials = yfs(ticker)\n",
    "\n",
    "cash = yahoo_financials.get_financial_stmts('annual','cash')\n",
    "income = yahoo_financials.get_financial_stmts('annual','income')\n",
    "balance = yahoo_financials.get_financial_stmts('annual','balance')"
   ]
  },
  {
   "cell_type": "code",
   "execution_count": 80,
   "metadata": {},
   "outputs": [
    {
     "output_type": "display_data",
     "data": {
      "text/plain": "AAPL                                          2017         2018         2019  \\\ninvestments                           -33542000000  30845000000  58093000000   \nchangeToLiabilities                     8373000000   9172000000  -2548000000   \ntotalCashflowsFromInvestingActivities -46446000000  16066000000  45896000000   \nnetBorrowings                          29014000000    432000000  -7819000000   \ntotalCashFromFinancingActivities      -17974000000 -87876000000 -90976000000   \nchangeToOperatingActivities            -8480000000  30016000000   -896000000   \nissuanceOfStock                          555000000    669000000    781000000   \nnetIncome                              48351000000  59531000000  55256000000   \nchangeInCash                            -195000000   5624000000  24311000000   \nrepurchaseOfStock                     -34774000000 -75265000000 -69714000000   \ntotalCashFromOperatingActivities       64225000000  77434000000  69391000000   \ndepreciation                           10157000000  10903000000  12547000000   \notherCashflowsFromInvestingActivities   -124000000   -745000000  -1078000000   \ndividendsPaid                         -12769000000 -13712000000 -14119000000   \nchangeToInventory                      -2723000000    828000000   -289000000   \nchangeToAccountReceivables             -2093000000  -5322000000    245000000   \notherCashflowsFromFinancingActivities   -105000000   -105000000   -105000000   \nchangeToNetincome                      10640000000 -27694000000   5076000000   \ncapitalExpenditures                   -12451000000 -13313000000 -10495000000   \n\nAAPL                                          2020  \ninvestments                             5335000000  \nchangeToLiabilities                    -1981000000  \ntotalCashflowsFromInvestingActivities  -4289000000  \nnetBorrowings                           2499000000  \ntotalCashFromFinancingActivities      -86820000000  \nchangeToOperatingActivities              881000000  \nissuanceOfStock                          880000000  \nnetIncome                              57411000000  \nchangeInCash                          -10435000000  \nrepurchaseOfStock                     -75992000000  \ntotalCashFromOperatingActivities       80674000000  \ndepreciation                           11056000000  \notherCashflowsFromInvestingActivities   -791000000  \ndividendsPaid                         -14081000000  \nchangeToInventory                       -127000000  \nchangeToAccountReceivables              6917000000  \notherCashflowsFromFinancingActivities   -126000000  \nchangeToNetincome                       6517000000  \ncapitalExpenditures                    -7309000000  ",
      "text/html": "<div>\n<style scoped>\n    .dataframe tbody tr th:only-of-type {\n        vertical-align: middle;\n    }\n\n    .dataframe tbody tr th {\n        vertical-align: top;\n    }\n\n    .dataframe thead th {\n        text-align: right;\n    }\n</style>\n<table border=\"1\" class=\"dataframe\">\n  <thead>\n    <tr style=\"text-align: right;\">\n      <th>AAPL</th>\n      <th>2017</th>\n      <th>2018</th>\n      <th>2019</th>\n      <th>2020</th>\n    </tr>\n  </thead>\n  <tbody>\n    <tr>\n      <th>investments</th>\n      <td>-33542000000</td>\n      <td>30845000000</td>\n      <td>58093000000</td>\n      <td>5335000000</td>\n    </tr>\n    <tr>\n      <th>changeToLiabilities</th>\n      <td>8373000000</td>\n      <td>9172000000</td>\n      <td>-2548000000</td>\n      <td>-1981000000</td>\n    </tr>\n    <tr>\n      <th>totalCashflowsFromInvestingActivities</th>\n      <td>-46446000000</td>\n      <td>16066000000</td>\n      <td>45896000000</td>\n      <td>-4289000000</td>\n    </tr>\n    <tr>\n      <th>netBorrowings</th>\n      <td>29014000000</td>\n      <td>432000000</td>\n      <td>-7819000000</td>\n      <td>2499000000</td>\n    </tr>\n    <tr>\n      <th>totalCashFromFinancingActivities</th>\n      <td>-17974000000</td>\n      <td>-87876000000</td>\n      <td>-90976000000</td>\n      <td>-86820000000</td>\n    </tr>\n    <tr>\n      <th>changeToOperatingActivities</th>\n      <td>-8480000000</td>\n      <td>30016000000</td>\n      <td>-896000000</td>\n      <td>881000000</td>\n    </tr>\n    <tr>\n      <th>issuanceOfStock</th>\n      <td>555000000</td>\n      <td>669000000</td>\n      <td>781000000</td>\n      <td>880000000</td>\n    </tr>\n    <tr>\n      <th>netIncome</th>\n      <td>48351000000</td>\n      <td>59531000000</td>\n      <td>55256000000</td>\n      <td>57411000000</td>\n    </tr>\n    <tr>\n      <th>changeInCash</th>\n      <td>-195000000</td>\n      <td>5624000000</td>\n      <td>24311000000</td>\n      <td>-10435000000</td>\n    </tr>\n    <tr>\n      <th>repurchaseOfStock</th>\n      <td>-34774000000</td>\n      <td>-75265000000</td>\n      <td>-69714000000</td>\n      <td>-75992000000</td>\n    </tr>\n    <tr>\n      <th>totalCashFromOperatingActivities</th>\n      <td>64225000000</td>\n      <td>77434000000</td>\n      <td>69391000000</td>\n      <td>80674000000</td>\n    </tr>\n    <tr>\n      <th>depreciation</th>\n      <td>10157000000</td>\n      <td>10903000000</td>\n      <td>12547000000</td>\n      <td>11056000000</td>\n    </tr>\n    <tr>\n      <th>otherCashflowsFromInvestingActivities</th>\n      <td>-124000000</td>\n      <td>-745000000</td>\n      <td>-1078000000</td>\n      <td>-791000000</td>\n    </tr>\n    <tr>\n      <th>dividendsPaid</th>\n      <td>-12769000000</td>\n      <td>-13712000000</td>\n      <td>-14119000000</td>\n      <td>-14081000000</td>\n    </tr>\n    <tr>\n      <th>changeToInventory</th>\n      <td>-2723000000</td>\n      <td>828000000</td>\n      <td>-289000000</td>\n      <td>-127000000</td>\n    </tr>\n    <tr>\n      <th>changeToAccountReceivables</th>\n      <td>-2093000000</td>\n      <td>-5322000000</td>\n      <td>245000000</td>\n      <td>6917000000</td>\n    </tr>\n    <tr>\n      <th>otherCashflowsFromFinancingActivities</th>\n      <td>-105000000</td>\n      <td>-105000000</td>\n      <td>-105000000</td>\n      <td>-126000000</td>\n    </tr>\n    <tr>\n      <th>changeToNetincome</th>\n      <td>10640000000</td>\n      <td>-27694000000</td>\n      <td>5076000000</td>\n      <td>6517000000</td>\n    </tr>\n    <tr>\n      <th>capitalExpenditures</th>\n      <td>-12451000000</td>\n      <td>-13313000000</td>\n      <td>-10495000000</td>\n      <td>-7309000000</td>\n    </tr>\n  </tbody>\n</table>\n</div>"
     },
     "metadata": {}
    },
    {
     "output_type": "stream",
     "name": "stdout",
     "text": [
      "AAPL_cashflowStatementHistory\n"
     ]
    },
    {
     "output_type": "display_data",
     "data": {
      "text/plain": "AAPL                                       2017          2018          2019  \\\nresearchDevelopment                 11581000000   14236000000   16217000000   \neffectOfAccountingCharges                  None          None          None   \nincomeBeforeTax                     64089000000   72903000000   65737000000   \nminorityInterest                           None          None          None   \nnetIncome                           48351000000   59531000000   55256000000   \nsellingGeneralAdministrative        15261000000   16705000000   18245000000   \ngrossProfit                         88186000000  101839000000   98392000000   \nebit                                61344000000   70898000000   63930000000   \noperatingIncome                     61344000000   70898000000   63930000000   \notherOperatingExpenses                     None          None          None   \ninterestExpense                     -2323000000   -3240000000   -3576000000   \nextraordinaryItems                         None          None          None   \nnonRecurring                               None          None          None   \notherItems                                 None          None          None   \nincomeTaxExpense                    15738000000   13372000000   10481000000   \ntotalRevenue                       229234000000  265595000000  260174000000   \ntotalOperatingExpenses             167890000000  194697000000  196244000000   \ncostOfRevenue                      141048000000  163756000000  161782000000   \ntotalOtherIncomeExpenseNet           2745000000    2005000000    1807000000   \ndiscontinuedOperations                     None          None          None   \nnetIncomeFromContinuingOps          48351000000   59531000000   55256000000   \nnetIncomeApplicableToCommonShares   48351000000   59531000000   55256000000   \n\nAAPL                                       2020  \nresearchDevelopment                 18752000000  \neffectOfAccountingCharges                  None  \nincomeBeforeTax                     67091000000  \nminorityInterest                           None  \nnetIncome                           57411000000  \nsellingGeneralAdministrative        19916000000  \ngrossProfit                        104956000000  \nebit                                66288000000  \noperatingIncome                     66288000000  \notherOperatingExpenses                     None  \ninterestExpense                     -2873000000  \nextraordinaryItems                         None  \nnonRecurring                               None  \notherItems                                 None  \nincomeTaxExpense                     9680000000  \ntotalRevenue                       274515000000  \ntotalOperatingExpenses             208227000000  \ncostOfRevenue                      169559000000  \ntotalOtherIncomeExpenseNet            803000000  \ndiscontinuedOperations                     None  \nnetIncomeFromContinuingOps          57411000000  \nnetIncomeApplicableToCommonShares   57411000000  ",
      "text/html": "<div>\n<style scoped>\n    .dataframe tbody tr th:only-of-type {\n        vertical-align: middle;\n    }\n\n    .dataframe tbody tr th {\n        vertical-align: top;\n    }\n\n    .dataframe thead th {\n        text-align: right;\n    }\n</style>\n<table border=\"1\" class=\"dataframe\">\n  <thead>\n    <tr style=\"text-align: right;\">\n      <th>AAPL</th>\n      <th>2017</th>\n      <th>2018</th>\n      <th>2019</th>\n      <th>2020</th>\n    </tr>\n  </thead>\n  <tbody>\n    <tr>\n      <th>researchDevelopment</th>\n      <td>11581000000</td>\n      <td>14236000000</td>\n      <td>16217000000</td>\n      <td>18752000000</td>\n    </tr>\n    <tr>\n      <th>effectOfAccountingCharges</th>\n      <td>None</td>\n      <td>None</td>\n      <td>None</td>\n      <td>None</td>\n    </tr>\n    <tr>\n      <th>incomeBeforeTax</th>\n      <td>64089000000</td>\n      <td>72903000000</td>\n      <td>65737000000</td>\n      <td>67091000000</td>\n    </tr>\n    <tr>\n      <th>minorityInterest</th>\n      <td>None</td>\n      <td>None</td>\n      <td>None</td>\n      <td>None</td>\n    </tr>\n    <tr>\n      <th>netIncome</th>\n      <td>48351000000</td>\n      <td>59531000000</td>\n      <td>55256000000</td>\n      <td>57411000000</td>\n    </tr>\n    <tr>\n      <th>sellingGeneralAdministrative</th>\n      <td>15261000000</td>\n      <td>16705000000</td>\n      <td>18245000000</td>\n      <td>19916000000</td>\n    </tr>\n    <tr>\n      <th>grossProfit</th>\n      <td>88186000000</td>\n      <td>101839000000</td>\n      <td>98392000000</td>\n      <td>104956000000</td>\n    </tr>\n    <tr>\n      <th>ebit</th>\n      <td>61344000000</td>\n      <td>70898000000</td>\n      <td>63930000000</td>\n      <td>66288000000</td>\n    </tr>\n    <tr>\n      <th>operatingIncome</th>\n      <td>61344000000</td>\n      <td>70898000000</td>\n      <td>63930000000</td>\n      <td>66288000000</td>\n    </tr>\n    <tr>\n      <th>otherOperatingExpenses</th>\n      <td>None</td>\n      <td>None</td>\n      <td>None</td>\n      <td>None</td>\n    </tr>\n    <tr>\n      <th>interestExpense</th>\n      <td>-2323000000</td>\n      <td>-3240000000</td>\n      <td>-3576000000</td>\n      <td>-2873000000</td>\n    </tr>\n    <tr>\n      <th>extraordinaryItems</th>\n      <td>None</td>\n      <td>None</td>\n      <td>None</td>\n      <td>None</td>\n    </tr>\n    <tr>\n      <th>nonRecurring</th>\n      <td>None</td>\n      <td>None</td>\n      <td>None</td>\n      <td>None</td>\n    </tr>\n    <tr>\n      <th>otherItems</th>\n      <td>None</td>\n      <td>None</td>\n      <td>None</td>\n      <td>None</td>\n    </tr>\n    <tr>\n      <th>incomeTaxExpense</th>\n      <td>15738000000</td>\n      <td>13372000000</td>\n      <td>10481000000</td>\n      <td>9680000000</td>\n    </tr>\n    <tr>\n      <th>totalRevenue</th>\n      <td>229234000000</td>\n      <td>265595000000</td>\n      <td>260174000000</td>\n      <td>274515000000</td>\n    </tr>\n    <tr>\n      <th>totalOperatingExpenses</th>\n      <td>167890000000</td>\n      <td>194697000000</td>\n      <td>196244000000</td>\n      <td>208227000000</td>\n    </tr>\n    <tr>\n      <th>costOfRevenue</th>\n      <td>141048000000</td>\n      <td>163756000000</td>\n      <td>161782000000</td>\n      <td>169559000000</td>\n    </tr>\n    <tr>\n      <th>totalOtherIncomeExpenseNet</th>\n      <td>2745000000</td>\n      <td>2005000000</td>\n      <td>1807000000</td>\n      <td>803000000</td>\n    </tr>\n    <tr>\n      <th>discontinuedOperations</th>\n      <td>None</td>\n      <td>None</td>\n      <td>None</td>\n      <td>None</td>\n    </tr>\n    <tr>\n      <th>netIncomeFromContinuingOps</th>\n      <td>48351000000</td>\n      <td>59531000000</td>\n      <td>55256000000</td>\n      <td>57411000000</td>\n    </tr>\n    <tr>\n      <th>netIncomeApplicableToCommonShares</th>\n      <td>48351000000</td>\n      <td>59531000000</td>\n      <td>55256000000</td>\n      <td>57411000000</td>\n    </tr>\n  </tbody>\n</table>\n</div>"
     },
     "metadata": {}
    },
    {
     "output_type": "stream",
     "name": "stdout",
     "text": [
      "AAPL_incomeStatementHistory\n"
     ]
    },
    {
     "output_type": "display_data",
     "data": {
      "text/plain": "AAPL                             2017          2018          2019  \\\ntotalLiab                241272000000  258578000000  248028000000   \ntotalStockholderEquity   134047000000  107147000000   90488000000   \notherCurrentLiab          38099000000   39293000000   43242000000   \ntotalAssets              375319000000  365725000000  338516000000   \ncommonStock               35867000000   40201000000   45174000000   \notherCurrentAssets        13936000000   12087000000   12352000000   \nretainedEarnings          98330000000   70400000000   45898000000   \notherLiab                 43251000000   48914000000   50503000000   \ntreasuryStock              -150000000   -3454000000    -584000000   \notherAssets               18177000000   22283000000   32978000000   \ncash                      20289000000   25913000000   48844000000   \ntotalCurrentLiabilities  100814000000  115929000000  105718000000   \nshortLongTermDebt          6496000000    8784000000   10260000000   \notherStockholderEquity     -150000000   -3454000000    -584000000   \npropertyPlantEquipment    33783000000   41304000000   37378000000   \ntotalCurrentAssets       128645000000  131339000000  162819000000   \nlongTermInvestments      194714000000  170799000000  105341000000   \nnetTangibleAssets        134047000000  107147000000   90488000000   \nshortTermInvestments      53892000000   40388000000   51713000000   \nnetReceivables            35673000000   48995000000   45804000000   \nlongTermDebt              97207000000   93735000000   91807000000   \ninventory                  4855000000    3956000000    4106000000   \naccountsPayable           44242000000   55888000000   46236000000   \n\nAAPL                             2020  \ntotalLiab                258549000000  \ntotalStockholderEquity    65339000000  \notherCurrentLiab          47867000000  \ntotalAssets              323888000000  \ncommonStock               50779000000  \notherCurrentAssets        11264000000  \nretainedEarnings          14966000000  \notherLiab                 46108000000  \ntreasuryStock              -406000000  \notherAssets               33952000000  \ncash                      38016000000  \ntotalCurrentLiabilities  105392000000  \nshortLongTermDebt          8773000000  \notherStockholderEquity     -406000000  \npropertyPlantEquipment    45336000000  \ntotalCurrentAssets       143713000000  \nlongTermInvestments      100887000000  \nnetTangibleAssets         65339000000  \nshortTermInvestments      52927000000  \nnetReceivables            37445000000  \nlongTermDebt              98667000000  \ninventory                  4061000000  \naccountsPayable           42296000000  ",
      "text/html": "<div>\n<style scoped>\n    .dataframe tbody tr th:only-of-type {\n        vertical-align: middle;\n    }\n\n    .dataframe tbody tr th {\n        vertical-align: top;\n    }\n\n    .dataframe thead th {\n        text-align: right;\n    }\n</style>\n<table border=\"1\" class=\"dataframe\">\n  <thead>\n    <tr style=\"text-align: right;\">\n      <th>AAPL</th>\n      <th>2017</th>\n      <th>2018</th>\n      <th>2019</th>\n      <th>2020</th>\n    </tr>\n  </thead>\n  <tbody>\n    <tr>\n      <th>totalLiab</th>\n      <td>241272000000</td>\n      <td>258578000000</td>\n      <td>248028000000</td>\n      <td>258549000000</td>\n    </tr>\n    <tr>\n      <th>totalStockholderEquity</th>\n      <td>134047000000</td>\n      <td>107147000000</td>\n      <td>90488000000</td>\n      <td>65339000000</td>\n    </tr>\n    <tr>\n      <th>otherCurrentLiab</th>\n      <td>38099000000</td>\n      <td>39293000000</td>\n      <td>43242000000</td>\n      <td>47867000000</td>\n    </tr>\n    <tr>\n      <th>totalAssets</th>\n      <td>375319000000</td>\n      <td>365725000000</td>\n      <td>338516000000</td>\n      <td>323888000000</td>\n    </tr>\n    <tr>\n      <th>commonStock</th>\n      <td>35867000000</td>\n      <td>40201000000</td>\n      <td>45174000000</td>\n      <td>50779000000</td>\n    </tr>\n    <tr>\n      <th>otherCurrentAssets</th>\n      <td>13936000000</td>\n      <td>12087000000</td>\n      <td>12352000000</td>\n      <td>11264000000</td>\n    </tr>\n    <tr>\n      <th>retainedEarnings</th>\n      <td>98330000000</td>\n      <td>70400000000</td>\n      <td>45898000000</td>\n      <td>14966000000</td>\n    </tr>\n    <tr>\n      <th>otherLiab</th>\n      <td>43251000000</td>\n      <td>48914000000</td>\n      <td>50503000000</td>\n      <td>46108000000</td>\n    </tr>\n    <tr>\n      <th>treasuryStock</th>\n      <td>-150000000</td>\n      <td>-3454000000</td>\n      <td>-584000000</td>\n      <td>-406000000</td>\n    </tr>\n    <tr>\n      <th>otherAssets</th>\n      <td>18177000000</td>\n      <td>22283000000</td>\n      <td>32978000000</td>\n      <td>33952000000</td>\n    </tr>\n    <tr>\n      <th>cash</th>\n      <td>20289000000</td>\n      <td>25913000000</td>\n      <td>48844000000</td>\n      <td>38016000000</td>\n    </tr>\n    <tr>\n      <th>totalCurrentLiabilities</th>\n      <td>100814000000</td>\n      <td>115929000000</td>\n      <td>105718000000</td>\n      <td>105392000000</td>\n    </tr>\n    <tr>\n      <th>shortLongTermDebt</th>\n      <td>6496000000</td>\n      <td>8784000000</td>\n      <td>10260000000</td>\n      <td>8773000000</td>\n    </tr>\n    <tr>\n      <th>otherStockholderEquity</th>\n      <td>-150000000</td>\n      <td>-3454000000</td>\n      <td>-584000000</td>\n      <td>-406000000</td>\n    </tr>\n    <tr>\n      <th>propertyPlantEquipment</th>\n      <td>33783000000</td>\n      <td>41304000000</td>\n      <td>37378000000</td>\n      <td>45336000000</td>\n    </tr>\n    <tr>\n      <th>totalCurrentAssets</th>\n      <td>128645000000</td>\n      <td>131339000000</td>\n      <td>162819000000</td>\n      <td>143713000000</td>\n    </tr>\n    <tr>\n      <th>longTermInvestments</th>\n      <td>194714000000</td>\n      <td>170799000000</td>\n      <td>105341000000</td>\n      <td>100887000000</td>\n    </tr>\n    <tr>\n      <th>netTangibleAssets</th>\n      <td>134047000000</td>\n      <td>107147000000</td>\n      <td>90488000000</td>\n      <td>65339000000</td>\n    </tr>\n    <tr>\n      <th>shortTermInvestments</th>\n      <td>53892000000</td>\n      <td>40388000000</td>\n      <td>51713000000</td>\n      <td>52927000000</td>\n    </tr>\n    <tr>\n      <th>netReceivables</th>\n      <td>35673000000</td>\n      <td>48995000000</td>\n      <td>45804000000</td>\n      <td>37445000000</td>\n    </tr>\n    <tr>\n      <th>longTermDebt</th>\n      <td>97207000000</td>\n      <td>93735000000</td>\n      <td>91807000000</td>\n      <td>98667000000</td>\n    </tr>\n    <tr>\n      <th>inventory</th>\n      <td>4855000000</td>\n      <td>3956000000</td>\n      <td>4106000000</td>\n      <td>4061000000</td>\n    </tr>\n    <tr>\n      <th>accountsPayable</th>\n      <td>44242000000</td>\n      <td>55888000000</td>\n      <td>46236000000</td>\n      <td>42296000000</td>\n    </tr>\n  </tbody>\n</table>\n</div>"
     },
     "metadata": {}
    },
    {
     "output_type": "stream",
     "name": "stdout",
     "text": [
      "AAPL_balanceSheetHistory\n"
     ]
    }
   ],
   "source": [
    "cash_balance = Sheet_Data(ticker,cash)\n",
    "income_balance = Sheet_Data(ticker,income)\n",
    "balance_balance = Sheet_Data(ticker,balance)"
   ]
  },
  {
   "source": [
    "# Anaylsis"
   ],
   "cell_type": "markdown",
   "metadata": {}
  },
  {
   "cell_type": "code",
   "execution_count": 83,
   "metadata": {},
   "outputs": [
    {
     "output_type": "execute_result",
     "data": {
      "text/plain": [
       "AAPL                                          2017         2018         2019  \\\n",
       "investments                           -33542000000  30845000000  58093000000   \n",
       "changeToLiabilities                     8373000000   9172000000  -2548000000   \n",
       "totalCashflowsFromInvestingActivities -46446000000  16066000000  45896000000   \n",
       "netBorrowings                          29014000000    432000000  -7819000000   \n",
       "totalCashFromFinancingActivities      -17974000000 -87876000000 -90976000000   \n",
       "changeToOperatingActivities            -8480000000  30016000000   -896000000   \n",
       "issuanceOfStock                          555000000    669000000    781000000   \n",
       "netIncome                              48351000000  59531000000  55256000000   \n",
       "changeInCash                            -195000000   5624000000  24311000000   \n",
       "repurchaseOfStock                     -34774000000 -75265000000 -69714000000   \n",
       "totalCashFromOperatingActivities       64225000000  77434000000  69391000000   \n",
       "depreciation                           10157000000  10903000000  12547000000   \n",
       "otherCashflowsFromInvestingActivities   -124000000   -745000000  -1078000000   \n",
       "dividendsPaid                         -12769000000 -13712000000 -14119000000   \n",
       "changeToInventory                      -2723000000    828000000   -289000000   \n",
       "changeToAccountReceivables             -2093000000  -5322000000    245000000   \n",
       "otherCashflowsFromFinancingActivities   -105000000   -105000000   -105000000   \n",
       "changeToNetincome                      10640000000 -27694000000   5076000000   \n",
       "capitalExpenditures                   -12451000000 -13313000000 -10495000000   \n",
       "\n",
       "AAPL                                          2020          2021  \\\n",
       "investments                             5335000000  5.320032e+09   \n",
       "changeToLiabilities                    -1981000000 -1.976984e+09   \n",
       "totalCashflowsFromInvestingActivities  -4289000000 -4.285394e+09   \n",
       "netBorrowings                           2499000000  2.421820e+09   \n",
       "totalCashFromFinancingActivities      -86820000000 -8.730589e+10   \n",
       "changeToOperatingActivities              881000000  8.713990e+08   \n",
       "issuanceOfStock                          880000000  8.806343e+08   \n",
       "netIncome                              57411000000  5.742744e+10   \n",
       "changeInCash                          -10435000000 -1.001420e+10   \n",
       "repurchaseOfStock                     -75992000000 -7.612146e+10   \n",
       "totalCashFromOperatingActivities       80674000000  8.070478e+10   \n",
       "depreciation                           11056000000  1.105768e+10   \n",
       "otherCashflowsFromInvestingActivities   -791000000 -7.969222e+08   \n",
       "dividendsPaid                         -14081000000 -1.408305e+10   \n",
       "changeToInventory                       -127000000 -1.264111e+08   \n",
       "changeToAccountReceivables              6917000000  7.193755e+09   \n",
       "otherCashflowsFromFinancingActivities   -126000000 -1.260364e+08   \n",
       "changeToNetincome                       6517000000  6.474664e+09   \n",
       "capitalExpenditures                    -7309000000 -7.304296e+09   \n",
       "\n",
       "AAPL                                           2022          2023  \\\n",
       "investments                            5.305107e+09  5.290223e+09   \n",
       "changeToLiabilities                   -1.972977e+09 -1.968977e+09   \n",
       "totalCashflowsFromInvestingActivities -4.281792e+09 -4.278192e+09   \n",
       "netBorrowings                          2.347024e+09  2.274538e+09   \n",
       "totalCashFromFinancingActivities      -8.779450e+10 -8.828585e+10   \n",
       "changeToOperatingActivities            8.619026e+08  8.525097e+08   \n",
       "issuanceOfStock                        8.812691e+08  8.819044e+08   \n",
       "netIncome                              5.744388e+10  5.746032e+10   \n",
       "changeInCash                          -9.610373e+09 -9.222829e+09   \n",
       "repurchaseOfStock                     -7.625115e+10 -7.638105e+10   \n",
       "totalCashFromOperatingActivities       8.073557e+10  8.076637e+10   \n",
       "depreciation                           1.105936e+10  1.106104e+10   \n",
       "otherCashflowsFromInvestingActivities -8.028887e+08 -8.088999e+08   \n",
       "dividendsPaid                         -1.408510e+10 -1.408715e+10   \n",
       "changeToInventory                     -1.258249e+08 -1.252415e+08   \n",
       "changeToAccountReceivables             7.481583e+09  7.780928e+09   \n",
       "otherCashflowsFromFinancingActivities -1.260727e+08 -1.261091e+08   \n",
       "changeToNetincome                      6.432603e+09  6.390815e+09   \n",
       "capitalExpenditures                   -7.299596e+09 -7.294898e+09   \n",
       "\n",
       "AAPL                                           2024  \n",
       "investments                            5.275381e+09  \n",
       "changeToLiabilities                   -1.964986e+09  \n",
       "totalCashflowsFromInvestingActivities -4.274595e+09  \n",
       "netBorrowings                          2.204290e+09  \n",
       "totalCashFromFinancingActivities      -8.877994e+10  \n",
       "changeToOperatingActivities            8.432191e+08  \n",
       "issuanceOfStock                        8.825401e+08  \n",
       "netIncome                              5.747677e+10  \n",
       "changeInCash                          -8.850912e+09  \n",
       "repurchaseOfStock                     -7.651118e+10  \n",
       "totalCashFromOperatingActivities       8.079718e+10  \n",
       "depreciation                           1.106273e+10  \n",
       "otherCashflowsFromInvestingActivities -8.149561e+08  \n",
       "dividendsPaid                         -1.408920e+10  \n",
       "changeToInventory                     -1.246607e+08  \n",
       "changeToAccountReceivables             8.092249e+09  \n",
       "otherCashflowsFromFinancingActivities -1.261455e+08  \n",
       "changeToNetincome                      6.349298e+09  \n",
       "capitalExpenditures                   -7.290203e+09  "
      ],
      "text/html": "<div>\n<style scoped>\n    .dataframe tbody tr th:only-of-type {\n        vertical-align: middle;\n    }\n\n    .dataframe tbody tr th {\n        vertical-align: top;\n    }\n\n    .dataframe thead th {\n        text-align: right;\n    }\n</style>\n<table border=\"1\" class=\"dataframe\">\n  <thead>\n    <tr style=\"text-align: right;\">\n      <th>AAPL</th>\n      <th>2017</th>\n      <th>2018</th>\n      <th>2019</th>\n      <th>2020</th>\n      <th>2021</th>\n      <th>2022</th>\n      <th>2023</th>\n      <th>2024</th>\n    </tr>\n  </thead>\n  <tbody>\n    <tr>\n      <th>investments</th>\n      <td>-33542000000</td>\n      <td>30845000000</td>\n      <td>58093000000</td>\n      <td>5335000000</td>\n      <td>5.320032e+09</td>\n      <td>5.305107e+09</td>\n      <td>5.290223e+09</td>\n      <td>5.275381e+09</td>\n    </tr>\n    <tr>\n      <th>changeToLiabilities</th>\n      <td>8373000000</td>\n      <td>9172000000</td>\n      <td>-2548000000</td>\n      <td>-1981000000</td>\n      <td>-1.976984e+09</td>\n      <td>-1.972977e+09</td>\n      <td>-1.968977e+09</td>\n      <td>-1.964986e+09</td>\n    </tr>\n    <tr>\n      <th>totalCashflowsFromInvestingActivities</th>\n      <td>-46446000000</td>\n      <td>16066000000</td>\n      <td>45896000000</td>\n      <td>-4289000000</td>\n      <td>-4.285394e+09</td>\n      <td>-4.281792e+09</td>\n      <td>-4.278192e+09</td>\n      <td>-4.274595e+09</td>\n    </tr>\n    <tr>\n      <th>netBorrowings</th>\n      <td>29014000000</td>\n      <td>432000000</td>\n      <td>-7819000000</td>\n      <td>2499000000</td>\n      <td>2.421820e+09</td>\n      <td>2.347024e+09</td>\n      <td>2.274538e+09</td>\n      <td>2.204290e+09</td>\n    </tr>\n    <tr>\n      <th>totalCashFromFinancingActivities</th>\n      <td>-17974000000</td>\n      <td>-87876000000</td>\n      <td>-90976000000</td>\n      <td>-86820000000</td>\n      <td>-8.730589e+10</td>\n      <td>-8.779450e+10</td>\n      <td>-8.828585e+10</td>\n      <td>-8.877994e+10</td>\n    </tr>\n    <tr>\n      <th>changeToOperatingActivities</th>\n      <td>-8480000000</td>\n      <td>30016000000</td>\n      <td>-896000000</td>\n      <td>881000000</td>\n      <td>8.713990e+08</td>\n      <td>8.619026e+08</td>\n      <td>8.525097e+08</td>\n      <td>8.432191e+08</td>\n    </tr>\n    <tr>\n      <th>issuanceOfStock</th>\n      <td>555000000</td>\n      <td>669000000</td>\n      <td>781000000</td>\n      <td>880000000</td>\n      <td>8.806343e+08</td>\n      <td>8.812691e+08</td>\n      <td>8.819044e+08</td>\n      <td>8.825401e+08</td>\n    </tr>\n    <tr>\n      <th>netIncome</th>\n      <td>48351000000</td>\n      <td>59531000000</td>\n      <td>55256000000</td>\n      <td>57411000000</td>\n      <td>5.742744e+10</td>\n      <td>5.744388e+10</td>\n      <td>5.746032e+10</td>\n      <td>5.747677e+10</td>\n    </tr>\n    <tr>\n      <th>changeInCash</th>\n      <td>-195000000</td>\n      <td>5624000000</td>\n      <td>24311000000</td>\n      <td>-10435000000</td>\n      <td>-1.001420e+10</td>\n      <td>-9.610373e+09</td>\n      <td>-9.222829e+09</td>\n      <td>-8.850912e+09</td>\n    </tr>\n    <tr>\n      <th>repurchaseOfStock</th>\n      <td>-34774000000</td>\n      <td>-75265000000</td>\n      <td>-69714000000</td>\n      <td>-75992000000</td>\n      <td>-7.612146e+10</td>\n      <td>-7.625115e+10</td>\n      <td>-7.638105e+10</td>\n      <td>-7.651118e+10</td>\n    </tr>\n    <tr>\n      <th>totalCashFromOperatingActivities</th>\n      <td>64225000000</td>\n      <td>77434000000</td>\n      <td>69391000000</td>\n      <td>80674000000</td>\n      <td>8.070478e+10</td>\n      <td>8.073557e+10</td>\n      <td>8.076637e+10</td>\n      <td>8.079718e+10</td>\n    </tr>\n    <tr>\n      <th>depreciation</th>\n      <td>10157000000</td>\n      <td>10903000000</td>\n      <td>12547000000</td>\n      <td>11056000000</td>\n      <td>1.105768e+10</td>\n      <td>1.105936e+10</td>\n      <td>1.106104e+10</td>\n      <td>1.106273e+10</td>\n    </tr>\n    <tr>\n      <th>otherCashflowsFromInvestingActivities</th>\n      <td>-124000000</td>\n      <td>-745000000</td>\n      <td>-1078000000</td>\n      <td>-791000000</td>\n      <td>-7.969222e+08</td>\n      <td>-8.028887e+08</td>\n      <td>-8.088999e+08</td>\n      <td>-8.149561e+08</td>\n    </tr>\n    <tr>\n      <th>dividendsPaid</th>\n      <td>-12769000000</td>\n      <td>-13712000000</td>\n      <td>-14119000000</td>\n      <td>-14081000000</td>\n      <td>-1.408305e+10</td>\n      <td>-1.408510e+10</td>\n      <td>-1.408715e+10</td>\n      <td>-1.408920e+10</td>\n    </tr>\n    <tr>\n      <th>changeToInventory</th>\n      <td>-2723000000</td>\n      <td>828000000</td>\n      <td>-289000000</td>\n      <td>-127000000</td>\n      <td>-1.264111e+08</td>\n      <td>-1.258249e+08</td>\n      <td>-1.252415e+08</td>\n      <td>-1.246607e+08</td>\n    </tr>\n    <tr>\n      <th>changeToAccountReceivables</th>\n      <td>-2093000000</td>\n      <td>-5322000000</td>\n      <td>245000000</td>\n      <td>6917000000</td>\n      <td>7.193755e+09</td>\n      <td>7.481583e+09</td>\n      <td>7.780928e+09</td>\n      <td>8.092249e+09</td>\n    </tr>\n    <tr>\n      <th>otherCashflowsFromFinancingActivities</th>\n      <td>-105000000</td>\n      <td>-105000000</td>\n      <td>-105000000</td>\n      <td>-126000000</td>\n      <td>-1.260364e+08</td>\n      <td>-1.260727e+08</td>\n      <td>-1.261091e+08</td>\n      <td>-1.261455e+08</td>\n    </tr>\n    <tr>\n      <th>changeToNetincome</th>\n      <td>10640000000</td>\n      <td>-27694000000</td>\n      <td>5076000000</td>\n      <td>6517000000</td>\n      <td>6.474664e+09</td>\n      <td>6.432603e+09</td>\n      <td>6.390815e+09</td>\n      <td>6.349298e+09</td>\n    </tr>\n    <tr>\n      <th>capitalExpenditures</th>\n      <td>-12451000000</td>\n      <td>-13313000000</td>\n      <td>-10495000000</td>\n      <td>-7309000000</td>\n      <td>-7.304296e+09</td>\n      <td>-7.299596e+09</td>\n      <td>-7.294898e+09</td>\n      <td>-7.290203e+09</td>\n    </tr>\n  </tbody>\n</table>\n</div>"
     },
     "metadata": {},
     "execution_count": 83
    }
   ],
   "source": [
    "\n",
    "average_factor = cash_balance.pct_change(axis = 1 ).mean(axis = 1 )\n",
    "average_factor = (100 + average_factor)/100\n",
    "df = cash_balance\n",
    "df['2021'] = cash_balance[cash_balance.columns[3]] * average_factor\n",
    "for i in range(0,4,1):\n",
    "    num =  int(df.columns[4]) + i\n",
    "\n",
    "    df['{}'.format(num)] = df['{}'.format(num - 1)] * average_factor\n",
    "\n",
    "df"
   ]
  },
  {
   "cell_type": "code",
   "execution_count": 61,
   "metadata": {},
   "outputs": [
    {
     "output_type": "stream",
     "name": "stdout",
     "text": [
      "-3457741540.0\n"
     ]
    }
   ],
   "source": [
    "x = 5335000000 * -0.648124\n",
    "if  x > -3.457744e+09:\n",
    "    print(x)\n",
    "else:\n",
    "    1"
   ]
  },
  {
   "source": [
    "# Testing for working all of the files work"
   ],
   "cell_type": "markdown",
   "metadata": {}
  },
  {
   "source": [
    "df = pd.DataFrame.from_dict({(i,j): balance_sheet_data[i][j] \n",
    "                           for i in balance_sheet_data.keys() \n",
    "                           for j in balance_sheet_data[i].keys()},\n",
    "                       orient='index')\n",
    "for i in df.columns:\n",
    "    df[i].tolist()\n",
    "    df2 = pd.json_normalize(df[i],max_level = 1)\n",
    "\n",
    "    #Gets  Date and renames \n",
    "    Date = df2.columns[0]\n",
    "    Date = Date[0:11]\n",
    "    df2.index = df2.index.rename(ticker)\n",
    "    df2.columns = df2.columns.str.replace(str(Date),'')\n",
    "\n",
    "    #Tranposes DataFrame and changes it to the \n",
    "    df2 = df2.T\n",
    "    df2.rename(columns = {df2.columns[0]:'{}'.format(str(Date[0:10]))},inplace = True)\n",
    "    #display(df2)\n",
    "    save.append(df2)\n",
    "df3 = pd.concat(save,axis = 1)\n",
    "display(df3)"
   ],
   "cell_type": "markdown",
   "metadata": {}
  }
 ]
}