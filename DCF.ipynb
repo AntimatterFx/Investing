{
 "metadata": {
  "language_info": {
   "codemirror_mode": {
    "name": "ipython",
    "version": 3
   },
   "file_extension": ".py",
   "mimetype": "text/x-python",
   "name": "python",
   "nbconvert_exporter": "python",
   "pygments_lexer": "ipython3",
   "version": "3.8.8-final"
  },
  "orig_nbformat": 2,
  "kernelspec": {
   "name": "python3",
   "display_name": "Python 3.8.8 64-bit",
   "metadata": {
    "interpreter": {
     "hash": "c79eed6807d3cbff3dfd5ad13d83f6e3167c557f9dd74a8b82ef72672ddb666e"
    }
   }
  }
 },
 "nbformat": 4,
 "nbformat_minor": 2,
 "cells": [
  {
   "cell_type": "code",
   "execution_count": 3,
   "metadata": {},
   "outputs": [],
   "source": [
    "import pandas as pd\n",
    "#import yfinance as yf\n",
    "from yahoofinancials import YahooFinancials as yfs\n",
    "import json"
   ]
  },
  {
   "source": [
    "# !pip install yahoofinancials"
   ],
   "cell_type": "markdown",
   "metadata": {}
  },
  {
   "cell_type": "code",
   "execution_count": 4,
   "metadata": {},
   "outputs": [],
   "source": [
    "def Sheet_Data(ticker,sheet_data):\n",
    "    save = []\n",
    "    \n",
    "    df = pd.DataFrame.from_dict({(i,j): sheet_data[i][j] \n",
    "                            for i in sheet_data.keys() \n",
    "                            for j in sheet_data[i].keys()},\n",
    "                        orient='index')\n",
    "\n",
    "    for i in df.columns:\n",
    "        f = len(df.columns) - i - 1\n",
    "        df2 = pd.json_normalize(df[f],max_level = 1)\n",
    "\n",
    "        #Gets  Date and renames \n",
    "        Date = df2.columns[0]\n",
    "        Date = Date[0:11]\n",
    "        df2.index = df2.index.rename(ticker)\n",
    "        df2.columns = df2.columns.str.replace(str(Date),'')\n",
    "\n",
    "        #Tranposes DataFrame and changes it to the \n",
    "        df2 = df2.T\n",
    "        df2.rename(columns = {df2.columns[0]:'{}'.format(str(Date[0:4]))},inplace = True)\n",
    "        #display(df2)\n",
    "        save.append(df2)\n",
    "    df3 = pd.concat(save,axis = 1)\n",
    "    #display(df3)\n",
    "    filename = str(df.index[0][1]) + '_' + str(df.index[0][0])\n",
    "    print(filename)\n",
    "    #df3.to_csv('{}.csv'.format(filename))\n",
    "    return df3\n",
    "#filename = str(df.index[0][1]) + '_' + str(df.index[0][0])\n",
    "#df3.t"
   ]
  },
  {
   "cell_type": "code",
   "execution_count": 5,
   "metadata": {},
   "outputs": [
    {
     "output_type": "stream",
     "name": "stdout",
     "text": [
      "AAPL_cashflowStatementHistory\nAAPL_incomeStatementHistory\nAAPL_balanceSheetHistory\n"
     ]
    }
   ],
   "source": [
    "ticker = 'AAPL'\n",
    "yahoo_financials = yfs(ticker)\n",
    "\n",
    "cash = yahoo_financials.get_financial_stmts('annual','cash')\n",
    "income = yahoo_financials.get_financial_stmts('annual','income')\n",
    "balance = yahoo_financials.get_financial_stmts('annual','balance')\n",
    "stock = yahoo_financials.get_key_statistics_data()[ticker]\n",
    "\n",
    "cash_balance = Sheet_Data(ticker,cash)\n",
    "income_balance = Sheet_Data(ticker,income)\n",
    "balance_balance = Sheet_Data(ticker,balance)"
   ]
  },
  {
   "cell_type": "code",
   "execution_count": 6,
   "metadata": {},
   "outputs": [],
   "source": [
    "#WACC = Wd * Rd * (1 - t) + We + Re\n",
    "INCOME2 = income_balance.loc[['incomeBeforeTax','incomeTaxExpense']]\n",
    "t = income_balance.loc['incomeBeforeTax']/ income_balance.loc['incomeTaxExpense']\n",
    "t = t[-1]/ 100 \n",
    "\n",
    "\n",
    "\n",
    "yahoo_financials.get_beta()\n",
    "df = pd.read_html('https://finance.yahoo.com/bonds')\n",
    "Rf = float(df[0]['Last Price'][2])\n",
    "try: \n",
    "    beta = float(yahoo_financials.get_beta())\n",
    "except:\n",
    "    beta = 0\n",
    "Rm = float(10.0)\n",
    "Ra = Rf + beta * (Rm - Rf)\n",
    "#print(Ra)\n",
    "\n",
    "try:\n",
    "    Balance2 = balance_balance.loc[['shortLongTermDebt','longTermDebt']]#.astype#(float)\n",
    "except:\n",
    "    Balance2 = balance_balance.loc[['longTermDebt']]\n",
    "\n",
    "Total_debt = Balance2.sum()[-1] \n",
    "Balance2 =   -(income_balance.loc['interestExpense'][-1]) / Total_debt\n",
    "Rd = (1-Balance2) * t #  Rd * (1 - t)\n",
    "#Balance2.sum()\n",
    "\n",
    "\n",
    "Market_Cap = yahoo_financials .get_market_cap() # MarketCap\n",
    "Total =  Total_debt + Market_Cap \n",
    "Wd = Total_debt/ Total \n",
    "We = Market_Cap/ Total \n",
    "Re = Ra\n",
    "Required_Rate = (Wd * Rd + We * Re)/100\n",
    "Required_Rate\n",
    "\n",
    "FCF = cash_balance.loc[['totalCashFromOperatingActivities','capitalExpenditures','netIncome']] # how to select rows \n",
    "Revenue = income_balance.loc[['totalRevenue','netIncome']]\n",
    "Growth_Rate = Revenue.pct_change().mean()\n",
    "#FCF is CFO - CAPEX = FCF\n",
    "#FCF = cash_balance.loc[['totalCashFromOperatingActivities','capitalExpenditures','netBorrowings']] # More \n",
    "\n",
    "df = pd.DataFrame()\n",
    "df['FCF'] = FCF.loc['totalCashFromOperatingActivities'] + FCF.loc['capitalExpenditures']\n",
    "df['Net Income'] = FCF.loc['netIncome']\n",
    "#df['FCF/Net Income'] = df['FCF']/df['Net Income']\n",
    "minimum = (df['FCF']/df['Net Income']).min()\n",
    "print(minimum)\n",
    "df"
   ]
  },
  {
   "source": [
    "# Anaylsis"
   ],
   "cell_type": "markdown",
   "metadata": {}
  },
  {
   "cell_type": "code",
   "execution_count": 12,
   "metadata": {},
   "outputs": [
    {
     "output_type": "stream",
     "name": "stdout",
     "text": [
      "[135933139095.8545, 251861491234.96118, 466657440481.5829, 864638598338.4235]\nAAPL\n134.60911316919862\n121.03\n1.065875199073404\n0.11498149007759104\n"
     ]
    }
   ],
   "source": [
    "def DCF_VALUE():\n",
    "    outstanding_shares = stock['sharesOutstanding']\n",
    "\n",
    "    Required_rate = Required_Rate\n",
    "    Pre_rate = .025\n",
    "    Cashflowgrowthrate = minimum\n",
    "\n",
    "    years = [1,2,3,4]\n",
    "    freecash_flow = df['FCF'].values\n",
    "\n",
    "    terminalvalue = freecash_flow[-1] * (1+Pre_rate)/(Required_rate - Pre_rate)\n",
    "\n",
    "    futurefreecashflow = []\n",
    "    discountfactor = []\n",
    "    discountfuturefreecashflow = []\n",
    "    for  year in years:\n",
    "        cashflow = freecash_flow[-1] * (1+ Cashflowgrowthrate) ** year \n",
    "        futurefreecashflow.append(cashflow)\n",
    "        discountfactor.append((1+ Required_rate)**year)\n",
    "\n",
    "\n",
    "    for i in range(0,len(years)):\n",
    "        discountfuturefreecashflow.append(futurefreecashflow[i]/discountfactor[i])\n",
    "\n",
    "    print(discountfuturefreecashflow)\n",
    "    dis = terminalvalue/(1+Required_rate)**len(years)\n",
    "    discountfuturefreecashflow.append(dis)\n",
    "    value = sum(discountfuturefreecashflow)\n",
    "    fairvalue = value/outstanding_shares\n",
    "\n",
    "    print(ticker)\n",
    "    print(fairvalue)\n",
    "    print(yahoo_financials.get_current_price())\n",
    "\n",
    "    print(Cashflowgrowthrate)\n",
    "    print(Required_Rate)\n",
    "#print(stock.get_current_price())\n",
    "DCF_VALUE()"
   ]
  },
  {
   "cell_type": "code",
   "execution_count": 10,
   "metadata": {},
   "outputs": [
    {
     "output_type": "stream",
     "name": "stdout",
     "text": [
      "[70635139534.88373, 68006855273.1206, 65476367635.050995, 63040037676.53747]\nAAPL\n82.99576991597596\n121.03\n0.035\n0.075\n"
     ]
    }
   ],
   "source": [
    "def DCF_VALUE_CON():\n",
    "    outstanding_shares = stock['sharesOutstanding']\n",
    "\n",
    "    Required_rate = .075\n",
    "    Pre_rate = .025\n",
    "    Cashflowgrowthrate = .035\n",
    "\n",
    "    years = [1,2,3,4]\n",
    "    freecash_flow = df['FCF'].values\n",
    "\n",
    "    terminalvalue = freecash_flow[-1] * (1+Pre_rate)/(Required_rate - Pre_rate)\n",
    "\n",
    "    futurefreecashflow = []\n",
    "    discountfactor = []\n",
    "    discountfuturefreecashflow = []\n",
    "    for  year in years:\n",
    "        cashflow = freecash_flow[-1] * (1+ Cashflowgrowthrate) ** year \n",
    "        futurefreecashflow.append(cashflow)\n",
    "        discountfactor.append((1+ Required_rate)**year)\n",
    "\n",
    "\n",
    "    for i in range(0,len(years)):\n",
    "        discountfuturefreecashflow.append(futurefreecashflow[i]/discountfactor[i])\n",
    "\n",
    "    print(discountfuturefreecashflow)\n",
    "    dis = terminalvalue/(1+Required_rate)**len(years)\n",
    "    discountfuturefreecashflow.append(dis)\n",
    "    value = sum(discountfuturefreecashflow)\n",
    "    fairvalue = value/outstanding_shares\n",
    "\n",
    "    print(ticker)\n",
    "    print(fairvalue)\n",
    "    print(yahoo_financials.get_current_price())\n",
    "\n",
    "    print(Cashflowgrowthrate)\n",
    "    print(Required_rate)\n",
    "#print(stock.get_current_price())\n",
    "DCF_VALUE_CON()"
   ]
  },
  {
   "cell_type": "code",
   "execution_count": 13,
   "metadata": {},
   "outputs": [
    {
     "output_type": "execute_result",
     "data": {
      "text/plain": [
       "                                           Item  Item 31-Dec-2019 31-Mar-2020  \\\n",
       "0   Cash & Short Term Investments  Cash & Short Te...       1.58B       2.52B   \n",
       "1   Cash & Short Term Investments Growth  Cash & S...           -      59.55%   \n",
       "2                                Cash Only  Cash Only       1.09B          2B   \n",
       "3      Short-Term Investments  Short-Term Investments           -           -   \n",
       "4   Cash & ST Investments / Total Assets  Cash & S...      34.68%      41.95%   \n",
       "5   Total Accounts Receivable  Total Accounts Rece...     689.84M     637.19M   \n",
       "6   Total Accounts Receivable Growth  Total Accoun...           -      -7.63%   \n",
       "7   Accounts Receivables, Net  Accounts Receivable...     622.56M     553.14M   \n",
       "8   Accounts Receivables, Gross  Accounts Receivab...     622.56M     553.14M   \n",
       "9   Bad Debt/Doubtful Accounts  Bad Debt/Doubtful ...           -           -   \n",
       "10                 Other Receivable  Other Receivable      67.28M      84.05M   \n",
       "11  Accounts Receivable Turnover  Accounts Receiva...        1.90        2.17   \n",
       "12                           Inventories  Inventories      47.68M      54.72M   \n",
       "13                     Finished Goods  Finished Goods           -           -   \n",
       "14                 Work in Progress  Work in Progress           -           -   \n",
       "15                       Raw Materials  Raw Materials           -           -   \n",
       "16  Progress Payments & Other  Progress Payments &...           -           -   \n",
       "17         Other Current Assets  Other Current Assets     903.84M       1.18B   \n",
       "18  Miscellaneous Current Assets  Miscellaneous Cu...     881.08M       1.15B   \n",
       "19         Total Current Assets  Total Current Assets       3.22B       4.39B   \n",
       "20  Net Property, Plant & Equipment  Net Property,...     262.34M     564.12M   \n",
       "21  Property, Plant & Equipment - Gross  Property,...     440.87M     757.94M   \n",
       "22                               Buildings  Buildings           -           -   \n",
       "23           Land & Improvements  Land & Improvements           -           -   \n",
       "24  Computer Software and Equipment  Computer Soft...     188.45M     200.23M   \n",
       "25  Other Property, Plant & Equipment  Other Prope...           -           -   \n",
       "26  Accumulated Depreciation  Accumulated Deprecia...     178.53M     193.82M   \n",
       "27  Total Investments and Advances  Total Investme...     660.02M     652.75M   \n",
       "28  Other Long-Term Investments  Other Long-Term I...     550.02M     542.75M   \n",
       "29  Long-Term Note Receivables  Long-Term Note Rec...           -           -   \n",
       "30               Intangible Assets  Intangible Assets     335.42M     370.47M   \n",
       "31                         Net Goodwill  Net Goodwill     266.35M     288.53M   \n",
       "32       Net Other Intangibles  Net Other Intangibles      69.08M      81.94M   \n",
       "33                         Other Assets  Other Assets      73.67M      26.57M   \n",
       "34                         Total Assets  Total Assets       4.55B          6B   \n",
       "35           Total Assets Growth  Total Assets Growth           -      31.92%   \n",
       "\n",
       "   30-Jun-2020 30-Sep-2020 31-Dec-2020  5- qtr trend  \n",
       "0        2.71B       2.91B       3.88B           NaN  \n",
       "1        7.48%       7.46%      33.51%           NaN  \n",
       "2        1.99B       2.15B       3.19B           NaN  \n",
       "3            -           -           -           NaN  \n",
       "4       34.65%      35.85%      39.35%           NaN  \n",
       "5        1.03B       1.03B       1.22B           NaN  \n",
       "6       62.01%       0.11%      17.62%           NaN  \n",
       "7      917.63M      886.4M       1.07B           NaN  \n",
       "8      917.63M      886.4M       1.07B           NaN  \n",
       "9            -           -           -           NaN  \n",
       "10     114.71M     147.02M     148.61M           NaN  \n",
       "11        1.86        2.94        2.60           NaN  \n",
       "12      55.42M      70.42M      61.13M           NaN  \n",
       "13           -           -           -           NaN  \n",
       "14           -           -           -           NaN  \n",
       "15           -           -           -           NaN  \n",
       "16           -           -           -           NaN  \n",
       "17       2.39B       2.48B        2.6B           NaN  \n",
       "18       2.36B       2.45B       2.57B           NaN  \n",
       "19       6.19B       6.49B       7.76B           NaN  \n",
       "20     616.51M     646.12M     690.41M           NaN  \n",
       "21     823.85M      862.3M     918.53M           NaN  \n",
       "22           -           -           -           NaN  \n",
       "23           -           -           -           NaN  \n",
       "24     213.36M     226.75M     258.63M           NaN  \n",
       "25           -           -           -           NaN  \n",
       "26     207.34M     216.18M     228.12M           NaN  \n",
       "27     591.37M     543.82M     936.24M           NaN  \n",
       "28     460.37M     412.82M     527.48M           NaN  \n",
       "29           -           -           -           NaN  \n",
       "30     395.56M     408.18M     454.31M           NaN  \n",
       "31     295.76M     300.62M      316.7M           NaN  \n",
       "32       99.8M     107.56M     137.61M           NaN  \n",
       "33      21.77M      24.88M      26.96M           NaN  \n",
       "34       7.81B       8.11B       9.87B           NaN  \n",
       "35      30.12%       3.87%      21.63%           NaN  "
      ],
      "text/html": "<div>\n<style scoped>\n    .dataframe tbody tr th:only-of-type {\n        vertical-align: middle;\n    }\n\n    .dataframe tbody tr th {\n        vertical-align: top;\n    }\n\n    .dataframe thead th {\n        text-align: right;\n    }\n</style>\n<table border=\"1\" class=\"dataframe\">\n  <thead>\n    <tr style=\"text-align: right;\">\n      <th></th>\n      <th>Item  Item</th>\n      <th>31-Dec-2019</th>\n      <th>31-Mar-2020</th>\n      <th>30-Jun-2020</th>\n      <th>30-Sep-2020</th>\n      <th>31-Dec-2020</th>\n      <th>5- qtr trend</th>\n    </tr>\n  </thead>\n  <tbody>\n    <tr>\n      <th>0</th>\n      <td>Cash &amp; Short Term Investments  Cash &amp; Short Te...</td>\n      <td>1.58B</td>\n      <td>2.52B</td>\n      <td>2.71B</td>\n      <td>2.91B</td>\n      <td>3.88B</td>\n      <td>NaN</td>\n    </tr>\n    <tr>\n      <th>1</th>\n      <td>Cash &amp; Short Term Investments Growth  Cash &amp; S...</td>\n      <td>-</td>\n      <td>59.55%</td>\n      <td>7.48%</td>\n      <td>7.46%</td>\n      <td>33.51%</td>\n      <td>NaN</td>\n    </tr>\n    <tr>\n      <th>2</th>\n      <td>Cash Only  Cash Only</td>\n      <td>1.09B</td>\n      <td>2B</td>\n      <td>1.99B</td>\n      <td>2.15B</td>\n      <td>3.19B</td>\n      <td>NaN</td>\n    </tr>\n    <tr>\n      <th>3</th>\n      <td>Short-Term Investments  Short-Term Investments</td>\n      <td>-</td>\n      <td>-</td>\n      <td>-</td>\n      <td>-</td>\n      <td>-</td>\n      <td>NaN</td>\n    </tr>\n    <tr>\n      <th>4</th>\n      <td>Cash &amp; ST Investments / Total Assets  Cash &amp; S...</td>\n      <td>34.68%</td>\n      <td>41.95%</td>\n      <td>34.65%</td>\n      <td>35.85%</td>\n      <td>39.35%</td>\n      <td>NaN</td>\n    </tr>\n    <tr>\n      <th>5</th>\n      <td>Total Accounts Receivable  Total Accounts Rece...</td>\n      <td>689.84M</td>\n      <td>637.19M</td>\n      <td>1.03B</td>\n      <td>1.03B</td>\n      <td>1.22B</td>\n      <td>NaN</td>\n    </tr>\n    <tr>\n      <th>6</th>\n      <td>Total Accounts Receivable Growth  Total Accoun...</td>\n      <td>-</td>\n      <td>-7.63%</td>\n      <td>62.01%</td>\n      <td>0.11%</td>\n      <td>17.62%</td>\n      <td>NaN</td>\n    </tr>\n    <tr>\n      <th>7</th>\n      <td>Accounts Receivables, Net  Accounts Receivable...</td>\n      <td>622.56M</td>\n      <td>553.14M</td>\n      <td>917.63M</td>\n      <td>886.4M</td>\n      <td>1.07B</td>\n      <td>NaN</td>\n    </tr>\n    <tr>\n      <th>8</th>\n      <td>Accounts Receivables, Gross  Accounts Receivab...</td>\n      <td>622.56M</td>\n      <td>553.14M</td>\n      <td>917.63M</td>\n      <td>886.4M</td>\n      <td>1.07B</td>\n      <td>NaN</td>\n    </tr>\n    <tr>\n      <th>9</th>\n      <td>Bad Debt/Doubtful Accounts  Bad Debt/Doubtful ...</td>\n      <td>-</td>\n      <td>-</td>\n      <td>-</td>\n      <td>-</td>\n      <td>-</td>\n      <td>NaN</td>\n    </tr>\n    <tr>\n      <th>10</th>\n      <td>Other Receivable  Other Receivable</td>\n      <td>67.28M</td>\n      <td>84.05M</td>\n      <td>114.71M</td>\n      <td>147.02M</td>\n      <td>148.61M</td>\n      <td>NaN</td>\n    </tr>\n    <tr>\n      <th>11</th>\n      <td>Accounts Receivable Turnover  Accounts Receiva...</td>\n      <td>1.90</td>\n      <td>2.17</td>\n      <td>1.86</td>\n      <td>2.94</td>\n      <td>2.60</td>\n      <td>NaN</td>\n    </tr>\n    <tr>\n      <th>12</th>\n      <td>Inventories  Inventories</td>\n      <td>47.68M</td>\n      <td>54.72M</td>\n      <td>55.42M</td>\n      <td>70.42M</td>\n      <td>61.13M</td>\n      <td>NaN</td>\n    </tr>\n    <tr>\n      <th>13</th>\n      <td>Finished Goods  Finished Goods</td>\n      <td>-</td>\n      <td>-</td>\n      <td>-</td>\n      <td>-</td>\n      <td>-</td>\n      <td>NaN</td>\n    </tr>\n    <tr>\n      <th>14</th>\n      <td>Work in Progress  Work in Progress</td>\n      <td>-</td>\n      <td>-</td>\n      <td>-</td>\n      <td>-</td>\n      <td>-</td>\n      <td>NaN</td>\n    </tr>\n    <tr>\n      <th>15</th>\n      <td>Raw Materials  Raw Materials</td>\n      <td>-</td>\n      <td>-</td>\n      <td>-</td>\n      <td>-</td>\n      <td>-</td>\n      <td>NaN</td>\n    </tr>\n    <tr>\n      <th>16</th>\n      <td>Progress Payments &amp; Other  Progress Payments &amp;...</td>\n      <td>-</td>\n      <td>-</td>\n      <td>-</td>\n      <td>-</td>\n      <td>-</td>\n      <td>NaN</td>\n    </tr>\n    <tr>\n      <th>17</th>\n      <td>Other Current Assets  Other Current Assets</td>\n      <td>903.84M</td>\n      <td>1.18B</td>\n      <td>2.39B</td>\n      <td>2.48B</td>\n      <td>2.6B</td>\n      <td>NaN</td>\n    </tr>\n    <tr>\n      <th>18</th>\n      <td>Miscellaneous Current Assets  Miscellaneous Cu...</td>\n      <td>881.08M</td>\n      <td>1.15B</td>\n      <td>2.36B</td>\n      <td>2.45B</td>\n      <td>2.57B</td>\n      <td>NaN</td>\n    </tr>\n    <tr>\n      <th>19</th>\n      <td>Total Current Assets  Total Current Assets</td>\n      <td>3.22B</td>\n      <td>4.39B</td>\n      <td>6.19B</td>\n      <td>6.49B</td>\n      <td>7.76B</td>\n      <td>NaN</td>\n    </tr>\n    <tr>\n      <th>20</th>\n      <td>Net Property, Plant &amp; Equipment  Net Property,...</td>\n      <td>262.34M</td>\n      <td>564.12M</td>\n      <td>616.51M</td>\n      <td>646.12M</td>\n      <td>690.41M</td>\n      <td>NaN</td>\n    </tr>\n    <tr>\n      <th>21</th>\n      <td>Property, Plant &amp; Equipment - Gross  Property,...</td>\n      <td>440.87M</td>\n      <td>757.94M</td>\n      <td>823.85M</td>\n      <td>862.3M</td>\n      <td>918.53M</td>\n      <td>NaN</td>\n    </tr>\n    <tr>\n      <th>22</th>\n      <td>Buildings  Buildings</td>\n      <td>-</td>\n      <td>-</td>\n      <td>-</td>\n      <td>-</td>\n      <td>-</td>\n      <td>NaN</td>\n    </tr>\n    <tr>\n      <th>23</th>\n      <td>Land &amp; Improvements  Land &amp; Improvements</td>\n      <td>-</td>\n      <td>-</td>\n      <td>-</td>\n      <td>-</td>\n      <td>-</td>\n      <td>NaN</td>\n    </tr>\n    <tr>\n      <th>24</th>\n      <td>Computer Software and Equipment  Computer Soft...</td>\n      <td>188.45M</td>\n      <td>200.23M</td>\n      <td>213.36M</td>\n      <td>226.75M</td>\n      <td>258.63M</td>\n      <td>NaN</td>\n    </tr>\n    <tr>\n      <th>25</th>\n      <td>Other Property, Plant &amp; Equipment  Other Prope...</td>\n      <td>-</td>\n      <td>-</td>\n      <td>-</td>\n      <td>-</td>\n      <td>-</td>\n      <td>NaN</td>\n    </tr>\n    <tr>\n      <th>26</th>\n      <td>Accumulated Depreciation  Accumulated Deprecia...</td>\n      <td>178.53M</td>\n      <td>193.82M</td>\n      <td>207.34M</td>\n      <td>216.18M</td>\n      <td>228.12M</td>\n      <td>NaN</td>\n    </tr>\n    <tr>\n      <th>27</th>\n      <td>Total Investments and Advances  Total Investme...</td>\n      <td>660.02M</td>\n      <td>652.75M</td>\n      <td>591.37M</td>\n      <td>543.82M</td>\n      <td>936.24M</td>\n      <td>NaN</td>\n    </tr>\n    <tr>\n      <th>28</th>\n      <td>Other Long-Term Investments  Other Long-Term I...</td>\n      <td>550.02M</td>\n      <td>542.75M</td>\n      <td>460.37M</td>\n      <td>412.82M</td>\n      <td>527.48M</td>\n      <td>NaN</td>\n    </tr>\n    <tr>\n      <th>29</th>\n      <td>Long-Term Note Receivables  Long-Term Note Rec...</td>\n      <td>-</td>\n      <td>-</td>\n      <td>-</td>\n      <td>-</td>\n      <td>-</td>\n      <td>NaN</td>\n    </tr>\n    <tr>\n      <th>30</th>\n      <td>Intangible Assets  Intangible Assets</td>\n      <td>335.42M</td>\n      <td>370.47M</td>\n      <td>395.56M</td>\n      <td>408.18M</td>\n      <td>454.31M</td>\n      <td>NaN</td>\n    </tr>\n    <tr>\n      <th>31</th>\n      <td>Net Goodwill  Net Goodwill</td>\n      <td>266.35M</td>\n      <td>288.53M</td>\n      <td>295.76M</td>\n      <td>300.62M</td>\n      <td>316.7M</td>\n      <td>NaN</td>\n    </tr>\n    <tr>\n      <th>32</th>\n      <td>Net Other Intangibles  Net Other Intangibles</td>\n      <td>69.08M</td>\n      <td>81.94M</td>\n      <td>99.8M</td>\n      <td>107.56M</td>\n      <td>137.61M</td>\n      <td>NaN</td>\n    </tr>\n    <tr>\n      <th>33</th>\n      <td>Other Assets  Other Assets</td>\n      <td>73.67M</td>\n      <td>26.57M</td>\n      <td>21.77M</td>\n      <td>24.88M</td>\n      <td>26.96M</td>\n      <td>NaN</td>\n    </tr>\n    <tr>\n      <th>34</th>\n      <td>Total Assets  Total Assets</td>\n      <td>4.55B</td>\n      <td>6B</td>\n      <td>7.81B</td>\n      <td>8.11B</td>\n      <td>9.87B</td>\n      <td>NaN</td>\n    </tr>\n    <tr>\n      <th>35</th>\n      <td>Total Assets Growth  Total Assets Growth</td>\n      <td>-</td>\n      <td>31.92%</td>\n      <td>30.12%</td>\n      <td>3.87%</td>\n      <td>21.63%</td>\n      <td>NaN</td>\n    </tr>\n  </tbody>\n</table>\n</div>"
     },
     "metadata": {},
     "execution_count": 13
    }
   ],
   "source": [
    "df = pd.read_html('https://www.marketwatch.com/investing/stock/sq/financials/balance-sheet/quarter')\n",
    "df[4]"
   ]
  },
  {
   "cell_type": "code",
   "execution_count": 246,
   "metadata": {},
   "outputs": [],
   "source": [
    "import pandas as pd\n",
    "import requests\n",
    "def Balance_SHEET_ZACK():\n",
    "    i = 'AAPL'\n",
    "    url = (\"https://www.zacks.com/stock/quote/{}/balance-sheet\".format(i))\n",
    "    headers = {'User-Agent': 'Mozilla/5.0'}\n",
    "    result = requests.get(url, headers=headers)\n",
    "    df2 = pd.read_html(result.text)\n",
    "    return df2"
   ]
  },
  {
   "cell_type": "code",
   "execution_count": 247,
   "metadata": {},
   "outputs": [],
   "source": [
    "def Income_SHEET_ZACK():\n",
    "    i = 'AAPL'\n",
    "    url = (\"https://www.zacks.com/stock/quote/{}/income-statement\".format(i))\n",
    "    headers = {'User-Agent': 'Mozilla/5.0'}\n",
    "    result = requests.get(url, headers=headers)\n",
    "    df2 = pd.read_html(result.text)\n",
    "    return df2"
   ]
  },
  {
   "cell_type": "code",
   "execution_count": 242,
   "metadata": {},
   "outputs": [],
   "source": [
    "df2 = Balance_SHEET_ZACK()"
   ]
  },
  {
   "cell_type": "code",
   "execution_count": 190,
   "metadata": {},
   "outputs": [
    {
     "output_type": "execute_result",
     "data": {
      "text/plain": [
       "['Unnamed: 0', 'Depreciation Footnote', 'Earnings Per Share Data']"
      ]
     },
     "metadata": {},
     "execution_count": 190
    }
   ],
   "source": [
    "#display(df2[1])\n",
    "#display(df2[2])\n",
    "#display(df2[3])\n",
    "#display(df2[4])\n",
    "#display(df2[5])\n",
    "#display(df2[6])\n",
    "#display(df2[5])\n",
    "#display(df2[6])\n",
    "#display(df2[7])\n",
    "x = []\n",
    "x.append(df2[2].columns[0])\n",
    "x.append(df2[3].columns[0])\n",
    "x.append(df2[4].columns[0])\n",
    "x"
   ]
  },
  {
   "cell_type": "code",
   "execution_count": 248,
   "metadata": {},
   "outputs": [
    {
     "output_type": "display_data",
     "data": {
      "text/plain": "                                          9/30/2020  9/30/2019  9/30/2018  \\\nBalance Sheet                                                               \nAssets                                          NaN        NaN        NaN   \nCash & Equivalents                         41601.00   41601.00   66301.00   \nReceivables                                30343.00   30343.00   48995.00   \nNotes Receivable                               0.00       0.00       0.00   \nInventories                                 2349.00    2349.00    3956.00   \nOther Current Assets                       15085.00   15085.00   12087.00   \nTotal Current Assets                       89378.00   89378.00  131339.00   \nNet Property & Equipment                   22471.00   22471.00   41304.00   \nInvestments & Advances                    164065.00  164065.00  170799.00   \nOther Non-Current Assets                       0.00       0.00       0.00   \nDeferred Charges                               0.00       0.00       0.00   \nIntangibles                                 9009.00    9009.00       0.00   \nDeposits & Other Assets                     5556.00    5556.00   22283.00   \nTotal Assets                              290479.00  290479.00  365725.00   \nNotes Payable                                  0.00       0.00       0.00   \nAccounts Payable                           35490.00   35490.00   55888.00   \nCurrent Portion Long-Term Debt             10999.00   10999.00   20748.00   \nCurrent Portion Capital Leases                 0.00       0.00       0.00   \nAccrued Expenses                           25181.00   25181.00       0.00   \nIncome Taxes Payable                           0.00       0.00       0.00   \nOther Current Liabilities                   8940.00    8940.00   40230.00   \nTotal Current Liabilities                  80610.00   80610.00  116866.00   \nMortgages                                      0.00       0.00       0.00   \nDeferred Taxes/Income                       3624.00    3624.00    2797.00   \nConvertible Debt                               0.00       0.00       0.00   \nLong-Term Debt                             53463.00   53463.00   93735.00   \nNon-Current Capital Leases                     0.00       0.00       0.00   \nOther Non-Current Liabilities              33427.00   33427.00   45180.00   \nMinority Interest (Liabilities)                0.00       0.00       0.00   \nTotal Liabilities                         171124.00  171124.00  258578.00   \nPreferred Stock                                0.00       0.00       0.00   \nCommon Stock (Par)                         27416.00   27416.00   40201.00   \nCapital Surplus                                0.00       0.00       0.00   \nRetained Earnings                          92284.00   92284.00   70400.00   \nOther Equity                                -345.00    -345.00   -3454.00   \nTreasury Stock                                 0.00       0.00       0.00   \nTotal Shareholder's Equity                119355.00  119355.00  107147.00   \nTotal Liabilities & Shareholder's Equity  290479.00  290479.00  365725.00   \nTotal Common Equity                       119355.00  119355.00  107147.00   \nShares Outstanding                         22810.80   22810.80   18981.60   \nBook Value Per Share                           5.23       5.23       5.64   \n\n                                          9/30/2017  9/30/2016  \nBalance Sheet                                                   \nAssets                                          NaN        NaN  \nCash & Equivalents                         74181.00   67155.00  \nReceivables                                35673.00   29299.00  \nNotes Receivable                               0.00       0.00  \nInventories                                 4855.00    2132.00  \nOther Current Assets                       13936.00    8283.00  \nTotal Current Assets                      128645.00  106869.00  \nNet Property & Equipment                   33783.00   27010.00  \nInvestments & Advances                    194714.00  170430.00  \nOther Non-Current Assets                       0.00       0.00  \nDeferred Charges                               0.00       0.00  \nIntangibles                                 8015.00    8620.00  \nDeposits & Other Assets                    10162.00    8757.00  \nTotal Assets                              375319.00  321686.00  \nNotes Payable                                  0.00       0.00  \nAccounts Payable                           49049.00   37294.00  \nCurrent Portion Long-Term Debt             18473.00   11605.00  \nCurrent Portion Capital Leases                 0.00       0.00  \nAccrued Expenses                           25744.00   22027.00  \nIncome Taxes Payable                           0.00       0.00  \nOther Current Liabilities                   7548.00    8080.00  \nTotal Current Liabilities                 100814.00   79006.00  \nMortgages                                      0.00       0.00  \nDeferred Taxes/Income                       2836.00    2930.00  \nConvertible Debt                               0.00       0.00  \nLong-Term Debt                             97207.00   75427.00  \nNon-Current Capital Leases                     0.00       0.00  \nOther Non-Current Liabilities              40415.00   36074.00  \nMinority Interest (Liabilities)                0.00       0.00  \nTotal Liabilities                         241272.00  193437.00  \nPreferred Stock                                0.00       0.00  \nCommon Stock (Par)                         35867.00   31251.00  \nCapital Surplus                                0.00       0.00  \nRetained Earnings                          98330.00   96364.00  \nOther Equity                                -150.00     634.00  \nTreasury Stock                                 0.00       0.00  \nTotal Shareholder's Equity                134047.00  128249.00  \nTotal Liabilities & Shareholder's Equity  375319.00  321686.00  \nTotal Common Equity                       134047.00  128249.00  \nShares Outstanding                         20660.90   21553.70  \nBook Value Per Share                           6.49       5.95  ",
      "text/html": "<div>\n<style scoped>\n    .dataframe tbody tr th:only-of-type {\n        vertical-align: middle;\n    }\n\n    .dataframe tbody tr th {\n        vertical-align: top;\n    }\n\n    .dataframe thead th {\n        text-align: right;\n    }\n</style>\n<table border=\"1\" class=\"dataframe\">\n  <thead>\n    <tr style=\"text-align: right;\">\n      <th></th>\n      <th>9/30/2020</th>\n      <th>9/30/2019</th>\n      <th>9/30/2018</th>\n      <th>9/30/2017</th>\n      <th>9/30/2016</th>\n    </tr>\n    <tr>\n      <th>Balance Sheet</th>\n      <th></th>\n      <th></th>\n      <th></th>\n      <th></th>\n      <th></th>\n    </tr>\n  </thead>\n  <tbody>\n    <tr>\n      <th>Assets</th>\n      <td>NaN</td>\n      <td>NaN</td>\n      <td>NaN</td>\n      <td>NaN</td>\n      <td>NaN</td>\n    </tr>\n    <tr>\n      <th>Cash &amp; Equivalents</th>\n      <td>41601.00</td>\n      <td>41601.00</td>\n      <td>66301.00</td>\n      <td>74181.00</td>\n      <td>67155.00</td>\n    </tr>\n    <tr>\n      <th>Receivables</th>\n      <td>30343.00</td>\n      <td>30343.00</td>\n      <td>48995.00</td>\n      <td>35673.00</td>\n      <td>29299.00</td>\n    </tr>\n    <tr>\n      <th>Notes Receivable</th>\n      <td>0.00</td>\n      <td>0.00</td>\n      <td>0.00</td>\n      <td>0.00</td>\n      <td>0.00</td>\n    </tr>\n    <tr>\n      <th>Inventories</th>\n      <td>2349.00</td>\n      <td>2349.00</td>\n      <td>3956.00</td>\n      <td>4855.00</td>\n      <td>2132.00</td>\n    </tr>\n    <tr>\n      <th>Other Current Assets</th>\n      <td>15085.00</td>\n      <td>15085.00</td>\n      <td>12087.00</td>\n      <td>13936.00</td>\n      <td>8283.00</td>\n    </tr>\n    <tr>\n      <th>Total Current Assets</th>\n      <td>89378.00</td>\n      <td>89378.00</td>\n      <td>131339.00</td>\n      <td>128645.00</td>\n      <td>106869.00</td>\n    </tr>\n    <tr>\n      <th>Net Property &amp; Equipment</th>\n      <td>22471.00</td>\n      <td>22471.00</td>\n      <td>41304.00</td>\n      <td>33783.00</td>\n      <td>27010.00</td>\n    </tr>\n    <tr>\n      <th>Investments &amp; Advances</th>\n      <td>164065.00</td>\n      <td>164065.00</td>\n      <td>170799.00</td>\n      <td>194714.00</td>\n      <td>170430.00</td>\n    </tr>\n    <tr>\n      <th>Other Non-Current Assets</th>\n      <td>0.00</td>\n      <td>0.00</td>\n      <td>0.00</td>\n      <td>0.00</td>\n      <td>0.00</td>\n    </tr>\n    <tr>\n      <th>Deferred Charges</th>\n      <td>0.00</td>\n      <td>0.00</td>\n      <td>0.00</td>\n      <td>0.00</td>\n      <td>0.00</td>\n    </tr>\n    <tr>\n      <th>Intangibles</th>\n      <td>9009.00</td>\n      <td>9009.00</td>\n      <td>0.00</td>\n      <td>8015.00</td>\n      <td>8620.00</td>\n    </tr>\n    <tr>\n      <th>Deposits &amp; Other Assets</th>\n      <td>5556.00</td>\n      <td>5556.00</td>\n      <td>22283.00</td>\n      <td>10162.00</td>\n      <td>8757.00</td>\n    </tr>\n    <tr>\n      <th>Total Assets</th>\n      <td>290479.00</td>\n      <td>290479.00</td>\n      <td>365725.00</td>\n      <td>375319.00</td>\n      <td>321686.00</td>\n    </tr>\n    <tr>\n      <th>Notes Payable</th>\n      <td>0.00</td>\n      <td>0.00</td>\n      <td>0.00</td>\n      <td>0.00</td>\n      <td>0.00</td>\n    </tr>\n    <tr>\n      <th>Accounts Payable</th>\n      <td>35490.00</td>\n      <td>35490.00</td>\n      <td>55888.00</td>\n      <td>49049.00</td>\n      <td>37294.00</td>\n    </tr>\n    <tr>\n      <th>Current Portion Long-Term Debt</th>\n      <td>10999.00</td>\n      <td>10999.00</td>\n      <td>20748.00</td>\n      <td>18473.00</td>\n      <td>11605.00</td>\n    </tr>\n    <tr>\n      <th>Current Portion Capital Leases</th>\n      <td>0.00</td>\n      <td>0.00</td>\n      <td>0.00</td>\n      <td>0.00</td>\n      <td>0.00</td>\n    </tr>\n    <tr>\n      <th>Accrued Expenses</th>\n      <td>25181.00</td>\n      <td>25181.00</td>\n      <td>0.00</td>\n      <td>25744.00</td>\n      <td>22027.00</td>\n    </tr>\n    <tr>\n      <th>Income Taxes Payable</th>\n      <td>0.00</td>\n      <td>0.00</td>\n      <td>0.00</td>\n      <td>0.00</td>\n      <td>0.00</td>\n    </tr>\n    <tr>\n      <th>Other Current Liabilities</th>\n      <td>8940.00</td>\n      <td>8940.00</td>\n      <td>40230.00</td>\n      <td>7548.00</td>\n      <td>8080.00</td>\n    </tr>\n    <tr>\n      <th>Total Current Liabilities</th>\n      <td>80610.00</td>\n      <td>80610.00</td>\n      <td>116866.00</td>\n      <td>100814.00</td>\n      <td>79006.00</td>\n    </tr>\n    <tr>\n      <th>Mortgages</th>\n      <td>0.00</td>\n      <td>0.00</td>\n      <td>0.00</td>\n      <td>0.00</td>\n      <td>0.00</td>\n    </tr>\n    <tr>\n      <th>Deferred Taxes/Income</th>\n      <td>3624.00</td>\n      <td>3624.00</td>\n      <td>2797.00</td>\n      <td>2836.00</td>\n      <td>2930.00</td>\n    </tr>\n    <tr>\n      <th>Convertible Debt</th>\n      <td>0.00</td>\n      <td>0.00</td>\n      <td>0.00</td>\n      <td>0.00</td>\n      <td>0.00</td>\n    </tr>\n    <tr>\n      <th>Long-Term Debt</th>\n      <td>53463.00</td>\n      <td>53463.00</td>\n      <td>93735.00</td>\n      <td>97207.00</td>\n      <td>75427.00</td>\n    </tr>\n    <tr>\n      <th>Non-Current Capital Leases</th>\n      <td>0.00</td>\n      <td>0.00</td>\n      <td>0.00</td>\n      <td>0.00</td>\n      <td>0.00</td>\n    </tr>\n    <tr>\n      <th>Other Non-Current Liabilities</th>\n      <td>33427.00</td>\n      <td>33427.00</td>\n      <td>45180.00</td>\n      <td>40415.00</td>\n      <td>36074.00</td>\n    </tr>\n    <tr>\n      <th>Minority Interest (Liabilities)</th>\n      <td>0.00</td>\n      <td>0.00</td>\n      <td>0.00</td>\n      <td>0.00</td>\n      <td>0.00</td>\n    </tr>\n    <tr>\n      <th>Total Liabilities</th>\n      <td>171124.00</td>\n      <td>171124.00</td>\n      <td>258578.00</td>\n      <td>241272.00</td>\n      <td>193437.00</td>\n    </tr>\n    <tr>\n      <th>Preferred Stock</th>\n      <td>0.00</td>\n      <td>0.00</td>\n      <td>0.00</td>\n      <td>0.00</td>\n      <td>0.00</td>\n    </tr>\n    <tr>\n      <th>Common Stock (Par)</th>\n      <td>27416.00</td>\n      <td>27416.00</td>\n      <td>40201.00</td>\n      <td>35867.00</td>\n      <td>31251.00</td>\n    </tr>\n    <tr>\n      <th>Capital Surplus</th>\n      <td>0.00</td>\n      <td>0.00</td>\n      <td>0.00</td>\n      <td>0.00</td>\n      <td>0.00</td>\n    </tr>\n    <tr>\n      <th>Retained Earnings</th>\n      <td>92284.00</td>\n      <td>92284.00</td>\n      <td>70400.00</td>\n      <td>98330.00</td>\n      <td>96364.00</td>\n    </tr>\n    <tr>\n      <th>Other Equity</th>\n      <td>-345.00</td>\n      <td>-345.00</td>\n      <td>-3454.00</td>\n      <td>-150.00</td>\n      <td>634.00</td>\n    </tr>\n    <tr>\n      <th>Treasury Stock</th>\n      <td>0.00</td>\n      <td>0.00</td>\n      <td>0.00</td>\n      <td>0.00</td>\n      <td>0.00</td>\n    </tr>\n    <tr>\n      <th>Total Shareholder's Equity</th>\n      <td>119355.00</td>\n      <td>119355.00</td>\n      <td>107147.00</td>\n      <td>134047.00</td>\n      <td>128249.00</td>\n    </tr>\n    <tr>\n      <th>Total Liabilities &amp; Shareholder's Equity</th>\n      <td>290479.00</td>\n      <td>290479.00</td>\n      <td>365725.00</td>\n      <td>375319.00</td>\n      <td>321686.00</td>\n    </tr>\n    <tr>\n      <th>Total Common Equity</th>\n      <td>119355.00</td>\n      <td>119355.00</td>\n      <td>107147.00</td>\n      <td>134047.00</td>\n      <td>128249.00</td>\n    </tr>\n    <tr>\n      <th>Shares Outstanding</th>\n      <td>22810.80</td>\n      <td>22810.80</td>\n      <td>18981.60</td>\n      <td>20660.90</td>\n      <td>21553.70</td>\n    </tr>\n    <tr>\n      <th>Book Value Per Share</th>\n      <td>5.23</td>\n      <td>5.23</td>\n      <td>5.64</td>\n      <td>6.49</td>\n      <td>5.95</td>\n    </tr>\n  </tbody>\n</table>\n</div>"
     },
     "metadata": {}
    },
    {
     "output_type": "display_data",
     "data": {
      "text/plain": "                                                    9/30/20    9/30/19  \\\nIncome Sheet                                                             \nSales                                             233715.00  233715.00   \nCost Of Goods                                     140089.00  140089.00   \nGross Profit                                       93626.00   93626.00   \nSelling & Adminstrative & Depr. & Amort Expenses   22396.00   22396.00   \nIncome After Depreciation & Amortization           71230.00   71230.00   \nNon-Operating Income                                1285.00    1285.00   \nInterest Expense                                       0.00       0.00   \nPretax Income                                      72515.00   72515.00   \nIncome Taxes                                       19121.00   19121.00   \nMinority Interest                                      0.00       0.00   \nInvestment Gains/Losses                                0.00       0.00   \nOther Income/Charges                                   0.00       0.00   \nIncome From Cont. Operations                       53394.00   53394.00   \nExtras & Discontinued Operations                       0.00       0.00   \nNet Income                                         53394.00   53394.00   \nIncome Before Depreciation & Amortization          77665.00   77665.00   \nDepreciation & Amortization (Cash Flow)             6435.00    6435.00   \nIncome After Depreciation & Amortization           71230.00   71230.00   \nAverage Shares                                     23172.28   23172.28   \nDiluted EPS Before Non-Recurring Items                 2.31       2.31   \nDiluted Net EPS                                        2.31       2.31   \n\n                                                    9/30/18    9/30/17  \\\nIncome Sheet                                                             \nSales                                             265595.00  229234.00   \nCost Of Goods                                     163756.00  141048.00   \nGross Profit                                      101839.00   88186.00   \nSelling & Adminstrative & Depr. & Amort Expenses   30941.00   26842.00   \nIncome After Depreciation & Amortization           70898.00   61344.00   \nNon-Operating Income                                2005.00    2745.00   \nInterest Expense                                       0.00       0.00   \nPretax Income                                      72903.00   64089.00   \nIncome Taxes                                       13372.00   15738.00   \nMinority Interest                                      0.00       0.00   \nInvestment Gains/Losses                                0.00       0.00   \nOther Income/Charges                                   0.00       0.00   \nIncome From Cont. Operations                       59531.00   48351.00   \nExtras & Discontinued Operations                       0.00       0.00   \nNet Income                                         59531.00   48351.00   \nIncome Before Depreciation & Amortization          81801.00   71501.00   \nDepreciation & Amortization (Cash Flow)            10903.00   10157.00   \nIncome After Depreciation & Amortization           70898.00   61344.00   \nAverage Shares                                     20000.44   21006.77   \nDiluted EPS Before Non-Recurring Items                 2.98       2.30   \nDiluted Net EPS                                        2.98       2.30   \n\n                                                    9/30/16  \nIncome Sheet                                                 \nSales                                             215639.00  \nCost Of Goods                                     131376.00  \nGross Profit                                       84263.00  \nSelling & Adminstrative & Depr. & Amort Expenses   24239.00  \nIncome After Depreciation & Amortization           60024.00  \nNon-Operating Income                                1348.00  \nInterest Expense                                       0.00  \nPretax Income                                      61372.00  \nIncome Taxes                                       15685.00  \nMinority Interest                                      0.00  \nInvestment Gains/Losses                                0.00  \nOther Income/Charges                                   0.00  \nIncome From Cont. Operations                       45687.00  \nExtras & Discontinued Operations                       0.00  \nNet Income                                         45687.00  \nIncome Before Depreciation & Amortization          70529.00  \nDepreciation & Amortization (Cash Flow)            10505.00  \nIncome After Depreciation & Amortization           60024.00  \nAverage Shares                                     22001.12  \nDiluted EPS Before Non-Recurring Items                 2.08  \nDiluted Net EPS                                        2.08  ",
      "text/html": "<div>\n<style scoped>\n    .dataframe tbody tr th:only-of-type {\n        vertical-align: middle;\n    }\n\n    .dataframe tbody tr th {\n        vertical-align: top;\n    }\n\n    .dataframe thead th {\n        text-align: right;\n    }\n</style>\n<table border=\"1\" class=\"dataframe\">\n  <thead>\n    <tr style=\"text-align: right;\">\n      <th></th>\n      <th>9/30/20</th>\n      <th>9/30/19</th>\n      <th>9/30/18</th>\n      <th>9/30/17</th>\n      <th>9/30/16</th>\n    </tr>\n    <tr>\n      <th>Income Sheet</th>\n      <th></th>\n      <th></th>\n      <th></th>\n      <th></th>\n      <th></th>\n    </tr>\n  </thead>\n  <tbody>\n    <tr>\n      <th>Sales</th>\n      <td>233715.00</td>\n      <td>233715.00</td>\n      <td>265595.00</td>\n      <td>229234.00</td>\n      <td>215639.00</td>\n    </tr>\n    <tr>\n      <th>Cost Of Goods</th>\n      <td>140089.00</td>\n      <td>140089.00</td>\n      <td>163756.00</td>\n      <td>141048.00</td>\n      <td>131376.00</td>\n    </tr>\n    <tr>\n      <th>Gross Profit</th>\n      <td>93626.00</td>\n      <td>93626.00</td>\n      <td>101839.00</td>\n      <td>88186.00</td>\n      <td>84263.00</td>\n    </tr>\n    <tr>\n      <th>Selling &amp; Adminstrative &amp; Depr. &amp; Amort Expenses</th>\n      <td>22396.00</td>\n      <td>22396.00</td>\n      <td>30941.00</td>\n      <td>26842.00</td>\n      <td>24239.00</td>\n    </tr>\n    <tr>\n      <th>Income After Depreciation &amp; Amortization</th>\n      <td>71230.00</td>\n      <td>71230.00</td>\n      <td>70898.00</td>\n      <td>61344.00</td>\n      <td>60024.00</td>\n    </tr>\n    <tr>\n      <th>Non-Operating Income</th>\n      <td>1285.00</td>\n      <td>1285.00</td>\n      <td>2005.00</td>\n      <td>2745.00</td>\n      <td>1348.00</td>\n    </tr>\n    <tr>\n      <th>Interest Expense</th>\n      <td>0.00</td>\n      <td>0.00</td>\n      <td>0.00</td>\n      <td>0.00</td>\n      <td>0.00</td>\n    </tr>\n    <tr>\n      <th>Pretax Income</th>\n      <td>72515.00</td>\n      <td>72515.00</td>\n      <td>72903.00</td>\n      <td>64089.00</td>\n      <td>61372.00</td>\n    </tr>\n    <tr>\n      <th>Income Taxes</th>\n      <td>19121.00</td>\n      <td>19121.00</td>\n      <td>13372.00</td>\n      <td>15738.00</td>\n      <td>15685.00</td>\n    </tr>\n    <tr>\n      <th>Minority Interest</th>\n      <td>0.00</td>\n      <td>0.00</td>\n      <td>0.00</td>\n      <td>0.00</td>\n      <td>0.00</td>\n    </tr>\n    <tr>\n      <th>Investment Gains/Losses</th>\n      <td>0.00</td>\n      <td>0.00</td>\n      <td>0.00</td>\n      <td>0.00</td>\n      <td>0.00</td>\n    </tr>\n    <tr>\n      <th>Other Income/Charges</th>\n      <td>0.00</td>\n      <td>0.00</td>\n      <td>0.00</td>\n      <td>0.00</td>\n      <td>0.00</td>\n    </tr>\n    <tr>\n      <th>Income From Cont. Operations</th>\n      <td>53394.00</td>\n      <td>53394.00</td>\n      <td>59531.00</td>\n      <td>48351.00</td>\n      <td>45687.00</td>\n    </tr>\n    <tr>\n      <th>Extras &amp; Discontinued Operations</th>\n      <td>0.00</td>\n      <td>0.00</td>\n      <td>0.00</td>\n      <td>0.00</td>\n      <td>0.00</td>\n    </tr>\n    <tr>\n      <th>Net Income</th>\n      <td>53394.00</td>\n      <td>53394.00</td>\n      <td>59531.00</td>\n      <td>48351.00</td>\n      <td>45687.00</td>\n    </tr>\n    <tr>\n      <th>Income Before Depreciation &amp; Amortization</th>\n      <td>77665.00</td>\n      <td>77665.00</td>\n      <td>81801.00</td>\n      <td>71501.00</td>\n      <td>70529.00</td>\n    </tr>\n    <tr>\n      <th>Depreciation &amp; Amortization (Cash Flow)</th>\n      <td>6435.00</td>\n      <td>6435.00</td>\n      <td>10903.00</td>\n      <td>10157.00</td>\n      <td>10505.00</td>\n    </tr>\n    <tr>\n      <th>Income After Depreciation &amp; Amortization</th>\n      <td>71230.00</td>\n      <td>71230.00</td>\n      <td>70898.00</td>\n      <td>61344.00</td>\n      <td>60024.00</td>\n    </tr>\n    <tr>\n      <th>Average Shares</th>\n      <td>23172.28</td>\n      <td>23172.28</td>\n      <td>20000.44</td>\n      <td>21006.77</td>\n      <td>22001.12</td>\n    </tr>\n    <tr>\n      <th>Diluted EPS Before Non-Recurring Items</th>\n      <td>2.31</td>\n      <td>2.31</td>\n      <td>2.98</td>\n      <td>2.30</td>\n      <td>2.08</td>\n    </tr>\n    <tr>\n      <th>Diluted Net EPS</th>\n      <td>2.31</td>\n      <td>2.31</td>\n      <td>2.98</td>\n      <td>2.30</td>\n      <td>2.08</td>\n    </tr>\n  </tbody>\n</table>\n</div>"
     },
     "metadata": {}
    }
   ],
   "source": [
    "def Sheets(df2,name):\n",
    "    df = pd.concat([df2[2],df2[3],df2[4]])\n",
    "    x = []\n",
    "    x.append(df2[2].columns[0])\n",
    "    x.append(df2[3].columns[0])\n",
    "    x.append(df2[4].columns[0])\n",
    "\n",
    "    y = []\n",
    "    y.append(df[str(x[0])].dropna())\n",
    "    y.append(df[str(x[1])].dropna())\n",
    "    y.append(df[str(x[2])].dropna())\n",
    "    y = pd.concat(y).tolist()\n",
    "\n",
    "\n",
    "    df = pd.concat([df2[2],df2[3],df2[4]])\n",
    "    df['{}'.format(name)] = y\n",
    "    df = df.drop(columns= x)\n",
    "    df = df.set_index('{}'.format(name))\n",
    "    display(df)\n",
    "Sheets(Balance_SHEET_ZACK(),'Balance Sheet')\n",
    "Sheets(Income_SHEET_ZACK(),'Income Sheet')"
   ]
  },
  {
   "cell_type": "code",
   "execution_count": null,
   "metadata": {},
   "outputs": [],
   "source": [
    "'Interest Expense','Long-Term Debt','Pretax Income','Income Taxes', 'Sales'\n",
    "#Sales = Revenue"
   ]
  },
  {
   "cell_type": "code",
   "execution_count": 240,
   "metadata": {},
   "outputs": [
    {
     "output_type": "execute_result",
     "data": {
      "text/plain": [
       "                                                  12/31/20  12/31/19  \\\n",
       "Income Sheet                                                           \n",
       "Sales                                              1267.00   1267.00   \n",
       "Cost Of Goods                                       897.00    897.00   \n",
       "Gross Profit                                        370.00    370.00   \n",
       "Selling & Adminstrative & Depr. & Amort Expenses    544.00    544.00   \n",
       "Income After Depreciation & Amortization           -174.00   -174.00   \n",
       "Non-Operating Income                                  0.00      0.00   \n",
       "Interest Expense                                      1.00      1.00   \n",
       "Pretax Income                                      -176.00   -176.00   \n",
       "Income Taxes                                          4.00      4.00   \n",
       "Minority Interest                                     0.00      0.00   \n",
       "Investment Gains/Losses                               0.00      0.00   \n",
       "Other Income/Charges                                  0.00      0.00   \n",
       "Income From Cont. Operations                       -180.00   -180.00   \n",
       "Extras & Discontinued Operations                      0.00      0.00   \n",
       "Net Income                                         -180.00   -180.00   \n",
       "Income Before Depreciation & Amortization          -149.00   -149.00   \n",
       "Depreciation & Amortization (Cash Flow)              26.00     26.00   \n",
       "Income After Depreciation & Amortization           -174.00   -174.00   \n",
       "Average Shares                                      170.50    170.50   \n",
       "Diluted EPS Before Non-Recurring Items               -1.24     -1.24   \n",
       "Diluted Net EPS                                      -1.24     -1.24   \n",
       "\n",
       "                                                  12/31/18  12/31/17  12/31/16  \n",
       "Income Sheet                                                                    \n",
       "Sales                                              3298.00   2214.00   1709.00  \n",
       "Cost Of Goods                                      1994.00   1375.00   1133.00  \n",
       "Gross Profit                                       1304.00    839.00    576.00  \n",
       "Selling & Adminstrative & Depr. & Amort Expenses   1340.00    894.00    746.00  \n",
       "Income After Depreciation & Amortization            -37.00    -54.00   -170.00  \n",
       "Non-Operating Income                                 18.00      0.00      0.00  \n",
       "Interest Expense                                     18.00      8.00     -1.00  \n",
       "Pretax Income                                       -36.00    -63.00   -170.00  \n",
       "Income Taxes                                          2.00      0.00      2.00  \n",
       "Minority Interest                                     0.00      0.00      0.00  \n",
       "Investment Gains/Losses                               0.00      0.00      0.00  \n",
       "Other Income/Charges                                  0.00      0.00      0.00  \n",
       "Income From Cont. Operations                        -38.00    -63.00   -172.00  \n",
       "Extras & Discontinued Operations                      0.00      0.00      0.00  \n",
       "Net Income                                          -38.00    -63.00   -172.00  \n",
       "Income Before Depreciation & Amortization            24.00    -17.00   -133.00  \n",
       "Depreciation & Amortization (Cash Flow)              61.00     37.00     38.00  \n",
       "Income After Depreciation & Amortization            -37.00    -54.00   -170.00  \n",
       "Average Shares                                      405.73    379.34    341.56  \n",
       "Diluted EPS Before Non-Recurring Items                0.02     -0.10     -0.35  \n",
       "Diluted Net EPS                                      -0.09     -0.17     -0.50  "
      ],
      "text/html": "<div>\n<style scoped>\n    .dataframe tbody tr th:only-of-type {\n        vertical-align: middle;\n    }\n\n    .dataframe tbody tr th {\n        vertical-align: top;\n    }\n\n    .dataframe thead th {\n        text-align: right;\n    }\n</style>\n<table border=\"1\" class=\"dataframe\">\n  <thead>\n    <tr style=\"text-align: right;\">\n      <th></th>\n      <th>12/31/20</th>\n      <th>12/31/19</th>\n      <th>12/31/18</th>\n      <th>12/31/17</th>\n      <th>12/31/16</th>\n    </tr>\n    <tr>\n      <th>Income Sheet</th>\n      <th></th>\n      <th></th>\n      <th></th>\n      <th></th>\n      <th></th>\n    </tr>\n  </thead>\n  <tbody>\n    <tr>\n      <th>Sales</th>\n      <td>1267.00</td>\n      <td>1267.00</td>\n      <td>3298.00</td>\n      <td>2214.00</td>\n      <td>1709.00</td>\n    </tr>\n    <tr>\n      <th>Cost Of Goods</th>\n      <td>897.00</td>\n      <td>897.00</td>\n      <td>1994.00</td>\n      <td>1375.00</td>\n      <td>1133.00</td>\n    </tr>\n    <tr>\n      <th>Gross Profit</th>\n      <td>370.00</td>\n      <td>370.00</td>\n      <td>1304.00</td>\n      <td>839.00</td>\n      <td>576.00</td>\n    </tr>\n    <tr>\n      <th>Selling &amp; Adminstrative &amp; Depr. &amp; Amort Expenses</th>\n      <td>544.00</td>\n      <td>544.00</td>\n      <td>1340.00</td>\n      <td>894.00</td>\n      <td>746.00</td>\n    </tr>\n    <tr>\n      <th>Income After Depreciation &amp; Amortization</th>\n      <td>-174.00</td>\n      <td>-174.00</td>\n      <td>-37.00</td>\n      <td>-54.00</td>\n      <td>-170.00</td>\n    </tr>\n    <tr>\n      <th>Non-Operating Income</th>\n      <td>0.00</td>\n      <td>0.00</td>\n      <td>18.00</td>\n      <td>0.00</td>\n      <td>0.00</td>\n    </tr>\n    <tr>\n      <th>Interest Expense</th>\n      <td>1.00</td>\n      <td>1.00</td>\n      <td>18.00</td>\n      <td>8.00</td>\n      <td>-1.00</td>\n    </tr>\n    <tr>\n      <th>Pretax Income</th>\n      <td>-176.00</td>\n      <td>-176.00</td>\n      <td>-36.00</td>\n      <td>-63.00</td>\n      <td>-170.00</td>\n    </tr>\n    <tr>\n      <th>Income Taxes</th>\n      <td>4.00</td>\n      <td>4.00</td>\n      <td>2.00</td>\n      <td>0.00</td>\n      <td>2.00</td>\n    </tr>\n    <tr>\n      <th>Minority Interest</th>\n      <td>0.00</td>\n      <td>0.00</td>\n      <td>0.00</td>\n      <td>0.00</td>\n      <td>0.00</td>\n    </tr>\n    <tr>\n      <th>Investment Gains/Losses</th>\n      <td>0.00</td>\n      <td>0.00</td>\n      <td>0.00</td>\n      <td>0.00</td>\n      <td>0.00</td>\n    </tr>\n    <tr>\n      <th>Other Income/Charges</th>\n      <td>0.00</td>\n      <td>0.00</td>\n      <td>0.00</td>\n      <td>0.00</td>\n      <td>0.00</td>\n    </tr>\n    <tr>\n      <th>Income From Cont. Operations</th>\n      <td>-180.00</td>\n      <td>-180.00</td>\n      <td>-38.00</td>\n      <td>-63.00</td>\n      <td>-172.00</td>\n    </tr>\n    <tr>\n      <th>Extras &amp; Discontinued Operations</th>\n      <td>0.00</td>\n      <td>0.00</td>\n      <td>0.00</td>\n      <td>0.00</td>\n      <td>0.00</td>\n    </tr>\n    <tr>\n      <th>Net Income</th>\n      <td>-180.00</td>\n      <td>-180.00</td>\n      <td>-38.00</td>\n      <td>-63.00</td>\n      <td>-172.00</td>\n    </tr>\n    <tr>\n      <th>Income Before Depreciation &amp; Amortization</th>\n      <td>-149.00</td>\n      <td>-149.00</td>\n      <td>24.00</td>\n      <td>-17.00</td>\n      <td>-133.00</td>\n    </tr>\n    <tr>\n      <th>Depreciation &amp; Amortization (Cash Flow)</th>\n      <td>26.00</td>\n      <td>26.00</td>\n      <td>61.00</td>\n      <td>37.00</td>\n      <td>38.00</td>\n    </tr>\n    <tr>\n      <th>Income After Depreciation &amp; Amortization</th>\n      <td>-174.00</td>\n      <td>-174.00</td>\n      <td>-37.00</td>\n      <td>-54.00</td>\n      <td>-170.00</td>\n    </tr>\n    <tr>\n      <th>Average Shares</th>\n      <td>170.50</td>\n      <td>170.50</td>\n      <td>405.73</td>\n      <td>379.34</td>\n      <td>341.56</td>\n    </tr>\n    <tr>\n      <th>Diluted EPS Before Non-Recurring Items</th>\n      <td>-1.24</td>\n      <td>-1.24</td>\n      <td>0.02</td>\n      <td>-0.10</td>\n      <td>-0.35</td>\n    </tr>\n    <tr>\n      <th>Diluted Net EPS</th>\n      <td>-1.24</td>\n      <td>-1.24</td>\n      <td>-0.09</td>\n      <td>-0.17</td>\n      <td>-0.50</td>\n    </tr>\n  </tbody>\n</table>\n</div>"
     },
     "metadata": {},
     "execution_count": 240
    }
   ],
   "source": [
    "df = pd.concat([df2[2],df2[3],df2[4]])\n",
    "x = []\n",
    "x.append(df2[2].columns[0])\n",
    "x.append(df2[3].columns[0])\n",
    "x.append(df2[4].columns[0])\n",
    "\n",
    "y = []\n",
    "y.append(df[str(x[0])].dropna())\n",
    "y.append(df[str(x[1])].dropna())\n",
    "y.append(df[str(x[2])].dropna())\n",
    "y = pd.concat(y).tolist()\n",
    "\n",
    "\n",
    "df = pd.concat([df2[2],df2[3],df2[4]])\n",
    "df['Income Sheet'] = y\n",
    "df = df.drop(columns= x)\n",
    "df = df.set_index('Income Sheet')\n",
    "df"
   ]
  },
  {
   "source": [
    "df = pd.concat([df2[2],df2[3],df2[4]])\n",
    "#display(df)\n",
    "x = []\n",
    "x.append(df['Unnamed: 0'].dropna())\n",
    "x.append(df['Liabilities & Shareholders Equity'].dropna())\n",
    "x.append(df['Shareholders Equity'].dropna())\n",
    "\n",
    "y = pd.concat(x).tolist()\n",
    "df = df.drop(['Liabilities & Shareholders Equity','Shareholders Equity','Unnamed: 0'], axis=1)\n",
    "df['Liabilities & Shareholders Equity'] = y\n",
    "df.set_index('Liabilities & Shareholders Equity')"
   ],
   "cell_type": "markdown",
   "metadata": {}
  },
  {
   "source": [
    "x#Anaylist esitmates \n",
    "df = pd.read_html('https://finance.yahoo.com/quote/AAPL/analysis?p=AAPL')\n",
    "df = df[1] \n",
    "df.index = df[df.columns[0]]\n",
    "df1 = df.index \n",
    "df1 = df[df.columns[3:5]]\n",
    "df1 = df1.drop(['Sales Growth (year/est)'])\n",
    "\n",
    "for i in df1.columns:\n",
    "    df1[i] = df1[i].str.replace('B','e9')\n",
    "    df1[i] = df1[i].astype(float)\n",
    "\n",
    "#df1.loc['Avg. Estimate']\n",
    "df1.loc['Avg. Estimate'].tolist()\n",
    "\n",
    "Revenue1 = Revenue.loc['totalRevenue']\n",
    "strs = int(Revenue.columns[3])\n",
    "Revenue1['{}'.format(strs+1)] = df1.loc['Avg. Estimate'][0]\n",
    "Revenue1['{}'.format(strs+2)] = df1.loc['Avg. Estimate'][1]\n",
    "growth = 1 + Revenue.T.pct_change().sum()/5\n",
    "\n",
    "Revenue1['{}'.format(strs+3)] = l.drop_index() * growth\n",
    "Revenue1['{}'.format(strs+4)] = l2.drop_index() * growth\n",
    "Revenue.loc['netIncome']/Revenue.loc['totalRevenue']"
   ],
   "cell_type": "markdown",
   "metadata": {}
  },
  {
   "source": [
    "ticker = 'LMT'\n",
    "yahoo_financials = yfs(ticker)\n",
    "\n",
    "cash = yahoo_financials.get_financial_stmts('annual','cash')\n",
    "income = yahoo_financials.get_financial_stmts('annual','income')\n",
    "balance = yahoo_financials.get_financial_stmts('annual','balance')\n",
    "stock = yahoo_financials.get_key_statistics_data()[ticker]"
   ],
   "cell_type": "markdown",
   "metadata": {}
  },
  {
   "source": [
    "sample = pd.DataFrame()\n",
    "sample['Free Cash Flow'] = df['FCF']\n",
    "sample['Cash Flow'] = futurefreecashflow\n",
    "sample['discountfactor'] = discountfactor\n",
    "sample"
   ],
   "cell_type": "markdown",
   "metadata": {}
  },
  {
   "source": [
    "df = pd.DataFrame.from_dict({(i): stock[i] \n",
    "                            for i in stock.keys() \n",
    "                            },\n",
    "                        orient='index')\n",
    "df"
   ],
   "cell_type": "markdown",
   "metadata": {}
  },
  {
   "source": [
    "aapl.info['sharesOutstanding']\n",
    "stock.keys()"
   ],
   "cell_type": "markdown",
   "metadata": {}
  },
  {
   "source": [
    "pd.DataFrame.from_dict({(i): stock[i] \n",
    "for i in stock.keys()},orient='index')"
   ],
   "cell_type": "markdown",
   "metadata": {}
  },
  {
   "source": [
    "# Testing for working all of the files work"
   ],
   "cell_type": "markdown",
   "metadata": {}
  },
  {
   "source": [
    "df = pd.DataFrame.from_dict({(i,j): balance_sheet_data[i][j] \n",
    "                           for i in balance_sheet_data.keys() \n",
    "                           for j in balance_sheet_data[i].keys()},\n",
    "                       orient='index')\n",
    "for i in df.columns:\n",
    "    df[i].tolist()\n",
    "    df2 = pd.json_normalize(df[i],max_level = 1)\n",
    "\n",
    "    #Gets  Date and renames \n",
    "    Date = df2.columns[0]\n",
    "    Date = Date[0:11]\n",
    "    df2.index = df2.index.rename(ticker)\n",
    "    df2.columns = df2.columns.str.replace(str(Date),'')\n",
    "\n",
    "    #Tranposes DataFrame and changes it to the \n",
    "    df2 = df2.T\n",
    "    df2.rename(columns = {df2.columns[0]:'{}'.format(str(Date[0:10]))},inplace = True)\n",
    "    #display(df2)\n",
    "    save.append(df2)\n",
    "df3 = pd.concat(save,axis = 1)\n",
    "display(df3)"
   ],
   "cell_type": "markdown",
   "metadata": {}
  }
 ]
}