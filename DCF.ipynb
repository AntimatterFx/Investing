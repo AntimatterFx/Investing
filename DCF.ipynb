{
 "metadata": {
  "language_info": {
   "codemirror_mode": {
    "name": "ipython",
    "version": 3
   },
   "file_extension": ".py",
   "mimetype": "text/x-python",
   "name": "python",
   "nbconvert_exporter": "python",
   "pygments_lexer": "ipython3",
   "version": "3.8.8-final"
  },
  "orig_nbformat": 2,
  "kernelspec": {
   "name": "python3",
   "display_name": "Python 3.8.8 64-bit",
   "metadata": {
    "interpreter": {
     "hash": "c79eed6807d3cbff3dfd5ad13d83f6e3167c557f9dd74a8b82ef72672ddb666e"
    }
   }
  }
 },
 "nbformat": 4,
 "nbformat_minor": 2,
 "cells": [
  {
   "cell_type": "code",
   "execution_count": 11,
   "metadata": {},
   "outputs": [],
   "source": [
    "import pandas as pd\n",
    "#import yfinance as yf\n",
    "from yahoofinancials import YahooFinancials as yfs\n",
    "import json"
   ]
  },
  {
   "source": [
    "# !pip install yahoofinancials"
   ],
   "cell_type": "markdown",
   "metadata": {}
  },
  {
   "cell_type": "code",
   "execution_count": 12,
   "metadata": {},
   "outputs": [],
   "source": [
    "def Sheet_Data(ticker,sheet_data):\n",
    "    save = []\n",
    "    \n",
    "    df = pd.DataFrame.from_dict({(i,j): sheet_data[i][j] \n",
    "                            for i in sheet_data.keys() \n",
    "                            for j in sheet_data[i].keys()},\n",
    "                        orient='index')\n",
    "\n",
    "    for i in df.columns:\n",
    "        f = len(df.columns) - i - 1\n",
    "        df2 = pd.json_normalize(df[f],max_level = 1)\n",
    "\n",
    "        #Gets  Date and renames \n",
    "        Date = df2.columns[0]\n",
    "        Date = Date[0:11]\n",
    "        df2.index = df2.index.rename(ticker)\n",
    "        df2.columns = df2.columns.str.replace(str(Date),'')\n",
    "\n",
    "        #Tranposes DataFrame and changes it to the \n",
    "        df2 = df2.T\n",
    "        df2.rename(columns = {df2.columns[0]:'{}'.format(str(Date[0:4]))},inplace = True)\n",
    "        #display(df2)\n",
    "        save.append(df2)\n",
    "    df3 = pd.concat(save,axis = 1)\n",
    "    #display(df3)\n",
    "    filename = str(df.index[0][1]) + '_' + str(df.index[0][0])\n",
    "    print(filename)\n",
    "    #df3.to_csv('{}.csv'.format(filename))\n",
    "    return df3\n",
    "#filename = str(df.index[0][1]) + '_' + str(df.index[0][0])\n",
    "#df3.t"
   ]
  },
  {
   "cell_type": "code",
   "execution_count": 13,
   "metadata": {},
   "outputs": [
    {
     "output_type": "stream",
     "name": "stdout",
     "text": [
      "MSFT_cashflowStatementHistory\nMSFT_incomeStatementHistory\nMSFT_balanceSheetHistory\n"
     ]
    }
   ],
   "source": [
    "ticker = 'MSFT'\n",
    "yahoo_financials = yfs(ticker)\n",
    "\n",
    "cash = yahoo_financials.get_financial_stmts('annual','cash')\n",
    "income = yahoo_financials.get_financial_stmts('annual','income')\n",
    "balance = yahoo_financials.get_financial_stmts('annual','balance')\n",
    "stock = yahoo_financials.get_key_statistics_data()[ticker]\n",
    "\n",
    "cash_balance = Sheet_Data(ticker,cash)\n",
    "income_balance = Sheet_Data(ticker,income)\n",
    "balance_balance = Sheet_Data(ticker,balance)"
   ]
  },
  {
   "cell_type": "code",
   "execution_count": 14,
   "metadata": {},
   "outputs": [
    {
     "output_type": "stream",
     "name": "stdout",
     "text": [
      "0.9750254841997962\n"
     ]
    },
    {
     "output_type": "execute_result",
     "data": {
      "text/plain": [
       "              FCF   Net Income\n",
       "MSFT                          \n",
       "2017  31378000000  25489000000\n",
       "2018  32252000000  16571000000\n",
       "2019  38260000000  39240000000\n",
       "2020  45234000000  44281000000"
      ],
      "text/html": "<div>\n<style scoped>\n    .dataframe tbody tr th:only-of-type {\n        vertical-align: middle;\n    }\n\n    .dataframe tbody tr th {\n        vertical-align: top;\n    }\n\n    .dataframe thead th {\n        text-align: right;\n    }\n</style>\n<table border=\"1\" class=\"dataframe\">\n  <thead>\n    <tr style=\"text-align: right;\">\n      <th></th>\n      <th>FCF</th>\n      <th>Net Income</th>\n    </tr>\n    <tr>\n      <th>MSFT</th>\n      <th></th>\n      <th></th>\n    </tr>\n  </thead>\n  <tbody>\n    <tr>\n      <th>2017</th>\n      <td>31378000000</td>\n      <td>25489000000</td>\n    </tr>\n    <tr>\n      <th>2018</th>\n      <td>32252000000</td>\n      <td>16571000000</td>\n    </tr>\n    <tr>\n      <th>2019</th>\n      <td>38260000000</td>\n      <td>39240000000</td>\n    </tr>\n    <tr>\n      <th>2020</th>\n      <td>45234000000</td>\n      <td>44281000000</td>\n    </tr>\n  </tbody>\n</table>\n</div>"
     },
     "metadata": {},
     "execution_count": 14
    }
   ],
   "source": [
    "#WACC = Wd * Rd * (1 - t) + We + Re\n",
    "INCOME2 = income_balance.loc[['incomeBeforeTax','incomeTaxExpense']]\n",
    "t = income_balance.loc['incomeBeforeTax']/ income_balance.loc['incomeTaxExpense']\n",
    "t = t[-1]/ 100 \n",
    "\n",
    "\n",
    "\n",
    "yahoo_financials.get_beta()\n",
    "df = pd.read_html('https://finance.yahoo.com/bonds')\n",
    "Rf = float(df[0]['Last Price'][2])\n",
    "try: \n",
    "    beta = float(yahoo_financials.get_beta())\n",
    "except:\n",
    "    beta = 0\n",
    "Rm = float(10.0)\n",
    "Ra = Rf + beta * (Rm - Rf)\n",
    "#print(Ra)\n",
    "\n",
    "try:\n",
    "    Balance2 = balance_balance.loc[['shortLongTermDebt','longTermDebt']]#.astype#(float)\n",
    "except:\n",
    "    Balance2 = balance_balance.loc[['longTermDebt']]\n",
    "\n",
    "Total_debt = Balance2.sum()[-1] \n",
    "Balance2 =   -(income_balance.loc['interestExpense'][-1]) / Total_debt\n",
    "Rd = (1-Balance2) * t #  Rd * (1 - t)\n",
    "#Balance2.sum()\n",
    "\n",
    "\n",
    "Market_Cap = yahoo_financials .get_market_cap() # MarketCap\n",
    "Total =  Total_debt + Market_Cap \n",
    "Wd = Total_debt/ Total \n",
    "We = Market_Cap/ Total \n",
    "Re = Ra\n",
    "Required_Rate = (Wd * Rd + We * Re)/100\n",
    "Required_Rate\n",
    "\n",
    "FCF = cash_balance.loc[['totalCashFromOperatingActivities','capitalExpenditures','netIncome']] # how to select rows \n",
    "Revenue = income_balance.loc[['totalRevenue','netIncome']]\n",
    "Growth_Rate = Revenue.pct_change().mean()\n",
    "#FCF is CFO - CAPEX = FCF\n",
    "#FCF = cash_balance.loc[['totalCashFromOperatingActivities','capitalExpenditures','netBorrowings']] # More \n",
    "\n",
    "df = pd.DataFrame()\n",
    "df['FCF'] = FCF.loc['totalCashFromOperatingActivities'] + FCF.loc['capitalExpenditures']\n",
    "df['Net Income'] = FCF.loc['netIncome']\n",
    "#df['FCF/Net Income'] = df['FCF']/df['Net Income']\n",
    "minimum = (df['FCF']/df['Net Income']).min()\n",
    "print(minimum)\n",
    "df"
   ]
  },
  {
   "source": [
    "# Anaylsis"
   ],
   "cell_type": "markdown",
   "metadata": {}
  },
  {
   "cell_type": "code",
   "execution_count": 15,
   "metadata": {},
   "outputs": [
    {
     "output_type": "stream",
     "name": "stdout",
     "text": [
      "[82610399916.16904, 150870543712.9014, 275533358794.10736, 503203805991.6546]\nMSFT\n213.32055551978095\n235.75\n0.9750254841997962\n0.08144135415095251\n"
     ]
    }
   ],
   "source": [
    "def DCF_VALUE():\n",
    "    outstanding_shares = stock['sharesOutstanding']\n",
    "\n",
    "    Required_rate = Required_Rate\n",
    "    Pre_rate = .025\n",
    "    Cashflowgrowthrate = minimum\n",
    "\n",
    "    years = [1,2,3,4]\n",
    "    freecash_flow = df['FCF'].values\n",
    "\n",
    "    terminalvalue = freecash_flow[-1] * (1+Pre_rate)/(Required_rate - Pre_rate)\n",
    "\n",
    "    futurefreecashflow = []\n",
    "    discountfactor = []\n",
    "    discountfuturefreecashflow = []\n",
    "    for  year in years:\n",
    "        cashflow = freecash_flow[-1] * (1+ Cashflowgrowthrate) ** year \n",
    "        futurefreecashflow.append(cashflow)\n",
    "        discountfactor.append((1+ Required_rate)**year)\n",
    "\n",
    "\n",
    "    for i in range(0,len(years)):\n",
    "        discountfuturefreecashflow.append(futurefreecashflow[i]/discountfactor[i])\n",
    "\n",
    "    print(discountfuturefreecashflow)\n",
    "    dis = terminalvalue/(1+Required_rate)**len(years)\n",
    "    discountfuturefreecashflow.append(dis)\n",
    "    value = sum(discountfuturefreecashflow)\n",
    "    fairvalue = value/outstanding_shares\n",
    "\n",
    "    print(ticker)\n",
    "    print(fairvalue)\n",
    "    print(yahoo_financials.get_current_price())\n",
    "\n",
    "    print(Cashflowgrowthrate)\n",
    "    print(Required_Rate)\n",
    "#print(stock.get_current_price())\n",
    "DCF_VALUE()"
   ]
  },
  {
   "cell_type": "code",
   "execution_count": 16,
   "metadata": {},
   "outputs": [
    {
     "output_type": "stream",
     "name": "stdout",
     "text": [
      "[43550874418.60465, 41930376765.81936, 40370176700.11445, 38868030590.34274]\nMSFT\n113.62739473346839\n235.75\n0.035\n0.075\n"
     ]
    }
   ],
   "source": [
    "def DCF_VALUE_CON():\n",
    "    outstanding_shares = stock['sharesOutstanding']\n",
    "\n",
    "    Required_rate = .075\n",
    "    Pre_rate = .025\n",
    "    Cashflowgrowthrate = .035\n",
    "\n",
    "    years = [1,2,3,4]\n",
    "    freecash_flow = df['FCF'].values\n",
    "\n",
    "    terminalvalue = freecash_flow[-1] * (1+Pre_rate)/(Required_rate - Pre_rate)\n",
    "\n",
    "    futurefreecashflow = []\n",
    "    discountfactor = []\n",
    "    discountfuturefreecashflow = []\n",
    "    for  year in years:\n",
    "        cashflow = freecash_flow[-1] * (1+ Cashflowgrowthrate) ** year \n",
    "        futurefreecashflow.append(cashflow)\n",
    "        discountfactor.append((1+ Required_rate)**year)\n",
    "\n",
    "\n",
    "    for i in range(0,len(years)):\n",
    "        discountfuturefreecashflow.append(futurefreecashflow[i]/discountfactor[i])\n",
    "\n",
    "    print(discountfuturefreecashflow)\n",
    "    dis = terminalvalue/(1+Required_rate)**len(years)\n",
    "    discountfuturefreecashflow.append(dis)\n",
    "    value = sum(discountfuturefreecashflow)\n",
    "    fairvalue = value/outstanding_shares\n",
    "\n",
    "    print(ticker)\n",
    "    print(fairvalue)\n",
    "    print(yahoo_financials.get_current_price())\n",
    "\n",
    "    print(Cashflowgrowthrate)\n",
    "    print(Required_rate)\n",
    "#print(stock.get_current_price())\n",
    "DCF_VALUE_CON()"
   ]
  },
  {
   "cell_type": "code",
   "execution_count": 36,
   "metadata": {},
   "outputs": [
    {
     "output_type": "execute_result",
     "data": {
      "text/plain": [
       "                                           Item  Item     2016     2017  \\\n",
       "0   Cash & Short Term Investments  Cash & Short Te...  534.06M  894.86M   \n",
       "1   Cash & Short Term Investments Growth  Cash & S...        -   67.56%   \n",
       "2                                Cash Only  Cash Only  474.16M  725.28M   \n",
       "3      Short-Term Investments  Short-Term Investments    59.9M  169.58M   \n",
       "4   Cash & ST Investments / Total Assets  Cash & S...   44.09%   40.91%   \n",
       "5   Total Accounts Receivable  Total Accounts Rece...  341.55M  650.21M   \n",
       "6   Total Accounts Receivable Growth  Total Accoun...        -   90.37%   \n",
       "7   Accounts Receivables, Net  Accounts Receivable...  331.51M  629.13M   \n",
       "8   Accounts Receivables, Gross  Accounts Receivab...  331.51M  629.13M   \n",
       "9   Bad Debt/Doubtful Accounts  Bad Debt/Doubtful ...        -        -   \n",
       "10                 Other Receivable  Other Receivable   10.05M   21.08M   \n",
       "11  Accounts Receivable Turnover  Accounts Receiva...     5.00     3.41   \n",
       "12                           Inventories  Inventories   13.72M   16.78M   \n",
       "13                     Finished Goods  Finished Goods        -        -   \n",
       "14                 Work in Progress  Work in Progress        -        -   \n",
       "15                       Raw Materials  Raw Materials        -        -   \n",
       "16  Progress Payments & Other  Progress Payments &...        -        -   \n",
       "17         Other Current Assets  Other Current Assets  103.63M  206.05M   \n",
       "18  Miscellaneous Current Assets  Miscellaneous Cu...   96.26M  191.58M   \n",
       "19         Total Current Assets  Total Current Assets  992.97M    1.77B   \n",
       "20  Net Property, Plant & Equipment  Net Property,...   88.33M    91.5M   \n",
       "21  Property, Plant & Equipment - Gross  Property,...  161.66M  192.81M   \n",
       "22                               Buildings  Buildings        -        -   \n",
       "23           Land & Improvements  Land & Improvements        -        -   \n",
       "24  Computer Software and Equipment  Computer Soft...   77.56M  101.25M   \n",
       "25  Other Property, Plant & Equipment  Other Prope...    84.1M   91.56M   \n",
       "26  Accumulated Depreciation  Accumulated Deprecia...   73.33M  101.32M   \n",
       "27  Total Investments and Advances  Total Investme...   41.95M  238.47M   \n",
       "28  Other Long-Term Investments  Other Long-Term I...   41.95M  213.47M   \n",
       "29  Long-Term Note Receivables  Long-Term Note Rec...        -        -   \n",
       "30               Intangible Assets  Intangible Assets   76.47M   72.66M   \n",
       "31                         Net Goodwill  Net Goodwill   57.17M   58.33M   \n",
       "32       Net Other Intangibles  Net Other Intangibles   19.29M   14.33M   \n",
       "33                         Other Assets  Other Assets   11.35M   16.75M   \n",
       "34                         Total Assets  Total Assets    1.21B    2.19B   \n",
       "35           Total Assets Growth  Total Assets Growth        -   80.56%   \n",
       "\n",
       "       2018     2019     2020  5-year trend  \n",
       "0     1.16B    1.58B    3.88B           NaN  \n",
       "1    29.41%   36.31%  146.03%           NaN  \n",
       "2   617.01M    1.09B    3.19B           NaN  \n",
       "3   540.99M  492.46M  695.11M           NaN  \n",
       "4    35.29%   34.68%   39.35%           NaN  \n",
       "5   433.44M  689.84M    1.22B           NaN  \n",
       "6   -33.34%   59.15%   76.20%           NaN  \n",
       "7   387.34M  622.56M    1.07B           NaN  \n",
       "8   387.34M  622.56M    1.07B           NaN  \n",
       "9         -        -        -           NaN  \n",
       "10    46.1M   67.28M  148.61M           NaN  \n",
       "11     7.61     6.83     7.81           NaN  \n",
       "12   28.63M   47.68M   61.13M           NaN  \n",
       "13        -        -        -           NaN  \n",
       "14        -        -        -           NaN  \n",
       "15        -        -        -           NaN  \n",
       "16        -        -        -           NaN  \n",
       "17  482.47M  903.84M     2.6B           NaN  \n",
       "18   455.7M  881.08M    2.57B           NaN  \n",
       "19     2.1B    3.22B    7.76B           NaN  \n",
       "20   142.4M  262.34M  690.41M           NaN  \n",
       "21  267.31M  440.87M  918.53M           NaN  \n",
       "22        -        -        -           NaN  \n",
       "23        -        -        -           NaN  \n",
       "24     139M  188.45M  258.63M           NaN  \n",
       "25  128.31M  139.27M  203.02M           NaN  \n",
       "26  124.91M  178.53M  228.12M           NaN  \n",
       "27  525.86M  660.02M  936.24M           NaN  \n",
       "28  480.52M  550.02M  527.48M           NaN  \n",
       "29        -        -        -           NaN  \n",
       "30  338.81M  335.42M  454.31M           NaN  \n",
       "31  261.71M  266.35M   316.7M           NaN  \n",
       "32    77.1M   69.08M  137.61M           NaN  \n",
       "33  171.41M   73.67M   26.96M           NaN  \n",
       "34    3.28B    4.55B    9.87B           NaN  \n",
       "35   50.01%   38.71%  116.85%           NaN  "
      ],
      "text/html": "<div>\n<style scoped>\n    .dataframe tbody tr th:only-of-type {\n        vertical-align: middle;\n    }\n\n    .dataframe tbody tr th {\n        vertical-align: top;\n    }\n\n    .dataframe thead th {\n        text-align: right;\n    }\n</style>\n<table border=\"1\" class=\"dataframe\">\n  <thead>\n    <tr style=\"text-align: right;\">\n      <th></th>\n      <th>Item  Item</th>\n      <th>2016</th>\n      <th>2017</th>\n      <th>2018</th>\n      <th>2019</th>\n      <th>2020</th>\n      <th>5-year trend</th>\n    </tr>\n  </thead>\n  <tbody>\n    <tr>\n      <th>0</th>\n      <td>Cash &amp; Short Term Investments  Cash &amp; Short Te...</td>\n      <td>534.06M</td>\n      <td>894.86M</td>\n      <td>1.16B</td>\n      <td>1.58B</td>\n      <td>3.88B</td>\n      <td>NaN</td>\n    </tr>\n    <tr>\n      <th>1</th>\n      <td>Cash &amp; Short Term Investments Growth  Cash &amp; S...</td>\n      <td>-</td>\n      <td>67.56%</td>\n      <td>29.41%</td>\n      <td>36.31%</td>\n      <td>146.03%</td>\n      <td>NaN</td>\n    </tr>\n    <tr>\n      <th>2</th>\n      <td>Cash Only  Cash Only</td>\n      <td>474.16M</td>\n      <td>725.28M</td>\n      <td>617.01M</td>\n      <td>1.09B</td>\n      <td>3.19B</td>\n      <td>NaN</td>\n    </tr>\n    <tr>\n      <th>3</th>\n      <td>Short-Term Investments  Short-Term Investments</td>\n      <td>59.9M</td>\n      <td>169.58M</td>\n      <td>540.99M</td>\n      <td>492.46M</td>\n      <td>695.11M</td>\n      <td>NaN</td>\n    </tr>\n    <tr>\n      <th>4</th>\n      <td>Cash &amp; ST Investments / Total Assets  Cash &amp; S...</td>\n      <td>44.09%</td>\n      <td>40.91%</td>\n      <td>35.29%</td>\n      <td>34.68%</td>\n      <td>39.35%</td>\n      <td>NaN</td>\n    </tr>\n    <tr>\n      <th>5</th>\n      <td>Total Accounts Receivable  Total Accounts Rece...</td>\n      <td>341.55M</td>\n      <td>650.21M</td>\n      <td>433.44M</td>\n      <td>689.84M</td>\n      <td>1.22B</td>\n      <td>NaN</td>\n    </tr>\n    <tr>\n      <th>6</th>\n      <td>Total Accounts Receivable Growth  Total Accoun...</td>\n      <td>-</td>\n      <td>90.37%</td>\n      <td>-33.34%</td>\n      <td>59.15%</td>\n      <td>76.20%</td>\n      <td>NaN</td>\n    </tr>\n    <tr>\n      <th>7</th>\n      <td>Accounts Receivables, Net  Accounts Receivable...</td>\n      <td>331.51M</td>\n      <td>629.13M</td>\n      <td>387.34M</td>\n      <td>622.56M</td>\n      <td>1.07B</td>\n      <td>NaN</td>\n    </tr>\n    <tr>\n      <th>8</th>\n      <td>Accounts Receivables, Gross  Accounts Receivab...</td>\n      <td>331.51M</td>\n      <td>629.13M</td>\n      <td>387.34M</td>\n      <td>622.56M</td>\n      <td>1.07B</td>\n      <td>NaN</td>\n    </tr>\n    <tr>\n      <th>9</th>\n      <td>Bad Debt/Doubtful Accounts  Bad Debt/Doubtful ...</td>\n      <td>-</td>\n      <td>-</td>\n      <td>-</td>\n      <td>-</td>\n      <td>-</td>\n      <td>NaN</td>\n    </tr>\n    <tr>\n      <th>10</th>\n      <td>Other Receivable  Other Receivable</td>\n      <td>10.05M</td>\n      <td>21.08M</td>\n      <td>46.1M</td>\n      <td>67.28M</td>\n      <td>148.61M</td>\n      <td>NaN</td>\n    </tr>\n    <tr>\n      <th>11</th>\n      <td>Accounts Receivable Turnover  Accounts Receiva...</td>\n      <td>5.00</td>\n      <td>3.41</td>\n      <td>7.61</td>\n      <td>6.83</td>\n      <td>7.81</td>\n      <td>NaN</td>\n    </tr>\n    <tr>\n      <th>12</th>\n      <td>Inventories  Inventories</td>\n      <td>13.72M</td>\n      <td>16.78M</td>\n      <td>28.63M</td>\n      <td>47.68M</td>\n      <td>61.13M</td>\n      <td>NaN</td>\n    </tr>\n    <tr>\n      <th>13</th>\n      <td>Finished Goods  Finished Goods</td>\n      <td>-</td>\n      <td>-</td>\n      <td>-</td>\n      <td>-</td>\n      <td>-</td>\n      <td>NaN</td>\n    </tr>\n    <tr>\n      <th>14</th>\n      <td>Work in Progress  Work in Progress</td>\n      <td>-</td>\n      <td>-</td>\n      <td>-</td>\n      <td>-</td>\n      <td>-</td>\n      <td>NaN</td>\n    </tr>\n    <tr>\n      <th>15</th>\n      <td>Raw Materials  Raw Materials</td>\n      <td>-</td>\n      <td>-</td>\n      <td>-</td>\n      <td>-</td>\n      <td>-</td>\n      <td>NaN</td>\n    </tr>\n    <tr>\n      <th>16</th>\n      <td>Progress Payments &amp; Other  Progress Payments &amp;...</td>\n      <td>-</td>\n      <td>-</td>\n      <td>-</td>\n      <td>-</td>\n      <td>-</td>\n      <td>NaN</td>\n    </tr>\n    <tr>\n      <th>17</th>\n      <td>Other Current Assets  Other Current Assets</td>\n      <td>103.63M</td>\n      <td>206.05M</td>\n      <td>482.47M</td>\n      <td>903.84M</td>\n      <td>2.6B</td>\n      <td>NaN</td>\n    </tr>\n    <tr>\n      <th>18</th>\n      <td>Miscellaneous Current Assets  Miscellaneous Cu...</td>\n      <td>96.26M</td>\n      <td>191.58M</td>\n      <td>455.7M</td>\n      <td>881.08M</td>\n      <td>2.57B</td>\n      <td>NaN</td>\n    </tr>\n    <tr>\n      <th>19</th>\n      <td>Total Current Assets  Total Current Assets</td>\n      <td>992.97M</td>\n      <td>1.77B</td>\n      <td>2.1B</td>\n      <td>3.22B</td>\n      <td>7.76B</td>\n      <td>NaN</td>\n    </tr>\n    <tr>\n      <th>20</th>\n      <td>Net Property, Plant &amp; Equipment  Net Property,...</td>\n      <td>88.33M</td>\n      <td>91.5M</td>\n      <td>142.4M</td>\n      <td>262.34M</td>\n      <td>690.41M</td>\n      <td>NaN</td>\n    </tr>\n    <tr>\n      <th>21</th>\n      <td>Property, Plant &amp; Equipment - Gross  Property,...</td>\n      <td>161.66M</td>\n      <td>192.81M</td>\n      <td>267.31M</td>\n      <td>440.87M</td>\n      <td>918.53M</td>\n      <td>NaN</td>\n    </tr>\n    <tr>\n      <th>22</th>\n      <td>Buildings  Buildings</td>\n      <td>-</td>\n      <td>-</td>\n      <td>-</td>\n      <td>-</td>\n      <td>-</td>\n      <td>NaN</td>\n    </tr>\n    <tr>\n      <th>23</th>\n      <td>Land &amp; Improvements  Land &amp; Improvements</td>\n      <td>-</td>\n      <td>-</td>\n      <td>-</td>\n      <td>-</td>\n      <td>-</td>\n      <td>NaN</td>\n    </tr>\n    <tr>\n      <th>24</th>\n      <td>Computer Software and Equipment  Computer Soft...</td>\n      <td>77.56M</td>\n      <td>101.25M</td>\n      <td>139M</td>\n      <td>188.45M</td>\n      <td>258.63M</td>\n      <td>NaN</td>\n    </tr>\n    <tr>\n      <th>25</th>\n      <td>Other Property, Plant &amp; Equipment  Other Prope...</td>\n      <td>84.1M</td>\n      <td>91.56M</td>\n      <td>128.31M</td>\n      <td>139.27M</td>\n      <td>203.02M</td>\n      <td>NaN</td>\n    </tr>\n    <tr>\n      <th>26</th>\n      <td>Accumulated Depreciation  Accumulated Deprecia...</td>\n      <td>73.33M</td>\n      <td>101.32M</td>\n      <td>124.91M</td>\n      <td>178.53M</td>\n      <td>228.12M</td>\n      <td>NaN</td>\n    </tr>\n    <tr>\n      <th>27</th>\n      <td>Total Investments and Advances  Total Investme...</td>\n      <td>41.95M</td>\n      <td>238.47M</td>\n      <td>525.86M</td>\n      <td>660.02M</td>\n      <td>936.24M</td>\n      <td>NaN</td>\n    </tr>\n    <tr>\n      <th>28</th>\n      <td>Other Long-Term Investments  Other Long-Term I...</td>\n      <td>41.95M</td>\n      <td>213.47M</td>\n      <td>480.52M</td>\n      <td>550.02M</td>\n      <td>527.48M</td>\n      <td>NaN</td>\n    </tr>\n    <tr>\n      <th>29</th>\n      <td>Long-Term Note Receivables  Long-Term Note Rec...</td>\n      <td>-</td>\n      <td>-</td>\n      <td>-</td>\n      <td>-</td>\n      <td>-</td>\n      <td>NaN</td>\n    </tr>\n    <tr>\n      <th>30</th>\n      <td>Intangible Assets  Intangible Assets</td>\n      <td>76.47M</td>\n      <td>72.66M</td>\n      <td>338.81M</td>\n      <td>335.42M</td>\n      <td>454.31M</td>\n      <td>NaN</td>\n    </tr>\n    <tr>\n      <th>31</th>\n      <td>Net Goodwill  Net Goodwill</td>\n      <td>57.17M</td>\n      <td>58.33M</td>\n      <td>261.71M</td>\n      <td>266.35M</td>\n      <td>316.7M</td>\n      <td>NaN</td>\n    </tr>\n    <tr>\n      <th>32</th>\n      <td>Net Other Intangibles  Net Other Intangibles</td>\n      <td>19.29M</td>\n      <td>14.33M</td>\n      <td>77.1M</td>\n      <td>69.08M</td>\n      <td>137.61M</td>\n      <td>NaN</td>\n    </tr>\n    <tr>\n      <th>33</th>\n      <td>Other Assets  Other Assets</td>\n      <td>11.35M</td>\n      <td>16.75M</td>\n      <td>171.41M</td>\n      <td>73.67M</td>\n      <td>26.96M</td>\n      <td>NaN</td>\n    </tr>\n    <tr>\n      <th>34</th>\n      <td>Total Assets  Total Assets</td>\n      <td>1.21B</td>\n      <td>2.19B</td>\n      <td>3.28B</td>\n      <td>4.55B</td>\n      <td>9.87B</td>\n      <td>NaN</td>\n    </tr>\n    <tr>\n      <th>35</th>\n      <td>Total Assets Growth  Total Assets Growth</td>\n      <td>-</td>\n      <td>80.56%</td>\n      <td>50.01%</td>\n      <td>38.71%</td>\n      <td>116.85%</td>\n      <td>NaN</td>\n    </tr>\n  </tbody>\n</table>\n</div>"
     },
     "metadata": {},
     "execution_count": 36
    }
   ],
   "source": [
    "df = pd.read_html('https://www.marketwatch.com/investing/stock/sq/financials/balance-sheet/annual')\n",
    "df = df[4]\n",
    "maindf = df\n",
    "maindf.replace('M','e6')"
   ]
  },
  {
   "source": [
    "df = pd.concat([df2[2],df2[3],df2[4]])\n",
    "#display(df)\n",
    "x = []\n",
    "x.append(df['Unnamed: 0'].dropna())\n",
    "x.append(df['Liabilities & Shareholders Equity'].dropna())\n",
    "x.append(df['Shareholders Equity'].dropna())\n",
    "\n",
    "y = pd.concat(x).tolist()\n",
    "df = df.drop(['Liabilities & Shareholders Equity','Shareholders Equity','Unnamed: 0'], axis=1)\n",
    "df['Liabilities & Shareholders Equity'] = y\n",
    "df.set_index('Liabilities & Shareholders Equity')"
   ],
   "cell_type": "markdown",
   "metadata": {}
  },
  {
   "source": [
    "x#Anaylist esitmates \n",
    "df = pd.read_html('https://finance.yahoo.com/quote/AAPL/analysis?p=AAPL')\n",
    "df = df[1] \n",
    "df.index = df[df.columns[0]]\n",
    "df1 = df.index \n",
    "df1 = df[df.columns[3:5]]\n",
    "df1 = df1.drop(['Sales Growth (year/est)'])\n",
    "\n",
    "for i in df1.columns:\n",
    "    df1[i] = df1[i].str.replace('B','e9')\n",
    "    df1[i] = df1[i].astype(float)\n",
    "\n",
    "#df1.loc['Avg. Estimate']\n",
    "df1.loc['Avg. Estimate'].tolist()\n",
    "\n",
    "Revenue1 = Revenue.loc['totalRevenue']\n",
    "strs = int(Revenue.columns[3])\n",
    "Revenue1['{}'.format(strs+1)] = df1.loc['Avg. Estimate'][0]\n",
    "Revenue1['{}'.format(strs+2)] = df1.loc['Avg. Estimate'][1]\n",
    "growth = 1 + Revenue.T.pct_change().sum()/5\n",
    "\n",
    "Revenue1['{}'.format(strs+3)] = l.drop_index() * growth\n",
    "Revenue1['{}'.format(strs+4)] = l2.drop_index() * growth\n",
    "Revenue.loc['netIncome']/Revenue.loc['totalRevenue']"
   ],
   "cell_type": "markdown",
   "metadata": {}
  },
  {
   "source": [
    "ticker = 'LMT'\n",
    "yahoo_financials = yfs(ticker)\n",
    "\n",
    "cash = yahoo_financials.get_financial_stmts('annual','cash')\n",
    "income = yahoo_financials.get_financial_stmts('annual','income')\n",
    "balance = yahoo_financials.get_financial_stmts('annual','balance')\n",
    "stock = yahoo_financials.get_key_statistics_data()[ticker]"
   ],
   "cell_type": "markdown",
   "metadata": {}
  },
  {
   "source": [
    "sample = pd.DataFrame()\n",
    "sample['Free Cash Flow'] = df['FCF']\n",
    "sample['Cash Flow'] = futurefreecashflow\n",
    "sample['discountfactor'] = discountfactor\n",
    "sample"
   ],
   "cell_type": "markdown",
   "metadata": {}
  },
  {
   "source": [
    "df = pd.DataFrame.from_dict({(i): stock[i] \n",
    "                            for i in stock.keys() \n",
    "                            },\n",
    "                        orient='index')\n",
    "df"
   ],
   "cell_type": "markdown",
   "metadata": {}
  },
  {
   "source": [
    "aapl.info['sharesOutstanding']\n",
    "stock.keys()"
   ],
   "cell_type": "markdown",
   "metadata": {}
  },
  {
   "source": [
    "pd.DataFrame.from_dict({(i): stock[i] \n",
    "for i in stock.keys()},orient='index')"
   ],
   "cell_type": "markdown",
   "metadata": {}
  },
  {
   "source": [
    "# Testing for working all of the files work"
   ],
   "cell_type": "markdown",
   "metadata": {}
  },
  {
   "source": [
    "df = pd.DataFrame.from_dict({(i,j): balance_sheet_data[i][j] \n",
    "                           for i in balance_sheet_data.keys() \n",
    "                           for j in balance_sheet_data[i].keys()},\n",
    "                       orient='index')\n",
    "for i in df.columns:\n",
    "    df[i].tolist()\n",
    "    df2 = pd.json_normalize(df[i],max_level = 1)\n",
    "\n",
    "    #Gets  Date and renames \n",
    "    Date = df2.columns[0]\n",
    "    Date = Date[0:11]\n",
    "    df2.index = df2.index.rename(ticker)\n",
    "    df2.columns = df2.columns.str.replace(str(Date),'')\n",
    "\n",
    "    #Tranposes DataFrame and changes it to the \n",
    "    df2 = df2.T\n",
    "    df2.rename(columns = {df2.columns[0]:'{}'.format(str(Date[0:10]))},inplace = True)\n",
    "    #display(df2)\n",
    "    save.append(df2)\n",
    "df3 = pd.concat(save,axis = 1)\n",
    "display(df3)"
   ],
   "cell_type": "markdown",
   "metadata": {}
  }
 ]
}