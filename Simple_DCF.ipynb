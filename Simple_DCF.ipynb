{
 "metadata": {
  "language_info": {
   "codemirror_mode": {
    "name": "ipython",
    "version": 3
   },
   "file_extension": ".py",
   "mimetype": "text/x-python",
   "name": "python",
   "nbconvert_exporter": "python",
   "pygments_lexer": "ipython3",
   "version": "3.8.8-final"
  },
  "orig_nbformat": 2,
  "kernelspec": {
   "name": "python3",
   "display_name": "Python 3.8.8 64-bit",
   "metadata": {
    "interpreter": {
     "hash": "fbd840525ca11af6562217ecf553d364857e653ef9cda8a3da522300be785858"
    }
   }
  }
 },
 "nbformat": 4,
 "nbformat_minor": 2,
 "cells": [
  {
   "cell_type": "code",
   "execution_count": 3,
   "metadata": {},
   "outputs": [],
   "source": [
    "from yahoofinancials import YahooFinancials as yfs"
   ]
  },
  {
   "cell_type": "code",
   "execution_count": 2,
   "metadata": {},
   "outputs": [
    {
     "output_type": "stream",
     "name": "stdout",
     "text": [
      "Collecting yahoofinancials\n",
      "  Using cached yahoofinancials-1.6-py3-none-any.whl\n",
      "Collecting beautifulsoup4\n",
      "  Downloading beautifulsoup4-4.9.3-py3-none-any.whl (115 kB)\n",
      "WARNING: You are using pip version 21.0; however, version 21.0.1 is available.\n",
      "You should consider upgrading via the 'C:\\Users\\tafim\\AppData\\Local\\Microsoft\\WindowsApps\\PythonSoftwareFoundation.Python.3.8_qbz5n2kfra8p0\\python.exe -m pip install --upgrade pip' command.\n",
      "Collecting pytz\n",
      "  Downloading pytz-2021.1-py2.py3-none-any.whl (510 kB)\n",
      "Collecting soupsieve>1.2\n",
      "  Downloading soupsieve-2.2-py3-none-any.whl (33 kB)\n",
      "Installing collected packages: soupsieve, pytz, beautifulsoup4, yahoofinancials\n",
      "Successfully installed beautifulsoup4-4.9.3 pytz-2021.1 soupsieve-2.2 yahoofinancials-1.6\n"
     ]
    }
   ],
   "source": [
    "def Company():\n",
    "    stock = yfs(ticker)\n",
    "    stocl"
   ]
  },
  {
   "cell_type": "code",
   "execution_count": 7,
   "metadata": {},
   "outputs": [],
   "source": [
    "stock = yfs('SQ')\n",
    "PE = stock.get_pe_ratio()\n",
    "EPS = stock.get_earnings_per_share()\n",
    "growth_rate = .15 #% "
   ]
  },
  {
   "cell_type": "code",
   "execution_count": 9,
   "metadata": {},
   "outputs": [],
   "source": []
  },
  {
   "cell_type": "code",
   "execution_count": 10,
   "metadata": {},
   "outputs": [
    {
     "output_type": "execute_result",
     "data": {
      "text/plain": [
       "0.4399999617441237"
      ]
     },
     "metadata": {},
     "execution_count": 10
    }
   ],
   "source": []
  },
  {
   "cell_type": "code",
   "execution_count": null,
   "metadata": {},
   "outputs": [],
   "source": []
  }
 ]
}