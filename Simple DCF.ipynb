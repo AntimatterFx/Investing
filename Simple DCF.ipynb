{
 "metadata": {
  "language_info": {
   "codemirror_mode": {
    "name": "ipython",
    "version": 3
   },
   "file_extension": ".py",
   "mimetype": "text/x-python",
   "name": "python",
   "nbconvert_exporter": "python",
   "pygments_lexer": "ipython3",
   "version": "3.8.8-final"
  },
  "orig_nbformat": 2,
  "kernelspec": {
   "name": "python3",
   "display_name": "Python 3.8.8 64-bit",
   "metadata": {
    "interpreter": {
     "hash": "fbd840525ca11af6562217ecf553d364857e653ef9cda8a3da522300be785858"
    }
   }
  }
 },
 "nbformat": 4,
 "nbformat_minor": 2,
 "cells": [
  {
   "cell_type": "code",
   "execution_count": 68,
   "metadata": {},
   "outputs": [],
   "source": [
    "import pandas as pd\n",
    "import yfinance as yf\n",
    "from yahoofinancials import YahooFinancials as yfs\n",
    "import json\n",
    "import warnings\n",
    "warnings.simplefilter(action='ignore', category=FutureWarning)\n"
   ]
  },
  {
   "cell_type": "code",
   "execution_count": 69,
   "metadata": {},
   "outputs": [],
   "source": [
    "def Sheet_Data(ticker,sheet_data):\n",
    "    save = []\n",
    "    \n",
    "    df = pd.DataFrame.from_dict({(i,j): sheet_data[i][j] \n",
    "                            for i in sheet_data.keys() \n",
    "                            for j in sheet_data[i].keys()},\n",
    "                        orient='index')\n",
    "\n",
    "    for i in df.columns:\n",
    "        f = len(df.columns) - i - 1\n",
    "        df2 = pd.json_normalize(df[f],max_level = 1)\n",
    "\n",
    "        #Gets  Date and renames \n",
    "        Date = df2.columns[0]\n",
    "        Date = Date[0:11]\n",
    "        df2.index = df2.index.rename(ticker)\n",
    "        df2.columns = df2.columns.str.replace(str(Date),'')\n",
    "\n",
    "        #Tranposes DataFrame and changes it to the \n",
    "        df2 = df2.T\n",
    "        df2.rename(columns = {df2.columns[0]:'{}'.format(str(Date[0:4]))},inplace = True)\n",
    "        #display(df2)\n",
    "        save.append(df2)\n",
    "    df3 = pd.concat(save,axis = 1)\n",
    "\n",
    "    return df3\n"
   ]
  },
  {
   "cell_type": "code",
   "execution_count": 70,
   "metadata": {},
   "outputs": [],
   "source": [
    "def start(ticker):\n",
    "  \n",
    "    yahoo_financials = yfs(ticker)\n",
    "\n",
    "    cash = yahoo_financials.get_financial_stmts('annual','cash')\n",
    "    income = yahoo_financials.get_financial_stmts('annual','income')\n",
    "    balance = yahoo_financials.get_financial_stmts('annual','balance')\n",
    "    stock = yahoo_financials.get_key_statistics_data()[ticker]\n",
    "\n",
    "    cash_balance = Sheet_Data(ticker,cash)\n",
    "    income_balance = Sheet_Data(ticker,income)\n",
    "    balance_balance = Sheet_Data(ticker,balance)\n",
    "    print(ticker)\n",
    "    #print(yahoo_financials.get_current_price())\n",
    "    return DATA(cash_balance,income_balance,balance_balance,stock,yahoo_financials)"
   ]
  },
  {
   "cell_type": "code",
   "execution_count": 71,
   "metadata": {},
   "outputs": [],
   "source": [
    "  def DATA(cash_balance,income_balance,balance_balance,stock,yahoo_financials):\n",
    "    FCF = cash_balance.loc[['totalCashFromOperatingActivities','capitalExpenditures','netIncome']] # how to select rows \n",
    "    Revenue = income_balance.loc[['totalRevenue','netIncome']]\n",
    "    Growth_Rate = Revenue.pct_change().mean()\n",
    "    #FCF is CFO - CAPEX = FCF\n",
    "    #FCF = cash_balance.loc[['totalCashFromOperatingActivities','capitalExpenditures','netBorrowings']] # More \n",
    "\n",
    "    df = pd.DataFrame()\n",
    "    df['FCF'] = FCF.loc['totalCashFromOperatingActivities'] + FCF.loc['capitalExpenditures']\n",
    "    df['Net Income'] = FCF.loc['netIncome']\n",
    "    #df['FCF/Net Income'] = df['FCF']/df['Net Income']\n",
    "    minimum = (df['FCF']/df['Net Income']).min()\n",
    "    return DCF_VALUE_CON(df,stock,Required_rate,Pre_rate,Cashflowgrowthrate)"
   ]
  },
  {
   "cell_type": "code",
   "execution_count": 72,
   "metadata": {},
   "outputs": [],
   "source": [
    "def DCF_VALUE_CON(df,stock,Required_rate,Pre_rate,Cashflowgrowthrate):\n",
    "    outstanding_shares = stock['sharesOutstanding']\n",
    "\n",
    "    years = [1,2,3,4]\n",
    "    freecash_flow = df['FCF'].values\n",
    "\n",
    "    terminalvalue = freecash_flow[-1] * (1+Pre_rate)/(Required_rate - Pre_rate)\n",
    "\n",
    "    futurefreecashflow = []\n",
    "    discountfactor = []\n",
    "    discountfuturefreecashflow = []\n",
    "    for  year in years:\n",
    "        cashflow = freecash_flow[-1] * (1+ Cashflowgrowthrate) ** year \n",
    "        futurefreecashflow.append(cashflow)\n",
    "        discountfactor.append((1+ Required_rate)**year)\n",
    "\n",
    "\n",
    "    for i in range(0,len(years)):\n",
    "        discountfuturefreecashflow.append(futurefreecashflow[i]/discountfactor[i])\n",
    "\n",
    "    #print(discountfuturefreecashflow)\n",
    "    dis = terminalvalue/(1+Required_rate)**len(years)\n",
    "    discountfuturefreecashflow.append(dis)\n",
    "    value = sum(discountfuturefreecashflow)\n",
    "    fairvalue = value/outstanding_shares\n",
    "\n",
    "    #print(ticker)\n",
    "    #print(fairvalue)\n",
    "    tickers.append(ticker)\n",
    "    Value.append(fairvalue)\n",
    "    #print(yahoo_financials.get_current_price())\n",
    "\n",
    "    #print(Cashflowgrowthrate)\n",
    "    #print(Required_rate)\n",
    "    #tickers.append(ticker)\n",
    "    #ValueCon.append( fairvalue)\n",
    "    #print(stock.get_current_price())\n",
    "#DCF_VALUE_CON()"
   ]
  },
  {
   "cell_type": "code",
   "execution_count": 77,
   "metadata": {},
   "outputs": [],
   "source": [
    "tickers = []\n",
    "Value  = []\n",
    "ValueCon = []\n",
    "Required_rate = .15\n",
    "Pre_rate = .025\n",
    "Cashflowgrowthrate = .035"
   ]
  },
  {
   "cell_type": "code",
   "execution_count": 97,
   "metadata": {},
   "outputs": [
    {
     "output_type": "stream",
     "name": "stdout",
     "text": [
      "CASS\n",
      "CASY\n",
      "CAT\n",
      "CATM\n",
      "CDAY\n",
      "CDK\n",
      "CDNA\n",
      "CDNS\n",
      "CDW\n",
      "CDXS\n",
      "CERN\n",
      "CERS\n"
     ]
    },
    {
     "output_type": "error",
     "ename": "KeyError",
     "evalue": "'sharesOutstanding'",
     "traceback": [
      "\u001b[1;31m---------------------------------------------------------------------------\u001b[0m",
      "\u001b[1;31mKeyError\u001b[0m                                  Traceback (most recent call last)",
      "\u001b[1;32m<ipython-input-97-dc7fc6043710>\u001b[0m in \u001b[0;36m<module>\u001b[1;34m\u001b[0m\n\u001b[0;32m      2\u001b[0m \u001b[1;32mfor\u001b[0m \u001b[0mi\u001b[0m \u001b[1;32min\u001b[0m \u001b[0mdf\u001b[0m\u001b[1;33m[\u001b[0m\u001b[1;34m'Ticker'\u001b[0m\u001b[1;33m]\u001b[0m\u001b[1;33m[\u001b[0m\u001b[1;36m66\u001b[0m\u001b[1;33m:\u001b[0m\u001b[1;33m]\u001b[0m\u001b[1;33m:\u001b[0m\u001b[1;33m\u001b[0m\u001b[1;33m\u001b[0m\u001b[0m\n\u001b[0;32m      3\u001b[0m     \u001b[0mticker\u001b[0m \u001b[1;33m=\u001b[0m \u001b[0mi\u001b[0m\u001b[1;33m\u001b[0m\u001b[1;33m\u001b[0m\u001b[0m\n\u001b[1;32m----> 4\u001b[1;33m     \u001b[0mstart\u001b[0m\u001b[1;33m(\u001b[0m\u001b[0mticker\u001b[0m\u001b[1;33m)\u001b[0m\u001b[1;33m\u001b[0m\u001b[1;33m\u001b[0m\u001b[0m\n\u001b[0m",
      "\u001b[1;32m<ipython-input-70-ddc1ad34bff0>\u001b[0m in \u001b[0;36mstart\u001b[1;34m(ticker)\u001b[0m\n\u001b[0;32m     13\u001b[0m     \u001b[0mprint\u001b[0m\u001b[1;33m(\u001b[0m\u001b[0mticker\u001b[0m\u001b[1;33m)\u001b[0m\u001b[1;33m\u001b[0m\u001b[1;33m\u001b[0m\u001b[0m\n\u001b[0;32m     14\u001b[0m     \u001b[1;31m#print(yahoo_financials.get_current_price())\u001b[0m\u001b[1;33m\u001b[0m\u001b[1;33m\u001b[0m\u001b[1;33m\u001b[0m\u001b[0m\n\u001b[1;32m---> 15\u001b[1;33m     \u001b[1;32mreturn\u001b[0m \u001b[0mDATA\u001b[0m\u001b[1;33m(\u001b[0m\u001b[0mcash_balance\u001b[0m\u001b[1;33m,\u001b[0m\u001b[0mincome_balance\u001b[0m\u001b[1;33m,\u001b[0m\u001b[0mbalance_balance\u001b[0m\u001b[1;33m,\u001b[0m\u001b[0mstock\u001b[0m\u001b[1;33m,\u001b[0m\u001b[0myahoo_financials\u001b[0m\u001b[1;33m)\u001b[0m\u001b[1;33m\u001b[0m\u001b[1;33m\u001b[0m\u001b[0m\n\u001b[0m",
      "\u001b[1;32m<ipython-input-71-e0a3419ba2fe>\u001b[0m in \u001b[0;36mDATA\u001b[1;34m(cash_balance, income_balance, balance_balance, stock, yahoo_financials)\u001b[0m\n\u001b[0;32m     11\u001b[0m   \u001b[1;31m#df['FCF/Net Income'] = df['FCF']/df['Net Income']\u001b[0m\u001b[1;33m\u001b[0m\u001b[1;33m\u001b[0m\u001b[1;33m\u001b[0m\u001b[0m\n\u001b[0;32m     12\u001b[0m   \u001b[0mminimum\u001b[0m \u001b[1;33m=\u001b[0m \u001b[1;33m(\u001b[0m\u001b[0mdf\u001b[0m\u001b[1;33m[\u001b[0m\u001b[1;34m'FCF'\u001b[0m\u001b[1;33m]\u001b[0m\u001b[1;33m/\u001b[0m\u001b[0mdf\u001b[0m\u001b[1;33m[\u001b[0m\u001b[1;34m'Net Income'\u001b[0m\u001b[1;33m]\u001b[0m\u001b[1;33m)\u001b[0m\u001b[1;33m.\u001b[0m\u001b[0mmin\u001b[0m\u001b[1;33m(\u001b[0m\u001b[1;33m)\u001b[0m\u001b[1;33m\u001b[0m\u001b[1;33m\u001b[0m\u001b[0m\n\u001b[1;32m---> 13\u001b[1;33m   \u001b[1;32mreturn\u001b[0m \u001b[0mDCF_VALUE_CON\u001b[0m\u001b[1;33m(\u001b[0m\u001b[0mdf\u001b[0m\u001b[1;33m,\u001b[0m\u001b[0mstock\u001b[0m\u001b[1;33m,\u001b[0m\u001b[0mRequired_rate\u001b[0m\u001b[1;33m,\u001b[0m\u001b[0mPre_rate\u001b[0m\u001b[1;33m,\u001b[0m\u001b[0mCashflowgrowthrate\u001b[0m\u001b[1;33m)\u001b[0m\u001b[1;33m\u001b[0m\u001b[1;33m\u001b[0m\u001b[0m\n\u001b[0m",
      "\u001b[1;32m<ipython-input-72-6b336eb1120c>\u001b[0m in \u001b[0;36mDCF_VALUE_CON\u001b[1;34m(df, stock, Required_rate, Pre_rate, Cashflowgrowthrate)\u001b[0m\n\u001b[0;32m      1\u001b[0m \u001b[1;32mdef\u001b[0m \u001b[0mDCF_VALUE_CON\u001b[0m\u001b[1;33m(\u001b[0m\u001b[0mdf\u001b[0m\u001b[1;33m,\u001b[0m\u001b[0mstock\u001b[0m\u001b[1;33m,\u001b[0m\u001b[0mRequired_rate\u001b[0m\u001b[1;33m,\u001b[0m\u001b[0mPre_rate\u001b[0m\u001b[1;33m,\u001b[0m\u001b[0mCashflowgrowthrate\u001b[0m\u001b[1;33m)\u001b[0m\u001b[1;33m:\u001b[0m\u001b[1;33m\u001b[0m\u001b[1;33m\u001b[0m\u001b[0m\n\u001b[1;32m----> 2\u001b[1;33m     \u001b[0moutstanding_shares\u001b[0m \u001b[1;33m=\u001b[0m \u001b[0mstock\u001b[0m\u001b[1;33m[\u001b[0m\u001b[1;34m'sharesOutstanding'\u001b[0m\u001b[1;33m]\u001b[0m\u001b[1;33m\u001b[0m\u001b[1;33m\u001b[0m\u001b[0m\n\u001b[0m\u001b[0;32m      3\u001b[0m \u001b[1;33m\u001b[0m\u001b[0m\n\u001b[0;32m      4\u001b[0m     \u001b[0myears\u001b[0m \u001b[1;33m=\u001b[0m \u001b[1;33m[\u001b[0m\u001b[1;36m1\u001b[0m\u001b[1;33m,\u001b[0m\u001b[1;36m2\u001b[0m\u001b[1;33m,\u001b[0m\u001b[1;36m3\u001b[0m\u001b[1;33m,\u001b[0m\u001b[1;36m4\u001b[0m\u001b[1;33m]\u001b[0m\u001b[1;33m\u001b[0m\u001b[1;33m\u001b[0m\u001b[0m\n\u001b[0;32m      5\u001b[0m     \u001b[0mfreecash_flow\u001b[0m \u001b[1;33m=\u001b[0m \u001b[0mdf\u001b[0m\u001b[1;33m[\u001b[0m\u001b[1;34m'FCF'\u001b[0m\u001b[1;33m]\u001b[0m\u001b[1;33m.\u001b[0m\u001b[0mvalues\u001b[0m\u001b[1;33m\u001b[0m\u001b[1;33m\u001b[0m\u001b[0m\n",
      "\u001b[1;31mKeyError\u001b[0m: 'sharesOutstanding'"
     ]
    }
   ],
   "source": [
    "df = pd.read_csv('FINALTICKER.csv')\n",
    "for i in df['Ticker'][66:]:\n",
    "    ticker = i\n",
    "    start(ticker)"
   ]
  },
  {
   "cell_type": "code",
   "execution_count": 82,
   "metadata": {},
   "outputs": [
    {
     "output_type": "execute_result",
     "data": {
      "text/plain": [
       "[82.99576991597596,\n",
       " 180.61713617426543,\n",
       " 113.75325828171341,\n",
       " -17.173091101880182,\n",
       " -12.269217642641003]"
      ]
     },
     "metadata": {},
     "execution_count": 82
    }
   ],
   "source": [
    "Value"
   ]
  },
  {
   "cell_type": "code",
   "execution_count": 87,
   "metadata": {},
   "outputs": [
    {
     "output_type": "execute_result",
     "data": {
      "text/plain": [
       "['AAPL',\n",
       " 'ABBV',\n",
       " 'ABMD',\n",
       " 'ACAD',\n",
       " 'ACCD',\n",
       " 'ACIW',\n",
       " 'ACN',\n",
       " 'ADBE',\n",
       " 'ADI',\n",
       " 'ADP',\n",
       " 'ADPT',\n",
       " 'ADS',\n",
       " 'ADSK',\n",
       " 'AGYS',\n",
       " 'AKAM',\n",
       " 'ALGN',\n",
       " 'ALNY',\n",
       " 'ALRM',\n",
       " 'ALTR',\n",
       " 'ALXN',\n",
       " 'AMAT',\n",
       " 'AMD',\n",
       " 'AMGN',\n",
       " 'AMRN',\n",
       " 'AMSWA',\n",
       " 'AMZN',\n",
       " 'ANSS',\n",
       " 'API',\n",
       " 'APPF',\n",
       " 'APPN',\n",
       " 'APPS',\n",
       " 'AQB',\n",
       " 'ASML',\n",
       " 'ATEN',\n",
       " 'ATVI',\n",
       " 'AVAV',\n",
       " 'AVGO',\n",
       " 'AVLR',\n",
       " 'AVYA']"
      ]
     },
     "metadata": {},
     "execution_count": 87
    }
   ],
   "source": [
    "tickers"
   ]
  },
  {
   "cell_type": "code",
   "execution_count": 94,
   "metadata": {},
   "outputs": [],
   "source": [
    "maindf = pd.DataFrame()\n",
    "maindf['Ticker'] = tickers\n",
    "maindf['Value'] = Value"
   ]
  },
  {
   "cell_type": "code",
   "execution_count": 95,
   "metadata": {},
   "outputs": [],
   "source": [
    "maindf.to_csv(\"SAVE.csv\")"
   ]
  },
  {
   "cell_type": "code",
   "execution_count": null,
   "metadata": {},
   "outputs": [],
   "source": []
  }
 ]
}